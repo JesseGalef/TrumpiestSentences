{
 "cells": [
  {
   "cell_type": "code",
   "execution_count": 1,
   "metadata": {
    "collapsed": true
   },
   "outputs": [],
   "source": [
    "import pandas as pd\n",
    "import numpy as np"
   ]
  },
  {
   "cell_type": "code",
   "execution_count": 2,
   "metadata": {
    "collapsed": true
   },
   "outputs": [],
   "source": [
    "from bs4 import BeautifulSoup\n",
    "import urllib"
   ]
  },
  {
   "cell_type": "code",
   "execution_count": 3,
   "metadata": {
    "collapsed": true
   },
   "outputs": [],
   "source": [
    "from scipy.sparse import csr_matrix, hstack\n",
    "from scipy.stats import skew, kurtosis"
   ]
  },
  {
   "cell_type": "code",
   "execution_count": 4,
   "metadata": {
    "collapsed": false
   },
   "outputs": [],
   "source": [
    "from sklearn.feature_extraction.text import CountVectorizer, TfidfVectorizer\n",
    "from sklearn.linear_model import LogisticRegression\n",
    "from sklearn.metrics import roc_curve, roc_auc_score\n",
    "from sklearn.grid_search import GridSearchCV \n",
    "from sklearn.cross_validation import StratifiedKFold\n",
    "\n",
    "from sklearn.grid_search import GridSearchCV \n",
    "\n",
    "from sklearn.pipeline import Pipeline, make_pipeline, make_union, FeatureUnion\n",
    "from sklearn.base import TransformerMixin, BaseEstimator\n",
    "from sklearn.feature_selection import SelectPercentile, SelectKBest, chi2, f_classif\n"
   ]
  },
  {
   "cell_type": "code",
   "execution_count": 5,
   "metadata": {
    "collapsed": false
   },
   "outputs": [],
   "source": [
    "import matplotlib.pyplot as plt\n",
    "import seaborn as sns\n",
    "%matplotlib inline\n",
    "plt.style.use('fivethirtyeight')"
   ]
  },
  {
   "cell_type": "code",
   "execution_count": 6,
   "metadata": {
    "collapsed": false
   },
   "outputs": [],
   "source": [
    "# from spacy.en import English\n",
    "# from spacy import attrs\n",
    "# nlp_toolkit = English()\n",
    "# This does word POS much much faster than nltk's pos_tagger"
   ]
  },
  {
   "cell_type": "code",
   "execution_count": 7,
   "metadata": {
    "collapsed": true
   },
   "outputs": [],
   "source": [
    "from nltk.tokenize import sent_tokenize, word_tokenize\n",
    "# NLTK's sent_tokenize looks more accurate than Spacy's, and I only need to run it once\n",
    "from nltk.corpus import stopwords\n",
    "stops = list(stopwords.words('english'))"
   ]
  },
  {
   "cell_type": "code",
   "execution_count": 8,
   "metadata": {
    "collapsed": false
   },
   "outputs": [],
   "source": [
    "from textblob import TextBlob\n",
    "# "
   ]
  },
  {
   "cell_type": "markdown",
   "metadata": {},
   "source": [
    "# POS dict"
   ]
  },
  {
   "cell_type": "code",
   "execution_count": 37,
   "metadata": {
    "collapsed": true
   },
   "outputs": [],
   "source": [
    "# tag_dict ={\n",
    "# \"CC\": \"Coordinating conjunction\",\n",
    "# \"CD\": \"Cardinal number\",\n",
    "# \"DT\": \"Determiner\",\n",
    "# \"EX\": \"Existential there\",\n",
    "# \"FW\": \"Foreign word\",\n",
    "# \"IN\": \"Preposition or subordinating conjunction\",\n",
    "# \"JJ\": \"Adjective\",\n",
    "# \"JJR\": \"Adjective, comparative\",\n",
    "# \"JJS\": \"Adjective, superlative\",\n",
    "# \"LS\": \"List item marker\",\n",
    "# \"MD\": \"Modal\",\n",
    "# \"NN\": \"Noun, singular or mass\",\n",
    "# \"NNS\": \"Noun, plural\",\n",
    "# \"NNP\": \"Proper noun, singular\",\n",
    "# \"NNPS\": \"Proper noun, plural\",\n",
    "# \"PDT\": \"Predeterminer\",\n",
    "# \"POS\": \"Possessive ending\",\n",
    "# \"PRP\": \"Personal pronoun\",\n",
    "# \"PRP$\": \"Possessive pronoun\",\n",
    "# \"RB\": \"Adverb\",\n",
    "# \"RBR\": \"Adverb, comparative\",\n",
    "# \"RBS\": \"Adverb, superlative\",\n",
    "# \"RP\": \"Particle\",\n",
    "# \"SYM\": \"Symbol\",\n",
    "# \"TO\": \"to\",\n",
    "# \"UH\": \"Interjection\",\n",
    "# \"VB\": \"Verb, base form\",\n",
    "# \"VBD\": \"Verb, past tense\",\n",
    "# \"VBG\": \"Verb, gerund or present participle\",\n",
    "# \"VBN\": \"Verb, past participle\",\n",
    "# \"VBP\": \"Verb, non-3rd person singular present\",\n",
    "# \"VBZ\": \"Verb, 3rd person singular present\",\n",
    "# \"WDT\": \"Wh-determiner\",\n",
    "# \"WP\": \"Wh-pronoun\",\n",
    "# \"WP$\": \"Possessive wh-pronoun\",\n",
    "# \"WRB\": \"Wh-adverb\"\n",
    "#     }"
   ]
  },
  {
   "cell_type": "code",
   "execution_count": 8,
   "metadata": {
    "collapsed": true
   },
   "outputs": [],
   "source": [
    " prepositions = [u'since',u'less',u'over',u'depending on',u'up until',u'including',u'preparatory to',\n",
    "                 u'before',u'as to',u'further to',u'except',u'to',u'ahead of',u'on board',u'under',\n",
    "                 u'cum',u'save',u'up against',u'worth',u'pending',u'versus',u'around',u'outside',\n",
    "                 u'regarding',u'along with',u'underneath',u'touching',u'despite',u'during',u'onto',\n",
    "                 u'bar',u'like',u'excluding',u'on to',u'as well as',u'through',u'beneath',u'in favour of',\n",
    "                 u'round',u'together with',u'next to',u'past',u'owing to',u'notwithstanding',\n",
    "                 u'with regard to',u'beyond',u'opposite to',u'close to',u'\\xe0 la',u'for',u'opposite',\n",
    "                 u'excepting',u'below',u'per',u're',u'behind',u'above',u'between',u'across',u'on behalf of',\n",
    "                 u'in addition to',u'instead of',u'in case of',u'save for',u'besides',u'along',\n",
    "                 u'as per',u'by',u'in view of',u'about',u'of',u'against',u'plus',u'aboard',u'onto',\n",
    "                 u'among',u'via',u'saving',u'into',u'within',u'down',u'according to',u'anti',u'except for',\n",
    "                 u'outside of',u'throughout',u'vis-\\xe0-vis',u'considering',u'given',u'from',u'amidst',\n",
    "                 u'with reference to',u'aside from',u'circa',u'until',u'other than',u'on',u'atop',\n",
    "                 u'amongst',u'with',u'than',u'thru',u'unlike',u'away from',u'inside',u'prior to',\n",
    "                 u'because of',u'barring',u'near',u'in face of',u'due to',u'following',u'toward',\n",
    "                 u'minus',u'gone',u'on account of',u'in spite of',u'up',u'respecting',u'pro',u'alongside',\n",
    "                 u'as',u'at',u'in',u'counting',u'in front of',u'thanks to',u'beside',u'till',u'up to',\n",
    "                 u'on top of',u'astride',u'out of',u'concerning',u'apart from',u'towards',u'forward of',\n",
    "                 u'in between',u'after',u'upon',u'but',u'but for',u'in lieu of',u'off',u'by means of',\n",
    "                 u'amid',u'without',u'as for',u'regardless of',u'contrary to',u'near to']\n",
    "# scraped from 'https://www.englishclub.com/vocabulary/prepositions/list.htm'"
   ]
  },
  {
   "cell_type": "code",
   "execution_count": 9,
   "metadata": {
    "collapsed": false
   },
   "outputs": [],
   "source": [
    "conjunctions = [u'and',u'that',u'but',u'or',u'as',u'if',u'when',u'than',u'because',\n",
    "                u'while',u'where',u'after',u'so',u'though',u'since',u'until',u'whether',\n",
    "                u'before',u'although',u'nor',u'like',u'once',u'unless',u'now',u'except']"
   ]
  },
  {
   "cell_type": "code",
   "execution_count": 9,
   "metadata": {
    "collapsed": true
   },
   "outputs": [],
   "source": [
    "pronouns = [u\"all\", u\"another\", u\"any\", u\"anybody\", u\"anyone\", u\"anything\", u\"both\", u\"each\", u\"each other\",\n",
    "            u\"either\", u\"everybody\", u\"everyone\", u\"everything\", u\"few\", u\"he\", u\"her\", u\"hers\",\n",
    "            u\"herself\", u\"him\", u\"himself\", u\"his\", u\"i\", u\"it\", u\"its\", u\"itself\", u\"little\",\n",
    "            u\"many\", u\"me\", u\"mine\", u\"more\", u\"most\", u\"much\", u\"my\", u\"myself\", u\"neither\", \n",
    "            u\"no one\", u\"nobody\", u\"none\", u\"nothing\", u\"one\", u\"one another\", u\"other\", u\"others\",\n",
    "            u\"our\", u\"ours\", u\"ourselves\", u\"several\", u\"she\", u\"some\", u\"somebody\", u\"someone\",\n",
    "            u\"something\", u\"that\", u\"their\", u\"theirs\", u\"them\", u\"themselves\", u\"these\", u\"they\",\n",
    "            u\"this\", u\"those\", u\"us\", u\"we\", u\"what\", u\"whatever\", u\"which\", u\"whichever\", u\"who\",\n",
    "            u\"whoever\", u\"whom\", u\"whomever\", u\"whose\", u\"you\", u\"your\", u\"yours\", u\"yourself\", u\"yourselves\"]"
   ]
  },
  {
   "cell_type": "markdown",
   "metadata": {},
   "source": [
    "# Transformer classes and Functions"
   ]
  },
  {
   "cell_type": "code",
   "execution_count": 10,
   "metadata": {
    "collapsed": true
   },
   "outputs": [],
   "source": [
    "\n",
    "def pipeline_features(step):\n",
    "    # Passed a pipeline or pipeline step, recursively checks each named \n",
    "    # step and builds a list of features.\n",
    "    # This returns the list in the same order that the estimator uses\n",
    "    \n",
    "    features = []\n",
    "    if type(step)==Pipeline:\n",
    "        for named_step in step.named_steps:\n",
    "            features = features + pipeline_features(step.named_steps[named_step])\n",
    "    elif type(step) == FeatureUnion:\n",
    "        for transformer in step.transformer_list:\n",
    "            features = features + pipeline_features(transformer[1])\n",
    "    elif (type(step) == LogisticRegression):# or (type(step) == MultinomialNB):\n",
    "        features = []\n",
    "    else:\n",
    "        features = step.get_feature_names()\n",
    "    return features\n"
   ]
  },
  {
   "cell_type": "code",
   "execution_count": 11,
   "metadata": {
    "collapsed": true
   },
   "outputs": [],
   "source": [
    "def pipeline_coef_df(pipeline):\n",
    "    # Passed a pipeline with estimator, creates a DataFrame of the coeficients for each class\n",
    "    \n",
    "    feature_list = pipeline_features(pipeline)\n",
    "    if len(pipeline.named_steps['classifier'].classes_) == 2:\n",
    "        coef_df = pd.DataFrame(pipeline.named_steps['classifier'].coef_, \n",
    "                           index = [pipeline.named_steps['classifier'].classes_[1]],\n",
    "                           columns=feature_list).transpose()\n",
    "        coef_df[pipeline.named_steps['classifier'].classes_[0]] = -coef_df[pipeline.named_steps['classifier'].classes_[1]]\n",
    "    else:\n",
    "        coef_df = pd.DataFrame(pipeline.named_steps['classifier'].coef_, \n",
    "                           index = pipeline.named_steps['classifier'].classes_, \n",
    "                           columns=feature_list).transpose()\n",
    "    return np.e**(coef_df) # To get the odds ratios rather than the log odds\n",
    "        \n",
    "def top_coefs(pipeline, n_coefs):\n",
    "    coef_df = pipeline_coef_df(pipeline)\n",
    "    for candidate in coef_df.columns:\n",
    "        print candidate,\":\"\n",
    "        print coef_df.sort_values(by=candidate, ascending=False).ix[0:n_coefs,candidate]\n",
    "        print"
   ]
  },
  {
   "cell_type": "code",
   "execution_count": 12,
   "metadata": {
    "collapsed": false
   },
   "outputs": [],
   "source": [
    "class best_vectorizer(TransformerMixin, BaseEstimator):\n",
    "    def __init__(self, vectorizer, selector, name):\n",
    "        self.vectorizer=vectorizer\n",
    "        self.selector=selector\n",
    "        self.name = name\n",
    "    \n",
    "    def fit(self, X, y, **fit_params):\n",
    "        vectors = self.vectorizer.fit_transform(X)\n",
    "        self.selector.fit(vectors, y)\n",
    "#         self.vectorizer.vocbulary = self.get_feature_names()\n",
    "        return self\n",
    "\n",
    "    def transform(self, X, **transform_params):\n",
    "        return self.selector.transform(self.vectorizer.transform(X))\n",
    "    \n",
    "    def get_feature_names(self):\n",
    "        return [self.name+feature for feature, used in zip(self.vectorizer.get_feature_names(), self.selector.get_support()) if used==True]\n",
    "    \n",
    "    "
   ]
  },
  {
   "cell_type": "code",
   "execution_count": 129,
   "metadata": {
    "collapsed": false
   },
   "outputs": [],
   "source": [
    "class model_feature_selector(TransformerMixin, BaseEstimator):\n",
    "    def __init__(self, vectorizer, model, n_features, name):\n",
    "        self.vectorizer=vectorizer\n",
    "        self.model=model\n",
    "        self.n_features = n_features\n",
    "        self.name = name\n",
    "    def fit(self, X, y, **fit_params):\n",
    "        vectors = self.vectorizer.fit_transform(X)\n",
    "        self.model.fit(vectors, y)\n",
    "        print self.model.coef_.shape\n",
    "        coef_list = pd.Series(list(self.model.coef_), index=self.vectorizer.get_feature_names()).sort_values()\n",
    "        features = list(coef_list.index)[0:self.n_features]\n",
    "        self.reduced_vectorizer = CountVectorizer(vocabulary=features)\n",
    "        return self\n",
    "\n",
    "    def transform(self, X, **transform_params):\n",
    "        return self.reduced_vectorizer.transform(X)\n",
    "    \n",
    "    def get_feature_names(self):\n",
    "        return [self.name+feature for feature in self.reduced_vectorizer.get_feature_names()]\n",
    "    \n",
    "    "
   ]
  },
  {
   "cell_type": "code",
   "execution_count": 14,
   "metadata": {
    "collapsed": true
   },
   "outputs": [],
   "source": [
    "class used_multiple(TransformerMixin, BaseEstimator):\n",
    "    def __init__ (self, vectorizer):\n",
    "        self.vectorizer = vectorizer\n",
    "\n",
    "    def fit(self, X, y=None, **fit_params):\n",
    "        self.vectorizer.fit(X)\n",
    "        return self\n",
    "\n",
    "    def transform(self, X, **transform_params):\n",
    "        vectors = pd.DataFrame(self.vectorizer.transform(X).todense(), columns=self.vectorizer.get_feature_names())\n",
    "        vectors = vectors[vectors>1]\n",
    "        vectors.fillna(0, inplace=True)\n",
    "        return vectors\n",
    "\n",
    "    def get_feature_names(self):\n",
    "        return ['multiple_'+feat for feat in self.vectorizer.get_feature_names()]"
   ]
  },
  {
   "cell_type": "code",
   "execution_count": 15,
   "metadata": {
    "collapsed": true
   },
   "outputs": [],
   "source": [
    "class repeats(TransformerMixin, BaseEstimator):\n",
    "    def __init__ (self):\n",
    "        self.vectorizer = CountVectorizer()\n",
    "    \n",
    "    def fit(self, X, y=None, **fit_params):\n",
    "        self.vectorizer.fit(X)\n",
    "        return self\n",
    "    \n",
    "    def transform(self, X):\n",
    "        repeats = []\n",
    "        for sentence in X:            \n",
    "            sent_repeats = []\n",
    "            tokenized = self.vectorizer.build_tokenizer()(sentence)\n",
    "            for i in range(len(tokenized)-1):\n",
    "                if tokenized[i]==tokenized[i+1]:\n",
    "                    sent_repeats.append(tokenized[i])\n",
    "            repeats.append(' '.join(sent_repeats))\n",
    "        return pd.DataFrame(self.vectorizer.transform(repeats).todense(), columns=self.get_feature_names())\n",
    "    \n",
    "    def get_feature_names(self):\n",
    "        return ['repeated_'+feat for feat in self.vectorizer.get_feature_names()]"
   ]
  },
  {
   "cell_type": "code",
   "execution_count": 16,
   "metadata": {
    "collapsed": true
   },
   "outputs": [],
   "source": [
    "class count_repeats(TransformerMixin, BaseEstimator):\n",
    "    def __init__(self, vectorizer):\n",
    "        self.vectorizer = vectorizer\n",
    "    \n",
    "    def fit(self, X, y=None, **fit_params):\n",
    "        self.vectorizer.fit(X)\n",
    "        return self\n",
    "    \n",
    "    def transform(self, X, **transform_params):\n",
    "        df = pd.DataFrame(self.vectorizer.transform(X).todense())\n",
    "        return df[df>1].sum(axis=1).reshape(-1,1)\n",
    "    \n",
    "    def get_feature_names(self):\n",
    "        return ['repeated_words']"
   ]
  },
  {
   "cell_type": "code",
   "execution_count": 17,
   "metadata": {
    "collapsed": true
   },
   "outputs": [],
   "source": [
    "class quick_stats(TransformerMixin, BaseEstimator):\n",
    "    # Incredibly rough/crude stats on each sentence in order to be fast - no parsing\n",
    "    \n",
    "    def __init__(self):\n",
    "        pass\n",
    "    \n",
    "    def fit(self, X, y=None, **fit_params):\n",
    "        return self\n",
    "    \n",
    "    def transform(self, X, **transform_params):\n",
    "        stats = []\n",
    "        for sentence in X:\n",
    "            stats.append({\n",
    "                    'length': len(sentence),\n",
    "                    'spaces': sentence.count(' '),\n",
    "                    'avg_word_ish': len(sentence)/float(sentence.count(' ')+1),\n",
    "                    'clause_breaks': sentence.count(',') + sentence.count('-'),\n",
    "                })\n",
    "        return pd.DataFrame(stats)\n",
    "    \n",
    "    def get_feature_names(self):\n",
    "        return ['length', 'spaces', 'avg_word_ish', 'clause_breaks']"
   ]
  },
  {
   "cell_type": "code",
   "execution_count": 18,
   "metadata": {
    "collapsed": true
   },
   "outputs": [],
   "source": [
    "class sentiments(TransformerMixin, BaseEstimator):\n",
    "    def __init__(self, vectorizer):\n",
    "        self.vectorizer = vectorizer\n",
    "    \n",
    "    def fit(self, X, y=None):\n",
    "        self.vectorizer.fit(X)\n",
    "        return self\n",
    "    \n",
    "    def transform(self, X):\n",
    "        sent_vectors = pd.DataFrame(self.vectorizer.transform(X).todense())\n",
    "        polarities = []\n",
    "        subjectivities = []\n",
    "        for sentence in X:\n",
    "            polarity, subjectivity = TextBlob(sentence).sentiment\n",
    "            polarities.append(polarity)\n",
    "            subjectivities.append(subjectivity)\n",
    "        polarity_vectors = sent_vectors.copy().multiply(polarities, axis=0)\n",
    "        subjectivity_vectors = sent_vectors.copy().multiply(subjectivities, axis=0)\n",
    "        return polarity_vectors.join(subjectivity_vectors,lsuffix='polarity', rsuffix='subjectivity')\n",
    "    \n",
    "    def get_feature_names(self):\n",
    "        return ['polarity_'+i for i in self.vectorizer.get_feature_names()]+['subjectivity_'+i for i in self.vectorizer.get_feature_names()]\n"
   ]
  },
  {
   "cell_type": "markdown",
   "metadata": {},
   "source": [
    "# Start reading data"
   ]
  },
  {
   "cell_type": "code",
   "execution_count": null,
   "metadata": {
    "collapsed": true
   },
   "outputs": [],
   "source": [
    "# Create the vectorizer here so I can use the same tokenizer in the pipeline and in creating the dataframe\n",
    "vectorizer = CountVectorizer(\n",
    "#                          max_features = 7000,\n",
    "\n",
    "                         ngram_range=(1,3), \n",
    "#                          stop_words='english',\n",
    "                         decode_error='ignore',\n",
    "                         min_df = 5,\n",
    "                         binary=True,\n",
    "                        token_pattern = '(?u)\\\\b\\\\w+\\\\b',\n",
    "                            )\n"
   ]
  },
  {
   "cell_type": "code",
   "execution_count": 45,
   "metadata": {
    "collapsed": false
   },
   "outputs": [],
   "source": [
    "republicans = ['Trump']#,'Cruz','Kasich','Rubio','Bush']\n",
    "democrats = ['Clinton']#,'Sanders']\n",
    "\n",
    "long_df = pd.DataFrame()\n",
    "for candidate in republicans+democrats:\n",
    "    long_df = long_df.append(pd.read_csv(candidate+\"_transcript_df.csv\",index_col=0),ignore_index=True)"
   ]
  },
  {
   "cell_type": "code",
   "execution_count": 46,
   "metadata": {
    "collapsed": false
   },
   "outputs": [
    {
     "data": {
      "text/plain": [
       "(186, 6)"
      ]
     },
     "execution_count": 46,
     "metadata": {},
     "output_type": "execute_result"
    }
   ],
   "source": [
    "long_df.shape"
   ]
  },
  {
   "cell_type": "code",
   "execution_count": 47,
   "metadata": {
    "collapsed": false
   },
   "outputs": [
    {
     "data": {
      "text/plain": [
       "Trump      97\n",
       "Clinton    89\n",
       "Name: speaker, dtype: int64"
      ]
     },
     "execution_count": 47,
     "metadata": {},
     "output_type": "execute_result"
    }
   ],
   "source": [
    "long_df.speaker.value_counts()"
   ]
  },
  {
   "cell_type": "code",
   "execution_count": 657,
   "metadata": {
    "collapsed": false
   },
   "outputs": [
    {
     "name": "stdout",
     "output_type": "stream",
     "text": [
      "CPU times: user 9.66 s, sys: 1.03 s, total: 10.7 s\n",
      "Wall time: 11.3 s\n"
     ]
    }
   ],
   "source": [
    "%%time\n",
    "sentence_list = []\n",
    "for idx, speech in long_df.iterrows():\n",
    "    raw = unicode(speech.text,errors='ignore').lower().replace('  ',' ').replace('>','').replace('w3','').replace(' v ','')\n",
    "    #Fixing a few known glitches in the C-SPAN transcribing service\n",
    "    sentences = sent_tokenize(raw)\n",
    "    for sentence in sentences:\n",
    "        sent_info = {}\n",
    "        sent_info['sentence'] = sentence\n",
    "        sent_info['speaker'] = speech.speaker\n",
    "        sent_info['date'] = speech.date\n",
    "        sent_info['title'] = speech.title\n",
    "        sent_info['speech_idx'] = idx\n",
    "        sent_info['token_list'] = vectorizer.build_tokenizer()(sentence)\n",
    "        sent_info['tokens'] = len(sent_info['token_list'])\n",
    "        sentence_list.append(sent_info)\n",
    "raw_df = pd.DataFrame(sentence_list)"
   ]
  },
  {
   "cell_type": "code",
   "execution_count": 728,
   "metadata": {
    "collapsed": false
   },
   "outputs": [
    {
     "data": {
      "text/plain": [
       "Trump      41131\n",
       "Clinton    17649\n",
       "Name: speaker, dtype: int64"
      ]
     },
     "execution_count": 728,
     "metadata": {},
     "output_type": "execute_result"
    }
   ],
   "source": [
    "raw_df.speaker.value_counts()"
   ]
  },
  {
   "cell_type": "code",
   "execution_count": 729,
   "metadata": {
    "collapsed": false
   },
   "outputs": [
    {
     "data": {
      "text/plain": [
       "(0, 100)"
      ]
     },
     "execution_count": 729,
     "metadata": {},
     "output_type": "execute_result"
    },
    {
     "data": {
      "image/png": "[encoded data removed]",
      "text/plain": [
       "<matplotlib.figure.Figure at 0x127e0c610>"
      ]
     },
     "metadata": {},
     "output_type": "display_data"
    }
   ],
   "source": [
    "raw_df[raw_df.tokens <=200].tokens.hist(bins=50)\n",
    "plt.xlim([0,100])"
   ]
  },
  {
   "cell_type": "code",
   "execution_count": 51,
   "metadata": {
    "collapsed": true
   },
   "outputs": [],
   "source": [
    "declarations = {}\n",
    "declarations['Trump'] = '2015-06-16'\n",
    "declarations['Clinton'] = '2015-04-11'\n"
   ]
  },
  {
   "cell_type": "code",
   "execution_count": 730,
   "metadata": {
    "collapsed": false
   },
   "outputs": [],
   "source": [
    "min_length = 10\n",
    "max_length = 150\n",
    "df = raw_df[raw_df.tokens >= min_length]\n",
    "df = df[df.tokens <= max_length]\n",
    "# post_dec = [date > dec for date,dec in zip(df.date, [declarations[candidate] for candidate in df.speaker])]\n",
    "# df = df[post_dec]"
   ]
  },
  {
   "cell_type": "code",
   "execution_count": 731,
   "metadata": {
    "collapsed": false
   },
   "outputs": [
    {
     "data": {
      "text/plain": [
       "Trump      15699\n",
       "Clinton    11305\n",
       "Name: speaker, dtype: int64"
      ]
     },
     "execution_count": 731,
     "metadata": {},
     "output_type": "execute_result"
    }
   ],
   "source": [
    "df.speaker.value_counts()"
   ]
  },
  {
   "cell_type": "code",
   "execution_count": 732,
   "metadata": {
    "collapsed": false
   },
   "outputs": [
    {
     "data": {
      "text/plain": [
       "0.58135831728632792"
      ]
     },
     "execution_count": 732,
     "metadata": {},
     "output_type": "execute_result"
    }
   ],
   "source": [
    "max(df.speaker.value_counts())/float(len(df))"
   ]
  },
  {
   "cell_type": "markdown",
   "metadata": {},
   "source": [
    "# Data In, configure Pipeline"
   ]
  },
  {
   "cell_type": "code",
   "execution_count": 751,
   "metadata": {
    "collapsed": false
   },
   "outputs": [],
   "source": [
    "\n",
    "all_features = [\n",
    "      ('top_words', best_vectorizer(vectorizer, selector=SelectKBest(chi2, 2000), name='')),\n",
    "#       ('sentiment_terms', sentiments(CountVectorizer(max_features=2000))),\n",
    "#     ('quickstats', quick_stats()),\n",
    "#     ('consec', best_vectorizer(repeats(), selector=SelectKBest(chi2, 20), name='')),\n",
    "#     ('multiple', used_multiple(CountVectorizer())),\n",
    "    ]\n",
    "    \n",
    "    "
   ]
  },
  {
   "cell_type": "code",
   "execution_count": 752,
   "metadata": {
    "collapsed": false
   },
   "outputs": [],
   "source": [
    "pipeline = Pipeline([\n",
    "  ('features', FeatureUnion(all_features)),\n",
    "    ('classifier', LogisticRegression())]\n",
    ")"
   ]
  },
  {
   "cell_type": "markdown",
   "metadata": {},
   "source": [
    "# Cross Validate"
   ]
  },
  {
   "cell_type": "code",
   "execution_count": 735,
   "metadata": {
    "collapsed": true
   },
   "outputs": [],
   "source": [
    "which_candidates = ['Clinton','Trump']"
   ]
  },
  {
   "cell_type": "code",
   "execution_count": 59,
   "metadata": {
    "collapsed": true
   },
   "outputs": [],
   "source": [
    "from sklearn.cross_validation import cross_val_score\n"
   ]
  },
  {
   "cell_type": "code",
   "execution_count": 736,
   "metadata": {
    "collapsed": false,
    "scrolled": true
   },
   "outputs": [
    {
     "name": "stdout",
     "output_type": "stream",
     "text": [
      "Fitting 5 folds for each of 16 candidates, totalling 80 fits\n",
      "[CV] features__top_words__selector__k=1000, classifier__C=0.1 ........\n",
      "[CV]  features__top_words__selector__k=1000, classifier__C=0.1 -   8.2s\n",
      "[CV] features__top_words__selector__k=1000, classifier__C=0.1 ........\n",
      "[CV]  features__top_words__selector__k=1000, classifier__C=0.1 -   7.7s\n",
      "[CV] features__top_words__selector__k=1000, classifier__C=0.1 ........\n",
      "[CV]  features__top_words__selector__k=1000, classifier__C=0.1 -   8.6s\n",
      "[CV] features__top_words__selector__k=1000, classifier__C=0.1 ........\n",
      "[CV]  features__top_words__selector__k=1000, classifier__C=0.1 -   8.8s\n",
      "[CV] features__top_words__selector__k=1000, classifier__C=0.1 ........\n",
      "[CV]  features__top_words__selector__k=1000, classifier__C=0.1 -   8.5s\n",
      "[CV] features__top_words__selector__k=2000, classifier__C=0.1 ........\n",
      "[CV]  features__top_words__selector__k=2000, classifier__C=0.1 -  10.4s\n",
      "[CV] features__top_words__selector__k=2000, classifier__C=0.1 ........\n",
      "[CV]  features__top_words__selector__k=2000, classifier__C=0.1 -  11.6s\n",
      "[CV] features__top_words__selector__k=2000, classifier__C=0.1 ........\n",
      "[CV]  features__top_words__selector__k=2000, classifier__C=0.1 -  11.0s\n",
      "[CV] features__top_words__selector__k=2000, classifier__C=0.1 ........\n",
      "[CV]  features__top_words__selector__k=2000, classifier__C=0.1 -  11.8s\n",
      "[CV] features__top_words__selector__k=2000, classifier__C=0.1 ........\n",
      "[CV]  features__top_words__selector__k=2000, classifier__C=0.1 -   9.5s\n",
      "[CV] features__top_words__selector__k=4000, classifier__C=0.1 ........\n",
      "[CV]  features__top_words__selector__k=4000, classifier__C=0.1 -  10.4s\n",
      "[CV] features__top_words__selector__k=4000, classifier__C=0.1 ........\n",
      "[CV]  features__top_words__selector__k=4000, classifier__C=0.1 -  10.7s\n",
      "[CV] features__top_words__selector__k=4000, classifier__C=0.1 ........\n",
      "[CV]  features__top_words__selector__k=4000, classifier__C=0.1 -  10.4s\n",
      "[CV] features__top_words__selector__k=4000, classifier__C=0.1 ........\n",
      "[CV]  features__top_words__selector__k=4000, classifier__C=0.1 -   9.2s\n",
      "[CV] features__top_words__selector__k=4000, classifier__C=0.1 ........\n",
      "[CV]  features__top_words__selector__k=4000, classifier__C=0.1 -   9.3s\n",
      "[CV] features__top_words__selector__k=all, classifier__C=0.1 .........\n",
      "[CV]  features__top_words__selector__k=all, classifier__C=0.1 -   9.4s\n",
      "[CV] features__top_words__selector__k=all, classifier__C=0.1 .........\n",
      "[CV]  features__top_words__selector__k=all, classifier__C=0.1 -  10.2s\n",
      "[CV] features__top_words__selector__k=all, classifier__C=0.1 .........\n",
      "[CV]  features__top_words__selector__k=all, classifier__C=0.1 -   9.1s\n",
      "[CV] features__top_words__selector__k=all, classifier__C=0.1 .........\n",
      "[CV]  features__top_words__selector__k=all, classifier__C=0.1 -  10.1s\n",
      "[CV] features__top_words__selector__k=all, classifier__C=0.1 .........\n",
      "[CV]  features__top_words__selector__k=all, classifier__C=0.1 -  10.2s\n",
      "[CV] features__top_words__selector__k=1000, classifier__C=0.3 ........\n",
      "[CV]  features__top_words__selector__k=1000, classifier__C=0.3 -   9.5s\n",
      "[CV] features__top_words__selector__k=1000, classifier__C=0.3 ........\n",
      "[CV]  features__top_words__selector__k=1000, classifier__C=0.3 -   8.6s\n",
      "[CV] features__top_words__selector__k=1000, classifier__C=0.3 ........\n",
      "[CV]  features__top_words__selector__k=1000, classifier__C=0.3 -   9.4s\n",
      "[CV] features__top_words__selector__k=1000, classifier__C=0.3 ........\n",
      "[CV]  features__top_words__selector__k=1000, classifier__C=0.3 -   9.7s\n",
      "[CV] features__top_words__selector__k=1000, classifier__C=0.3 ........\n",
      "[CV]  features__top_words__selector__k=1000, classifier__C=0.3 -   8.7s\n",
      "[CV] features__top_words__selector__k=2000, classifier__C=0.3 ........\n",
      "[CV]  features__top_words__selector__k=2000, classifier__C=0.3 -   9.6s\n",
      "[CV] features__top_words__selector__k=2000, classifier__C=0.3 ........\n",
      "[CV]  features__top_words__selector__k=2000, classifier__C=0.3 -   8.3s\n",
      "[CV] features__top_words__selector__k=2000, classifier__C=0.3 ........\n",
      "[CV]  features__top_words__selector__k=2000, classifier__C=0.3 -  10.1s\n",
      "[CV] features__top_words__selector__k=2000, classifier__C=0.3 ........\n",
      "[CV]  features__top_words__selector__k=2000, classifier__C=0.3 -  10.4s\n",
      "[CV] features__top_words__selector__k=2000, classifier__C=0.3 ........\n",
      "[CV]  features__top_words__selector__k=2000, classifier__C=0.3 -   9.6s\n",
      "[CV] features__top_words__selector__k=4000, classifier__C=0.3 ........\n",
      "[CV]  features__top_words__selector__k=4000, classifier__C=0.3 -   9.3s\n",
      "[CV] features__top_words__selector__k=4000, classifier__C=0.3 ........\n",
      "[CV]  features__top_words__selector__k=4000, classifier__C=0.3 -   9.9s\n",
      "[CV] features__top_words__selector__k=4000, classifier__C=0.3 ........\n",
      "[CV]  features__top_words__selector__k=4000, classifier__C=0.3 -  11.7s\n",
      "[CV] features__top_words__selector__k=4000, classifier__C=0.3 ........\n",
      "[CV]  features__top_words__selector__k=4000, classifier__C=0.3 -  10.1s\n",
      "[CV] features__top_words__selector__k=4000, classifier__C=0.3 ........\n",
      "[CV]  features__top_words__selector__k=4000, classifier__C=0.3 -   8.7s\n",
      "[CV] features__top_words__selector__k=all, classifier__C=0.3 .........\n",
      "[CV]  features__top_words__selector__k=all, classifier__C=0.3 -   8.9s\n",
      "[CV] features__top_words__selector__k=all, classifier__C=0.3 .........\n",
      "[CV]  features__top_words__selector__k=all, classifier__C=0.3 -  10.0s\n",
      "[CV] features__top_words__selector__k=all, classifier__C=0.3 .........\n",
      "[CV]  features__top_words__selector__k=all, classifier__C=0.3 -   8.7s\n",
      "[CV] features__top_words__selector__k=all, classifier__C=0.3 .........\n",
      "[CV]  features__top_words__selector__k=all, classifier__C=0.3 -   8.6s\n",
      "[CV] features__top_words__selector__k=all, classifier__C=0.3 .........\n",
      "[CV]  features__top_words__selector__k=all, classifier__C=0.3 -   8.7s\n",
      "[CV] features__top_words__selector__k=1000, classifier__C=1 ..........\n"
     ]
    },
    {
     "name": "stderr",
     "output_type": "stream",
     "text": [
      "[Parallel(n_jobs=1)]: Done  40 tasks       | elapsed:  6.4min\n"
     ]
    },
    {
     "name": "stdout",
     "output_type": "stream",
     "text": [
      "[CV] . features__top_words__selector__k=1000, classifier__C=1 -   8.3s\n",
      "[CV] features__top_words__selector__k=1000, classifier__C=1 ..........\n",
      "[CV] . features__top_words__selector__k=1000, classifier__C=1 -   8.5s\n",
      "[CV] features__top_words__selector__k=1000, classifier__C=1 ..........\n",
      "[CV] . features__top_words__selector__k=1000, classifier__C=1 -   8.3s\n",
      "[CV] features__top_words__selector__k=1000, classifier__C=1 ..........\n",
      "[CV] . features__top_words__selector__k=1000, classifier__C=1 -   8.2s\n",
      "[CV] features__top_words__selector__k=1000, classifier__C=1 ..........\n",
      "[CV] . features__top_words__selector__k=1000, classifier__C=1 -   9.0s\n",
      "[CV] features__top_words__selector__k=2000, classifier__C=1 ..........\n",
      "[CV] . features__top_words__selector__k=2000, classifier__C=1 -   8.8s\n",
      "[CV] features__top_words__selector__k=2000, classifier__C=1 ..........\n",
      "[CV] . features__top_words__selector__k=2000, classifier__C=1 -   8.5s\n",
      "[CV] features__top_words__selector__k=2000, classifier__C=1 ..........\n",
      "[CV] . features__top_words__selector__k=2000, classifier__C=1 -   8.4s\n",
      "[CV] features__top_words__selector__k=2000, classifier__C=1 ..........\n",
      "[CV] . features__top_words__selector__k=2000, classifier__C=1 -   8.5s\n",
      "[CV] features__top_words__selector__k=2000, classifier__C=1 ..........\n",
      "[CV] . features__top_words__selector__k=2000, classifier__C=1 -   8.5s\n",
      "[CV] features__top_words__selector__k=4000, classifier__C=1 ..........\n",
      "[CV] . features__top_words__selector__k=4000, classifier__C=1 -   8.5s\n",
      "[CV] features__top_words__selector__k=4000, classifier__C=1 ..........\n",
      "[CV] . features__top_words__selector__k=4000, classifier__C=1 -   8.6s\n",
      "[CV] features__top_words__selector__k=4000, classifier__C=1 ..........\n",
      "[CV] . features__top_words__selector__k=4000, classifier__C=1 -   8.7s\n",
      "[CV] features__top_words__selector__k=4000, classifier__C=1 ..........\n",
      "[CV] . features__top_words__selector__k=4000, classifier__C=1 -   8.6s\n",
      "[CV] features__top_words__selector__k=4000, classifier__C=1 ..........\n",
      "[CV] . features__top_words__selector__k=4000, classifier__C=1 -   8.6s\n",
      "[CV] features__top_words__selector__k=all, classifier__C=1 ...........\n",
      "[CV] .. features__top_words__selector__k=all, classifier__C=1 -   9.1s\n",
      "[CV] features__top_words__selector__k=all, classifier__C=1 ...........\n",
      "[CV] .. features__top_words__selector__k=all, classifier__C=1 -   9.0s\n",
      "[CV] features__top_words__selector__k=all, classifier__C=1 ...........\n",
      "[CV] .. features__top_words__selector__k=all, classifier__C=1 -   9.5s\n",
      "[CV] features__top_words__selector__k=all, classifier__C=1 ...........\n",
      "[CV] .. features__top_words__selector__k=all, classifier__C=1 -   9.1s\n",
      "[CV] features__top_words__selector__k=all, classifier__C=1 ...........\n",
      "[CV] .. features__top_words__selector__k=all, classifier__C=1 -   9.3s\n",
      "[CV] features__top_words__selector__k=1000, classifier__C=3 ..........\n",
      "[CV] . features__top_words__selector__k=1000, classifier__C=3 -   8.3s\n",
      "[CV] features__top_words__selector__k=1000, classifier__C=3 ..........\n",
      "[CV] . features__top_words__selector__k=1000, classifier__C=3 -   8.7s\n",
      "[CV] features__top_words__selector__k=1000, classifier__C=3 ..........\n",
      "[CV] . features__top_words__selector__k=1000, classifier__C=3 -   8.7s\n",
      "[CV] features__top_words__selector__k=1000, classifier__C=3 ..........\n",
      "[CV] . features__top_words__selector__k=1000, classifier__C=3 -   8.8s\n",
      "[CV] features__top_words__selector__k=1000, classifier__C=3 ..........\n",
      "[CV] . features__top_words__selector__k=1000, classifier__C=3 -   8.5s\n",
      "[CV] features__top_words__selector__k=2000, classifier__C=3 ..........\n",
      "[CV] . features__top_words__selector__k=2000, classifier__C=3 -   8.6s\n",
      "[CV] features__top_words__selector__k=2000, classifier__C=3 ..........\n",
      "[CV] . features__top_words__selector__k=2000, classifier__C=3 -   9.6s\n",
      "[CV] features__top_words__selector__k=2000, classifier__C=3 ..........\n",
      "[CV] . features__top_words__selector__k=2000, classifier__C=3 -   9.2s\n",
      "[CV] features__top_words__selector__k=2000, classifier__C=3 ..........\n",
      "[CV] . features__top_words__selector__k=2000, classifier__C=3 -   9.0s\n",
      "[CV] features__top_words__selector__k=2000, classifier__C=3 ..........\n",
      "[CV] . features__top_words__selector__k=2000, classifier__C=3 -   8.7s\n",
      "[CV] features__top_words__selector__k=4000, classifier__C=3 ..........\n",
      "[CV] . features__top_words__selector__k=4000, classifier__C=3 -   9.0s\n",
      "[CV] features__top_words__selector__k=4000, classifier__C=3 ..........\n",
      "[CV] . features__top_words__selector__k=4000, classifier__C=3 -   8.9s\n",
      "[CV] features__top_words__selector__k=4000, classifier__C=3 ..........\n",
      "[CV] . features__top_words__selector__k=4000, classifier__C=3 -   9.0s\n",
      "[CV] features__top_words__selector__k=4000, classifier__C=3 ..........\n",
      "[CV] . features__top_words__selector__k=4000, classifier__C=3 -   8.8s\n",
      "[CV] features__top_words__selector__k=4000, classifier__C=3 ..........\n",
      "[CV] . features__top_words__selector__k=4000, classifier__C=3 -   8.8s\n",
      "[CV] features__top_words__selector__k=all, classifier__C=3 ...........\n",
      "[CV] .. features__top_words__selector__k=all, classifier__C=3 -   9.5s\n",
      "[CV] features__top_words__selector__k=all, classifier__C=3 ...........\n",
      "[CV] .. features__top_words__selector__k=all, classifier__C=3 -   9.6s\n",
      "[CV] features__top_words__selector__k=all, classifier__C=3 ...........\n",
      "[CV] .. features__top_words__selector__k=all, classifier__C=3 -   9.7s\n",
      "[CV] features__top_words__selector__k=all, classifier__C=3 ...........\n",
      "[CV] .. features__top_words__selector__k=all, classifier__C=3 -   9.9s\n",
      "[CV] features__top_words__selector__k=all, classifier__C=3 ...........\n",
      "[CV] .. features__top_words__selector__k=all, classifier__C=3 -   9.6s\n"
     ]
    },
    {
     "name": "stderr",
     "output_type": "stream",
     "text": [
      "[Parallel(n_jobs=1)]: Done  80 out of  80 | elapsed: 12.4min finished\n"
     ]
    },
    {
     "data": {
      "text/plain": [
       "GridSearchCV(cv=sklearn.cross_validation.StratifiedKFold(labels=['Trump' 'Trump' ..., 'Clinton' 'Clinton'], n_folds=5, shuffle=False, random_state=42),\n",
       "       error_score='raise',\n",
       "       estimator=Pipeline(steps=[('features', FeatureUnion(n_jobs=1,\n",
       "       transformer_list=[('top_words', best_vectorizer(name='',\n",
       "        selector=SelectKBest(k=2000, score_func=<function chi2 at 0x114841e60>),\n",
       "        vectorizer=CountVectorizer(analyzer=u'word', binary=True, decode_error='ignore',\n",
       "        dtype=<type 'nu...ty='l2', random_state=None, solver='liblinear', tol=0.0001,\n",
       "          verbose=0, warm_start=False))]),\n",
       "       fit_params={}, iid=True, n_jobs=1,\n",
       "       param_grid={'features__top_words__selector__k': [1000, 2000, 4000, 'all'], 'classifier__C': [0.1, 0.3, 1, 3]},\n",
       "       pre_dispatch='2*n_jobs', refit=True, scoring='roc_auc', verbose=2)"
      ]
     },
     "execution_count": 736,
     "metadata": {},
     "output_type": "execute_result"
    }
   ],
   "source": [
    "condition = [speaker in which_candidates for speaker in df.speaker]\n",
    "cand_df = df[condition]\n",
    "kf = StratifiedKFold(y=cand_df.speaker, n_folds=5,random_state=42)\n",
    "params = {'classifier__C': [.1,.3,1,3],\n",
    "          'features__top_words__selector__k': [1000,2000,4000,'all'],\n",
    "#           'features__top_words__vectorizer__binary': [True, False],\n",
    "#           'features__top_words__selector__score_func': [chi2, f_classif],              \n",
    "         }\n",
    "\n",
    "grid = GridSearchCV(estimator=pipeline, param_grid = params, scoring = 'roc_auc',cv=kf, verbose=2)\n",
    "\n",
    "grid.fit(cand_df.sentence,[1 if speaker == 'Trump' else 0 for speaker in cand_df.speaker])\n"
   ]
  },
  {
   "cell_type": "code",
   "execution_count": 737,
   "metadata": {
    "collapsed": false
   },
   "outputs": [
    {
     "data": {
      "text/plain": [
       "[mean: 0.87728, std: 0.03476, params: {'features__top_words__selector__k': 1000, 'classifier__C': 0.1},\n",
       " mean: 0.88967, std: 0.03482, params: {'features__top_words__selector__k': 2000, 'classifier__C': 0.1},\n",
       " mean: 0.90122, std: 0.03454, params: {'features__top_words__selector__k': 4000, 'classifier__C': 0.1},\n",
       " mean: 0.91416, std: 0.03210, params: {'features__top_words__selector__k': 'all', 'classifier__C': 0.1},\n",
       " mean: 0.88225, std: 0.03317, params: {'features__top_words__selector__k': 1000, 'classifier__C': 0.3},\n",
       " mean: 0.89528, std: 0.03284, params: {'features__top_words__selector__k': 2000, 'classifier__C': 0.3},\n",
       " mean: 0.90745, std: 0.03283, params: {'features__top_words__selector__k': 4000, 'classifier__C': 0.3},\n",
       " mean: 0.91876, std: 0.02924, params: {'features__top_words__selector__k': 'all', 'classifier__C': 0.3},\n",
       " mean: 0.88339, std: 0.03200, params: {'features__top_words__selector__k': 1000, 'classifier__C': 1},\n",
       " mean: 0.89629, std: 0.03122, params: {'features__top_words__selector__k': 2000, 'classifier__C': 1},\n",
       " mean: 0.90831, std: 0.03146, params: {'features__top_words__selector__k': 4000, 'classifier__C': 1},\n",
       " mean: 0.91716, std: 0.02689, params: {'features__top_words__selector__k': 'all', 'classifier__C': 1},\n",
       " mean: 0.88266, std: 0.03138, params: {'features__top_words__selector__k': 1000, 'classifier__C': 3},\n",
       " mean: 0.89432, std: 0.02996, params: {'features__top_words__selector__k': 2000, 'classifier__C': 3},\n",
       " mean: 0.90525, std: 0.03044, params: {'features__top_words__selector__k': 4000, 'classifier__C': 3},\n",
       " mean: 0.91257, std: 0.02544, params: {'features__top_words__selector__k': 'all', 'classifier__C': 3}]"
      ]
     },
     "execution_count": 737,
     "metadata": {},
     "output_type": "execute_result"
    }
   ],
   "source": [
    "grid.grid_scores_"
   ]
  },
  {
   "cell_type": "code",
   "execution_count": 738,
   "metadata": {
    "collapsed": false
   },
   "outputs": [
    {
     "data": {
      "text/plain": [
       "{'classifier__C': 0.3, 'features__top_words__selector__k': 'all'}"
      ]
     },
     "execution_count": 738,
     "metadata": {},
     "output_type": "execute_result"
    }
   ],
   "source": [
    "scores = grid.grid_scores_\n",
    "grid.best_params_"
   ]
  },
  {
   "cell_type": "code",
   "execution_count": 739,
   "metadata": {
    "collapsed": false
   },
   "outputs": [
    {
     "data": {
      "text/html": [
       "<div>\n",
       "<table border=\"1\" class=\"dataframe\">\n",
       "  <thead>\n",
       "    <tr style=\"text-align: right;\">\n",
       "      <th></th>\n",
       "      <th>classifier__C</th>\n",
       "      <th>features__top_words__selector__k</th>\n",
       "      <th>mean</th>\n",
       "    </tr>\n",
       "  </thead>\n",
       "  <tbody>\n",
       "    <tr>\n",
       "      <th>7</th>\n",
       "      <td>0.3</td>\n",
       "      <td>all</td>\n",
       "      <td>0.918762</td>\n",
       "    </tr>\n",
       "    <tr>\n",
       "      <th>11</th>\n",
       "      <td>1.0</td>\n",
       "      <td>all</td>\n",
       "      <td>0.917164</td>\n",
       "    </tr>\n",
       "    <tr>\n",
       "      <th>3</th>\n",
       "      <td>0.1</td>\n",
       "      <td>all</td>\n",
       "      <td>0.914163</td>\n",
       "    </tr>\n",
       "    <tr>\n",
       "      <th>15</th>\n",
       "      <td>3.0</td>\n",
       "      <td>all</td>\n",
       "      <td>0.912571</td>\n",
       "    </tr>\n",
       "    <tr>\n",
       "      <th>10</th>\n",
       "      <td>1.0</td>\n",
       "      <td>4000</td>\n",
       "      <td>0.908309</td>\n",
       "    </tr>\n",
       "    <tr>\n",
       "      <th>6</th>\n",
       "      <td>0.3</td>\n",
       "      <td>4000</td>\n",
       "      <td>0.907453</td>\n",
       "    </tr>\n",
       "    <tr>\n",
       "      <th>14</th>\n",
       "      <td>3.0</td>\n",
       "      <td>4000</td>\n",
       "      <td>0.905254</td>\n",
       "    </tr>\n",
       "    <tr>\n",
       "      <th>2</th>\n",
       "      <td>0.1</td>\n",
       "      <td>4000</td>\n",
       "      <td>0.901219</td>\n",
       "    </tr>\n",
       "    <tr>\n",
       "      <th>9</th>\n",
       "      <td>1.0</td>\n",
       "      <td>2000</td>\n",
       "      <td>0.896293</td>\n",
       "    </tr>\n",
       "    <tr>\n",
       "      <th>5</th>\n",
       "      <td>0.3</td>\n",
       "      <td>2000</td>\n",
       "      <td>0.895283</td>\n",
       "    </tr>\n",
       "    <tr>\n",
       "      <th>13</th>\n",
       "      <td>3.0</td>\n",
       "      <td>2000</td>\n",
       "      <td>0.894319</td>\n",
       "    </tr>\n",
       "    <tr>\n",
       "      <th>1</th>\n",
       "      <td>0.1</td>\n",
       "      <td>2000</td>\n",
       "      <td>0.889670</td>\n",
       "    </tr>\n",
       "    <tr>\n",
       "      <th>8</th>\n",
       "      <td>1.0</td>\n",
       "      <td>1000</td>\n",
       "      <td>0.883391</td>\n",
       "    </tr>\n",
       "    <tr>\n",
       "      <th>12</th>\n",
       "      <td>3.0</td>\n",
       "      <td>1000</td>\n",
       "      <td>0.882659</td>\n",
       "    </tr>\n",
       "    <tr>\n",
       "      <th>4</th>\n",
       "      <td>0.3</td>\n",
       "      <td>1000</td>\n",
       "      <td>0.882249</td>\n",
       "    </tr>\n",
       "    <tr>\n",
       "      <th>0</th>\n",
       "      <td>0.1</td>\n",
       "      <td>1000</td>\n",
       "      <td>0.877283</td>\n",
       "    </tr>\n",
       "  </tbody>\n",
       "</table>\n",
       "</div>"
      ],
      "text/plain": [
       "    classifier__C features__top_words__selector__k      mean\n",
       "7             0.3                              all  0.918762\n",
       "11            1.0                              all  0.917164\n",
       "3             0.1                              all  0.914163\n",
       "15            3.0                              all  0.912571\n",
       "10            1.0                             4000  0.908309\n",
       "6             0.3                             4000  0.907453\n",
       "14            3.0                             4000  0.905254\n",
       "2             0.1                             4000  0.901219\n",
       "9             1.0                             2000  0.896293\n",
       "5             0.3                             2000  0.895283\n",
       "13            3.0                             2000  0.894319\n",
       "1             0.1                             2000  0.889670\n",
       "8             1.0                             1000  0.883391\n",
       "12            3.0                             1000  0.882659\n",
       "4             0.3                             1000  0.882249\n",
       "0             0.1                             1000  0.877283"
      ]
     },
     "execution_count": 739,
     "metadata": {},
     "output_type": "execute_result"
    }
   ],
   "source": [
    "cv = []\n",
    "scores = grid.grid_scores_\n",
    "for combo in scores:\n",
    "    pars = combo[0]\n",
    "    pars['mean'] = combo[1]\n",
    "    cv.append(pars)\n",
    "pd.DataFrame(cv).sort_values(by='mean',ascending=False)"
   ]
  },
  {
   "cell_type": "markdown",
   "metadata": {},
   "source": [
    "## Build a cross-val-predict-proba"
   ]
  },
  {
   "cell_type": "code",
   "execution_count": 68,
   "metadata": {
    "collapsed": false
   },
   "outputs": [],
   "source": [
    "pipeline=grid.best_estimator_"
   ]
  },
  {
   "cell_type": "code",
   "execution_count": 753,
   "metadata": {
    "collapsed": false
   },
   "outputs": [
    {
     "name": "stdout",
     "output_type": "stream",
     "text": [
      "done predicting 0 time: 10.6087088585\n",
      "done predicting 1 time: 10.0399470329\n",
      "done predicting 2 time: 9.37932109833\n",
      "done predicting 3 time: 9.65105581284\n",
      "done predicting 4 time: 9.64090895653\n",
      "done predicting 5 time: 9.78888702393\n",
      "done predicting 6 time: 9.49414491653\n",
      "done predicting 7 time: 9.62601804733\n",
      "done predicting 8 time: 9.59486699104\n",
      "done predicting 9 time: 10.9973599911\n",
      "done predicting 10 time: 11.0214221478\n",
      "done predicting 11 time: 10.3796999454\n",
      "done predicting 12 time: 10.5761210918\n",
      "done predicting 13 time: 10.6775100231\n",
      "done predicting 14 time: 9.88932800293\n",
      "done predicting 15 time: 9.75862312317\n",
      "done predicting 16 time: 10.7234799862\n",
      "done predicting 17 time: 11.197756052\n",
      "done predicting 18 time: 10.6995239258\n",
      "done predicting 19 time: 10.1120948792\n",
      "done predicting 20 time: 10.008341074\n",
      "done predicting 21 time: 9.97609806061\n",
      "done predicting 22 time: 9.85305714607\n",
      "done predicting 23 time: 10.5911200047\n",
      "done predicting 24 time: 12.7173018456\n",
      "done predicting 25 time: 11.7361180782\n",
      "done predicting 26 time: 10.7006771564\n",
      "done predicting 27 time: 10.0009539127\n",
      "done predicting 28 time: 10.1432330608\n",
      "done predicting 29 time: 10.8620331287\n",
      "done predicting 30 time: 10.4134540558\n",
      "done predicting 31 time: 11.2713489532\n",
      "done predicting 32 time: 11.2751700878\n",
      "done predicting 33 time: 11.1835799217\n",
      "done predicting 34 time: 11.420776844\n",
      "done predicting 35 time: 10.7761800289\n",
      "done predicting 36 time: 10.1221320629\n",
      "done predicting 37 time: 10.7282800674\n",
      "done predicting 38 time: 10.8257021904\n",
      "done predicting 39 time: 11.6933178902\n",
      "done predicting 40 time: 11.1200900078\n",
      "done predicting 41 time: 14.0329608917\n",
      "done predicting 42 time: 11.4255180359\n",
      "done predicting 43 time: 10.6945648193\n",
      "done predicting 44 time: 10.6223328114\n",
      "done predicting 45 time: 12.4849951267\n",
      "done predicting 46 time: 14.9272921085\n",
      "done predicting 47 time: 12.7976861\n",
      "done predicting 48 time: 10.934235096\n",
      "done predicting 49 time: 10.3219358921\n"
     ]
    }
   ],
   "source": [
    "import time\n",
    "\n",
    "cand_df = df[[speaker in which_candidates for speaker in df.speaker]]\n",
    "\n",
    "n_folds = 50\n",
    "\n",
    "segment_results = pd.DataFrame()\n",
    "all_results = pd.DataFrame()\n",
    "segment_coefs = [pd.DataFrame()]*n_folds\n",
    "\n",
    "kf = StratifiedKFold(y=cand_df.speaker, n_folds =n_folds,random_state=42)\n",
    "\n",
    "for i, (train_index, test_index) in enumerate(kf):\n",
    "    t0 = time.time()\n",
    "    pipeline.fit(cand_df.iloc[train_index].sentence, cand_df.iloc[train_index].speaker)\n",
    "#     print 'done fitting',i,\"time:\",time.time()-t0\n",
    "    segment_coefs[i] = pipeline_coef_df(pipeline)\n",
    "    segment_results = pd.DataFrame(\n",
    "                                    pipeline.predict_proba(cand_df.iloc[test_index].sentence),\n",
    "                                    index=list(cand_df.iloc[test_index].index),\n",
    "                                    columns=pipeline.named_steps['classifier'].classes_)\n",
    "    print 'done predicting',i,\"time:\",time.time()-t0\n",
    "\n",
    "    all_results=all_results.append(segment_results)\n",
    "        \n",
    "    "
   ]
  },
  {
   "cell_type": "code",
   "execution_count": 754,
   "metadata": {
    "collapsed": true
   },
   "outputs": [],
   "source": [
    "cv_result = cand_df.copy().join(all_results)"
   ]
  },
  {
   "cell_type": "code",
   "execution_count": 755,
   "metadata": {
    "collapsed": false,
    "scrolled": true
   },
   "outputs": [
    {
     "data": {
      "text/html": [
       "<div>\n",
       "<table border=\"1\" class=\"dataframe\">\n",
       "  <thead>\n",
       "    <tr style=\"text-align: right;\">\n",
       "      <th></th>\n",
       "      <th>speech_idx</th>\n",
       "      <th>tokens</th>\n",
       "      <th>Clinton</th>\n",
       "      <th>Trump</th>\n",
       "    </tr>\n",
       "    <tr>\n",
       "      <th>speaker</th>\n",
       "      <th></th>\n",
       "      <th></th>\n",
       "      <th></th>\n",
       "      <th></th>\n",
       "    </tr>\n",
       "  </thead>\n",
       "  <tbody>\n",
       "    <tr>\n",
       "      <th>Clinton</th>\n",
       "      <td>141.634498</td>\n",
       "      <td>20.579655</td>\n",
       "      <td>0.721259</td>\n",
       "      <td>0.278741</td>\n",
       "    </tr>\n",
       "    <tr>\n",
       "      <th>Trump</th>\n",
       "      <td>48.424231</td>\n",
       "      <td>17.535257</td>\n",
       "      <td>0.198554</td>\n",
       "      <td>0.801446</td>\n",
       "    </tr>\n",
       "  </tbody>\n",
       "</table>\n",
       "</div>"
      ],
      "text/plain": [
       "         speech_idx     tokens   Clinton     Trump\n",
       "speaker                                           \n",
       "Clinton  141.634498  20.579655  0.721259  0.278741\n",
       "Trump     48.424231  17.535257  0.198554  0.801446"
      ]
     },
     "execution_count": 755,
     "metadata": {},
     "output_type": "execute_result"
    }
   ],
   "source": [
    "cv_result.groupby('speaker').mean()"
   ]
  },
  {
   "cell_type": "code",
   "execution_count": 756,
   "metadata": {
    "collapsed": false
   },
   "outputs": [],
   "source": [
    "cv_result['predict'] = cv_result.apply(lambda x: x[which_candidates].argmax(), axis = 1)"
   ]
  },
  {
   "cell_type": "code",
   "execution_count": 757,
   "metadata": {
    "collapsed": true
   },
   "outputs": [],
   "source": [
    "cv_result['correct'] = cv_result.predict == cv_result.speaker"
   ]
  },
  {
   "cell_type": "code",
   "execution_count": 758,
   "metadata": {
    "collapsed": false
   },
   "outputs": [
    {
     "data": {
      "text/plain": [
       "True     22465\n",
       "False     4539\n",
       "Name: correct, dtype: int64"
      ]
     },
     "execution_count": 758,
     "metadata": {},
     "output_type": "execute_result"
    }
   ],
   "source": [
    "cv_result.correct.value_counts()"
   ]
  },
  {
   "cell_type": "code",
   "execution_count": 759,
   "metadata": {
    "collapsed": false
   },
   "outputs": [
    {
     "data": {
      "text/plain": [
       "0.83191379054954817"
      ]
     },
     "execution_count": 759,
     "metadata": {},
     "output_type": "execute_result"
    }
   ],
   "source": [
    "cv_result.correct.value_counts()[1]/float(len(cv_result.correct))"
   ]
  },
  {
   "cell_type": "code",
   "execution_count": 760,
   "metadata": {
    "collapsed": false
   },
   "outputs": [
    {
     "name": "stdout",
     "output_type": "stream",
     "text": [
      "0.910731395659\n"
     ]
    },
    {
     "data": {
      "text/plain": [
       "[<matplotlib.lines.Line2D at 0x180da1250>]"
      ]
     },
     "execution_count": 760,
     "metadata": {},
     "output_type": "execute_result"
    },
    {
     "data": {
      "image/png": "[encoded data removed]",
      "text/plain": [
       "<matplotlib.figure.Figure at 0x188745f50>"
      ]
     },
     "metadata": {},
     "output_type": "display_data"
    }
   ],
   "source": [
    "#  sklearn.metrics.roc_curve(y_true, y_score, pos_label=None, sample_weight=None, drop_intermediate\n",
    "correct= [1 if speaker == 'Trump' else 0 for speaker in cv_result.speaker]\n",
    "roc = roc_curve(correct, y_score=list(cv_result.Trump))\n",
    "print roc_auc_score(correct, cv_result.Trump)\n",
    "plt.plot(roc[0], roc[1])"
   ]
  },
  {
   "cell_type": "code",
   "execution_count": 686,
   "metadata": {
    "collapsed": false
   },
   "outputs": [],
   "source": [
    "sns.set_palette('deep')"
   ]
  },
  {
   "cell_type": "code",
   "execution_count": 687,
   "metadata": {
    "collapsed": false
   },
   "outputs": [
    {
     "data": {
      "text/plain": [
       "[<matplotlib.lines.Line2D at 0x185c0a250>]"
      ]
     },
     "execution_count": 687,
     "metadata": {},
     "output_type": "execute_result"
    },
    {
     "data": {
      "image/png": "[encoded data removed]",
      "text/plain": [
       "<matplotlib.figure.Figure at 0x1295f18d0>"
      ]
     },
     "metadata": {},
     "output_type": "display_data"
    }
   ],
   "source": [
    "plt.plot(cv_result[(cv_result.tokens <=60)&(cv_result.tokens >=2)].groupby('tokens').mean()['correct'])"
   ]
  },
  {
   "cell_type": "code",
   "execution_count": 688,
   "metadata": {
    "collapsed": false
   },
   "outputs": [
    {
     "data": {
      "text/html": [
       "<div>\n",
       "<table border=\"1\" class=\"dataframe\">\n",
       "  <thead>\n",
       "    <tr style=\"text-align: right;\">\n",
       "      <th></th>\n",
       "      <th>date</th>\n",
       "      <th>sentence</th>\n",
       "      <th>speaker</th>\n",
       "      <th>speech_idx</th>\n",
       "      <th>title</th>\n",
       "      <th>token_list</th>\n",
       "      <th>tokens</th>\n",
       "      <th>Clinton</th>\n",
       "      <th>Trump</th>\n",
       "      <th>predict</th>\n",
       "      <th>correct</th>\n",
       "    </tr>\n",
       "  </thead>\n",
       "  <tbody>\n",
       "    <tr>\n",
       "      <th>10</th>\n",
       "      <td>2016-09-03</td>\n",
       "      <td>i just wrote this the other day knowing that i...</td>\n",
       "      <td>Trump</td>\n",
       "      <td>1</td>\n",
       "      <td>Presidential Candidate Donald Trump Remarks in...</td>\n",
       "      <td>[i, just, wrote, this, the, other, day, knowin...</td>\n",
       "      <td>42</td>\n",
       "      <td>0.533367</td>\n",
       "      <td>0.466633</td>\n",
       "      <td>Clinton</td>\n",
       "      <td>False</td>\n",
       "    </tr>\n",
       "    <tr>\n",
       "      <th>11</th>\n",
       "      <td>2016-09-03</td>\n",
       "      <td>for centuries, the african american church has...</td>\n",
       "      <td>Trump</td>\n",
       "      <td>1</td>\n",
       "      <td>Presidential Candidate Donald Trump Remarks in...</td>\n",
       "      <td>[for, centuries, the, african, american, churc...</td>\n",
       "      <td>15</td>\n",
       "      <td>0.333398</td>\n",
       "      <td>0.666602</td>\n",
       "      <td>Trump</td>\n",
       "      <td>True</td>\n",
       "    </tr>\n",
       "    <tr>\n",
       "      <th>12</th>\n",
       "      <td>2016-09-03</td>\n",
       "      <td>it is from the pews and pulpits and christian ...</td>\n",
       "      <td>Trump</td>\n",
       "      <td>1</td>\n",
       "      <td>Presidential Candidate Donald Trump Remarks in...</td>\n",
       "      <td>[it, is, from, the, pews, and, pulpits, and, c...</td>\n",
       "      <td>58</td>\n",
       "      <td>0.997086</td>\n",
       "      <td>0.002914</td>\n",
       "      <td>Clinton</td>\n",
       "      <td>False</td>\n",
       "    </tr>\n",
       "    <tr>\n",
       "      <th>13</th>\n",
       "      <td>2016-09-03</td>\n",
       "      <td>and we are bound together and i see that today.</td>\n",
       "      <td>Trump</td>\n",
       "      <td>1</td>\n",
       "      <td>Presidential Candidate Donald Trump Remarks in...</td>\n",
       "      <td>[and, we, are, bound, together, and, i, see, t...</td>\n",
       "      <td>10</td>\n",
       "      <td>0.530963</td>\n",
       "      <td>0.469037</td>\n",
       "      <td>Clinton</td>\n",
       "      <td>False</td>\n",
       "    </tr>\n",
       "    <tr>\n",
       "      <th>15</th>\n",
       "      <td>2016-09-03</td>\n",
       "      <td>the african-american fate immunity has been on...</td>\n",
       "      <td>Trump</td>\n",
       "      <td>1</td>\n",
       "      <td>Presidential Candidate Donald Trump Remarks in...</td>\n",
       "      <td>[the, african, american, fate, immunity, has, ...</td>\n",
       "      <td>19</td>\n",
       "      <td>0.233210</td>\n",
       "      <td>0.766790</td>\n",
       "      <td>Trump</td>\n",
       "      <td>True</td>\n",
       "    </tr>\n",
       "  </tbody>\n",
       "</table>\n",
       "</div>"
      ],
      "text/plain": [
       "          date                                           sentence speaker  \\\n",
       "10  2016-09-03  i just wrote this the other day knowing that i...   Trump   \n",
       "11  2016-09-03  for centuries, the african american church has...   Trump   \n",
       "12  2016-09-03  it is from the pews and pulpits and christian ...   Trump   \n",
       "13  2016-09-03    and we are bound together and i see that today.   Trump   \n",
       "15  2016-09-03  the african-american fate immunity has been on...   Trump   \n",
       "\n",
       "    speech_idx                                              title  \\\n",
       "10           1  Presidential Candidate Donald Trump Remarks in...   \n",
       "11           1  Presidential Candidate Donald Trump Remarks in...   \n",
       "12           1  Presidential Candidate Donald Trump Remarks in...   \n",
       "13           1  Presidential Candidate Donald Trump Remarks in...   \n",
       "15           1  Presidential Candidate Donald Trump Remarks in...   \n",
       "\n",
       "                                           token_list  tokens   Clinton  \\\n",
       "10  [i, just, wrote, this, the, other, day, knowin...      42  0.533367   \n",
       "11  [for, centuries, the, african, american, churc...      15  0.333398   \n",
       "12  [it, is, from, the, pews, and, pulpits, and, c...      58  0.997086   \n",
       "13  [and, we, are, bound, together, and, i, see, t...      10  0.530963   \n",
       "15  [the, african, american, fate, immunity, has, ...      19  0.233210   \n",
       "\n",
       "       Trump  predict correct  \n",
       "10  0.466633  Clinton   False  \n",
       "11  0.666602    Trump    True  \n",
       "12  0.002914  Clinton   False  \n",
       "13  0.469037  Clinton   False  \n",
       "15  0.766790    Trump    True  "
      ]
     },
     "execution_count": 688,
     "metadata": {},
     "output_type": "execute_result"
    }
   ],
   "source": [
    "cv_result.head()"
   ]
  },
  {
   "cell_type": "code",
   "execution_count": 154,
   "metadata": {
    "collapsed": true
   },
   "outputs": [],
   "source": []
  },
  {
   "cell_type": "code",
   "execution_count": null,
   "metadata": {
    "collapsed": true
   },
   "outputs": [],
   "source": []
  },
  {
   "cell_type": "code",
   "execution_count": 761,
   "metadata": {
    "collapsed": false,
    "scrolled": true
   },
   "outputs": [
    {
     "name": "stdout",
     "output_type": "stream",
     "text": [
      "Most Clinton :\n",
      "\tI hope you will join me and that you will be part of this effort to build on the progress we have made under president obama to go further and to make it absolutely clear that we are fighting to break down barriers wherever they may be because we know america deserves nothing less and americans deserve to have the future that we will create together.\n",
      "-- 138 Presidential Candidate Hillary Clinton Rally in Orangeburg, South Carolina\n",
      "http://www.c-span.org/video/?405395-1/hillary-clinton-campaign-rally-orangeburg-south-carolina\n",
      "Predicted Clinton:  0.999999999971\n",
      "Predicted Trump:  2.85589102774e-11\n",
      "\n",
      "\tThink of what we are losing because we are not doing everything we can to reach out to those families and we know again from so much research year in the united states and around the world that mentoring and intervention will help those often stressed out young moms understand more about what they can do and to avoid the difficulties that stand in the way of their being able to get their child off to the best possible start.\n",
      "-- 181 Presidential Candidate Hillary Clinton Economic Policy Address\n",
      "http://www.c-span.org/video/?327052-1/hillary-clinton-economic-policy-address\n",
      "Predicted Clinton:  0.999999999673\n",
      "Predicted Trump:  3.27362702447e-10\n",
      "\n",
      "\tWhen we fight to make college more affordable than stupid deathless punishing work to hold corporations accountable when they tell just one try to prices or falluja or environment or exploit workers, that's fighting for women and men in america and when we fight to create a pathway to citizenship for millions of immigrants, we will make social security even stronger or to protect and improve the affordable care act because everyone deserves access to quality affordable care.\n",
      "-- 162 Hillary Clinton at Democratic Women's Leadership Forum\n",
      "http://www.c-span.org/video/?328919-3/hillary-clinton-democratic-womens-leadership-forum\n",
      "Predicted Clinton:  0.999999999304\n",
      "Predicted Trump:  6.95804819634e-10\n",
      "\n",
      "\tIn the senate, i worked with republicans to increase the benefit paid to gold star family's, to expand access to military health insurance, to make sure all members of the guard and reserve and their families have access to health benefits whether they are deployed or training at home.\n",
      "-- 97 Presidential Candidate Hillary Clinton American Legion Speech\n",
      "http://www.c-span.org/video/?414555-1/hillary-clinton-addresses-american-legion-national-convention\n",
      "Predicted Clinton:  0.999999998028\n",
      "Predicted Trump:  1.97155238446e-09\n",
      "\n",
      "\tI also have to say that i have heard a lot about another challenge that gets too little attention in our long-term looking forward into the future about what kind of country we are going to be and how we can help people live up to their potential.\n",
      "-- 167 2015 New Hampshire Democratic Party State Convention\n",
      "http://www.c-span.org/video/?328108-1/2015-new-hampshire-democratic-party-state-convention\n",
      "Predicted Clinton:  0.999999997555\n",
      "Predicted Trump:  2.4449737439e-09\n",
      "\n",
      "\tYou see, i have a broader view about what we need to do to make sure that people not only pay their fair share, but they don't wreck the economy like we saw them in 2008. the governor, senator, and i agree that we have got to prevent wall street, the financial markets, and others from doing what they did.\n",
      "-- 150 Hillary Clinton Campaign Rally in Cedar Rapids, Iowa\n",
      "http://www.c-span.org/video/?403935-1/hillary-clinton-campaign-rally-cedar-rapids-iowa\n",
      "Predicted Clinton:  0.999999995959\n",
      "Predicted Trump:  4.04059692733e-09\n",
      "\n",
      "\tWe know what that leads to come increasing inequality, exploitation of workers, potion of our environment, denial of climate change, refusal to move into the 21st century with clean renewable energy, a failure to provide early childhood education and universal pre- case of every kid has a chance.\n",
      "-- 162 Hillary Clinton at Democratic Women's Leadership Forum\n",
      "http://www.c-span.org/video/?328919-3/hillary-clinton-democratic-womens-leadership-forum\n",
      "Predicted Clinton:  0.999999992487\n",
      "Predicted Trump:  7.51271848276e-09\n",
      "\n",
      "\tNo family and no student should have to borrow to pay tuition at a public college or university and everyone who has student debt should be able to refinance it at lower rates, costs not a barrier, and that will not hold you back under my plan.\n",
      "-- 176 Presidential Candidate Hillary Clinton Press Availability\n",
      "http://www.c-span.org/video/?327572-2/presidential-candidate-hillary-clinton-press-availability\n",
      "Predicted Clinton:  0.999999981218\n",
      "Predicted Trump:  1.87821448989e-08\n",
      "\n",
      "\tImagine that tomorrows -- the tomorrows where we will have more good quality jobs with rising income, where people will be working to fix and build the infrastructure we need for a competitive economy, where advanced manufacturing will once again be given the incentive to come back to new hampshire and america, where we will combat climate change by becoming a clean energy superpower.\n",
      "-- 145 Presidential Candidate Hillary Clinton Rally in Portsmouth, New Hampshire\n",
      "http://www.c-span.org/video/?404272-1/hillary-clinton-campaign-rally-portsmouth-new-hampshire\n",
      "Predicted Clinton:  0.999999978067\n",
      "Predicted Trump:  2.19325580939e-08\n",
      "\n",
      "\tI do not think president obama gets the credit he deserves for saving our economy from what could have been an even worse crisis, saving the auto industry, cracking down on wall street abuses which the bush administration had been ignoring, and passing the affordable care act which now provides health insurance to 18 million americans!\n",
      "-- 164 Presidential Candidate Hillary Clinton Campaign Rally in Las Vegas\n",
      "http://www.c-span.org/video/?328637-1/hillary-clinton-campaign-rally-las-vegas\n",
      "Predicted Clinton:  0.999999974652\n",
      "Predicted Trump:  2.53480006396e-08\n",
      "\n",
      "\n",
      "\n",
      "Most Trump :\n",
      "\tOk. ok. i'm glad you asked the question, because i have to tell you, i have raised a tremendous amount of money for the vets, almost $6 million, and more money is going to come in, i believe, over the next little while too.\n",
      "-- 26 Presidential Candidate Donald Trump News Conference\n",
      "http://www.c-span.org/video/?410401-1/donald-trump-holds-news-conference-donations-veterans-groups\n",
      "Predicted Clinton:  7.77151210052e-07\n",
      "Predicted Trump:  0.999999222849\n",
      "\n",
      "\tEvery single air conditioning unit that you make, every single one, as it crosses the border, and we are going to have a real border, because we are going to have a wall, we are going to have a real border, we are going to have a date, beautiful wall that nobody is crossing, just in case you had any questions, don't worry about the tunnels and stuff, nobody is going over it and nobody is going over it and we are going to have a big, beautiful door, but people are going to be coming into our country legally, legally, legally, so i tell the head of carrier, everything will unit that you make in mexico and that you sell in the united states, we are going to put a 35% tax on that unit, and i hope it works out well for you.\"\n",
      "-- 45 Presidential Candidate Donald Trump Rally in Arizona\n",
      "http://www.c-span.org/video/?406905-1/donald-trump-campaign-rally-phoenix-arizona\n",
      "Predicted Clinton:  1.00246039803e-06\n",
      "Predicted Trump:  0.99999899754\n",
      "\n",
      "\tBelieve me, we are going to use our great business people to negotiate unbelievable trade deals so we bring our jobs back and we don't let our companies go to mexico and all of these other countries anymore.\n",
      "-- 36 Presidential Candidate Donald Trump New York Primary Night Speech\n",
      "http://www.c-span.org/video/?408385-1/donald-trump-primary-night-speech\n",
      "Predicted Clinton:  1.49315368336e-06\n",
      "Predicted Trump:  0.999998506846\n",
      "\n",
      "\tAnd i said, let me stop you there, if i don't win, if i don't beat crooked hillary clinton, she is as crooked as a three dollar bill, if i don't be crooked hillary clinton, i will consider this a tremendous waste of time, energy and money.\n",
      "-- 10 Donald Trump Campaign Rally in Denver, Colorado\n",
      "http://www.c-span.org/video/?413365-1/donald-trump-campaigns-denver-colorado\n",
      "Predicted Clinton:  2.82941809537e-06\n",
      "Predicted Trump:  0.999997170582\n",
      "\n",
      "\tI would go to a company like carrier air-conditioning which decided to leave indianapolis and i would say, here's the story coming you think it's wonderful that you are negotiating with mexico come i'm sure you will have a wonderful plant -- if you bill that plant and you fire all these people who were so great to me -- indiana come i won that in a landslide -- the timing was good.\n",
      "-- 7 Donald Trump Campaign Rally in Erie, Pennsylvania\n",
      "http://www.c-span.org/video/?413909-1/donald-trump-campaigns-erie-pennsylvania\n",
      "Predicted Clinton:  2.94693882952e-06\n",
      "Predicted Trump:  0.999997053061\n",
      "\n",
      "\tThey are great people and i said i'm going to win and a lot of hispanics here illegally don't want people coming in illegally.\n",
      "-- 88 Presidential Candidate Donald Trump Speech in Nashville, Tennessee\n",
      "http://www.c-span.org/video/?327853-1/donald-trump-remarks-nashville-tennessee\n",
      "Predicted Clinton:  3.73439851575e-06\n",
      "Predicted Trump:  0.999996265601\n",
      "\n",
      "\tSo when i came down the escalator with my wife on june 16, not long ago and i brought up all of these things and i thought at the time it was going to be trade and illegal immigration.\n",
      "-- 32 Presidential Candidate Donald Trump Rally in South Bend, Indiana\n",
      "http://www.c-span.org/video/?408859-1/donald-trump-addresses-supporters-south-bend-indiana\n",
      "Predicted Clinton:  5.18994990351e-06\n",
      "Predicted Trump:  0.99999481005\n",
      "\n",
      "\tNow, you have south china and you have china building a massive fortress with massive, massive run rays for the biggest mail terri planes in the world and they have those escal sraeutka sraeuted and they're ripping the hell out of the ocean and building an island in the south of china and that he going to be a military fortress and they're not supposed to be doing that but they have no respect for our president and country so they're doing it.\n",
      "-- 60 Donald Trump Campaign Rally in Charleston, South Carolina\n",
      "http://www.c-span.org/video/?404947-1/donald-trump-campaign-rally-charleston-south-carolina\n",
      "Predicted Clinton:  5.46677417523e-06\n",
      "Predicted Trump:  0.999994533226\n",
      "\n",
      "\tAs you know, we have done very  well with the evangelicals and  with religion generally speaking, if you look at what's  happened with all of the races, whether it's in south carolina,  i went there and it was supposed to be strong evangelical, and i  was not supposed to win and i won in a landslide, and so many other places where you had the evangelicals and you had the  heavy christian groups and it was just -- it's been an amazing journey to have -- i think we won 37 different states.\n",
      "-- 22 Faith and Freedom Coalition Conference\n",
      "http://www.c-span.org/video/?410912-1/faith-freedom-coalition-holds-annual-conference\n",
      "Predicted Clinton:  6.36090207007e-06\n",
      "Predicted Trump:  0.999993639098\n",
      "\n",
      "\tAnd i want to tell you, you know, so much about illegal immigration and so much has been mentioned about it and talked about it and these politicians are all talk, no action, they are never going to do anything, and they are only going to pick this up because when i went and i announced that i was running for president, i said, you know, his country is a big, big problem with illegal immigration, and all of a sudden, we started talking about it, and then we had bad things happening, and there was crime and you had so many killings and so much crime.\n",
      "-- 45 Presidential Candidate Donald Trump Rally in Arizona\n",
      "http://www.c-span.org/video/?406905-1/donald-trump-campaign-rally-phoenix-arizona\n",
      "Predicted Clinton:  7.56347256681e-06\n",
      "Predicted Trump:  0.999992436527\n",
      "\n",
      "\n",
      "\n"
     ]
    }
   ],
   "source": [
    "\n",
    "for candidate in which_candidates:\n",
    "    print \"Most\",candidate,\":\"\n",
    "    for idx, row in cv_result[cv_result.speaker == cv_result.predict].sort_values(by=candidate,ascending=False).iloc[0:10].iterrows():\n",
    "        sent = row.sentence\n",
    "        print \"\\t\",sent[0].upper()+sent[1:]\n",
    "        print \"--\",row.speech_idx, row.title\n",
    "        print long_df.loc[row.speech_idx].link\n",
    "        print \"Predicted Clinton: \",row.Clinton\n",
    "        print \"Predicted Trump: \",row.Trump\n",
    "        print\n",
    "    print\n",
    "    print\n",
    "    "
   ]
  },
  {
   "cell_type": "code",
   "execution_count": 773,
   "metadata": {
    "collapsed": false
   },
   "outputs": [],
   "source": [
    "cv_result.to_csv('cv_result_sept_3.csv')"
   ]
  },
  {
   "cell_type": "code",
   "execution_count": 641,
   "metadata": {
    "collapsed": false,
    "scrolled": true
   },
   "outputs": [
    {
     "name": "stdout",
     "output_type": "stream",
     "text": [
      "Most Clinton-like, but not:\n",
      "\tThis is why we have already  passed legislation to support  wounded warriors, veterans who  struggle with mental health challenges and earlier this week to support female veterans in  particular who need our help.\n",
      "-- 22 Faith and Freedom Coalition Conference\n",
      "http://www.c-span.org/video/?410912-1/faith-freedom-coalition-holds-annual-conference\n",
      "Predicted Clinton:  0.99982204019\n",
      "Predicted Trump:  0.000177959810106\n",
      "\n",
      "\tThis will ensure that our own workers, right here in america, get the jobs and higher pay that will grow our tax revenues, increase our economic might as a nation, make us strong financially again.\n",
      "-- 33 Presidential Candidate Donald Trump Remarks on Foreign Policy\n",
      "http://www.c-span.org/video/?408693-1/donald-trump-speech-foreign-policy\n",
      "Predicted Clinton:  0.999611912257\n",
      "Predicted Trump:  0.000388087743038\n",
      "\n",
      "\tI say it is my high honor and distinct privilege for the sake of our troops who deserve a commander-in-chief who will have their back, for the sake of hard-working americans and businesses who deserve a president who will get washington, d.c. off their back, for the sake of a supreme court that will never turn its back on our god-given liberty or constitution, i give you the man who must be the next president of the united states of america, donald trump.\n",
      "-- 9 Donald Trump Campaign Rally in Green Bay, Wisconsin\n",
      "http://www.c-span.org/video/?413593-1/donald-trump-endorses-speaker-ryan-ahead-primary\n",
      "Predicted Clinton:  0.999510027469\n",
      "Predicted Trump:  0.000489972530581\n",
      "\n",
      "\tThat's why we passed --  -- that's why we also pass add  bill that helps victims of child pornography get restitution from those who frost from their pain  and took steps to crack down on so-called pass the trash practice of schools.\n",
      "-- 22 Faith and Freedom Coalition Conference\n",
      "http://www.c-span.org/video/?410912-1/faith-freedom-coalition-holds-annual-conference\n",
      "Predicted Clinton:  0.998599584654\n",
      "Predicted Trump:  0.00140041534595\n",
      "\n",
      "\tThank you, such a pleasure to be with you, bright and early  and congratulations for your  efforts in being part of this  effort to take our country back from the far left who is intent  on ruining it and making it some sort of socialist utopia that  will be a complete failure.\n",
      "-- 22 Faith and Freedom Coalition Conference\n",
      "http://www.c-span.org/video/?410912-1/faith-freedom-coalition-holds-annual-conference\n",
      "Predicted Clinton:  0.998554072683\n",
      "Predicted Trump:  0.00144592731679\n",
      "\n",
      "\tWhat we can do today is help prepare the next commander in  chief to face these challenges.\n",
      "-- 22 Faith and Freedom Coalition Conference\n",
      "http://www.c-span.org/video/?410912-1/faith-freedom-coalition-holds-annual-conference\n",
      "Predicted Clinton:  0.997483087431\n",
      "Predicted Trump:  0.00251691256916\n",
      "\n",
      "\tDavid is spotting for georgians  and all of us every day in the u.s. senate, and is committed to solving our national debt and global security crisis.\n",
      "-- 22 Faith and Freedom Coalition Conference\n",
      "http://www.c-span.org/video/?410912-1/faith-freedom-coalition-holds-annual-conference\n",
      "Predicted Clinton:  0.997358575324\n",
      "Predicted Trump:  0.00264142467554\n",
      "\n",
      "\tWe put on the president's desk a full repeal of obama care, put  on the president's desk defunding planned parenthood, shock among shocked, vetoes both but both made it all the way to  his desk.\n",
      "-- 22 Faith and Freedom Coalition Conference\n",
      "http://www.c-span.org/video/?410912-1/faith-freedom-coalition-holds-annual-conference\n",
      "Predicted Clinton:  0.99722856292\n",
      "Predicted Trump:  0.00277143708027\n",
      "\n",
      "\tThere is perhaps no action our leaders can take to do more to heal our country and support our people, and to provide a greater platform to the black churches and churchgoers.\n",
      "-- 1 Presidential Candidate Donald Trump Remarks in Detroit\n",
      "http://www.c-span.org/video/?414743-1/donald-trump-speaks-africanamerican-church-detroit\n",
      "Predicted Clinton:  0.997022068763\n",
      "Predicted Trump:  0.00297793123674\n",
      "\n",
      "\tI want you to imagine how much better our future can be if we declare independence from the elites who led us from one financial and foreign policy disaster to another.\n",
      "-- 20 Donald Trump Remarks in Monessen, Pennsylvania\n",
      "http://www.c-span.org/video/?411870-1/donald-trump-delivers-remarks-us-economy\n",
      "Predicted Clinton:  0.996696068281\n",
      "Predicted Trump:  0.00330393171923\n",
      "\n",
      "\n",
      "\n",
      "Most Trump-like, but not:\n",
      "\tWhen you call on people in town halls, you have no idea what they're going to say or what they are going to ask.\n",
      "-- 155 Presidential Candidate Hillary Clinton in Portsmouth, New Hampshire\n",
      "http://www.c-span.org/video/?402565-1/hillary-clinton-town-hall-meeting-portsmouth-new-hampshire\n",
      "Predicted Clinton:  0.00577664117185\n",
      "Predicted Trump:  0.994223358828\n",
      "\n",
      "\tThis is an honor because she and i used to run a little potluck together and we would have people over and we would have a little potluck.\n",
      "-- 172 Presidential Candidate Hillary Clinton Meet-and-Greet at the Iowa State Fair, Part 1\n",
      "http://www.c-span.org/video/?327525-8/presidential-candidate-hillary-clinton-meetandgreet-iowa-state-fair-part-1\n",
      "Predicted Clinton:  0.00602063624933\n",
      "Predicted Trump:  0.993979363751\n",
      "\n",
      "\tThey never tell you what they'll replace it with because they know we won't like it.\n",
      "-- 122 Hillary Clinton Campaign Event in Scranton, Pennsylvania\n",
      "http://www.c-span.org/video/?408560-1/hillary-clinton-campaign-event-scranton-pennsylvania\n",
      "Predicted Clinton:  0.00647708546206\n",
      "Predicted Trump:  0.993522914538\n",
      "\n",
      "\tWhat i do not approve of is what happened in san francisco, because if you are going to have quote sanctuary cities where law enforcement will tell the immigrant community you won't get in trouble if you report the murder, rape, burglary, and you are an otherwise a law-abiding citizen, that is one thing.\n",
      "-- 169 WMUR-TV Interview with Presidential Candidate Hillary Clinton\n",
      "http://www.c-span.org/video/?327904-1/wmurtv-interview-presidential-candidate-hillary-clinton\n",
      "Predicted Clinton:  0.00730352544188\n",
      "Predicted Trump:  0.992696474558\n",
      "\n",
      "\tThe deals -- the merits of the deal happen will discussed, so i will not go through them here.\n",
      "-- 168 Presidential Candidate Hillary Clinton on Iran Nuclear Agreement\n",
      "http://www.c-span.org/video/?328006-1/hillary-clinton-address-iran-nuclear-agreement\n",
      "Predicted Clinton:  0.00792673774511\n",
      "Predicted Trump:  0.992073262255\n",
      "\n",
      "\tThe obsession in some corders with clash of civilization or repeating the specific records, radical islamic terrorism isn't just a distraction, it gives these criminals, more murdererrers more standing than they deserve.\n",
      "-- 159 Presidential Candidate Hillary Clinton National Security Address\n",
      "http://www.c-span.org/video/?400960-1/hillary-clinton-national-security-address\n",
      "Predicted Clinton:  0.00835718155388\n",
      "Predicted Trump:  0.991642818446\n",
      "\n",
      "\tBut what marco rubio said has as much of an impact in terms of where the republican party is today as anybody else on that stage.\n",
      "-- 176 Presidential Candidate Hillary Clinton Press Availability\n",
      "http://www.c-span.org/video/?327572-2/presidential-candidate-hillary-clinton-press-availability\n",
      "Predicted Clinton:  0.00918845990453\n",
      "Predicted Trump:  0.990811540095\n",
      "\n",
      "\tHe would say, we're fighting terrorism, that's what we're doing.\n",
      "-- 168 Presidential Candidate Hillary Clinton on Iran Nuclear Agreement\n",
      "http://www.c-span.org/video/?328006-1/hillary-clinton-address-iran-nuclear-agreement\n",
      "Predicted Clinton:  0.0130776235187\n",
      "Predicted Trump:  0.986922376481\n",
      "\n",
      "\tI've had a great time traveling across the state, meeting by now thousands and thousands of people.\n",
      "-- 155 Presidential Candidate Hillary Clinton in Portsmouth, New Hampshire\n",
      "http://www.c-span.org/video/?402565-1/hillary-clinton-town-hall-meeting-portsmouth-new-hampshire\n",
      "Predicted Clinton:  0.0147310337317\n",
      "Predicted Trump:  0.985268966268\n",
      "\n",
      "\tShe got promoted ok. she became the first woman foreman, i guess, or woman fore woman, and it was only by accident that she learned although there were four or five men during the exact same job, she was being paid less.\n",
      "-- 160 Hillary Clinton Town Hall Meeting in Orangeburg, South Carolina\n",
      "http://www.c-span.org/video/?400357-1/hillary-clinton-town-hall-meeting-orangeburg-south-carolina\n",
      "Predicted Clinton:  0.015200031899\n",
      "Predicted Trump:  0.984799968101\n",
      "\n",
      "\n",
      "\n"
     ]
    }
   ],
   "source": [
    "\n",
    "for candidate in which_candidates:\n",
    "    print \"Most\",candidate+\"-like, but not:\"\n",
    "    for idx, row in cv_result[cv_result.speaker != cv_result.predict].sort_values(by=candidate,ascending=False).iloc[0:10].iterrows():\n",
    "        sent = row.sentence\n",
    "        print \"\\t\",sent[0].upper()+sent[1:]\n",
    "        print \"--\",row.speech_idx, row.title\n",
    "        print long_df.loc[row.speech_idx].link\n",
    "        print \"Predicted Clinton: \",row.Clinton\n",
    "        print \"Predicted Trump: \",row.Trump\n",
    "        print\n",
    "    print\n",
    "    print"
   ]
  },
  {
   "cell_type": "code",
   "execution_count": 763,
   "metadata": {
    "collapsed": false
   },
   "outputs": [],
   "source": [
    "sums = {}\n",
    "for candidate in which_candidates:\n",
    "    sums[candidate] = pd.DataFrame(index=segment_coefs[0].index)\n",
    "t0 = time.time()\n",
    "for i, segment in enumerate(segment_coefs):\n",
    "    segment.drop_duplicates(inplace=True)\n",
    "    for candidate in which_candidates:\n",
    "        sums[candidate] = sums[candidate].join(segment[candidate], rsuffix=str(i))\n",
    "        sums[candidate].drop_duplicates(inplace=True)\n"
   ]
  },
  {
   "cell_type": "code",
   "execution_count": 764,
   "metadata": {
    "collapsed": false
   },
   "outputs": [],
   "source": [
    "average_coef = pd.DataFrame()\n",
    "\n",
    "for candidate in which_candidates:\n",
    "    sums[candidate].fillna(1.0, inplace=True) # odds ratio\n",
    "    #     average_coef[candidate] = sums[candidate].apply(lambda x: len(x) / sum([1./i for i in x]), axis=1)\n",
    "    logged = np.log(sums[candidate])\n",
    "    average_coef[candidate] = np.e**(logged.sum(axis=1) /  logged.shape[1])"
   ]
  },
  {
   "cell_type": "code",
   "execution_count": 766,
   "metadata": {
    "collapsed": false
   },
   "outputs": [
    {
     "name": "stdout",
     "output_type": "stream",
     "text": [
      "tremendous       12.452513\n",
      "islamic           9.698527\n",
      "guy               9.297976\n",
      "hispanics         7.911610\n",
      "allowed           7.214685\n",
      "conservative      7.178784\n",
      "my wife           6.962965\n",
      "poll              6.881809\n",
      "frankly           6.642702\n",
      "golf              6.520700\n",
      "establishment     6.351741\n",
      "badly             6.288557\n",
      "politician        6.284664\n",
      "highly            6.198536\n",
      "japan             6.117073\n",
      "incredible        6.085105\n",
      "believe me        6.059045\n",
      "ivanka            5.977478\n",
      "deals             5.772990\n",
      "almost            5.769029\n",
      "guys              5.688395\n",
      "an example        5.653908\n",
      "indiana           5.640810\n",
      "politicians       5.582151\n",
      "hillary           5.574887\n",
      "stupid            5.564198\n",
      "rigged            5.538057\n",
      "nice              5.418099\n",
      "be very           5.302870\n",
      "delegates         5.258262\n",
      "common core       5.175335\n",
      "by the way        5.150270\n",
      "media             5.091336\n",
      "television        4.944412\n",
      "come in           4.924884\n",
      "correct           4.855085\n",
      "fox               4.835687\n",
      "illegal           4.809053\n",
      "totally           4.693842\n",
      "50                4.675487\n",
      "magazine          4.667445\n",
      "last night        4.654101\n",
      "massive           4.604499\n",
      "pouring           4.552548\n",
      "people that       4.548988\n",
      "ever before       4.530937\n",
      "coming in         4.526783\n",
      "evangelicals      4.498951\n",
      "they said         4.497227\n",
      "great people      4.496223\n",
      "Name: Trump, dtype: float64\n",
      "\n",
      "my husband               14.166042\n",
      "investment               10.788396\n",
      "arkansas                  9.692506\n",
      "attention                 8.949572\n",
      "opportunities             8.779614\n",
      "grandmother               7.938875\n",
      "citizens united           7.837868\n",
      "learning                  7.654827\n",
      "climate                   7.139615\n",
      "grateful                  6.885420\n",
      "recession                 6.879277\n",
      "com                       6.781100\n",
      "granddaughter             6.762578\n",
      "particularly              6.745585\n",
      "is not only               6.732793\n",
      "avoid                     6.401413\n",
      "recovery                  6.303069\n",
      "i remember                6.294941\n",
      "mother                    6.240216\n",
      "progressive               6.168450\n",
      "flint                     6.081661\n",
      "advanced                  5.925207\n",
      "can to                    5.918316\n",
      "past                      5.871749\n",
      "faces                     5.834615\n",
      "auto                      5.831014\n",
      "progress                  5.699508\n",
      "our future                5.696578\n",
      "democracy                 5.686887\n",
      "homes                     5.587441\n",
      "grandparents              5.577331\n",
      "a raise                   5.454160\n",
      "democratic                5.448011\n",
      "climate change            5.421567\n",
      "approach                  5.388089\n",
      "playing the               5.309222\n",
      "wage                      5.306947\n",
      "loophole                  5.278897\n",
      "republican candidates     5.200032\n",
      "as president i            5.174641\n",
      "privatize                 5.011217\n",
      "deserves                  4.994206\n",
      "about what                4.988867\n",
      "barbara                   4.948413\n",
      "affordable                4.933211\n",
      "bargain                   4.929008\n",
      "clean energy              4.871435\n",
      "senator sanders           4.852904\n",
      "to go back                4.830528\n",
      "fighters                  4.781074\n",
      "Name: Clinton, dtype: float64\n"
     ]
    }
   ],
   "source": [
    "print average_coef.sort_values(by='Trump', ascending=False).head(50)['Trump']\n",
    "print\n",
    "print average_coef.sort_values(by='Clinton', ascending=False).head(50)['Clinton']"
   ]
  },
  {
   "cell_type": "code",
   "execution_count": 767,
   "metadata": {
    "collapsed": true
   },
   "outputs": [],
   "source": [
    "average_coef.to_csv('average_coef_sept_3.csv')"
   ]
  },
  {
   "cell_type": "code",
   "execution_count": 776,
   "metadata": {
    "collapsed": false
   },
   "outputs": [
    {
     "data": {
      "text/plain": [
       "Clinton    0.472218\n",
       "Trump      2.117665\n",
       "Name: money, dtype: float64"
      ]
     },
     "execution_count": 776,
     "metadata": {},
     "output_type": "execute_result"
    }
   ],
   "source": [
    "average_coef.loc['money']"
   ]
  },
  {
   "cell_type": "code",
   "execution_count": 358,
   "metadata": {
    "collapsed": true
   },
   "outputs": [],
   "source": [
    "import re"
   ]
  },
  {
   "cell_type": "code",
   "execution_count": 166,
   "metadata": {
    "collapsed": true
   },
   "outputs": [],
   "source": []
  },
  {
   "cell_type": "code",
   "execution_count": 419,
   "metadata": {
    "collapsed": true
   },
   "outputs": [],
   "source": [
    "def ngrams(sentence):\n",
    "    tokens = []\n",
    "#     for i in range(low, high+1):\n",
    "    tokens = tokens + re.findall('(?=(\\\\b\\\\w+\\\\b))', sentence)\n",
    "    tokens = tokens + [' '.join(bigram) for bigram in re.findall('(?=(\\\\b\\\\w+\\\\b)(?: ?)(\\\\b\\\\w+\\\\b))', sentence)]\n",
    "    tokens = tokens + [' '.join(trigram) for trigram in re.findall('(?=(\\\\b\\\\w+\\\\b)(?: ?)(\\\\b\\\\w+\\\\b)(?: ?)(\\\\b\\\\w+\\\\b))', sentence)]\n",
    "    return tokens\n",
    "        \n",
    "# result = [(g.start(), g.group()) for g in re.compile('A').finditer(string)]\n",
    "# result += [(g.start(), g.group()) for g in re.compile('AB').finditer(string)]"
   ]
  },
  {
   "cell_type": "code",
   "execution_count": 420,
   "metadata": {
    "collapsed": false
   },
   "outputs": [
    {
     "data": {
      "text/plain": [
       "['Hello',\n",
       " 'there',\n",
       " 'I',\n",
       " 'am',\n",
       " 'dog',\n",
       " 'Hello there',\n",
       " 'there I',\n",
       " 'I am',\n",
       " 'am dog',\n",
       " 'Hello there I',\n",
       " 'there I am',\n",
       " 'I am dog']"
      ]
     },
     "execution_count": 420,
     "metadata": {},
     "output_type": "execute_result"
    }
   ],
   "source": [
    "ngrams('Hello there I am dog.')"
   ]
  },
  {
   "cell_type": "code",
   "execution_count": 726,
   "metadata": {
    "collapsed": false
   },
   "outputs": [
    {
     "name": "stderr",
     "output_type": "stream",
     "text": [
      "/Users/jessegalef/anaconda/lib/python2.7/site-packages/ipykernel/__main__.py:10: UserWarning: Boolean Series key will be reindexed to match DataFrame index.\n"
     ]
    }
   ],
   "source": [
    "check = 'politician'\n",
    "vec2 = CountVectorizer(vocabulary=average_coef.index.values, binary=False, \n",
    "                                              analyzer=ngrams,\n",
    "                      ).fit([])\n",
    "term_vec = {}\n",
    "inc_vec = {}\n",
    "importance = {}\n",
    "for candidate in which_candidates:\n",
    "    term_vec[candidate] = pd.DataFrame(vec2.transform(cv_result[cv_result.speaker==candidate].sentence).todense(), columns=vec2.get_feature_names())\n",
    "    inc_vec[candidate] = term_vec[candidate][odds_vec[candidate][check]>=1]\n",
    "    importance[candidate] = average_coef[candidate] ** inc_vec[candidate].sum()\n",
    "    "
   ]
  },
  {
   "cell_type": "code",
   "execution_count": 727,
   "metadata": {
    "collapsed": false
   },
   "outputs": [
    {
     "name": "stdout",
     "output_type": "stream",
     "text": [
      "of americans          3.84445348128 \t1 \t0\n",
      "college               3.49693872946 \t1 \t0\n",
      "americans             2.90688532248 \t1 \t0\n",
      "to                    1.4004997806 \t2 \t18\n",
      "make sure             1.94411923903 \t1 \t0\n",
      "make sure that        1.87995071778 \t1 \t0\n",
      "make                  1.76458635241 \t1 \t1\n",
      "can be                1.47921233295 \t1 \t0\n",
      "millions of americans  1.38014354518 \t1 \t0\n",
      "we need               1.37190261116 \t1 \t1\n",
      "need                  1.36594964593 \t1 \t1\n",
      "we need to            1.32790866011 \t1 \t0\n",
      "and we need           1.28993897953 \t1 \t0\n",
      "us                    1.22255840072 \t1 \t0\n",
      "of                    1.0961765963 \t2 \t9\n",
      "need to               1.19167774413 \t1 \t0\n",
      "that                  1.1859107983 \t1 \t7\n",
      "can                   1.1379535441 \t1 \t1\n",
      "sure                  1.13129250443 \t1 \t0\n",
      "for                   1.10280616189 \t1 \t3\n"
     ]
    }
   ],
   "source": [
    "for term in importance['Clinton'].sort_values(ascending=False)[:20].keys():\n",
    "    print term, ' '*(20-len(term)),average_coef.ix[term, 'Clinton'],'\\t',inc_vec['Clinton'][term].sum(), '\\t', inc_vec['Trump'][term].sum()\n",
    "    \n"
   ]
  },
  {
   "cell_type": "code",
   "execution_count": 548,
   "metadata": {
    "collapsed": false
   },
   "outputs": [
    {
     "data": {
      "text/plain": [
       "0    18901\n",
       "1       81\n",
       "2        3\n",
       "Name: believe me, dtype: int64"
      ]
     },
     "execution_count": 548,
     "metadata": {},
     "output_type": "execute_result"
    }
   ],
   "source": [
    "odds_vec['Trump']['believe me'].value_counts()"
   ]
  },
  {
   "cell_type": "code",
   "execution_count": 549,
   "metadata": {
    "collapsed": true
   },
   "outputs": [],
   "source": [
    "joined_text['Trump'] = '\\n'.join(cv_result.sentence[cv_result.speaker=='Trump'])\n",
    "joined_text['Clinton'] = '\\n'.join(cv_result.sentence[cv_result.speaker=='Clinton'])"
   ]
  },
  {
   "cell_type": "code",
   "execution_count": 550,
   "metadata": {
    "collapsed": false,
    "scrolled": true
   },
   "outputs": [
    {
     "data": {
      "text/plain": [
       "88"
      ]
     },
     "execution_count": 550,
     "metadata": {},
     "output_type": "execute_result"
    }
   ],
   "source": [
    "joined_text['Trump'].count('believe me')+joined_text['Clinton'].count('believe me')"
   ]
  },
  {
   "cell_type": "code",
   "execution_count": 553,
   "metadata": {
    "collapsed": false
   },
   "outputs": [],
   "source": [
    "sums = inc_vec['Clinton'].sum()"
   ]
  },
  {
   "cell_type": "code",
   "execution_count": 556,
   "metadata": {
    "collapsed": true
   },
   "outputs": [],
   "source": [
    "mult = pd.Series([coef**s for coef,s in zip(average_coef['Clinton'], sums)], index=average_coef.index)"
   ]
  },
  {
   "cell_type": "code",
   "execution_count": 559,
   "metadata": {
    "collapsed": false
   },
   "outputs": [
    {
     "data": {
      "text/plain": [
       "to            3.533309e+47\n",
       "america       3.305646e+18\n",
       "believe       2.353011e+16\n",
       "believe we    3.187823e+15\n",
       "that          4.725710e+13\n",
       "what          2.175239e+10\n",
       "believe in    3.871689e+09\n",
       "economy       1.963201e+08\n",
       "we can        6.253398e+07\n",
       "together      9.917740e+06\n",
       "dtype: float64"
      ]
     },
     "execution_count": 559,
     "metadata": {},
     "output_type": "execute_result"
    }
   ],
   "source": [
    "mult.sort_values(ascending=False)[:10]"
   ]
  },
  {
   "cell_type": "code",
   "execution_count": null,
   "metadata": {
    "collapsed": true
   },
   "outputs": [],
   "source": []
  },
  {
   "cell_type": "code",
   "execution_count": 338,
   "metadata": {
    "collapsed": false
   },
   "outputs": [
    {
     "data": {
      "text/plain": [
       "u'and everywhere else because they are gone i will have a chance to discuss on how to put every american on the latter for success for grade education and great jobs.'"
      ]
     },
     "execution_count": 338,
     "metadata": {},
     "output_type": "execute_result"
    }
   ],
   "source": [
    "cv_result.sentence.iloc[10]"
   ]
  },
  {
   "cell_type": "code",
   "execution_count": 263,
   "metadata": {
    "collapsed": false
   },
   "outputs": [
    {
     "data": {
      "text/plain": [
       "Clinton    1.586503\n",
       "Trump      0.630317\n",
       "Name: civil, dtype: float64"
      ]
     },
     "execution_count": 263,
     "metadata": {},
     "output_type": "execute_result"
    }
   ],
   "source": [
    "average_coef.loc['civil']"
   ]
  },
  {
   "cell_type": "code",
   "execution_count": 481,
   "metadata": {
    "collapsed": false
   },
   "outputs": [],
   "source": [
    "sums = inc_vec.sum()"
   ]
  },
  {
   "cell_type": "code",
   "execution_count": 243,
   "metadata": {
    "collapsed": false
   },
   "outputs": [
    {
     "data": {
      "text/plain": [
       "271.44899961544172"
      ]
     },
     "execution_count": 243,
     "metadata": {},
     "output_type": "execute_result"
    }
   ],
   "source": [
    "powers = [coef**sum ]"
   ]
  },
  {
   "cell_type": "code",
   "execution_count": 225,
   "metadata": {
    "collapsed": false
   },
   "outputs": [
    {
     "data": {
      "text/plain": [
       "the        289.443491\n",
       "believe    271.449000\n",
       "and        252.292869\n",
       "we         211.639503\n",
       "that       177.832193\n",
       "to         165.841530\n",
       "in         147.546046\n",
       "it         140.449527\n",
       "of         131.941426\n",
       "they       129.853655\n",
       "dtype: float64"
      ]
     },
     "execution_count": 225,
     "metadata": {},
     "output_type": "execute_result"
    }
   ],
   "source": [
    "sums.sum().sort_values(ascending=False)[0:10]"
   ]
  },
  {
   "cell_type": "code",
   "execution_count": 229,
   "metadata": {
    "collapsed": false
   },
   "outputs": [],
   "source": [
    "t = average_coef.loc['the']['Trump']"
   ]
  },
  {
   "cell_type": "code",
   "execution_count": 241,
   "metadata": {
    "collapsed": false
   },
   "outputs": [
    {
     "data": {
      "text/plain": [
       "Clinton    0.149527\n",
       "Trump      6.687769\n",
       "Name: believe me, dtype: float64"
      ]
     },
     "execution_count": 241,
     "metadata": {},
     "output_type": "execute_result"
    }
   ],
   "source": [
    "average_coef.loc['believe me']"
   ]
  },
  {
   "cell_type": "code",
   "execution_count": 234,
   "metadata": {
    "collapsed": false
   },
   "outputs": [
    {
     "data": {
      "text/plain": [
       "312.59108698112988"
      ]
     },
     "execution_count": 234,
     "metadata": {},
     "output_type": "execute_result"
    }
   ],
   "source": [
    "t**30"
   ]
  },
  {
   "cell_type": "code",
   "execution_count": 178,
   "metadata": {
    "collapsed": false
   },
   "outputs": [],
   "source": [
    "cross = inc_vec.dot(average_coef)"
   ]
  },
  {
   "cell_type": "code",
   "execution_count": 186,
   "metadata": {
    "collapsed": false
   },
   "outputs": [
    {
     "name": "stdout",
     "output_type": "stream",
     "text": [
      "(461, 2400)\n",
      "(2, 2400)\n"
     ]
    }
   ],
   "source": [
    "print inc_vec.shape\n",
    "print average_coef.T.shape"
   ]
  },
  {
   "cell_type": "code",
   "execution_count": 768,
   "metadata": {
    "collapsed": false
   },
   "outputs": [],
   "source": [
    "pronoun_coefs = average_coef.loc[[col for col in average_coef.index if col in pronouns]].sort_values('Trump', ascending=False)\n",
    "# toplot = pronoun_coefs[((pronoun_coefs.Trump >= 1) | (pronoun_coefs.Clinton >=1))].copy()\n",
    "toplot = pronoun_coefs.iloc[0:10].append(pronoun_coefs.iloc[-10:])\n"
   ]
  },
  {
   "cell_type": "code",
   "execution_count": 769,
   "metadata": {
    "collapsed": true
   },
   "outputs": [],
   "source": [
    "\n",
    "def color_map(percent, top, bottom):\n",
    "    if percent >1:\n",
    "        percent = 1\n",
    "    diff = [t-b for t,b in zip(top, bottom)]\n",
    "    \n",
    "    return [(d*percent)+b for d,b in zip(diff, bottom)]\n",
    "    "
   ]
  },
  {
   "cell_type": "code",
   "execution_count": 770,
   "metadata": {
    "collapsed": false
   },
   "outputs": [
    {
     "data": {
      "image/png": "[encoded data removed]",
      "text/plain": [
       "<matplotlib.figure.Figure at 0x18f33e350>"
      ]
     },
     "metadata": {},
     "output_type": "display_data"
    }
   ],
   "source": [
    "\n",
    "f, (ax1) = plt.subplots(1,1, figsize=(12,9))\n",
    "label_size = 12\n",
    "value_size = 9\n",
    "\n",
    "vals = [np.log(x) for x in toplot.sort_values('Trump', ascending=False).Trump]\n",
    "\n",
    "#minimum=abs(min(vals))\n",
    "maximum=max(vals)\n",
    "minimum=maximum\n",
    "blue=[0,.1,.8]\n",
    "red = [.8,.1,0]\n",
    "white = [1,1,1]\n",
    "colors = [color_map(-value/minimum, blue, white) if value < 0 else color_map(value/maximum, red, white) for value in vals]\n",
    "\n",
    "\n",
    "sns.barplot(x=vals,\n",
    "            y=toplot.sort_values('Trump', ascending=False).index, ax=ax1,\n",
    "            palette=colors, \n",
    "#             color=colors,\n",
    "            edgecolor='black')\n",
    "\n",
    "ax1.set_title(\"How Pronouns Multiply the Predicted Odds that\\nClinton or Trump Was the Speaker\\n\", fontsize=28, color=[.25,.25,.25])\n",
    "\n",
    "# ax1.set_yticklabels([x[0].upper()+x[1:] for x in toplot.sort_values('Trump', ascending=False).index.values], fontsize=16)\n",
    "\n",
    "\n",
    "labels = [x[0].upper()+x[1:] for x in toplot.sort_values('Trump', ascending=False).index.values]\n",
    "for i, patch in enumerate(ax1.patches):\n",
    "    width = patch.get_width()\n",
    "    \n",
    "    if patch.get_x() < 0:\n",
    "        # Bars extending on the left\n",
    "        label_x = .05\n",
    "        label_halign = 'left'\n",
    "        if patch.get_width() >= np.log(1.15):     \n",
    "            value_x = patch.get_x()+.04\n",
    "            value_halign = 'left'\n",
    "        else:\n",
    "            value_x = patch.get_x()-.04\n",
    "            value_halign='right'\n",
    "    else:\n",
    "        # Bars extending on the right\n",
    "        label_x = -.05\n",
    "        label_halign = 'right'\n",
    "        if patch.get_width() >= np.log(1.15):\n",
    "            value_x = patch.get_width()-.04\n",
    "            value_halign = 'right'\n",
    "        else:\n",
    "            value_x = patch.get_width() + .04\n",
    "            value_halign = 'left'\n",
    "\n",
    "    value_color = [.1,.1,.1]\n",
    "    if patch.get_width()> np.log(2): value_color = 'white'\n",
    "    ax1.text(label_x, patch.get_y()+.61, '%s'%(labels[i]), color=[.1,.1,.1], ha=label_halign, fontsize=label_size)   \n",
    "    ax1.text(value_x, patch.get_y()+.61, '%1.2f'%(np.e**abs(vals[i])), color=value_color, ha=value_halign, fontsize=label_size)    \n",
    "\n",
    "            \n",
    "ax1.text(-np.log(2.95), 14, 'Clinton', color='b', fontsize=24)\n",
    "ax1.text(np.log(2.95), 5, 'Trump', color='r', fontsize=24, ha='right')\n",
    "\n",
    "ax1.set_yticklabels([])\n",
    "ax1.set_xlabel('')\n",
    "ax1.set_xlim([-np.log(5),np.log(5)])\n",
    "\n",
    "ax1.set_xticks([-np.log(4),-np.log(3),-np.log(2),0,np.log(2),np.log(3), np.log(4)], minor=False)\n",
    "ax1.set_xticklabels([4,3,2,1,2,3,4], minor=False)\n",
    "\n",
    "f.text(.95, .07, 'by\\nJesse Galef', color=[.2,.2,.2], fontsize=12, alpha=.8, ha='right', weight='bold', variant='small-caps')\n",
    "\n",
    "\n",
    "plt.plot()\n",
    "f.tight_layout(rect=[0,0,.95,.95])"
   ]
  },
  {
   "cell_type": "code",
   "execution_count": 771,
   "metadata": {
    "collapsed": false
   },
   "outputs": [
    {
     "name": "stdout",
     "output_type": "stream",
     "text": [
      "each          2.478755\n",
      "either        2.423942\n",
      "each other    2.290494\n",
      "both          2.244548\n",
      "themselves    2.025851\n",
      "someone       2.019864\n",
      "others        1.672497\n",
      "who           1.578782\n",
      "his           1.547923\n",
      "everyone      1.535259\n",
      "we            0.791244\n",
      "you           0.770145\n",
      "our           0.702353\n",
      "they          0.654019\n",
      "him           0.625112\n",
      "Name: Clinton, dtype: float64\n",
      "myself      3.117861\n",
      "nobody      2.721061\n",
      "these       1.910636\n",
      "somebody    1.877970\n",
      "she         1.855257\n",
      "him         1.599714\n",
      "they        1.529007\n",
      "our         1.423785\n",
      "you         1.298457\n",
      "we          1.263833\n",
      "everyone    0.651356\n",
      "his         0.646027\n",
      "who         0.633400\n",
      "others      0.597908\n",
      "someone     0.495083\n",
      "Name: Trump, dtype: float64\n"
     ]
    }
   ],
   "source": [
    "print toplot.sort_values('Trump')['Clinton'][:15]\n",
    "print toplot.sort_values('Clinton')['Trump'][:15]\n"
   ]
  },
  {
   "cell_type": "code",
   "execution_count": 772,
   "metadata": {
    "collapsed": false
   },
   "outputs": [
    {
     "data": {
      "image/png": "[encoded data removed]",
      "text/plain": [
       "<matplotlib.figure.Figure at 0x188155e90>"
      ]
     },
     "metadata": {},
     "output_type": "display_data"
    }
   ],
   "source": [
    "#  seaborn.barplot(x=None, y=None, hue=None, data=None, order=None, hue_order=None, \n",
    "#  estimator=<function mean>, ci=95, n_boot=1000, units=None, orient=None, color=None,\n",
    "#  palette=None, saturation=0.75, errcolor='.26', errwidth=None, capsize=None, ax=None, **kwargs)¶\n",
    "f, ax1 = plt.subplots(1,1, figsize=(15,9))\n",
    "\n",
    "ax1.set_yticks([-1*np.log(x) for x in range(10,1,-1)]+[0]+[np.log(y) for y in range(2,11)])\n",
    "    \n",
    "ax1.set_yticklabels(range(10,1,-1)+['1']+range(2,11))\n",
    "\n",
    "\n",
    "ax1.set_ylabel('')\n",
    "\n",
    "label_font_size = 14\n",
    "value_font_size=11\n",
    "rotate =60\n",
    "n_words = 20\n",
    "\n",
    "color_adjustment = np.log(3)\n",
    "val_series = average_coef.sort_values('Trump', ascending=False)['Trump']\n",
    "vals = val_series[:n_words].append(val_series[-n_words:])\n",
    "vals = np.log(vals)\n",
    "\n",
    "# minimum=abs(min(vals))\n",
    "maximum=max(vals)\n",
    "minimum=maximum\n",
    "blue=[0,.1,.8]\n",
    "red = [.8,.1,0]\n",
    "white = [1,1,1]\n",
    "\n",
    "colors = [color_map(-(value+color_adjustment)/(minimum-color_adjustment), blue, white) if value < 0 else color_map((value-color_adjustment)/(maximum-color_adjustment), red, white) for value in vals]\n",
    "\n",
    "sns.barplot(y=vals,\n",
    "            x=vals.index, ax=ax1,\n",
    "            palette=colors, \n",
    "#             color=colors,\n",
    "            edgecolor='black')\n",
    "\n",
    "ax1.set_xticks([])\n",
    "ax1.set_xlabel('')\n",
    "ax1.set_title(\"Top \"+str(n_words)+\" Words/Phrases that Multiply the Predicted Odds\\nClinton or Trump was the Speaker\\n\", fontsize=28, color=[.25,.25,.25])\n",
    "\n",
    "\n",
    "labels = [x[0].upper()+x[1:] for x in vals.sort_values(ascending=False).index.values]\n",
    "\n",
    "for i, patch in enumerate(ax1.patches):\n",
    "    height = patch.get_height()\n",
    "    if patch.get_y() < 0:\n",
    "#         y = patch.get_y() -.5\n",
    "        if height > np.log(6): \n",
    "            color = 'white'\n",
    "        else:\n",
    "            color = 'black'\n",
    "\n",
    "        ax1.text(patch.get_x()+.1, .1, '%s'%(labels[i]), color=[.1,.1,.1], va='bottom', ha='left', rotation=rotate, fontsize=label_font_size)\n",
    "        ax1.text(patch.get_x()+.15, patch.get_y()+.15, '%1.2f'%(np.e**abs(vals[i])), color=color, rotation=90, va='bottom', fontsize=value_font_size)\n",
    "    else:\n",
    "        if height > np.log(7): \n",
    "            color = 'white'\n",
    "        else:\n",
    "            color = 'black'\n",
    "        ax1.text(patch.get_x()+.7, -.05, '%s'%(labels[i]), color=[.1,.1,.1], ha='right', va='top', rotation=rotate, fontsize=label_font_size)\n",
    "        ax1.text(patch.get_x()+.15, patch.get_y()+height-.3, '%1.2f'%(np.e**abs(vals[i])), color=color, rotation = 90, va='bottom', fontsize=value_font_size)\n",
    "\n",
    "            \n",
    "f.text(.95, .95, 'Jesse Galef', color=[.2,.2,.2], fontsize=16, alpha=.8, ha='right', weight='bold', variant='small-caps')\n",
    "\n",
    "ax1.set_ylim([-np.log(11), np.log(11)])\n",
    "\n",
    "# ax1.yaxis.tick_right()\n",
    "# ax1.yaxis.set_ticks_position('both')\n",
    "\n",
    "for i, ygrid in enumerate(ax1.get_ygridlines()):\n",
    "#     print ygrid.get_ydata(orig=False)[0], np.log(2)\n",
    "#     if abs(ygrid.get_ydata(orig=True)[0]) == np.log(2):\n",
    "    if i==8 or i==10:\n",
    "        ygrid.set_xdata([0,0])\n",
    "\n",
    "plt.grid(which='major', color=[.7,.7,.7], alpha=.7)\n",
    "plt.margins(.3)\n",
    "plt.plot()\n",
    "f.tight_layout(rect=[0,0,.95,.95])\n",
    "\n"
   ]
  },
  {
   "cell_type": "code",
   "execution_count": null,
   "metadata": {
    "collapsed": true
   },
   "outputs": [],
   "source": []
  },
  {
   "cell_type": "code",
   "execution_count": null,
   "metadata": {
    "collapsed": true
   },
   "outputs": [],
   "source": []
  },
  {
   "cell_type": "code",
   "execution_count": null,
   "metadata": {
    "collapsed": true
   },
   "outputs": [],
   "source": []
  },
  {
   "cell_type": "code",
   "execution_count": 138,
   "metadata": {
    "collapsed": true
   },
   "outputs": [],
   "source": [
    "def convert(x):\n",
    "    if x>1:\n",
    "        return \"Trump: %1.1f\"%(x)\n",
    "    else:\n",
    "        return \"Clinton: %1.1f\"%(1/x)"
   ]
  },
  {
   "cell_type": "code",
   "execution_count": 139,
   "metadata": {
    "collapsed": false
   },
   "outputs": [],
   "source": [
    "terms['multiplier'] = terms.Trump.apply(convert)"
   ]
  },
  {
   "cell_type": "code",
   "execution_count": 146,
   "metadata": {
    "collapsed": true
   },
   "outputs": [],
   "source": [
    "def color2(x):\n",
    "    blue=[0,.1,.8]\n",
    "    red = [.8,.1,0]\n",
    "    white = [1,1,1]\n",
    "    if x <1:\n",
    "        dec = color_map((1/x)/10, blue, white)\n",
    "    else:\n",
    "        dec = color_map((x+5)/15, red, white)\n",
    "#     print dec\n",
    "    return '#%02x%02x%02x' %(dec[0]*256,dec[1]*256,dec[2]*256)"
   ]
  },
  {
   "cell_type": "code",
   "execution_count": 147,
   "metadata": {
    "collapsed": false
   },
   "outputs": [],
   "source": [
    "terms['color'] = terms.Trump.apply(color2)"
   ]
  },
  {
   "cell_type": "code",
   "execution_count": 148,
   "metadata": {
    "collapsed": false
   },
   "outputs": [
    {
     "data": {
      "text/plain": [
       "\"<tr><td> term </td><td><span style='fontcolor: color'> multiplier </span></td></tr>\""
      ]
     },
     "execution_count": 148,
     "metadata": {},
     "output_type": "execute_result"
    }
   ],
   "source": [
    "\"<tr><td> term </td><td><span style='fontcolor: color'> multiplier </span></td></tr>\""
   ]
  },
  {
   "cell_type": "code",
   "execution_count": 214,
   "metadata": {
    "collapsed": false
   },
   "outputs": [
    {
     "name": "stdout",
     "output_type": "stream",
     "text": [
      "<table>\n",
      "<th></th><th>Top 20 Trump Words</th><th>Multiplier</th><th>Top 20 Clinton Words</th><th>Multiplier</th>\n",
      "<tr>\n",
      "<td><strong>1: </strong></td>\n",
      "<td>tremendous</td><td><strong style='color:#d02a12'>Trump: 8.9</strong></td>\n",
      "<td>attention</td><td><strong style='color:#061fce'>Clinton: 9.8</strong></td>\n",
      "</tr>\n",
      "<tr>\n",
      "<td><strong>2: </strong></td>\n",
      "<td>guy</td><td><strong style='color:#d53e29'>Trump: 7.6</strong></td>\n",
      "<td>investment</td><td><strong style='color:#2f44d6'>Clinton: 8.1</strong></td>\n",
      "</tr>\n",
      "<tr>\n",
      "<td><strong>3: </strong></td>\n",
      "<td>allowed</td><td><strong style='color:#d5402b'>Trump: 7.5</strong></td>\n",
      "<td>opportunities</td><td><strong style='color:#3448d7'>Clinton: 7.9</strong></td>\n",
      "</tr>\n",
      "<tr>\n",
      "<td><strong>4: </strong></td>\n",
      "<td>totally</td><td><strong style='color:#d64632'>Trump: 7.1</strong></td>\n",
      "<td>my husband</td><td><strong style='color:#3e52d9'>Clinton: 7.5</strong></td>\n",
      "</tr>\n",
      "<tr>\n",
      "<td><strong>5: </strong></td>\n",
      "<td>believe me</td><td><strong style='color:#d74b37'>Trump: 6.7</strong></td>\n",
      "<td>advanced</td><td><strong style='color:#5d6ddf'>Clinton: 6.3</strong></td>\n",
      "</tr>\n",
      "<tr>\n",
      "<td><strong>6: </strong></td>\n",
      "<td>radical islam</td><td><strong style='color:#d8503c'>Trump: 6.4</strong></td>\n",
      "<td>learning</td><td><strong style='color:#6070e0'>Clinton: 6.2</strong></td>\n",
      "</tr>\n",
      "<tr>\n",
      "<td><strong>7: </strong></td>\n",
      "<td>islamic</td><td><strong style='color:#d9523f'>Trump: 6.3</strong></td>\n",
      "<td>recession</td><td><strong style='color:#6675e1'>Clinton: 6.0</strong></td>\n",
      "</tr>\n",
      "<tr>\n",
      "<td><strong>8: </strong></td>\n",
      "<td>frankly</td><td><strong style='color:#d95440'>Trump: 6.2</strong></td>\n",
      "<td>wage</td><td><strong style='color:#6877e1'>Clinton: 5.9</strong></td>\n",
      "</tr>\n",
      "<tr>\n",
      "<td><strong>9: </strong></td>\n",
      "<td>politician</td><td><strong style='color:#da5845'>Trump: 5.9</strong></td>\n",
      "<td>scientist</td><td><strong style='color:#6c7be2'>Clinton: 5.7</strong></td>\n",
      "</tr>\n",
      "<tr>\n",
      "<td><strong>10: </strong></td>\n",
      "<td>christian</td><td><strong style='color:#da5845'>Trump: 5.9</strong></td>\n",
      "<td>mother</td><td><strong style='color:#6d7ce2'>Clinton: 5.7</strong></td>\n",
      "</tr>\n",
      "<tr>\n",
      "<td><strong>11: </strong></td>\n",
      "<td>poll</td><td><strong style='color:#db5947'>Trump: 5.8</strong></td>\n",
      "<td>arkansas</td><td><strong style='color:#6f7ee3'>Clinton: 5.6</strong></td>\n",
      "</tr>\n",
      "<tr>\n",
      "<td><strong>12: </strong></td>\n",
      "<td>japan</td><td><strong style='color:#db5b49'>Trump: 5.7</strong></td>\n",
      "<td>granddaughter</td><td><strong style='color:#707ee3'>Clinton: 5.6</strong></td>\n",
      "</tr>\n",
      "<tr>\n",
      "<td><strong>13: </strong></td>\n",
      "<td>massive</td><td><strong style='color:#db5c49'>Trump: 5.7</strong></td>\n",
      "<td>deeply</td><td><strong style='color:#7180e3'>Clinton: 5.6</strong></td>\n",
      "</tr>\n",
      "<tr>\n",
      "<td><strong>14: </strong></td>\n",
      "<td>ivanka</td><td><strong style='color:#db5d4a'>Trump: 5.6</strong></td>\n",
      "<td>is not only</td><td><strong style='color:#7280e3'>Clinton: 5.5</strong></td>\n",
      "</tr>\n",
      "<tr>\n",
      "<td><strong>15: </strong></td>\n",
      "<td>guys</td><td><strong style='color:#dc5e4c'>Trump: 5.5</strong></td>\n",
      "<td>climate</td><td><strong style='color:#7281e3'>Clinton: 5.5</strong></td>\n",
      "</tr>\n",
      "<tr>\n",
      "<td><strong>16: </strong></td>\n",
      "<td>conservative</td><td><strong style='color:#dc5f4e'>Trump: 5.4</strong></td>\n",
      "<td>com</td><td><strong style='color:#7987e5'>Clinton: 5.2</strong></td>\n",
      "</tr>\n",
      "<tr>\n",
      "<td><strong>17: </strong></td>\n",
      "<td>badly</td><td><strong style='color:#dc604e'>Trump: 5.4</strong></td>\n",
      "<td>black</td><td><strong style='color:#7987e5'>Clinton: 5.2</strong></td>\n",
      "</tr>\n",
      "<tr>\n",
      "<td><strong>18: </strong></td>\n",
      "<td>incredible</td><td><strong style='color:#dc6250'>Trump: 5.3</strong></td>\n",
      "<td>challenge</td><td><strong style='color:#7a87e5'>Clinton: 5.2</strong></td>\n",
      "</tr>\n",
      "<tr>\n",
      "<td><strong>19: </strong></td>\n",
      "<td>hillary</td><td><strong style='color:#dd6352'>Trump: 5.2</strong></td>\n",
      "<td>college</td><td><strong style='color:#7a88e5'>Clinton: 5.2</strong></td>\n",
      "</tr>\n",
      "<tr>\n",
      "<td><strong>20: </strong></td>\n",
      "<td>highly</td><td><strong style='color:#dd6655'>Trump: 5.0</strong></td>\n",
      "<td>citizens united</td><td><strong style='color:#7a88e5'>Clinton: 5.2</strong></td>\n",
      "</tr>\n",
      "</table>\n"
     ]
    }
   ],
   "source": [
    "print \"<table>\"\n",
    "print \"<th></th><th>Top 20 Trump Words</th><th>Multiplier</th><th>Top 20 Clinton Words</th><th>Multiplier</th>\"\n",
    "for i in range(20):\n",
    "    print \"<tr>\"\n",
    "    print \"<td><strong>\"+str(i+1)+\": </strong></td>\"\n",
    "    print \"<td>\"+terms.index[i]+\"</td><td><strong style='color:\"+str(terms.iloc[i].color)+\"'>\"+str(terms.iloc[i].multiplier)+\"</strong></td>\"\n",
    "    print \"<td>\"+terms.index[-(i+1)]+\"</td><td><strong style='color:\"+str(terms.iloc[-(i+1)].color)+\"'>\"+str(terms.iloc[-(i+1)].multiplier)+\"</strong></td>\"\n",
    "    print \"</tr>\"\n",
    "print \"</table>\""
   ]
  },
  {
   "cell_type": "code",
   "execution_count": 475,
   "metadata": {
    "collapsed": false
   },
   "outputs": [],
   "source": [
    "joined_text = {}\n",
    "for candidate in which_candidates:\n",
    "    joined_text[candidate] = ' '.join(cv_result[cv_result.speaker==candidate].sentence)\n"
   ]
  },
  {
   "cell_type": "code",
   "execution_count": 478,
   "metadata": {
    "collapsed": false
   },
   "outputs": [
    {
     "name": "stdout",
     "output_type": "stream",
     "text": [
      "believe Clinton   289 Trump   205\n",
      "Clinton    1.536200\n",
      "Trump      0.650957\n",
      "Name: believe, dtype: float64\n",
      "\n",
      "believe me Clinton   1 Trump   52\n",
      "Clinton    0.149527\n",
      "Trump      6.687769\n",
      "Name: believe me, dtype: float64\n",
      "\n",
      "huge Clinton   16 Trump   12\n"
     ]
    },
    {
     "ename": "KeyError",
     "evalue": "'the label [huge] is not in the [index]'",
     "output_type": "error",
     "traceback": [
      "\u001b[0;31m---------------------------------------------------------------------------\u001b[0m",
      "\u001b[0;31mKeyError\u001b[0m                                  Traceback (most recent call last)",
      "\u001b[0;32m<ipython-input-478-8a9bd95436d4>\u001b[0m in \u001b[0;36m<module>\u001b[0;34m()\u001b[0m\n\u001b[1;32m      4\u001b[0m         \u001b[0;32mprint\u001b[0m \u001b[0mcandidate\u001b[0m\u001b[0;34m,\u001b[0m\u001b[0;34m\" \"\u001b[0m\u001b[0;34m,\u001b[0m \u001b[0mjoined_text\u001b[0m\u001b[0;34m[\u001b[0m\u001b[0mcandidate\u001b[0m\u001b[0;34m]\u001b[0m\u001b[0;34m.\u001b[0m\u001b[0mcount\u001b[0m\u001b[0;34m(\u001b[0m\u001b[0mterm\u001b[0m\u001b[0;34m)\u001b[0m\u001b[0;34m,\u001b[0m\u001b[0;34m\u001b[0m\u001b[0m\n\u001b[1;32m      5\u001b[0m     \u001b[0;32mprint\u001b[0m\u001b[0;34m\u001b[0m\u001b[0m\n\u001b[0;32m----> 6\u001b[0;31m     \u001b[0;32mprint\u001b[0m \u001b[0maverage_coef\u001b[0m\u001b[0;34m.\u001b[0m\u001b[0mloc\u001b[0m\u001b[0;34m[\u001b[0m\u001b[0mterm\u001b[0m\u001b[0;34m]\u001b[0m\u001b[0;34m\u001b[0m\u001b[0m\n\u001b[0m\u001b[1;32m      7\u001b[0m     \u001b[0;32mprint\u001b[0m\u001b[0;34m\u001b[0m\u001b[0m\n",
      "\u001b[0;32m/Users/jessegalef/anaconda/lib/python2.7/site-packages/pandas/core/indexing.pyc\u001b[0m in \u001b[0;36m__getitem__\u001b[0;34m(self, key)\u001b[0m\n\u001b[1;32m   1284\u001b[0m             \u001b[0;32mreturn\u001b[0m \u001b[0mself\u001b[0m\u001b[0;34m.\u001b[0m\u001b[0m_getitem_tuple\u001b[0m\u001b[0;34m(\u001b[0m\u001b[0mkey\u001b[0m\u001b[0;34m)\u001b[0m\u001b[0;34m\u001b[0m\u001b[0m\n\u001b[1;32m   1285\u001b[0m         \u001b[0;32melse\u001b[0m\u001b[0;34m:\u001b[0m\u001b[0;34m\u001b[0m\u001b[0m\n\u001b[0;32m-> 1286\u001b[0;31m             \u001b[0;32mreturn\u001b[0m \u001b[0mself\u001b[0m\u001b[0;34m.\u001b[0m\u001b[0m_getitem_axis\u001b[0m\u001b[0;34m(\u001b[0m\u001b[0mkey\u001b[0m\u001b[0;34m,\u001b[0m \u001b[0maxis\u001b[0m\u001b[0;34m=\u001b[0m\u001b[0;36m0\u001b[0m\u001b[0;34m)\u001b[0m\u001b[0;34m\u001b[0m\u001b[0m\n\u001b[0m\u001b[1;32m   1287\u001b[0m \u001b[0;34m\u001b[0m\u001b[0m\n\u001b[1;32m   1288\u001b[0m     \u001b[0;32mdef\u001b[0m \u001b[0m_getitem_axis\u001b[0m\u001b[0;34m(\u001b[0m\u001b[0mself\u001b[0m\u001b[0;34m,\u001b[0m \u001b[0mkey\u001b[0m\u001b[0;34m,\u001b[0m \u001b[0maxis\u001b[0m\u001b[0;34m=\u001b[0m\u001b[0;36m0\u001b[0m\u001b[0;34m)\u001b[0m\u001b[0;34m:\u001b[0m\u001b[0;34m\u001b[0m\u001b[0m\n",
      "\u001b[0;32m/Users/jessegalef/anaconda/lib/python2.7/site-packages/pandas/core/indexing.pyc\u001b[0m in \u001b[0;36m_getitem_axis\u001b[0;34m(self, key, axis)\u001b[0m\n\u001b[1;32m   1427\u001b[0m \u001b[0;34m\u001b[0m\u001b[0m\n\u001b[1;32m   1428\u001b[0m         \u001b[0;31m# fall thru to straight lookup\u001b[0m\u001b[0;34m\u001b[0m\u001b[0;34m\u001b[0m\u001b[0m\n\u001b[0;32m-> 1429\u001b[0;31m         \u001b[0mself\u001b[0m\u001b[0;34m.\u001b[0m\u001b[0m_has_valid_type\u001b[0m\u001b[0;34m(\u001b[0m\u001b[0mkey\u001b[0m\u001b[0;34m,\u001b[0m \u001b[0maxis\u001b[0m\u001b[0;34m)\u001b[0m\u001b[0;34m\u001b[0m\u001b[0m\n\u001b[0m\u001b[1;32m   1430\u001b[0m         \u001b[0;32mreturn\u001b[0m \u001b[0mself\u001b[0m\u001b[0;34m.\u001b[0m\u001b[0m_get_label\u001b[0m\u001b[0;34m(\u001b[0m\u001b[0mkey\u001b[0m\u001b[0;34m,\u001b[0m \u001b[0maxis\u001b[0m\u001b[0;34m=\u001b[0m\u001b[0maxis\u001b[0m\u001b[0;34m)\u001b[0m\u001b[0;34m\u001b[0m\u001b[0m\n\u001b[1;32m   1431\u001b[0m \u001b[0;34m\u001b[0m\u001b[0m\n",
      "\u001b[0;32m/Users/jessegalef/anaconda/lib/python2.7/site-packages/pandas/core/indexing.pyc\u001b[0m in \u001b[0;36m_has_valid_type\u001b[0;34m(self, key, axis)\u001b[0m\n\u001b[1;32m   1389\u001b[0m                 \u001b[0;32mraise\u001b[0m\u001b[0;34m\u001b[0m\u001b[0m\n\u001b[1;32m   1390\u001b[0m             \u001b[0;32mexcept\u001b[0m\u001b[0;34m:\u001b[0m\u001b[0;34m\u001b[0m\u001b[0m\n\u001b[0;32m-> 1391\u001b[0;31m                 \u001b[0merror\u001b[0m\u001b[0;34m(\u001b[0m\u001b[0;34m)\u001b[0m\u001b[0;34m\u001b[0m\u001b[0m\n\u001b[0m\u001b[1;32m   1392\u001b[0m \u001b[0;34m\u001b[0m\u001b[0m\n\u001b[1;32m   1393\u001b[0m         \u001b[0;32mreturn\u001b[0m \u001b[0mTrue\u001b[0m\u001b[0;34m\u001b[0m\u001b[0m\n",
      "\u001b[0;32m/Users/jessegalef/anaconda/lib/python2.7/site-packages/pandas/core/indexing.pyc\u001b[0m in \u001b[0;36merror\u001b[0;34m()\u001b[0m\n\u001b[1;32m   1376\u001b[0m                                     \"key\")\n\u001b[1;32m   1377\u001b[0m                 raise KeyError(\"the label [%s] is not in the [%s]\" %\n\u001b[0;32m-> 1378\u001b[0;31m                                (key, self.obj._get_axis_name(axis)))\n\u001b[0m\u001b[1;32m   1379\u001b[0m \u001b[0;34m\u001b[0m\u001b[0m\n\u001b[1;32m   1380\u001b[0m             \u001b[0;32mtry\u001b[0m\u001b[0;34m:\u001b[0m\u001b[0;34m\u001b[0m\u001b[0m\n",
      "\u001b[0;31mKeyError\u001b[0m: 'the label [huge] is not in the [index]'"
     ]
    }
   ],
   "source": [
    "for term in ['believe', 'believe me', 'huge']:\n",
    "    print term,\n",
    "    for candidate in which_candidates:\n",
    "        print candidate,\" \", joined_text[candidate].count(term),\n",
    "    print\n",
    "    print average_coef.loc[term]\n",
    "    print"
   ]
  },
  {
   "cell_type": "code",
   "execution_count": 474,
   "metadata": {
    "collapsed": false
   },
   "outputs": [
    {
     "data": {
      "text/plain": [
       "52"
      ]
     },
     "execution_count": 474,
     "metadata": {},
     "output_type": "execute_result"
    }
   ],
   "source": [
    "' '.join(cv_result[cv_result.speaker=='Trump'].sentence).count('believe me')\n"
   ]
  },
  {
   "cell_type": "code",
   "execution_count": 151,
   "metadata": {
    "collapsed": false
   },
   "outputs": [
    {
     "name": "stdout",
     "output_type": "stream",
     "text": [
      "CPU times: user 63.4 ms, sys: 62.1 ms, total: 125 ms\n",
      "Wall time: 272 ms\n"
     ]
    }
   ],
   "source": [
    "%%time\n",
    "average_coef.to_csv('average_coef.csv', encoding='utf-8')"
   ]
  },
  {
   "cell_type": "code",
   "execution_count": 152,
   "metadata": {
    "collapsed": true
   },
   "outputs": [],
   "source": [
    "cv_result.to_csv('cv_result.csv')"
   ]
  },
  {
   "cell_type": "code",
   "execution_count": null,
   "metadata": {
    "collapsed": true
   },
   "outputs": [],
   "source": []
  }
 ],
 "metadata": {
  "celltoolbar": "Raw Cell Format",
  "kernelspec": {
   "display_name": "Python 2",
   "language": "python",
   "name": "python2"
  },
  "language_info": {
   "codemirror_mode": {
    "name": "ipython",
    "version": 2
   },
   "file_extension": ".py",
   "mimetype": "text/x-python",
   "name": "python",
   "nbconvert_exporter": "python",
   "pygments_lexer": "ipython2",
   "version": "2.7.11"
  }
 },
 "nbformat": 4,
 "nbformat_minor": 0
}
