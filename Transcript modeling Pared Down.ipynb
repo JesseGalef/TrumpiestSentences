{
 "cells": [
  {
   "cell_type": "code",
   "execution_count": 1,
   "metadata": {
    "collapsed": true
   },
   "outputs": [],
   "source": [
    "# Jesse Galef\n",
    "# Using data scraped from C-SPAN's uncorrected closed caption transcripts\n"
   ]
  },
  {
   "cell_type": "code",
   "execution_count": 2,
   "metadata": {
    "collapsed": true
   },
   "outputs": [],
   "source": [
    "import pandas as pd\n",
    "import numpy as np"
   ]
  },
  {
   "cell_type": "code",
   "execution_count": 3,
   "metadata": {
    "collapsed": true
   },
   "outputs": [],
   "source": [
    "import re"
   ]
  },
  {
   "cell_type": "code",
   "execution_count": 4,
   "metadata": {
    "collapsed": true
   },
   "outputs": [],
   "source": [
    "from bs4 import BeautifulSoup\n",
    "import urllib"
   ]
  },
  {
   "cell_type": "code",
   "execution_count": 17,
   "metadata": {
    "collapsed": true
   },
   "outputs": [],
   "source": [
    "from scipy.sparse import csr_matrix, hstack, diags\n",
    "from scipy.stats import skew, kurtosis"
   ]
  },
  {
   "cell_type": "code",
   "execution_count": 6,
   "metadata": {
    "collapsed": false
   },
   "outputs": [],
   "source": [
    "from sklearn.feature_extraction.text import CountVectorizer\n",
    "from sklearn.linear_model import LogisticRegression\n",
    "from sklearn.metrics import roc_curve, roc_auc_score\n",
    "from sklearn.grid_search import GridSearchCV \n",
    "from sklearn.cross_validation import StratifiedKFold\n",
    "\n",
    "from sklearn.pipeline import Pipeline, FeatureUnion\n",
    "from sklearn.base import TransformerMixin, BaseEstimator\n",
    "from sklearn.feature_selection import SelectPercentile, SelectKBest, chi2, f_classif\n"
   ]
  },
  {
   "cell_type": "code",
   "execution_count": 7,
   "metadata": {
    "collapsed": false
   },
   "outputs": [],
   "source": [
    "import matplotlib.pyplot as plt\n",
    "import seaborn as sns\n",
    "%matplotlib inline\n",
    "plt.style.use('fivethirtyeight')"
   ]
  },
  {
   "cell_type": "code",
   "execution_count": 8,
   "metadata": {
    "collapsed": false
   },
   "outputs": [],
   "source": [
    "# from spacy.en import English\n",
    "# from spacy import attrs\n",
    "# nlp_toolkit = English()\n",
    "# # This does word POS much much faster than nltk's pos_tagger"
   ]
  },
  {
   "cell_type": "code",
   "execution_count": 9,
   "metadata": {
    "collapsed": true
   },
   "outputs": [],
   "source": [
    "from nltk.tokenize import sent_tokenize, word_tokenize\n",
    "# NLTK's sent_tokenize looks more accurate than Spacy's, and I only need to run it once\n",
    "from nltk.corpus import stopwords\n",
    "stops = list(stopwords.words('english'))"
   ]
  },
  {
   "cell_type": "code",
   "execution_count": 10,
   "metadata": {
    "collapsed": false
   },
   "outputs": [],
   "source": [
    "from textblob import TextBlob\n",
    "# "
   ]
  },
  {
   "cell_type": "markdown",
   "metadata": {},
   "source": [
    "# Common Words Lists"
   ]
  },
  {
   "cell_type": "code",
   "execution_count": 11,
   "metadata": {
    "collapsed": false
   },
   "outputs": [],
   "source": [
    "conjunctions = [u'and',u'that',u'but',u'or',u'as',u'if',u'when',u'than',u'because',\n",
    "                u'while',u'where',u'after',u'so',u'though',u'since',u'until',u'whether',\n",
    "                u'before',u'although',u'nor',u'like',u'once',u'unless',u'now',u'except']"
   ]
  },
  {
   "cell_type": "code",
   "execution_count": 12,
   "metadata": {
    "collapsed": true
   },
   "outputs": [],
   "source": [
    "pronouns = [u\"all\", u\"another\", u\"any\", u\"anybody\", u\"anyone\", u\"anything\", u\"both\", u\"each\", u\"each other\",\n",
    "            u\"either\", u\"everybody\", u\"everyone\", u\"everything\", u\"few\", u\"he\", u\"her\", u\"hers\",\n",
    "            u\"herself\", u\"him\", u\"himself\", u\"his\", u\"i\", u\"it\", u\"its\", u\"itself\", u\"little\",\n",
    "            u\"many\", u\"me\", u\"mine\", u\"more\", u\"most\", u\"much\", u\"my\", u\"myself\", u\"neither\", \n",
    "            u\"no one\", u\"nobody\", u\"none\", u\"nothing\", u\"one\", u\"one another\", u\"other\", u\"others\",\n",
    "            u\"our\", u\"ours\", u\"ourselves\", u\"several\", u\"she\", u\"some\", u\"somebody\", u\"someone\",\n",
    "            u\"something\", u\"that\", u\"their\", u\"theirs\", u\"them\", u\"themselves\", u\"these\", u\"they\",\n",
    "            u\"this\", u\"those\", u\"us\", u\"we\", u\"what\", u\"whatever\", u\"which\", u\"whichever\", u\"who\",\n",
    "            u\"whoever\", u\"whom\", u\"whomever\", u\"whose\", u\"you\", u\"your\", u\"yours\", u\"yourself\", u\"yourselves\"]"
   ]
  },
  {
   "cell_type": "markdown",
   "metadata": {},
   "source": [
    "# Transformer classes and Functions"
   ]
  },
  {
   "cell_type": "code",
   "execution_count": 370,
   "metadata": {
    "collapsed": true
   },
   "outputs": [],
   "source": [
    "\n",
    "def pipeline_features(step):\n",
    "    # Passed a pipeline or pipeline step, recursively checks each named \n",
    "    # step and builds a list of features.\n",
    "    # This returns the list in the same order that the estimator uses\n",
    "    # In retrospect, this is only useful when the pipeline is feature union, and \n",
    "    # took extra work to handle any true pipelines with one component feeding into another\n",
    "    \n",
    "    features = []\n",
    "    if type(step)==Pipeline:\n",
    "        for named_step in step.named_steps:\n",
    "            features = features + pipeline_features(step.named_steps[named_step])\n",
    "    elif type(step) == FeatureUnion:\n",
    "        for transformer in step.transformer_list:\n",
    "            features = features + pipeline_features(transformer[1])\n",
    "    elif (type(step) == LogisticRegression or (type(step) == MultinomialNB)):\n",
    "        features = []\n",
    "    else:\n",
    "        features = step.get_feature_names()\n",
    "    return features\n"
   ]
  },
  {
   "cell_type": "code",
   "execution_count": 15,
   "metadata": {
    "collapsed": true
   },
   "outputs": [],
   "source": [
    "def pipeline_coef_df(pipeline):\n",
    "    # Passed a pipeline with estimator, creates a DataFrame of the coeficients for each class\n",
    "    \n",
    "    feature_list = pipeline_features(pipeline)\n",
    "    if len(pipeline.named_steps['classifier'].classes_) == 2:\n",
    "        coef_df = pd.DataFrame(pipeline.named_steps['classifier'].coef_, \n",
    "                           index = [pipeline.named_steps['classifier'].classes_[1]],\n",
    "                           columns=feature_list).transpose()\n",
    "        coef_df[pipeline.named_steps['classifier'].classes_[0]] = -coef_df[pipeline.named_steps['classifier'].classes_[1]]\n",
    "    else:\n",
    "        coef_df = pd.DataFrame(pipeline.named_steps['classifier'].coef_, \n",
    "                           index = pipeline.named_steps['classifier'].classes_, \n",
    "                           columns=feature_list).transpose()\n",
    "    return np.e**(coef_df) # To get the odds ratios rather than the log odds\n"
   ]
  },
  {
   "cell_type": "code",
   "execution_count": 297,
   "metadata": {
    "collapsed": true
   },
   "outputs": [],
   "source": [
    "class word_length(TransformerMixin, BaseEstimator):\n",
    "    # very quick calculation of the number ad distribution of words of different lengths\n",
    "    \n",
    "    def __init__(self):\n",
    "#         self.min_length = min_length\n",
    "#         self.max_length = max_length\n",
    "#         self.bin_width = bin_width\n",
    "        pass\n",
    "\n",
    "    def fit(self, X, y=None, **fit_params):\n",
    "        return self\n",
    "    \n",
    "    def transform(self, X, **transform_params):\n",
    "        info = []\n",
    "        for sentence in X:\n",
    "            row = {}\n",
    "            tokens = [len(t) for t in re.findall(\"\\\\b[\\\\w']+\\\\b\", sentence)]\n",
    "            row['avg_word_length'] = sum(tokens)/float(len(tokens))\n",
    "#             row['word_length_skew'] = skew(tokens)\n",
    "#             row['word_length_kurtosis'] = kurtosis(tokens)\n",
    "            row['num_words'] = len(tokens)\n",
    "            row['num_words_sqrt'] = len(tokens)**.5\n",
    "            info.append(row)\n",
    "        return pd.DataFrame(info)\n",
    "    \n",
    "    def get_feature_names(self):\n",
    "        return ['avg_word_length', 'num_words', 'num_words_sqrt']\n",
    "    "
   ]
  },
  {
   "cell_type": "code",
   "execution_count": 59,
   "metadata": {
    "collapsed": false
   },
   "outputs": [],
   "source": [
    "class best_vectorizer(TransformerMixin, BaseEstimator):\n",
    "    # Transformer that takes a vectorizer and sklearn selector (like SelectKBest or SelectPercentile)\n",
    "    # to find the n best features\n",
    "    \n",
    "    def __init__(self, vectorizer, selector, name):\n",
    "        self.vectorizer=vectorizer\n",
    "        self.selector=selector\n",
    "        self.name = name\n",
    "    \n",
    "    def fit(self, X, y, **fit_params):\n",
    "        vectors = self.vectorizer.fit_transform(X)\n",
    "        self.selector.fit(vectors, y)\n",
    "        return self\n",
    "\n",
    "    def transform(self, X, **transform_params):\n",
    "        return self.selector.transform(self.vectorizer.transform(X))\n",
    "    \n",
    "    def get_feature_names(self):\n",
    "        return [self.name+feature for feature, used in zip(self.vectorizer.get_feature_names(), self.selector.get_support()) if used==True]\n",
    "    \n",
    "    "
   ]
  },
  {
   "cell_type": "code",
   "execution_count": 18,
   "metadata": {
    "collapsed": true
   },
   "outputs": [],
   "source": [
    "\n",
    "\n",
    "class sentiments(TransformerMixin, BaseEstimator):\n",
    "    # Uses the Textblob library to evaluate the sentiment polarity & subjectivity of each sentence,\n",
    "    # and returns the result of the passed vectorizer fit/transform multipied by polarity and subjectivity\n",
    "    # For example, if a sentence is -.8 polarity and uses the term 'Obama', it will return \n",
    "    # -.8 as the value of polarity_obama\n",
    "    \n",
    "    # Returns csr sparse matrix\n",
    "    \n",
    "    def __init__(self, vectorizer):\n",
    "        self.vectorizer = vectorizer\n",
    "    \n",
    "    def fit(self, X, y=None):\n",
    "        self.vectorizer.fit(X)\n",
    "        return self\n",
    "    \n",
    "    def transform(self, X):\n",
    "        sent_vectors = self.vectorizer.transform(X)\n",
    "        polarities = []\n",
    "        subjectivities = []\n",
    "        for sentence in X:\n",
    "            polarity, subjectivity = TextBlob(sentence).sentiment\n",
    "            polarities.append(polarity)\n",
    "            subjectivities.append(subjectivity)\n",
    "            \n",
    "        p_diag = diags(polarities,0)\n",
    "        s_diag = diags(subjectivities,0)\n",
    "        polarity_vectors = p_diag.dot(sent_vectors)\n",
    "        subjectivity_vectors = s_diag.dot(sent_vectors)\n",
    "        return hstack([polarity_vectors,subjectivity_vectors])\n",
    "    \n",
    "    def get_feature_names(self):\n",
    "        return ['polarity_'+i for i in self.vectorizer.get_feature_names()]+['subjectivity_'+i for i in self.vectorizer.get_feature_names()]\n"
   ]
  },
  {
   "cell_type": "markdown",
   "metadata": {},
   "source": [
    "# Start reading data"
   ]
  },
  {
   "cell_type": "code",
   "execution_count": 19,
   "metadata": {
    "collapsed": false
   },
   "outputs": [],
   "source": [
    "republicans = ['Trump']#,'Cruz','Kasich','Rubio','Bush']\n",
    "democrats = ['Clinton']#,'Sanders']\n",
    "# Most of the infrastructure is here to include more than two candidates\n",
    "\n",
    "long_df = pd.DataFrame()\n",
    "for candidate in republicans+democrats:\n",
    "    long_df = long_df.append(pd.read_csv(candidate+\"_transcript_df.csv\",index_col=0),ignore_index=True)"
   ]
  },
  {
   "cell_type": "code",
   "execution_count": 20,
   "metadata": {
    "collapsed": false
   },
   "outputs": [
    {
     "data": {
      "text/plain": [
       "(186, 6)"
      ]
     },
     "execution_count": 20,
     "metadata": {},
     "output_type": "execute_result"
    }
   ],
   "source": [
    "long_df.shape"
   ]
  },
  {
   "cell_type": "code",
   "execution_count": 21,
   "metadata": {
    "collapsed": false
   },
   "outputs": [
    {
     "data": {
      "text/plain": [
       "Trump      97\n",
       "Clinton    89\n",
       "Name: speaker, dtype: int64"
      ]
     },
     "execution_count": 21,
     "metadata": {},
     "output_type": "execute_result"
    }
   ],
   "source": [
    "long_df.speaker.value_counts()"
   ]
  },
  {
   "cell_type": "code",
   "execution_count": 22,
   "metadata": {
    "collapsed": true
   },
   "outputs": [],
   "source": [
    "regex_token_pattern = \"\\\\b[\\\\w\\']+\\\\b\""
   ]
  },
  {
   "cell_type": "code",
   "execution_count": 23,
   "metadata": {
    "collapsed": false
   },
   "outputs": [
    {
     "name": "stdout",
     "output_type": "stream",
     "text": [
      "CPU times: user 9.46 s, sys: 331 ms, total: 9.79 s\n",
      "Wall time: 9.86 s\n"
     ]
    }
   ],
   "source": [
    "%%time\n",
    "sentence_list = []\n",
    "for idx, speech in long_df.iterrows():\n",
    "    raw = unicode(speech.text,errors='ignore').lower().replace('  ',' ').replace('>','').replace('w3','').replace(' v ','')\n",
    "    #Fixing a few known glitches in the C-SPAN transcribing service\n",
    "    sentences = sent_tokenize(raw)\n",
    "    for sentence in sentences:\n",
    "        sent_info = {}\n",
    "        sent_info['sentence'] = sentence\n",
    "        sent_info['speaker'] = speech.speaker\n",
    "        sent_info['date'] = speech.date\n",
    "        sent_info['title'] = speech.title\n",
    "        sent_info['speech_idx'] = idx\n",
    "        sent_info['tokens'] = len(re.findall(regex_token_pattern, sentence))\n",
    "        sentence_list.append(sent_info)\n",
    "raw_df = pd.DataFrame(sentence_list)"
   ]
  },
  {
   "cell_type": "code",
   "execution_count": 24,
   "metadata": {
    "collapsed": false
   },
   "outputs": [
    {
     "data": {
      "text/plain": [
       "Trump      41131\n",
       "Clinton    17649\n",
       "Name: speaker, dtype: int64"
      ]
     },
     "execution_count": 24,
     "metadata": {},
     "output_type": "execute_result"
    }
   ],
   "source": [
    "raw_df.speaker.value_counts()"
   ]
  },
  {
   "cell_type": "code",
   "execution_count": 44,
   "metadata": {
    "collapsed": false
   },
   "outputs": [
    {
     "data": {
      "text/plain": [
       "<matplotlib.axes._subplots.AxesSubplot at 0x12246fe50>"
      ]
     },
     "execution_count": 44,
     "metadata": {},
     "output_type": "execute_result"
    },
    {
     "data": {
      "image/png": "[encoded data removed]",
      "text/plain": [
       "<matplotlib.figure.Figure at 0x121addb10>"
      ]
     },
     "metadata": {},
     "output_type": "display_data"
    }
   ],
   "source": [
    "raw_df[raw_df.tokens <=50].tokens.hist(bins=50)\n",
    "# plt.xlim([0,50])"
   ]
  },
  {
   "cell_type": "code",
   "execution_count": 26,
   "metadata": {
    "collapsed": true
   },
   "outputs": [],
   "source": [
    "declarations = {}\n",
    "declarations['Trump'] = '2015-06-16'\n",
    "declarations['Clinton'] = '2015-04-11'\n",
    "# Although C-SPAN has the campaign tag, I want to make sure only to include\n",
    "# events from after the candidates officially declared they were running for President"
   ]
  },
  {
   "cell_type": "code",
   "execution_count": 27,
   "metadata": {
    "collapsed": false
   },
   "outputs": [
    {
     "name": "stdout",
     "output_type": "stream",
     "text": [
      "0 1.0\n",
      "1 0.999574685267\n",
      "2 0.982562095951\n",
      "3 0.946410343654\n",
      "4 0.89004763525\n",
      "5 0.808863559034\n",
      "6 0.722796869684\n",
      "7 0.642191221504\n",
      "8 0.567897243961\n",
      "9 0.502926165362\n",
      "10 0.448962232052\n",
      "11 0.399387546785\n",
      "12 0.357383463763\n",
      "13 0.320125893161\n",
      "14 0.288091187479\n",
      "15 0.257281388227\n",
      "16 0.230945899966\n",
      "17 0.20646478394\n",
      "18 0.185284110242\n",
      "19 0.166468186458\n"
     ]
    }
   ],
   "source": [
    "\n",
    "for i in range(20):\n",
    "    print i, len(raw_df[raw_df.tokens>=i])/float(len(raw_df))"
   ]
  },
  {
   "cell_type": "markdown",
   "metadata": {},
   "source": [
    "In order to avoid sentences like \"Thank you.\" which are indistinguishable, I'm only using\n",
    "sentences with a certain number of tokens. \n",
    "Sometimes the uncorrected transcripts include long run-on sentences and song lyrics, so I'm also ignoring any sentences with more than 150 words."
   ]
  },
  {
   "cell_type": "code",
   "execution_count": 459,
   "metadata": {
    "collapsed": false
   },
   "outputs": [],
   "source": [
    "min_length = 9\n",
    "max_length = 150\n",
    "df = raw_df[raw_df.tokens >= min_length]\n",
    "df = df[df.tokens <= max_length]\n",
    "post_dec = [date > dec for date,dec in zip(df.date, [declarations[candidate] for candidate in df.speaker])]\n",
    "df = df[post_dec]"
   ]
  },
  {
   "cell_type": "code",
   "execution_count": 460,
   "metadata": {
    "collapsed": false
   },
   "outputs": [
    {
     "data": {
      "text/plain": [
       "Trump      17294\n",
       "Clinton    11977\n",
       "Name: speaker, dtype: int64"
      ]
     },
     "execution_count": 460,
     "metadata": {},
     "output_type": "execute_result"
    }
   ],
   "source": [
    "df.speaker.value_counts()"
   ]
  },
  {
   "cell_type": "code",
   "execution_count": 262,
   "metadata": {
    "collapsed": false
   },
   "outputs": [
    {
     "data": {
      "text/plain": [
       "0.59082368214273517"
      ]
     },
     "execution_count": 262,
     "metadata": {},
     "output_type": "execute_result"
    }
   ],
   "source": [
    "max(df.speaker.value_counts())/float(len(df))"
   ]
  },
  {
   "cell_type": "markdown",
   "metadata": {},
   "source": [
    "# Data In, configure Pipeline"
   ]
  },
  {
   "cell_type": "code",
   "execution_count": 390,
   "metadata": {
    "collapsed": true
   },
   "outputs": [],
   "source": [
    "from sklearn.neural_network import BernoulliRBM\n",
    "#  class sklearn.neural_network.BernoulliRBM(n_components=256, \n",
    "# learning_rate=0.1, batch_size=10, n_iter=10, verbose=0, \n",
    "# random_state=None)[source]¶"
   ]
  },
  {
   "cell_type": "code",
   "execution_count": 391,
   "metadata": {
    "collapsed": false
   },
   "outputs": [],
   "source": [
    "from sklearn.feature_selection import SelectFromModel\n",
    "vectorizer = CountVectorizer(\n",
    "#                          max_features = 7000,\n",
    "                         ngram_range=(1,3), \n",
    "#                          stop_words='english',\n",
    "                         decode_error='ignore',\n",
    "#                          min_df = 1,\n",
    "                         binary=True,\n",
    "                        token_pattern = regex_token_pattern,\n",
    "                            )\n",
    "\n",
    "all_features = [\n",
    "    \n",
    "    ]\n",
    "    \n",
    "    "
   ]
  },
  {
   "cell_type": "code",
   "execution_count": 478,
   "metadata": {
    "collapsed": false
   },
   "outputs": [],
   "source": [
    "pipeline = Pipeline([\n",
    "  ('features', FeatureUnion([\n",
    "                    ('word_lengths', word_length()),\n",
    "                    ('top_words', best_vectorizer(vectorizer, selector=SelectFromModel(estimator=LogisticRegression(penalty='l1', C=3)), name='')),\n",
    "                ])),\n",
    "    ('classifier', LogisticRegression(C=1,class_weight = 'balanced'))]\n",
    ")"
   ]
  },
  {
   "cell_type": "markdown",
   "metadata": {},
   "source": [
    "# Cross Validate to set hyperparameters"
   ]
  },
  {
   "cell_type": "code",
   "execution_count": 191,
   "metadata": {
    "collapsed": true
   },
   "outputs": [],
   "source": [
    "which_candidates = ['Clinton','Trump']"
   ]
  },
  {
   "cell_type": "code",
   "execution_count": 95,
   "metadata": {
    "collapsed": true
   },
   "outputs": [],
   "source": [
    "from sklearn.cross_validation import cross_val_score\n",
    "import time"
   ]
  },
  {
   "cell_type": "code",
   "execution_count": 96,
   "metadata": {
    "collapsed": true
   },
   "outputs": [],
   "source": [
    "#  class sklearn.linear_model.LogisticRegression(penalty='l2', dual=False, \n",
    "# tol=0.0001, C=1.0, fit_intercept=True, intercept_scaling=1, class_weight=None, \n",
    "# random_state=None, solver='liblinear', max_iter=100, multi_class='ovr', verbose=0, \n",
    "# warm_start=False, n_jobs=1)[source]"
   ]
  },
  {
   "cell_type": "code",
   "execution_count": 479,
   "metadata": {
    "collapsed": false,
    "scrolled": true
   },
   "outputs": [
    {
     "name": "stdout",
     "output_type": "stream",
     "text": [
      "Fitting 3 folds for each of 12 candidates, totalling 36 fits\n",
      "[CV] classifier__C=0.3, features__top_words__selector__estimator__C=1 \n",
      "[CV]  classifier__C=0.3, features__top_words__selector__estimator__C=1 -  10.1s\n",
      "[CV] classifier__C=0.3, features__top_words__selector__estimator__C=1 \n",
      "[CV]  classifier__C=0.3, features__top_words__selector__estimator__C=1 -  10.3s\n",
      "[CV] classifier__C=0.3, features__top_words__selector__estimator__C=1 \n",
      "[CV]  classifier__C=0.3, features__top_words__selector__estimator__C=1 -  10.2s\n",
      "[CV] classifier__C=0.3, features__top_words__selector__estimator__C=3 \n",
      "[CV]  classifier__C=0.3, features__top_words__selector__estimator__C=3 -  10.4s\n",
      "[CV] classifier__C=0.3, features__top_words__selector__estimator__C=3 \n",
      "[CV]  classifier__C=0.3, features__top_words__selector__estimator__C=3 -  11.3s\n",
      "[CV] classifier__C=0.3, features__top_words__selector__estimator__C=3 \n",
      "[CV]  classifier__C=0.3, features__top_words__selector__estimator__C=3 -  10.9s\n",
      "[CV] classifier__C=0.3, features__top_words__selector__estimator__C=10 \n",
      "[CV]  classifier__C=0.3, features__top_words__selector__estimator__C=10 -  10.6s\n",
      "[CV] classifier__C=0.3, features__top_words__selector__estimator__C=10 \n",
      "[CV]  classifier__C=0.3, features__top_words__selector__estimator__C=10 -  10.7s\n",
      "[CV] classifier__C=0.3, features__top_words__selector__estimator__C=10 \n",
      "[CV]  classifier__C=0.3, features__top_words__selector__estimator__C=10 -  10.1s\n",
      "[CV] classifier__C=0.3, features__top_words__selector__estimator__C=30 \n",
      "[CV]  classifier__C=0.3, features__top_words__selector__estimator__C=30 -  10.4s\n",
      "[CV] classifier__C=0.3, features__top_words__selector__estimator__C=30 \n",
      "[CV]  classifier__C=0.3, features__top_words__selector__estimator__C=30 -  10.6s\n",
      "[CV] classifier__C=0.3, features__top_words__selector__estimator__C=30 \n",
      "[CV]  classifier__C=0.3, features__top_words__selector__estimator__C=30 -  10.3s\n",
      "[CV] classifier__C=1, features__top_words__selector__estimator__C=1 ..\n",
      "[CV]  classifier__C=1, features__top_words__selector__estimator__C=1 -  10.3s\n",
      "[CV] classifier__C=1, features__top_words__selector__estimator__C=1 ..\n",
      "[CV]  classifier__C=1, features__top_words__selector__estimator__C=1 -  10.9s\n",
      "[CV] classifier__C=1, features__top_words__selector__estimator__C=1 ..\n",
      "[CV]  classifier__C=1, features__top_words__selector__estimator__C=1 -   9.9s\n",
      "[CV] classifier__C=1, features__top_words__selector__estimator__C=3 ..\n",
      "[CV]  classifier__C=1, features__top_words__selector__estimator__C=3 -  10.0s\n",
      "[CV] classifier__C=1, features__top_words__selector__estimator__C=3 ..\n",
      "[CV]  classifier__C=1, features__top_words__selector__estimator__C=3 -  11.1s\n",
      "[CV] classifier__C=1, features__top_words__selector__estimator__C=3 ..\n",
      "[CV]  classifier__C=1, features__top_words__selector__estimator__C=3 -  10.5s\n",
      "[CV] classifier__C=1, features__top_words__selector__estimator__C=10 .\n",
      "[CV]  classifier__C=1, features__top_words__selector__estimator__C=10 -  10.1s\n",
      "[CV] classifier__C=1, features__top_words__selector__estimator__C=10 .\n",
      "[CV]  classifier__C=1, features__top_words__selector__estimator__C=10 -  10.5s\n",
      "[CV] classifier__C=1, features__top_words__selector__estimator__C=10 .\n",
      "[CV]  classifier__C=1, features__top_words__selector__estimator__C=10 -  10.0s\n",
      "[CV] classifier__C=1, features__top_words__selector__estimator__C=30 .\n",
      "[CV]  classifier__C=1, features__top_words__selector__estimator__C=30 -  10.0s\n",
      "[CV] classifier__C=1, features__top_words__selector__estimator__C=30 .\n",
      "[CV]  classifier__C=1, features__top_words__selector__estimator__C=30 -  10.8s\n",
      "[CV] classifier__C=1, features__top_words__selector__estimator__C=30 .\n",
      "[CV]  classifier__C=1, features__top_words__selector__estimator__C=30 -  10.3s\n",
      "[CV] classifier__C=3, features__top_words__selector__estimator__C=1 ..\n",
      "[CV]  classifier__C=3, features__top_words__selector__estimator__C=1 -   9.6s\n",
      "[CV] classifier__C=3, features__top_words__selector__estimator__C=1 ..\n",
      "[CV]  classifier__C=3, features__top_words__selector__estimator__C=1 -   9.6s\n",
      "[CV] classifier__C=3, features__top_words__selector__estimator__C=1 ..\n",
      "[CV]  classifier__C=3, features__top_words__selector__estimator__C=1 -   9.5s\n",
      "[CV] classifier__C=3, features__top_words__selector__estimator__C=3 ..\n",
      "[CV]  classifier__C=3, features__top_words__selector__estimator__C=3 -   9.9s\n",
      "[CV] classifier__C=3, features__top_words__selector__estimator__C=3 ..\n",
      "[CV]  classifier__C=3, features__top_words__selector__estimator__C=3 -  10.3s\n",
      "[CV] classifier__C=3, features__top_words__selector__estimator__C=3 ..\n",
      "[CV]  classifier__C=3, features__top_words__selector__estimator__C=3 -  10.9s\n",
      "[CV] classifier__C=3, features__top_words__selector__estimator__C=10 .\n",
      "[CV]  classifier__C=3, features__top_words__selector__estimator__C=10 -  10.3s\n",
      "[CV] classifier__C=3, features__top_words__selector__estimator__C=10 .\n",
      "[CV]  classifier__C=3, features__top_words__selector__estimator__C=10 -  10.3s\n",
      "[CV] classifier__C=3, features__top_words__selector__estimator__C=10 .\n",
      "[CV]  classifier__C=3, features__top_words__selector__estimator__C=10 -  10.5s\n",
      "[CV] classifier__C=3, features__top_words__selector__estimator__C=30 .\n",
      "[CV]  classifier__C=3, features__top_words__selector__estimator__C=30 -  10.4s\n",
      "[CV] classifier__C=3, features__top_words__selector__estimator__C=30 .\n",
      "[CV]  classifier__C=3, features__top_words__selector__estimator__C=30 -  11.7s\n",
      "[CV] classifier__C=3, features__top_words__selector__estimator__C=30 .\n",
      "[CV]  classifier__C=3, features__top_words__selector__estimator__C=30 -  10.7s\n"
     ]
    },
    {
     "name": "stderr",
     "output_type": "stream",
     "text": [
      "[Parallel(n_jobs=1)]: Done  36 out of  36 | elapsed:  6.3min finished\n"
     ]
    },
    {
     "name": "stdout",
     "output_type": "stream",
     "text": [
      "391.363381863\n"
     ]
    }
   ],
   "source": [
    "t0=time.time()\n",
    "\n",
    "condition = [speaker in which_candidates for speaker in df.speaker]\n",
    "cand_df = df[condition]\n",
    "kf = StratifiedKFold(y=cand_df.speaker, n_folds=3,random_state=42)\n",
    "params = {'classifier__C': [.3,1,3],\n",
    "#           'classifier__solver': ['newton-cg', 'lbfgs', 'liblinear', 'sag'],\n",
    "#           'features__top_words__vectorizer__min_df': [1,5],\n",
    "#           'features__top_words__vectorizer__max_df': [.5,.25],\n",
    "#           'features__top_words__selector__estimator__penalty': ['l1','l2],\n",
    "#           'features__top_words__vectorizer__binary': [True, False],\n",
    "          'features__top_words__selector__estimator__C': [1,3,10,30],\n",
    "         }\n",
    "\n",
    "grid = GridSearchCV(estimator=pipeline, param_grid = params, scoring = 'roc_auc',cv=kf, verbose=2)\n",
    "\n",
    "grid.fit(cand_df.sentence,[1 if speaker == 'Trump' else 0 for speaker in cand_df.speaker])\n",
    "print time.time()-t0"
   ]
  },
  {
   "cell_type": "code",
   "execution_count": 480,
   "metadata": {
    "collapsed": false
   },
   "outputs": [
    {
     "data": {
      "text/plain": [
       "{'classifier__C': 1, 'features__top_words__selector__estimator__C': 30}"
      ]
     },
     "execution_count": 480,
     "metadata": {},
     "output_type": "execute_result"
    }
   ],
   "source": [
    "scores = grid.grid_scores_\n",
    "grid.best_params_"
   ]
  },
  {
   "cell_type": "code",
   "execution_count": 481,
   "metadata": {
    "collapsed": false,
    "scrolled": true
   },
   "outputs": [
    {
     "data": {
      "text/html": [
       "<div>\n",
       "<table border=\"1\" class=\"dataframe\">\n",
       "  <thead>\n",
       "    <tr style=\"text-align: right;\">\n",
       "      <th></th>\n",
       "      <th>classifier__C</th>\n",
       "      <th>features__top_words__selector__estimator__C</th>\n",
       "      <th>mean</th>\n",
       "    </tr>\n",
       "  </thead>\n",
       "  <tbody>\n",
       "    <tr>\n",
       "      <th>7</th>\n",
       "      <td>1.0</td>\n",
       "      <td>30</td>\n",
       "      <td>0.895484</td>\n",
       "    </tr>\n",
       "    <tr>\n",
       "      <th>3</th>\n",
       "      <td>0.3</td>\n",
       "      <td>30</td>\n",
       "      <td>0.895098</td>\n",
       "    </tr>\n",
       "    <tr>\n",
       "      <th>6</th>\n",
       "      <td>1.0</td>\n",
       "      <td>10</td>\n",
       "      <td>0.894864</td>\n",
       "    </tr>\n",
       "    <tr>\n",
       "      <th>2</th>\n",
       "      <td>0.3</td>\n",
       "      <td>10</td>\n",
       "      <td>0.894547</td>\n",
       "    </tr>\n",
       "    <tr>\n",
       "      <th>1</th>\n",
       "      <td>0.3</td>\n",
       "      <td>3</td>\n",
       "      <td>0.894461</td>\n",
       "    </tr>\n",
       "    <tr>\n",
       "      <th>5</th>\n",
       "      <td>1.0</td>\n",
       "      <td>3</td>\n",
       "      <td>0.894282</td>\n",
       "    </tr>\n",
       "    <tr>\n",
       "      <th>11</th>\n",
       "      <td>3.0</td>\n",
       "      <td>30</td>\n",
       "      <td>0.893711</td>\n",
       "    </tr>\n",
       "    <tr>\n",
       "      <th>0</th>\n",
       "      <td>0.3</td>\n",
       "      <td>1</td>\n",
       "      <td>0.893139</td>\n",
       "    </tr>\n",
       "    <tr>\n",
       "      <th>10</th>\n",
       "      <td>3.0</td>\n",
       "      <td>10</td>\n",
       "      <td>0.893036</td>\n",
       "    </tr>\n",
       "    <tr>\n",
       "      <th>4</th>\n",
       "      <td>1.0</td>\n",
       "      <td>1</td>\n",
       "      <td>0.892287</td>\n",
       "    </tr>\n",
       "    <tr>\n",
       "      <th>9</th>\n",
       "      <td>3.0</td>\n",
       "      <td>3</td>\n",
       "      <td>0.892029</td>\n",
       "    </tr>\n",
       "    <tr>\n",
       "      <th>8</th>\n",
       "      <td>3.0</td>\n",
       "      <td>1</td>\n",
       "      <td>0.888664</td>\n",
       "    </tr>\n",
       "  </tbody>\n",
       "</table>\n",
       "</div>"
      ],
      "text/plain": [
       "    classifier__C  features__top_words__selector__estimator__C      mean\n",
       "7             1.0                                           30  0.895484\n",
       "3             0.3                                           30  0.895098\n",
       "6             1.0                                           10  0.894864\n",
       "2             0.3                                           10  0.894547\n",
       "1             0.3                                            3  0.894461\n",
       "5             1.0                                            3  0.894282\n",
       "11            3.0                                           30  0.893711\n",
       "0             0.3                                            1  0.893139\n",
       "10            3.0                                           10  0.893036\n",
       "4             1.0                                            1  0.892287\n",
       "9             3.0                                            3  0.892029\n",
       "8             3.0                                            1  0.888664"
      ]
     },
     "execution_count": 481,
     "metadata": {},
     "output_type": "execute_result"
    }
   ],
   "source": [
    "cv = []\n",
    "scores = grid.grid_scores_\n",
    "for combo in scores:\n",
    "    pars = combo[0]\n",
    "    pars['mean'] = combo[1]\n",
    "    cv.append(pars)\n",
    "pd.DataFrame(cv).sort_values(by='mean',ascending=False)"
   ]
  },
  {
   "cell_type": "markdown",
   "metadata": {},
   "source": [
    "## Build a cross-val-predict-proba"
   ]
  },
  {
   "cell_type": "code",
   "execution_count": 482,
   "metadata": {
    "collapsed": false
   },
   "outputs": [],
   "source": [
    "pipeline=grid.best_estimator_"
   ]
  },
  {
   "cell_type": "code",
   "execution_count": 483,
   "metadata": {
    "collapsed": false,
    "scrolled": true
   },
   "outputs": [
    {
     "name": "stdout",
     "output_type": "stream",
     "text": [
      "done predicting 0 time: 16.8037140369\n",
      "done predicting 1 time: 15.7655580044\n",
      "done predicting 2 time: 17.429459095\n",
      "done predicting 3 time: 16.9800040722\n",
      "done predicting 4 time: 18.5062031746\n",
      "done predicting 5 time: 16.1421182156\n",
      "done predicting 6 time: 15.0999100208\n",
      "done predicting 7 time: 15.6903159618\n",
      "done predicting 8 time: 16.6711018085\n",
      "done predicting 9 time: 16.3370630741\n",
      "done predicting 10 time: 14.66375494\n",
      "done predicting 11 time: 15.0750689507\n",
      "done predicting 12 time: 15.6643211842\n",
      "done predicting 13 time: 15.9104609489\n",
      "done predicting 14 time: 14.7660620213\n",
      "done predicting 15 time: 15.0031490326\n",
      "done predicting 16 time: 15.6732540131\n",
      "done predicting 17 time: 15.1620569229\n",
      "done predicting 18 time: 15.4064018726\n",
      "done predicting 19 time: 15.1598138809\n"
     ]
    }
   ],
   "source": [
    "import time\n",
    "\n",
    "cand_df = df[[speaker in which_candidates for speaker in df.speaker]]\n",
    "\n",
    "n_folds = 20\n",
    "\n",
    "segment_results = pd.DataFrame()\n",
    "all_results = pd.DataFrame()\n",
    "segment_coefs = [pd.DataFrame()]*n_folds\n",
    "\n",
    "kf = StratifiedKFold(y=cand_df.speaker, n_folds =n_folds,random_state=42)\n",
    "\n",
    "for i, (train_index, test_index) in enumerate(kf):\n",
    "    t0 = time.time()\n",
    "    pipeline.fit(cand_df.iloc[train_index].sentence, cand_df.iloc[train_index].speaker)\n",
    "#     print 'done fitting',i,\"time:\",time.time()-t0\n",
    "    segment_coefs[i] = pipeline_coef_df(pipeline)\n",
    "    segment_results = pd.DataFrame(\n",
    "                                    pipeline.predict_proba(cand_df.iloc[test_index].sentence),\n",
    "                                    index=list(cand_df.iloc[test_index].index),\n",
    "                                    columns=pipeline.named_steps['classifier'].classes_)\n",
    "    print 'done predicting',i,\"time:\",time.time()-t0\n",
    "\n",
    "    all_results=all_results.append(segment_results)\n",
    "        \n",
    "    "
   ]
  },
  {
   "cell_type": "code",
   "execution_count": 484,
   "metadata": {
    "collapsed": true
   },
   "outputs": [],
   "source": [
    "cv_result = cand_df.copy().join(all_results)"
   ]
  },
  {
   "cell_type": "code",
   "execution_count": 485,
   "metadata": {
    "collapsed": false,
    "scrolled": true
   },
   "outputs": [
    {
     "data": {
      "text/html": [
       "<div>\n",
       "<table border=\"1\" class=\"dataframe\">\n",
       "  <thead>\n",
       "    <tr style=\"text-align: right;\">\n",
       "      <th></th>\n",
       "      <th>speech_idx</th>\n",
       "      <th>tokens</th>\n",
       "      <th>Clinton</th>\n",
       "      <th>Trump</th>\n",
       "    </tr>\n",
       "    <tr>\n",
       "      <th>speaker</th>\n",
       "      <th></th>\n",
       "      <th></th>\n",
       "      <th></th>\n",
       "      <th></th>\n",
       "    </tr>\n",
       "  </thead>\n",
       "  <tbody>\n",
       "    <tr>\n",
       "      <th>Clinton</th>\n",
       "      <td>141.302329</td>\n",
       "      <td>19.623027</td>\n",
       "      <td>0.781201</td>\n",
       "      <td>0.218799</td>\n",
       "    </tr>\n",
       "    <tr>\n",
       "      <th>Trump</th>\n",
       "      <td>47.992541</td>\n",
       "      <td>16.334856</td>\n",
       "      <td>0.181493</td>\n",
       "      <td>0.818507</td>\n",
       "    </tr>\n",
       "  </tbody>\n",
       "</table>\n",
       "</div>"
      ],
      "text/plain": [
       "         speech_idx     tokens   Clinton     Trump\n",
       "speaker                                           \n",
       "Clinton  141.302329  19.623027  0.781201  0.218799\n",
       "Trump     47.992541  16.334856  0.181493  0.818507"
      ]
     },
     "execution_count": 485,
     "metadata": {},
     "output_type": "execute_result"
    }
   ],
   "source": [
    "cv_result.groupby('speaker').mean()"
   ]
  },
  {
   "cell_type": "code",
   "execution_count": 486,
   "metadata": {
    "collapsed": false
   },
   "outputs": [],
   "source": [
    "cv_result['predict'] = cv_result.apply(lambda x: x[which_candidates].argmax(), axis = 1)"
   ]
  },
  {
   "cell_type": "code",
   "execution_count": 487,
   "metadata": {
    "collapsed": true
   },
   "outputs": [],
   "source": [
    "cv_result['correct'] = cv_result.predict == cv_result.speaker"
   ]
  },
  {
   "cell_type": "code",
   "execution_count": 488,
   "metadata": {
    "collapsed": false
   },
   "outputs": [
    {
     "data": {
      "text/plain": [
       "True     24941\n",
       "False     4330\n",
       "Name: correct, dtype: int64"
      ]
     },
     "execution_count": 488,
     "metadata": {},
     "output_type": "execute_result"
    }
   ],
   "source": [
    "cv_result.correct.value_counts()"
   ]
  },
  {
   "cell_type": "code",
   "execution_count": 489,
   "metadata": {
    "collapsed": false
   },
   "outputs": [
    {
     "data": {
      "text/plain": [
       "0.85207201667179122"
      ]
     },
     "execution_count": 489,
     "metadata": {},
     "output_type": "execute_result"
    }
   ],
   "source": [
    "cv_result.correct.mean()"
   ]
  },
  {
   "cell_type": "code",
   "execution_count": 490,
   "metadata": {
    "collapsed": false
   },
   "outputs": [
    {
     "name": "stdout",
     "output_type": "stream",
     "text": [
      "0.926223458981\n"
     ]
    },
    {
     "data": {
      "text/plain": [
       "[<matplotlib.lines.Line2D at 0x1391e7b10>]"
      ]
     },
     "execution_count": 490,
     "metadata": {},
     "output_type": "execute_result"
    },
    {
     "data": {
      "image/png": "[encoded data removed]",
      "text/plain": [
       "<matplotlib.figure.Figure at 0x125adf1d0>"
      ]
     },
     "metadata": {},
     "output_type": "display_data"
    }
   ],
   "source": [
    "#  sklearn.metrics.roc_curve(y_true, y_score, pos_label=None, sample_weight=None, drop_intermediate\n",
    "correct= [1 if speaker == 'Trump' else 0 for speaker in cv_result.speaker]\n",
    "roc = roc_curve(correct, y_score=list(cv_result.Trump))\n",
    "print roc_auc_score(correct, cv_result.Trump)\n",
    "plt.plot(roc[0], roc[1])"
   ]
  },
  {
   "cell_type": "code",
   "execution_count": 491,
   "metadata": {
    "collapsed": false
   },
   "outputs": [],
   "source": [
    "sns.set_palette('deep')"
   ]
  },
  {
   "cell_type": "code",
   "execution_count": 492,
   "metadata": {
    "collapsed": false
   },
   "outputs": [
    {
     "data": {
      "text/plain": [
       "[<matplotlib.lines.Line2D at 0x126416210>]"
      ]
     },
     "execution_count": 492,
     "metadata": {},
     "output_type": "execute_result"
    },
    {
     "data": {
      "image/png": "[encoded data removed]",
      "text/plain": [
       "<matplotlib.figure.Figure at 0x1359cb710>"
      ]
     },
     "metadata": {},
     "output_type": "display_data"
    }
   ],
   "source": [
    "plt.plot(cv_result[(cv_result.tokens <=60)&(cv_result.tokens >=2)].groupby('tokens').mean()['correct'])"
   ]
  },
  {
   "cell_type": "code",
   "execution_count": 493,
   "metadata": {
    "collapsed": false
   },
   "outputs": [
    {
     "data": {
      "text/html": [
       "<div>\n",
       "<table border=\"1\" class=\"dataframe\">\n",
       "  <thead>\n",
       "    <tr style=\"text-align: right;\">\n",
       "      <th></th>\n",
       "      <th>date</th>\n",
       "      <th>sentence</th>\n",
       "      <th>speaker</th>\n",
       "      <th>speech_idx</th>\n",
       "      <th>title</th>\n",
       "      <th>tokens</th>\n",
       "      <th>Clinton</th>\n",
       "      <th>Trump</th>\n",
       "      <th>predict</th>\n",
       "      <th>correct</th>\n",
       "    </tr>\n",
       "  </thead>\n",
       "  <tbody>\n",
       "    <tr>\n",
       "      <th>10</th>\n",
       "      <td>2016-09-03</td>\n",
       "      <td>i just wrote this the other day knowing that i...</td>\n",
       "      <td>Trump</td>\n",
       "      <td>1</td>\n",
       "      <td>Presidential Candidate Donald Trump Remarks in...</td>\n",
       "      <td>42</td>\n",
       "      <td>0.010040</td>\n",
       "      <td>0.989960</td>\n",
       "      <td>Trump</td>\n",
       "      <td>True</td>\n",
       "    </tr>\n",
       "    <tr>\n",
       "      <th>11</th>\n",
       "      <td>2016-09-03</td>\n",
       "      <td>for centuries, the african american church has...</td>\n",
       "      <td>Trump</td>\n",
       "      <td>1</td>\n",
       "      <td>Presidential Candidate Donald Trump Remarks in...</td>\n",
       "      <td>15</td>\n",
       "      <td>0.123997</td>\n",
       "      <td>0.876003</td>\n",
       "      <td>Trump</td>\n",
       "      <td>True</td>\n",
       "    </tr>\n",
       "    <tr>\n",
       "      <th>12</th>\n",
       "      <td>2016-09-03</td>\n",
       "      <td>it is from the pews and pulpits and christian ...</td>\n",
       "      <td>Trump</td>\n",
       "      <td>1</td>\n",
       "      <td>Presidential Candidate Donald Trump Remarks in...</td>\n",
       "      <td>58</td>\n",
       "      <td>0.219244</td>\n",
       "      <td>0.780756</td>\n",
       "      <td>Trump</td>\n",
       "      <td>True</td>\n",
       "    </tr>\n",
       "    <tr>\n",
       "      <th>13</th>\n",
       "      <td>2016-09-03</td>\n",
       "      <td>and we are bound together and i see that today.</td>\n",
       "      <td>Trump</td>\n",
       "      <td>1</td>\n",
       "      <td>Presidential Candidate Donald Trump Remarks in...</td>\n",
       "      <td>10</td>\n",
       "      <td>0.322424</td>\n",
       "      <td>0.677576</td>\n",
       "      <td>Trump</td>\n",
       "      <td>True</td>\n",
       "    </tr>\n",
       "    <tr>\n",
       "      <th>15</th>\n",
       "      <td>2016-09-03</td>\n",
       "      <td>the african-american fate immunity has been on...</td>\n",
       "      <td>Trump</td>\n",
       "      <td>1</td>\n",
       "      <td>Presidential Candidate Donald Trump Remarks in...</td>\n",
       "      <td>18</td>\n",
       "      <td>0.409404</td>\n",
       "      <td>0.590596</td>\n",
       "      <td>Trump</td>\n",
       "      <td>True</td>\n",
       "    </tr>\n",
       "  </tbody>\n",
       "</table>\n",
       "</div>"
      ],
      "text/plain": [
       "          date                                           sentence speaker  \\\n",
       "10  2016-09-03  i just wrote this the other day knowing that i...   Trump   \n",
       "11  2016-09-03  for centuries, the african american church has...   Trump   \n",
       "12  2016-09-03  it is from the pews and pulpits and christian ...   Trump   \n",
       "13  2016-09-03    and we are bound together and i see that today.   Trump   \n",
       "15  2016-09-03  the african-american fate immunity has been on...   Trump   \n",
       "\n",
       "    speech_idx                                              title  tokens  \\\n",
       "10           1  Presidential Candidate Donald Trump Remarks in...      42   \n",
       "11           1  Presidential Candidate Donald Trump Remarks in...      15   \n",
       "12           1  Presidential Candidate Donald Trump Remarks in...      58   \n",
       "13           1  Presidential Candidate Donald Trump Remarks in...      10   \n",
       "15           1  Presidential Candidate Donald Trump Remarks in...      18   \n",
       "\n",
       "     Clinton     Trump predict correct  \n",
       "10  0.010040  0.989960   Trump    True  \n",
       "11  0.123997  0.876003   Trump    True  \n",
       "12  0.219244  0.780756   Trump    True  \n",
       "13  0.322424  0.677576   Trump    True  \n",
       "15  0.409404  0.590596   Trump    True  "
      ]
     },
     "execution_count": 493,
     "metadata": {},
     "output_type": "execute_result"
    }
   ],
   "source": [
    "cv_result.head()"
   ]
  },
  {
   "cell_type": "code",
   "execution_count": 494,
   "metadata": {
    "collapsed": false,
    "scrolled": true
   },
   "outputs": [
    {
     "name": "stdout",
     "output_type": "stream",
     "text": [
      "Most Clinton :\n",
      "\tI hope you will join me and that you will be part of this effort to build on the progress we have made under president obama to go further and to make it absolutely clear that we are fighting to break down barriers wherever they may be because we know america deserves nothing less and americans deserve to have the future that we will create together.\n",
      "-- 138 Presidential Candidate Hillary Clinton Rally in Orangeburg, South Carolina\n",
      "http://www.c-span.org/video/?405395-1/hillary-clinton-campaign-rally-orangeburg-south-carolina\n",
      "Predicted Clinton:  0.999999999994\n",
      "Predicted Trump:  5.70171905237e-12\n",
      "\n",
      "\tI do not think president obama gets the credit he deserves for saving our economy from what could have been an even worse crisis, saving the auto industry, cracking down on wall street abuses which the bush administration had been ignoring, and passing the affordable care act which now provides health insurance to 18 million americans!\n",
      "-- 164 Presidential Candidate Hillary Clinton Campaign Rally in Las Vegas\n",
      "http://www.c-span.org/video/?328637-1/hillary-clinton-campaign-rally-las-vegas\n",
      "Predicted Clinton:  0.999999999545\n",
      "Predicted Trump:  4.55095832002e-10\n",
      "\n",
      "\tNo family and no student should have to borrow to pay tuition at a public college or university and everyone who has student debt should be able to refinance it at lower rates, costs not a barrier, and that will not hold you back under my plan.\n",
      "-- 176 Presidential Candidate Hillary Clinton Press Availability\n",
      "http://www.c-span.org/video/?327572-2/presidential-candidate-hillary-clinton-press-availability\n",
      "Predicted Clinton:  0.999999999312\n",
      "Predicted Trump:  6.87772710014e-10\n",
      "\n",
      "\tWe need more elected leaders, from houston to austin to washington, who will follow in  the footsteps of barbara jordan and who will fight every day for the rights and opportunities of everyday americans, not just those at the top of the ladder, and we need to remember that  progress is built on common ground, not scorched earth.\n",
      "-- 182 Hillary Clinton on Voting Rights\n",
      "http://www.c-span.org/video/?326400-1/hillary-clinton-remarks-voting-rights\n",
      "Predicted Clinton:  0.999999999232\n",
      "Predicted Trump:  7.67539677102e-10\n",
      "\n",
      "\tWhen i think about you're hired, that is what i want us all to be focused on -- creating more jobs, raising income for people, beginning to reduce inequality in income by making sure our economy works for everybody, not just those at the top.\n",
      "-- 106 Presidential Candidate Hillary Clinton Rally in Annandale, Virginia\n",
      "http://www.c-span.org/video/?412723-1/senator-tim-kaine-campaigns-hillary-clinton\n",
      "Predicted Clinton:  0.999999999114\n",
      "Predicted Trump:  8.85508911331e-10\n",
      "\n",
      "\tI also have to say that i have heard a lot about another challenge that gets too little attention in our long-term looking forward into the future about what kind of country we are going to be and how we can help people live up to their potential.\n",
      "-- 167 2015 New Hampshire Democratic Party State Convention\n",
      "http://www.c-span.org/video/?328108-1/2015-new-hampshire-democratic-party-state-convention\n",
      "Predicted Clinton:  0.999999999039\n",
      "Predicted Trump:  9.60975306406e-10\n",
      "\n",
      "\tIf you're going to hear people in this campaign talk about improving the economy, helping incomes rise, ask of the what they are going to do to make college affordable and begin to deal with the debt burden that is holding too many americans back.\n",
      "-- 177 Presidential Candidate Hillary Clinton Remarks on College Affordability\n",
      "http://www.c-span.org/video/?327572-1/hillary-clinton-remarks-college-affordability\n",
      "Predicted Clinton:  0.99999999854\n",
      "Predicted Trump:  1.45992244557e-09\n",
      "\n",
      "\tThink of what we are losing because we are not doing everything we can to reach out to those families and we know again from so much research year in the united states and around the world that mentoring and intervention will help those often stressed out young moms understand more about what they can do and to avoid the difficulties that stand in the way of their being able to get their child off to the best possible start.\n",
      "-- 181 Presidential Candidate Hillary Clinton Economic Policy Address\n",
      "http://www.c-span.org/video/?327052-1/hillary-clinton-economic-policy-address\n",
      "Predicted Clinton:  0.999999998519\n",
      "Predicted Trump:  1.48095843354e-09\n",
      "\n",
      "\tYou see, i have a broader view about what we need to do to make sure that people not only pay their fair share, but they don't wreck the economy like we saw them in 2008. the governor, senator, and i agree that we have got to prevent wall street, the financial markets, and others from doing what they did.\n",
      "-- 150 Hillary Clinton Campaign Rally in Cedar Rapids, Iowa\n",
      "http://www.c-span.org/video/?403935-1/hillary-clinton-campaign-rally-cedar-rapids-iowa\n",
      "Predicted Clinton:  0.999999998442\n",
      "Predicted Trump:  1.55773473779e-09\n",
      "\n",
      "\tWhen we fight to make college more affordable than stupid deathless punishing work to hold corporations accountable when they tell just one try to prices or falluja or environment or exploit workers, that's fighting for women and men in america and when we fight to create a pathway to citizenship for millions of immigrants, we will make social security even stronger or to protect and improve the affordable care act because everyone deserves access to quality affordable care.\n",
      "-- 162 Hillary Clinton at Democratic Women's Leadership Forum\n",
      "http://www.c-span.org/video/?328919-3/hillary-clinton-democratic-womens-leadership-forum\n",
      "Predicted Clinton:  0.999999998104\n",
      "Predicted Trump:  1.89602108788e-09\n",
      "\n",
      "\n",
      "\n",
      "Most Trump :\n",
      "\tAnd i want to tell you, you know, so much about illegal immigration and so much has been mentioned about it and talked about it and these politicians are all talk, no action, they are never going to do anything, and they are only going to pick this up because when i went and i announced that i was running for president, i said, you know, his country is a big, big problem with illegal immigration, and all of a sudden, we started talking about it, and then we had bad things happening, and there was crime and you had so many killings and so much crime.\n",
      "-- 45 Presidential Candidate Donald Trump Rally in Arizona\n",
      "http://www.c-span.org/video/?406905-1/donald-trump-campaign-rally-phoenix-arizona\n",
      "Predicted Clinton:  2.33069563649e-10\n",
      "Predicted Trump:  0.999999999767\n",
      "\n",
      "\tAs you know, we have done very  well with the evangelicals and  with religion generally speaking, if you look at what's  happened with all of the races, whether it's in south carolina,  i went there and it was supposed to be strong evangelical, and i  was not supposed to win and i won in a landslide, and so many other places where you had the evangelicals and you had the  heavy christian groups and it was just -- it's been an amazing journey to have -- i think we won 37 different states.\n",
      "-- 22 Faith and Freedom Coalition Conference\n",
      "http://www.c-span.org/video/?410912-1/faith-freedom-coalition-holds-annual-conference\n",
      "Predicted Clinton:  6.12645933984e-10\n",
      "Predicted Trump:  0.999999999387\n",
      "\n",
      "\tBelieve me, we are going to use our great business people to negotiate unbelievable trade deals so we bring our jobs back and we don't let our companies go to mexico and all of these other countries anymore.\n",
      "-- 36 Presidential Candidate Donald Trump New York Primary Night Speech\n",
      "http://www.c-span.org/video/?408385-1/donald-trump-primary-night-speech\n",
      "Predicted Clinton:  4.674986398e-09\n",
      "Predicted Trump:  0.999999995325\n",
      "\n",
      "\tAnd just to finish on the nuclear thing, i was talking about negotiating with japan and negotiate with germany and i have such negotiators in the world, carl icahn, other negotiators, a lot of people want to come in and help us, some of the greatest business minds, and they all want to help us, so i say to myself, \"look at this, look at these people, and look at this negotiation.\n",
      "-- 41 Donald Trump Town Hall Meeting in Rothschild, Wisconsin\n",
      "http://www.c-span.org/video/?407558-1/donald-trump-town-hall-meeting-rothschild-wisconsin\n",
      "Predicted Clinton:  2.0479307139e-08\n",
      "Predicted Trump:  0.999999979521\n",
      "\n",
      "\tEvery single air conditioning unit that you make, every single one, as it crosses the border, and we are going to have a real border, because we are going to have a wall, we are going to have a real border, we are going to have a date, beautiful wall that nobody is crossing, just in case you had any questions, don't worry about the tunnels and stuff, nobody is going over it and nobody is going over it and we are going to have a big, beautiful door, but people are going to be coming into our country legally, legally, legally, so i tell the head of carrier, everything will unit that you make in mexico and that you sell in the united states, we are going to put a 35% tax on that unit, and i hope it works out well for you.\"\n",
      "-- 45 Presidential Candidate Donald Trump Rally in Arizona\n",
      "http://www.c-span.org/video/?406905-1/donald-trump-campaign-rally-phoenix-arizona\n",
      "Predicted Clinton:  3.51107934948e-08\n",
      "Predicted Trump:  0.999999964889\n",
      "\n",
      "\tYou see what free trade has gotten, you see what globalization would we go all over the world because our politicians are corrupt and crooked and they are totally taken care of i -- by campaign contributions and by the way who would know better than me?\n",
      "-- 32 Presidential Candidate Donald Trump Rally in South Bend, Indiana\n",
      "http://www.c-span.org/video/?408859-1/donald-trump-addresses-supporters-south-bend-indiana\n",
      "Predicted Clinton:  6.03960227386e-08\n",
      "Predicted Trump:  0.999999939604\n",
      "\n",
      "\tI would go to a company like carrier air-conditioning which decided to leave indianapolis and i would say, here's the story coming you think it's wonderful that you are negotiating with mexico come i'm sure you will have a wonderful plant -- if you bill that plant and you fire all these people who were so great to me -- indiana come i won that in a landslide -- the timing was good.\n",
      "-- 7 Donald Trump Campaign Rally in Erie, Pennsylvania\n",
      "http://www.c-span.org/video/?413909-1/donald-trump-campaigns-erie-pennsylvania\n",
      "Predicted Clinton:  6.60158788746e-08\n",
      "Predicted Trump:  0.999999933984\n",
      "\n",
      "\tWhen a company wants to leave our country to go to another country and think they are going to make their product and because our politicians are weak, stupid, taken care of by lobbyists, special interests, they are taken care of by lobbyists, they are taken care of by donors and special interests -- a friend of mine said i can't believe we're talking about a deal that took place a month ago.\n",
      "-- 7 Donald Trump Campaign Rally in Erie, Pennsylvania\n",
      "http://www.c-span.org/video/?413909-1/donald-trump-campaigns-erie-pennsylvania\n",
      "Predicted Clinton:  8.04576114621e-08\n",
      "Predicted Trump:  0.999999919542\n",
      "\n",
      "\tWhat happens a couple of months later announced i'm running and i come down and we are talking about trade and talking up the border and all these things that -- these things would have never even been brought up if i didn't talk about them.\n",
      "-- 32 Presidential Candidate Donald Trump Rally in South Bend, Indiana\n",
      "http://www.c-span.org/video/?408859-1/donald-trump-addresses-supporters-south-bend-indiana\n",
      "Predicted Clinton:  1.83276795185e-07\n",
      "Predicted Trump:  0.999999816723\n",
      "\n",
      "\tNow, you have south china and you have china building a massive fortress with massive, massive run rays for the biggest mail terri planes in the world and they have those escal sraeutka sraeuted and they're ripping the hell out of the ocean and building an island in the south of china and that he going to be a military fortress and they're not supposed to be doing that but they have no respect for our president and country so they're doing it.\n",
      "-- 60 Donald Trump Campaign Rally in Charleston, South Carolina\n",
      "http://www.c-span.org/video/?404947-1/donald-trump-campaign-rally-charleston-south-carolina\n",
      "Predicted Clinton:  2.31203691414e-07\n",
      "Predicted Trump:  0.999999768796\n",
      "\n",
      "\n",
      "\n"
     ]
    }
   ],
   "source": [
    "\n",
    "for candidate in which_candidates:\n",
    "    print \"Most\",candidate,\":\"\n",
    "    for idx, row in cv_result[cv_result.speaker == cv_result.predict].sort_values(by=candidate,ascending=False).iloc[0:10].iterrows():\n",
    "        sent = row.sentence\n",
    "        print \"\\t\",sent[0].upper()+sent[1:]\n",
    "        print \"--\",row.speech_idx, row.title\n",
    "        print long_df.loc[row.speech_idx].link\n",
    "        print \"Predicted Clinton: \",row.Clinton\n",
    "        print \"Predicted Trump: \",row.Trump\n",
    "        print\n",
    "    print\n",
    "    print\n",
    "    "
   ]
  },
  {
   "cell_type": "code",
   "execution_count": 595,
   "metadata": {
    "collapsed": true
   },
   "outputs": [],
   "source": [
    "cv_result.sort_values('Trump', inplace=True)"
   ]
  },
  {
   "cell_type": "code",
   "execution_count": 596,
   "metadata": {
    "collapsed": false
   },
   "outputs": [],
   "source": [
    "cv_result.to_csv('cv_result_sept_20.csv')\n",
    "cv_result.to_csv('cv_result.csv')"
   ]
  },
  {
   "cell_type": "code",
   "execution_count": 496,
   "metadata": {
    "collapsed": false,
    "scrolled": true
   },
   "outputs": [
    {
     "name": "stdout",
     "output_type": "stream",
     "text": [
      "Most Clinton-like, but not:\n",
      "\tIwasatameetingwith55or60pastorsandministers.letmeaskyouaquestion.howmanychristiansareinthiscountry?theyfigured260millionpeople.asapoliticalblocthatisbiggerthanwomenandisbiggerthanmen.whyisitthatwegetpushedaround?imadethestatementaboutmuslims.isaidwehavetodosomethingtemporarilytofindoutwhatisgoingon.wecan'tletthesyrianscomein,wedon'tknowwhotheyare.wedon'tknowwheretheycomefrom.\n",
      "-- 55 Donald Trump Campaign Rally in Valdosta, Georgia\n",
      "http://www.c-span.org/video/?405478-1/donald-trump-campaign-rally-valdosta-georgia\n",
      "Predicted Clinton:  0.999999296032\n",
      "Predicted Trump:  7.03967975205e-07\n",
      "\n",
      "\tThis is why we have already  passed legislation to support  wounded warriors, veterans who  struggle with mental health challenges and earlier this week to support female veterans in  particular who need our help.\n",
      "-- 22 Faith and Freedom Coalition Conference\n",
      "http://www.c-span.org/video/?410912-1/faith-freedom-coalition-holds-annual-conference\n",
      "Predicted Clinton:  0.999995902061\n",
      "Predicted Trump:  4.09793931169e-06\n",
      "\n",
      "\tThat's why we passed --  -- that's why we also pass add  bill that helps victims of child pornography get restitution from those who frost from their pain  and took steps to crack down on so-called pass the trash practice of schools.\n",
      "-- 22 Faith and Freedom Coalition Conference\n",
      "http://www.c-span.org/video/?410912-1/faith-freedom-coalition-holds-annual-conference\n",
      "Predicted Clinton:  0.999946416399\n",
      "Predicted Trump:  5.35836014562e-05\n",
      "\n",
      "\tAnd i want to tell you it is a  prime example of one of our major responsibilities in the  congress that is often overlooked.\n",
      "-- 22 Faith and Freedom Coalition Conference\n",
      "http://www.c-span.org/video/?410912-1/faith-freedom-coalition-holds-annual-conference\n",
      "Predicted Clinton:  0.999880198272\n",
      "Predicted Trump:  0.000119801728434\n",
      "\n",
      "\tWe are going to work with all of our students who are drowning in debt to take the pressure off these young people just starting out in their adult lives.\n",
      "-- 11 Donald Trump 2016 Acceptance Speech\n",
      "http://www.c-span.org/video/?412402-8/donald-trump-2016-acceptance-speech\n",
      "Predicted Clinton:  0.999800943566\n",
      "Predicted Trump:  0.000199056434056\n",
      "\n",
      "\tIf we get serious and put our differences aside we can create an environment where we can fix these things, save social kurt y security, arrest the rising  nature of our health care costs and put this country in a direction for our children and grandchildren to where we  swroent to look at them and  apologize.\n",
      "-- 22 Faith and Freedom Coalition Conference\n",
      "http://www.c-span.org/video/?410912-1/faith-freedom-coalition-holds-annual-conference\n",
      "Predicted Clinton:  0.999786774098\n",
      "Predicted Trump:  0.00021322590228\n",
      "\n",
      "\tNew york values were on display for all to see in the aftermath of 9/11 that struck at the heart of our city and our nation.\n",
      "-- 38 Donald Trump Remarks at New York State Republican Gala\n",
      "http://www.c-span.org/video/?408067-1/2016-new-york-state-republican-gala\n",
      "Predicted Clinton:  0.999769770229\n",
      "Predicted Trump:  0.00023022977117\n",
      "\n",
      "\tSo let me say this once more and let me say it clearly -- barack obama will not get a  supreme court justice in the 11th hour of his presidency on the way out the door.\n",
      "-- 22 Faith and Freedom Coalition Conference\n",
      "http://www.c-span.org/video/?410912-1/faith-freedom-coalition-holds-annual-conference\n",
      "Predicted Clinton:  0.999752047102\n",
      "Predicted Trump:  0.000247952897511\n",
      "\n",
      "\tEvery action i take, i will ask myself: does this make life better for young americans in baltimore, chicago, detroit, and ferguson who have really come in every way, have the same right to live out their dreams as any other child in america?\n",
      "-- 11 Donald Trump 2016 Acceptance Speech\n",
      "http://www.c-span.org/video/?412402-8/donald-trump-2016-acceptance-speech\n",
      "Predicted Clinton:  0.999730711923\n",
      "Predicted Trump:  0.000269288076648\n",
      "\n",
      "\tThat's why i also look and have to look for talented experts with approaches and practical ideas, rather than surrounding myself with those who have perfect resumes but very little to brag about except responsibility for a long history of failed policies and continued losses at war.\n",
      "-- 33 Presidential Candidate Donald Trump Remarks on Foreign Policy\n",
      "http://www.c-span.org/video/?408693-1/donald-trump-speech-foreign-policy\n",
      "Predicted Clinton:  0.999696960986\n",
      "Predicted Trump:  0.000303039013578\n",
      "\n",
      "\n",
      "\n",
      "Most Trump-like, but not:\n",
      "\tThe deals -- the merits of the deal happen will discussed, so i will not go through them here.\n",
      "-- 168 Presidential Candidate Hillary Clinton on Iran Nuclear Agreement\n",
      "http://www.c-span.org/video/?328006-1/hillary-clinton-address-iran-nuclear-agreement\n",
      "Predicted Clinton:  0.00165146458964\n",
      "Predicted Trump:  0.99834853541\n",
      "\n",
      "\tOn that very same day that those people were killed in oregon, a five-month-old baby strapped into her car seat in the back of a car was killed by a stray bullet in cleveland.\n",
      "-- 165 Presidential Candidate Hillary Clinton Remarks on Gun Violence\n",
      "http://www.c-span.org/video/?328577-1/hillary-clinton-remarks-gun-violence\n",
      "Predicted Clinton:  0.00184136790003\n",
      "Predicted Trump:  0.9981586321\n",
      "\n",
      "\tI would not support this agreement for one second if i thought it put israel in greater danger.\n",
      "-- 168 Presidential Candidate Hillary Clinton on Iran Nuclear Agreement\n",
      "http://www.c-span.org/video/?328006-1/hillary-clinton-address-iran-nuclear-agreement\n",
      "Predicted Clinton:  0.0022720171845\n",
      "Predicted Trump:  0.997727982816\n",
      "\n",
      "\tAnd then i was supposed to go speak to the parliament.\n",
      "-- 155 Presidential Candidate Hillary Clinton in Portsmouth, New Hampshire\n",
      "http://www.c-span.org/video/?402565-1/hillary-clinton-town-hall-meeting-portsmouth-new-hampshire\n",
      "Predicted Clinton:  0.00325531692639\n",
      "Predicted Trump:  0.996744683074\n",
      "\n",
      "\tWhen you call on people in town halls, you have no idea what they're going to say or what they are going to ask.\n",
      "-- 155 Presidential Candidate Hillary Clinton in Portsmouth, New Hampshire\n",
      "http://www.c-span.org/video/?402565-1/hillary-clinton-town-hall-meeting-portsmouth-new-hampshire\n",
      "Predicted Clinton:  0.00326486704401\n",
      "Predicted Trump:  0.996735132956\n",
      "\n",
      "\tOne that embeds our mission within isis within radical jehadism that's bigger than any one group.\n",
      "-- 159 Presidential Candidate Hillary Clinton National Security Address\n",
      "http://www.c-span.org/video/?400960-1/hillary-clinton-national-security-address\n",
      "Predicted Clinton:  0.00376981752795\n",
      "Predicted Trump:  0.996230182472\n",
      "\n",
      "\tIn louisiana they would not do it so hundreds of thousands of people were left out.\n",
      "-- 160 Hillary Clinton Town Hall Meeting in Orangeburg, South Carolina\n",
      "http://www.c-span.org/video/?400357-1/hillary-clinton-town-hall-meeting-orangeburg-south-carolina\n",
      "Predicted Clinton:  0.0039209977594\n",
      "Predicted Trump:  0.996079002241\n",
      "\n",
      "\tThis is an honor because she and i used to run a little potluck together and we would have people over and we would have a little potluck.\n",
      "-- 172 Presidential Candidate Hillary Clinton Meet-and-Greet at the Iowa State Fair, Part 1\n",
      "http://www.c-span.org/video/?327525-8/presidential-candidate-hillary-clinton-meetandgreet-iowa-state-fair-part-1\n",
      "Predicted Clinton:  0.00433425443516\n",
      "Predicted Trump:  0.995665745565\n",
      "\n",
      "\tTrump actually says he would do a much better job for women than i would that is a general election debate that is going to be a lots of fun.\n",
      "-- 170 Democratic National Committee Summer Meeting, Morning Session\n",
      "http://www.c-span.org/video/?327791-1/lincoln-chafee-hillary-clinton-dnc-summer-meeting\n",
      "Predicted Clinton:  0.00518666226186\n",
      "Predicted Trump:  0.994813337738\n",
      "\n",
      "\tAnd he has reached out and he has invited people, and they just get further and further away, and their attitude basically has become -- they don't even like the run speaker of the house.\n",
      "-- 164 Presidential Candidate Hillary Clinton Campaign Rally in Las Vegas\n",
      "http://www.c-span.org/video/?328637-1/hillary-clinton-campaign-rally-las-vegas\n",
      "Predicted Clinton:  0.00528108591591\n",
      "Predicted Trump:  0.994718914084\n",
      "\n",
      "\n",
      "\n"
     ]
    }
   ],
   "source": [
    "\n",
    "for candidate in which_candidates:\n",
    "    print \"Most\",candidate+\"-like, but not:\"\n",
    "    for idx, row in cv_result[cv_result.speaker != cv_result.predict].sort_values(by=candidate,ascending=False).iloc[0:10].iterrows():\n",
    "        sent = row.sentence\n",
    "        print \"\\t\",sent[0].upper()+sent[1:]\n",
    "        print \"--\",row.speech_idx, row.title\n",
    "        print long_df.loc[row.speech_idx].link\n",
    "        print \"Predicted Clinton: \",row.Clinton\n",
    "        print \"Predicted Trump: \",row.Trump\n",
    "        print\n",
    "    print\n",
    "    print"
   ]
  },
  {
   "cell_type": "code",
   "execution_count": 497,
   "metadata": {
    "collapsed": false
   },
   "outputs": [],
   "source": [
    "sums = {}\n",
    "for candidate in which_candidates:\n",
    "    sums[candidate] = pd.DataFrame(index=segment_coefs[0].index)\n",
    "t0 = time.time()\n",
    "for i, segment in enumerate(segment_coefs):\n",
    "    segment.drop_duplicates(inplace=True)\n",
    "    for candidate in which_candidates:\n",
    "        sums[candidate] = sums[candidate].join(segment[candidate], rsuffix=str(i))\n",
    "        sums[candidate].drop_duplicates(inplace=True)\n"
   ]
  },
  {
   "cell_type": "code",
   "execution_count": 498,
   "metadata": {
    "collapsed": false
   },
   "outputs": [],
   "source": [
    "average_coef = pd.DataFrame()\n",
    "\n",
    "for candidate in which_candidates:\n",
    "    sums[candidate].fillna(1.0, inplace=True) # odds ratio\n",
    "    #     average_coef[candidate] = sums[candidate].apply(lambda x: len(x) / sum([1./i for i in x]), axis=1)\n",
    "    logged = np.log(sums[candidate])\n",
    "    average_coef[candidate] = np.e**(logged.sum(axis=1) /  logged.shape[1])"
   ]
  },
  {
   "cell_type": "code",
   "execution_count": 499,
   "metadata": {
    "collapsed": false
   },
   "outputs": [
    {
     "name": "stdout",
     "output_type": "stream",
     "text": [
      "tremendous            13.701809\n",
      "guy                   10.184867\n",
      "frankly                8.218200\n",
      "allowed                7.518873\n",
      "illegal                7.487500\n",
      "hillary                7.398671\n",
      "almost                 7.373604\n",
      "politicians            7.341304\n",
      "japan                  6.747697\n",
      "nice                   6.562433\n",
      "incredible             6.554143\n",
      "media                  6.422707\n",
      "deals                  6.342077\n",
      "conservative           6.188342\n",
      "hell                   5.892272\n",
      "guys                   5.867672\n",
      "television             5.736043\n",
      "islamic                5.629453\n",
      "ivanka                 5.474909\n",
      "mexico                 5.441836\n",
      "does it                5.378639\n",
      "indiana                5.357320\n",
      "establishment          5.344789\n",
      "obama                  5.322339\n",
      "politician             5.208894\n",
      "numbers                5.170328\n",
      "poll                   5.146652\n",
      "general                5.129913\n",
      "christian              5.102253\n",
      "hispanics              5.079905\n",
      "terms                  4.860619\n",
      "new york values        4.859247\n",
      "five                   4.807700\n",
      "by the way             4.779443\n",
      "transgender            4.749119\n",
      "golf                   4.734159\n",
      "50                     4.728115\n",
      "we passed              4.710138\n",
      "win                    4.671311\n",
      "beautiful              4.651654\n",
      "foundation             4.625361\n",
      "border                 4.568312\n",
      "an example             4.548075\n",
      "care of                4.526515\n",
      "largest                4.525621\n",
      "illegal immigrants     4.525306\n",
      "jeb                    4.518694\n",
      "our police             4.497389\n",
      "winning                4.440500\n",
      "radical islam          4.385112\n",
      "Name: Trump, dtype: float64\n",
      "\n",
      "my husband         11.264133\n",
      "wall street         9.361492\n",
      "attention           8.468882\n",
      "or us               8.022952\n",
      "mother              7.300321\n",
      "opportunities       7.217406\n",
      "recession           7.021209\n",
      "often               7.000395\n",
      "hillary care        6.986647\n",
      "democratic          6.459523\n",
      "citizens united     6.455025\n",
      "i remember          6.388992\n",
      "progress            6.380505\n",
      "gun                 6.321954\n",
      "kids                6.175172\n",
      "learning            6.160311\n",
      "republicans         6.084936\n",
      "experiences         5.974644\n",
      "forward             5.759895\n",
      "grateful            5.707779\n",
      "investment          5.600025\n",
      "auto                5.495061\n",
      "strategy            5.452094\n",
      "about what          5.419541\n",
      "drug                5.393769\n",
      "a raise             5.381591\n",
      "my friends          5.334001\n",
      "arkansas            5.229544\n",
      "not just            5.145347\n",
      "well we             5.022897\n",
      "hope you will       4.879935\n",
      "proposal            4.872524\n",
      "barbara             4.848829\n",
      "affordable          4.832177\n",
      "senator             4.750584\n",
      "climate             4.700018\n",
      "he really           4.638831\n",
      "insurance           4.615371\n",
      "test                4.596708\n",
      "wage                4.596154\n",
      "can to              4.595709\n",
      "college             4.594001\n",
      "progressive         4.538911\n",
      "says he             4.538883\n",
      "go after            4.526497\n",
      "clean energy        4.520137\n",
      "solar               4.507602\n",
      "young people        4.397100\n",
      "the wealthy         4.374788\n",
      "one man             4.370583\n",
      "Name: Clinton, dtype: float64\n"
     ]
    }
   ],
   "source": [
    "print average_coef.sort_values(by='Trump', ascending=False).head(50)['Trump']\n",
    "print\n",
    "print average_coef.sort_values(by='Clinton', ascending=False).head(50)['Clinton']"
   ]
  },
  {
   "cell_type": "code",
   "execution_count": 592,
   "metadata": {
    "collapsed": true
   },
   "outputs": [],
   "source": [
    "average_coef.to_csv('average_coef_sept_20.csv')\n",
    "average_coef.to_csv('average_coef.csv')"
   ]
  },
  {
   "cell_type": "code",
   "execution_count": 240,
   "metadata": {
    "collapsed": false
   },
   "outputs": [],
   "source": [
    "# [sen for sen in df[['g' in re.findall(regex_token_pattern, sent) for sent in df.sentence]].sentence]"
   ]
  },
  {
   "cell_type": "code",
   "execution_count": 501,
   "metadata": {
    "collapsed": true
   },
   "outputs": [],
   "source": [
    "\n",
    "def color_map(percent, top, bottom):\n",
    "    if percent >1:\n",
    "        percent = 1\n",
    "    diff = [t-b for t,b in zip(top, bottom)]\n",
    "    \n",
    "    return [(d*percent)+b for d,b in zip(diff, bottom)]\n",
    "    "
   ]
  },
  {
   "cell_type": "code",
   "execution_count": 502,
   "metadata": {
    "collapsed": false
   },
   "outputs": [],
   "source": [
    "pronoun_coefs = average_coef.loc[[col for col in average_coef.index if col in pronouns]].sort_values('Trump', ascending=False)\n",
    "# toplot = pronoun_coefs[((pronoun_coefs.Trump >= 1.5) | (pronoun_coefs.Clinton >=1.5))].copy()\n",
    "toplot = pronoun_coefs.iloc[0:15].append(pronoun_coefs.iloc[-15:])\n"
   ]
  },
  {
   "cell_type": "code",
   "execution_count": 503,
   "metadata": {
    "collapsed": false
   },
   "outputs": [
    {
     "data": {
      "image/png": "[encoded data removed]",
      "text/plain": [
       "<matplotlib.figure.Figure at 0x1286718d0>"
      ]
     },
     "metadata": {},
     "output_type": "display_data"
    }
   ],
   "source": [
    "pronoun_coefs = average_coef.loc[[col for col in average_coef.index if col in pronouns]].sort_values('Trump', ascending=False)\n",
    "# toplot = pronoun_coefs[((pronoun_coefs.Trump >= 1.5) | (pronoun_coefs.Clinton >=1.5))].copy()\n",
    "toplot = pronoun_coefs.iloc[0:10].append(pronoun_coefs.iloc[-10:])\n",
    "\n",
    "f, (ax1) = plt.subplots(1,1, figsize=(12,9))\n",
    "label_size = 12\n",
    "value_size = 9\n",
    "\n",
    "vals = [np.log(x) for x in toplot.sort_values('Trump', ascending=False).Trump]\n",
    "\n",
    "#minimum=abs(min(vals))\n",
    "maximum=max(vals)\n",
    "minimum=maximum\n",
    "blue=[0,.1,.8]\n",
    "red = [.8,.1,0]\n",
    "white = [1,1,1]\n",
    "colors = [color_map(-value/minimum, blue, white) if value < 0 else color_map(value/maximum, red, white) for value in vals]\n",
    "\n",
    "\n",
    "sns.barplot(x=vals,\n",
    "            y=toplot.sort_values('Trump', ascending=False).index, ax=ax1,\n",
    "            palette=colors, \n",
    "#             color=colors,\n",
    "            edgecolor='black')\n",
    "\n",
    "ax1.set_title(\"How Pronouns Multiply the Predicted Odds that\\nClinton or Trump Was the Speaker\\n\", fontsize=28, color=[.25,.25,.25])\n",
    "\n",
    "# ax1.set_yticklabels([x[0].upper()+x[1:] for x in toplot.sort_values('Trump', ascending=False).index.values], fontsize=16)\n",
    "\n",
    "\n",
    "labels = [x[0].upper()+x[1:] for x in toplot.sort_values('Trump', ascending=False).index.values]\n",
    "for i, patch in enumerate(ax1.patches):\n",
    "    width = patch.get_width()\n",
    "    \n",
    "    if patch.get_x() < 0:\n",
    "        # Bars extending on the left\n",
    "        label_x = .05\n",
    "        label_halign = 'left'\n",
    "        if patch.get_width() >= np.log(1.15):     \n",
    "            value_x = patch.get_x()+.04\n",
    "            value_halign = 'left'\n",
    "        else:\n",
    "            value_x = patch.get_x()-.04\n",
    "            value_halign='right'\n",
    "    else:\n",
    "        # Bars extending on the right\n",
    "        label_x = -.05\n",
    "        label_halign = 'right'\n",
    "        if patch.get_width() >= np.log(1.15):\n",
    "            value_x = patch.get_width()-.04\n",
    "            value_halign = 'right'\n",
    "        else:\n",
    "            value_x = patch.get_width() + .04\n",
    "            value_halign = 'left'\n",
    "\n",
    "    value_color = [.1,.1,.1]\n",
    "    if patch.get_width()> np.log(2): value_color = 'white'\n",
    "    ax1.text(label_x, patch.get_y()+.61, '%s'%(labels[i]), color=[.1,.1,.1], ha=label_halign, fontsize=label_size)   \n",
    "    ax1.text(value_x, patch.get_y()+.61, '%1.2f'%(np.e**abs(vals[i])), color=value_color, ha=value_halign, fontsize=label_size)    \n",
    "\n",
    "ax1.text(-np.log(2.95), 14, 'Clinton', color='b', fontsize=24)\n",
    "ax1.text(np.log(2.95), 5, 'Trump', color='r', fontsize=24, ha='right')\n",
    "\n",
    "ax1.set_yticklabels([])\n",
    "ax1.set_xlabel('')\n",
    "ax1.set_xlim([-np.log(5),np.log(5)])\n",
    "\n",
    "ax1.set_xticks([-np.log(4),-np.log(3),-np.log(2),0,np.log(2),np.log(3), np.log(4)], minor=False)\n",
    "ax1.set_xticklabels([4,3,2,1,2,3,4], minor=False)\n",
    "\n",
    "f.text(.95, .07, 'by\\nJesse Galef', color=[.2,.2,.2], fontsize=12, alpha=.8, ha='right', weight='bold', variant='small-caps')\n",
    "\n",
    "\n",
    "plt.plot()\n",
    "f.tight_layout(rect=[0,0,.95,.95])"
   ]
  },
  {
   "cell_type": "code",
   "execution_count": 504,
   "metadata": {
    "collapsed": false
   },
   "outputs": [
    {
     "data": {
      "image/png": "[encoded data removed]",
      "text/plain": [
       "<matplotlib.figure.Figure at 0x12fc5e690>"
      ]
     },
     "metadata": {},
     "output_type": "display_data"
    }
   ],
   "source": [
    "conj_coefs = average_coef.loc[[col for col in average_coef.index if col in conjunctions]].sort_values('Trump', ascending=False)\n",
    "# toplot = pronoun_coefs[((pronoun_coefs.Truzmp >= 1.5) | (pronoun_coefs.Clinton >=1.5))].copy()\n",
    "# toplot = conj_coefs.iloc[0:10].append(conj_coefs.iloc[-10:])\n",
    "toplot = conj_coefs\n",
    "\n",
    "f, (ax1) = plt.subplots(1,1, figsize=(12,9))\n",
    "label_size = 12\n",
    "value_size = 9\n",
    "\n",
    "vals = [np.log(x) for x in toplot.sort_values('Trump', ascending=False).Trump]\n",
    "\n",
    "#minimum=abs(min(vals))\n",
    "maximum=max(vals)\n",
    "minimum=maximum\n",
    "blue=[0,.1,.8]\n",
    "red = [.8,.1,0]\n",
    "white = [1,1,1]\n",
    "colors = [color_map(-value/minimum, blue, white) if value < 0 else color_map(value/maximum, red, white) for value in vals]\n",
    "\n",
    "\n",
    "sns.barplot(x=vals,\n",
    "            y=toplot.sort_values('Trump', ascending=False).index, ax=ax1,\n",
    "            palette=colors, \n",
    "#             color=colors,\n",
    "            edgecolor='black')\n",
    "\n",
    "ax1.set_title(\"How Conjunctions Multiply the Predicted Odds that\\nClinton or Trump Was the Speaker\\n\", fontsize=28, color=[.25,.25,.25])\n",
    "\n",
    "# ax1.set_yticklabels([x[0].upper()+x[1:] for x in toplot.sort_values('Trump', ascending=False).index.values], fontsize=16)\n",
    "\n",
    "\n",
    "labels = [x[0].upper()+x[1:] for x in toplot.sort_values('Trump', ascending=False).index.values]\n",
    "for i, patch in enumerate(ax1.patches):\n",
    "    width = patch.get_width()\n",
    "    \n",
    "    if patch.get_x() < 0:\n",
    "        # Bars extending on the left\n",
    "        label_x = .05\n",
    "        label_halign = 'left'\n",
    "        if patch.get_width() >= np.log(1.15):     \n",
    "            value_x = patch.get_x()+.04\n",
    "            value_halign = 'left'\n",
    "        else:\n",
    "            value_x = patch.get_x()-.04\n",
    "            value_halign='right'\n",
    "    else:\n",
    "        # Bars extending on the right\n",
    "        label_x = -.05\n",
    "        label_halign = 'right'\n",
    "        if patch.get_width() >= np.log(1.15):\n",
    "            value_x = patch.get_width()-.04\n",
    "            value_halign = 'right'\n",
    "        else:\n",
    "            value_x = patch.get_width() + .04\n",
    "            value_halign = 'left'\n",
    "\n",
    "    value_color = [.1,.1,.1]\n",
    "    if patch.get_width()> np.log(2): value_color = 'white'\n",
    "    ax1.text(label_x, patch.get_y()+.61, '%s'%(labels[i]), color=[.1,.1,.1], ha=label_halign, fontsize=label_size)   \n",
    "    ax1.text(value_x, patch.get_y()+.61, '%1.2f'%(np.e**abs(vals[i])), color=value_color, ha=value_halign, fontsize=label_size)    \n",
    "\n",
    "ax1.text(-np.log(2.95), 14, 'Clinton', color='b', fontsize=24)\n",
    "ax1.text(np.log(2.95), 5, 'Trump', color='r', fontsize=24, ha='right')\n",
    "\n",
    "ax1.set_yticklabels([])\n",
    "ax1.set_xlabel('')\n",
    "ax1.set_xlim([-np.log(5),np.log(5)])\n",
    "\n",
    "ax1.set_xticks([-np.log(4),-np.log(3),-np.log(2),0,np.log(2),np.log(3), np.log(4)], minor=False)\n",
    "ax1.set_xticklabels([4,3,2,1,2,3,4], minor=False)\n",
    "\n",
    "f.text(.95, .07, 'by\\nJesse Galef', color=[.2,.2,.2], fontsize=12, alpha=.8, ha='right', weight='bold', variant='small-caps')\n",
    "\n",
    "\n",
    "plt.plot()\n",
    "f.tight_layout(rect=[0,0,.95,.95])"
   ]
  },
  {
   "cell_type": "code",
   "execution_count": 505,
   "metadata": {
    "collapsed": false
   },
   "outputs": [
    {
     "data": {
      "image/png": "[encoded data removed]",
      "text/plain": [
       "<matplotlib.figure.Figure at 0x12ebccf50>"
      ]
     },
     "metadata": {},
     "output_type": "display_data"
    }
   ],
   "source": [
    "#  seaborn.barplot(x=None, y=None, hue=None, data=None, order=None, hue_order=None, \n",
    "#  estimator=<function mean>, ci=95, n_boot=1000, units=None, orient=None, color=None,\n",
    "#  palette=None, saturation=0.75, errcolor='.26', errwidth=None, capsize=None, ax=None, **kwargs)¶\n",
    "f, ax1 = plt.subplots(1,1, figsize=(15,9))\n",
    "\n",
    "ax1.set_yticks([-1*np.log(x) for x in range(10,1,-1)]+[0]+[np.log(y) for y in range(2,11)])\n",
    "    \n",
    "ax1.set_yticklabels(range(10,1,-1)+['1']+range(2,11))\n",
    "\n",
    "\n",
    "ax1.set_ylabel('')\n",
    "\n",
    "label_font_size = 14\n",
    "value_font_size=11\n",
    "rotate =60\n",
    "n_words = 20\n",
    "\n",
    "color_adjustment = np.log(3)\n",
    "val_series = average_coef.sort_values('Trump', ascending=False)['Trump']\n",
    "vals = val_series[:n_words].append(val_series[-n_words:])\n",
    "vals = np.log(vals)\n",
    "\n",
    "# minimum=abs(min(vals))\n",
    "maximum=max(vals)\n",
    "minimum=maximum\n",
    "blue=[0,.1,.8]\n",
    "red = [.8,.1,0]\n",
    "white = [1,1,1]\n",
    "\n",
    "colors = [color_map(-(value+color_adjustment)/(minimum-color_adjustment), blue, white) if value < 0 else color_map((value-color_adjustment)/(maximum-color_adjustment), red, white) for value in vals]\n",
    "\n",
    "sns.barplot(y=vals,\n",
    "            x=vals.index, ax=ax1,\n",
    "            palette=colors, \n",
    "#             color=colors,\n",
    "            edgecolor='black')\n",
    "\n",
    "ax1.set_xticks([])\n",
    "ax1.set_xlabel('')\n",
    "ax1.set_title(\"Top \"+str(n_words)+\" Words/Phrases that Multiply the Predicted Odds\\nClinton or Trump was the Speaker\\n\", fontsize=28, color=[.25,.25,.25])\n",
    "\n",
    "\n",
    "labels = [x[0].upper()+x[1:] for x in vals.sort_values(ascending=False).index.values]\n",
    "\n",
    "for i, patch in enumerate(ax1.patches):\n",
    "    height = patch.get_height()\n",
    "    if patch.get_y() < 0:\n",
    "#         y = patch.get_y() -.5\n",
    "        if height > np.log(6): \n",
    "            color = 'white'\n",
    "        else:\n",
    "            color = 'black'\n",
    "\n",
    "        ax1.text(patch.get_x()+.1, .1, '%s'%(labels[i]), color=[.1,.1,.1], va='bottom', ha='left', rotation=rotate, fontsize=label_font_size)\n",
    "        ax1.text(patch.get_x()+.15, patch.get_y()+.15, '%1.2f'%(np.e**abs(vals[i])), color=color, rotation=90, va='bottom', fontsize=value_font_size)\n",
    "    else:\n",
    "        if height > np.log(7): \n",
    "            color = 'white'\n",
    "        else:\n",
    "            color = 'black'\n",
    "        ax1.text(patch.get_x()+.7, -.05, '%s'%(labels[i]), color=[.1,.1,.1], ha='right', va='top', rotation=rotate, fontsize=label_font_size)\n",
    "        ax1.text(patch.get_x()+.15, patch.get_y()+height-.3, '%1.2f'%(np.e**abs(vals[i])), color=color, rotation = 90, va='bottom', fontsize=value_font_size)\n",
    "\n",
    "            \n",
    "f.text(.95, .95, 'Jesse Galef', color=[.2,.2,.2], fontsize=16, alpha=.8, ha='right', weight='bold', variant='small-caps')\n",
    "\n",
    "ax1.set_ylim([-np.log(14), np.log(14)])\n",
    "\n",
    "# ax1.yaxis.tick_right()\n",
    "# ax1.yaxis.set_ticks_position('both')\n",
    "\n",
    "for i, ygrid in enumerate(ax1.get_ygridlines()):\n",
    "#     print ygrid.get_ydata(orig=False)[0], np.log(2)\n",
    "#     if abs(ygrid.get_ydata(orig=True)[0]) == np.log(2):\n",
    "    if i==8 or i==10:\n",
    "        ygrid.set_xdata([0,0])\n",
    "\n",
    "plt.grid(which='major', color=[.7,.7,.7], alpha=.7)\n",
    "plt.margins(.3)\n",
    "plt.plot()\n",
    "f.tight_layout(rect=[0,0,.95,.95])\n",
    "\n"
   ]
  },
  {
   "cell_type": "code",
   "execution_count": 572,
   "metadata": {
    "collapsed": false
   },
   "outputs": [
    {
     "name": "stdout",
     "output_type": "stream",
     "text": [
      "Clinton    1.173858\n",
      "Trump      0.851892\n",
      "Name: believe, dtype: float64\n",
      "Clinton    0.260293\n",
      "Trump      3.841824\n",
      "Name: believe me, dtype: float64\n",
      "Clinton    0.187887\n",
      "Trump      5.322339\n",
      "Name: obama, dtype: float64\n",
      "Clinton    3.876268\n",
      "Trump      0.257980\n",
      "Name: president obama, dtype: float64\n",
      "Clinton    0.267514\n",
      "Trump      3.738117\n",
      "Name: bernie, dtype: float64\n",
      "Clinton    3.009256\n",
      "Trump      0.332308\n",
      "Name: senator sanders, dtype: float64\n",
      "Clinton    3.922111\n",
      "Trump      0.254965\n",
      "Name: muslims, dtype: float64\n",
      "Clinton    0.520325\n",
      "Trump      1.921877\n",
      "Name: the muslims, dtype: float64\n"
     ]
    }
   ],
   "source": [
    "print average_coef.loc['believe']\n",
    "print average_coef.loc['believe me']\n",
    "print average_coef.loc['obama']\n",
    "print average_coef.loc['president obama']\n",
    "print average_coef.loc['bernie']\n",
    "print average_coef.loc['senator sanders']\n",
    "print average_coef.loc['muslims']\n",
    "print average_coef.loc['the muslims']\n",
    "# muslims vs the muslims\n",
    "# believe me vs believe them (cheap)"
   ]
  },
  {
   "cell_type": "code",
   "execution_count": 513,
   "metadata": {
    "collapsed": false
   },
   "outputs": [
    {
     "name": "stdout",
     "output_type": "stream",
     "text": [
      "Clinton    1.423100\n",
      "Trump      0.702691\n",
      "Name: avg_word_length, dtype: float64\n",
      "Clinton    0.974539\n",
      "Trump      1.026127\n",
      "Name: num_words, dtype: float64\n",
      "Clinton    1.257456\n",
      "Trump      0.795256\n",
      "Name: num_words_sqrt, dtype: float64\n"
     ]
    }
   ],
   "source": [
    "print average_coef.loc['avg_word_length']\n",
    "print average_coef.loc['num_words']\n",
    "print average_coef.loc['num_words_sqrt']\n"
   ]
  },
  {
   "cell_type": "code",
   "execution_count": 588,
   "metadata": {
    "collapsed": false
   },
   "outputs": [
    {
     "data": {
      "text/html": [
       "<div>\n",
       "<table border=\"1\" class=\"dataframe\">\n",
       "  <thead>\n",
       "    <tr style=\"text-align: right;\">\n",
       "      <th></th>\n",
       "      <th>Clinton</th>\n",
       "      <th>Trump</th>\n",
       "    </tr>\n",
       "  </thead>\n",
       "  <tbody>\n",
       "    <tr>\n",
       "      <th>myself</th>\n",
       "      <td>0.360461</td>\n",
       "      <td>2.774224</td>\n",
       "    </tr>\n",
       "  </tbody>\n",
       "</table>\n",
       "</div>"
      ],
      "text/plain": [
       "         Clinton     Trump\n",
       "myself  0.360461  2.774224"
      ]
     },
     "execution_count": 588,
     "metadata": {},
     "output_type": "execute_result"
    }
   ],
   "source": [
    "word = 'myself'\n",
    "# word_in_term = [word in re.findall(regex_token_pattern,term) for term in average_coef.index]\n",
    "word_in_term = [word in term for term in average_coef.index]\n",
    "\n",
    "average_coef[word_in_term]"
   ]
  },
  {
   "cell_type": "code",
   "execution_count": null,
   "metadata": {
    "collapsed": true
   },
   "outputs": [],
   "source": []
  }
 ],
 "metadata": {
  "celltoolbar": "Raw Cell Format",
  "kernelspec": {
   "display_name": "Python 2",
   "language": "python",
   "name": "python2"
  },
  "language_info": {
   "codemirror_mode": {
    "name": "ipython",
    "version": 2
   },
   "file_extension": ".py",
   "mimetype": "text/x-python",
   "name": "python",
   "nbconvert_exporter": "python",
   "pygments_lexer": "ipython2",
   "version": "2.7.11"
  }
 },
 "nbformat": 4,
 "nbformat_minor": 0
}
