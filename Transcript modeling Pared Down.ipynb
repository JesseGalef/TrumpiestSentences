{
 "cells": [
  {
   "cell_type": "code",
   "execution_count": null,
   "metadata": {
    "collapsed": true
   },
   "outputs": [],
   "source": [
    "# Jesse Galef\n",
    "# Using data scraped from C-SPAN's uncorrected closed caption transcripts\n"
   ]
  },
  {
   "cell_type": "code",
   "execution_count": 1,
   "metadata": {
    "collapsed": true
   },
   "outputs": [],
   "source": [
    "import pandas as pd\n",
    "import numpy as np"
   ]
  },
  {
   "cell_type": "code",
   "execution_count": 23,
   "metadata": {
    "collapsed": true
   },
   "outputs": [],
   "source": [
    "import re"
   ]
  },
  {
   "cell_type": "code",
   "execution_count": 2,
   "metadata": {
    "collapsed": true
   },
   "outputs": [],
   "source": [
    "from bs4 import BeautifulSoup\n",
    "import urllib"
   ]
  },
  {
   "cell_type": "code",
   "execution_count": 3,
   "metadata": {
    "collapsed": true
   },
   "outputs": [],
   "source": [
    "from scipy.sparse import csr_matrix, hstack\n",
    "from scipy.stats import skew, kurtosis"
   ]
  },
  {
   "cell_type": "code",
   "execution_count": 3,
   "metadata": {
    "collapsed": false
   },
   "outputs": [],
   "source": [
    "from sklearn.feature_extraction.text import CountVectorizer, TfidfVectorizer\n",
    "from sklearn.linear_model import LogisticRegression\n",
    "from sklearn.metrics import roc_curve, roc_auc_score\n",
    "from sklearn.grid_search import GridSearchCV \n",
    "from sklearn.cross_validation import StratifiedKFold\n",
    "\n",
    "from sklearn.grid_search import GridSearchCV \n",
    "\n",
    "from sklearn.pipeline import Pipeline, make_pipeline, make_union, FeatureUnion\n",
    "from sklearn.base import TransformerMixin, BaseEstimator\n",
    "from sklearn.feature_selection import SelectPercentile, SelectKBest, chi2, f_classif\n"
   ]
  },
  {
   "cell_type": "code",
   "execution_count": 4,
   "metadata": {
    "collapsed": false
   },
   "outputs": [],
   "source": [
    "import matplotlib.pyplot as plt\n",
    "import seaborn as sns\n",
    "%matplotlib inline\n",
    "plt.style.use('fivethirtyeight')"
   ]
  },
  {
   "cell_type": "code",
   "execution_count": 6,
   "metadata": {
    "collapsed": false
   },
   "outputs": [],
   "source": [
    "# from spacy.en import English\n",
    "# from spacy import attrs\n",
    "# nlp_toolkit = English()\n",
    "# This does word POS much much faster than nltk's pos_tagger"
   ]
  },
  {
   "cell_type": "code",
   "execution_count": 5,
   "metadata": {
    "collapsed": true
   },
   "outputs": [],
   "source": [
    "from nltk.tokenize import sent_tokenize, word_tokenize\n",
    "# NLTK's sent_tokenize looks more accurate than Spacy's, and I only need to run it once\n",
    "from nltk.corpus import stopwords\n",
    "stops = list(stopwords.words('english'))"
   ]
  },
  {
   "cell_type": "code",
   "execution_count": 6,
   "metadata": {
    "collapsed": false
   },
   "outputs": [],
   "source": [
    "from textblob import TextBlob\n",
    "# "
   ]
  },
  {
   "cell_type": "markdown",
   "metadata": {},
   "source": [
    "# POS dict"
   ]
  },
  {
   "cell_type": "code",
   "execution_count": 8,
   "metadata": {
    "collapsed": false
   },
   "outputs": [],
   "source": [
    "conjunctions = [u'and',u'that',u'but',u'or',u'as',u'if',u'when',u'than',u'because',\n",
    "                u'while',u'where',u'after',u'so',u'though',u'since',u'until',u'whether',\n",
    "                u'before',u'although',u'nor',u'like',u'once',u'unless',u'now',u'except']"
   ]
  },
  {
   "cell_type": "code",
   "execution_count": 9,
   "metadata": {
    "collapsed": true
   },
   "outputs": [],
   "source": [
    "pronouns = [u\"all\", u\"another\", u\"any\", u\"anybody\", u\"anyone\", u\"anything\", u\"both\", u\"each\", u\"each other\",\n",
    "            u\"either\", u\"everybody\", u\"everyone\", u\"everything\", u\"few\", u\"he\", u\"her\", u\"hers\",\n",
    "            u\"herself\", u\"him\", u\"himself\", u\"his\", u\"i\", u\"it\", u\"its\", u\"itself\", u\"little\",\n",
    "            u\"many\", u\"me\", u\"mine\", u\"more\", u\"most\", u\"much\", u\"my\", u\"myself\", u\"neither\", \n",
    "            u\"no one\", u\"nobody\", u\"none\", u\"nothing\", u\"one\", u\"one another\", u\"other\", u\"others\",\n",
    "            u\"our\", u\"ours\", u\"ourselves\", u\"several\", u\"she\", u\"some\", u\"somebody\", u\"someone\",\n",
    "            u\"something\", u\"that\", u\"their\", u\"theirs\", u\"them\", u\"themselves\", u\"these\", u\"they\",\n",
    "            u\"this\", u\"those\", u\"us\", u\"we\", u\"what\", u\"whatever\", u\"which\", u\"whichever\", u\"who\",\n",
    "            u\"whoever\", u\"whom\", u\"whomever\", u\"whose\", u\"you\", u\"your\", u\"yours\", u\"yourself\", u\"yourselves\"]"
   ]
  },
  {
   "cell_type": "markdown",
   "metadata": {},
   "source": [
    "# Transformer classes and Functions"
   ]
  },
  {
   "cell_type": "code",
   "execution_count": 10,
   "metadata": {
    "collapsed": true
   },
   "outputs": [],
   "source": [
    "\n",
    "def pipeline_features(step):\n",
    "    # Passed a pipeline or pipeline step, recursively checks each named \n",
    "    # step and builds a list of features.\n",
    "    # This returns the list in the same order that the estimator uses\n",
    "    \n",
    "    features = []\n",
    "    if type(step)==Pipeline:\n",
    "        for named_step in step.named_steps:\n",
    "            features = features + pipeline_features(step.named_steps[named_step])\n",
    "    elif type(step) == FeatureUnion:\n",
    "        for transformer in step.transformer_list:\n",
    "            features = features + pipeline_features(transformer[1])\n",
    "    elif (type(step) == LogisticRegression):# or (type(step) == MultinomialNB):\n",
    "        features = []\n",
    "    else:\n",
    "        features = step.get_feature_names()\n",
    "    return features\n"
   ]
  },
  {
   "cell_type": "code",
   "execution_count": 11,
   "metadata": {
    "collapsed": true
   },
   "outputs": [],
   "source": [
    "def pipeline_coef_df(pipeline):\n",
    "    # Passed a pipeline with estimator, creates a DataFrame of the coeficients for each class\n",
    "    \n",
    "    feature_list = pipeline_features(pipeline)\n",
    "    if len(pipeline.named_steps['classifier'].classes_) == 2:\n",
    "        coef_df = pd.DataFrame(pipeline.named_steps['classifier'].coef_, \n",
    "                           index = [pipeline.named_steps['classifier'].classes_[1]],\n",
    "                           columns=feature_list).transpose()\n",
    "        coef_df[pipeline.named_steps['classifier'].classes_[0]] = -coef_df[pipeline.named_steps['classifier'].classes_[1]]\n",
    "    else:\n",
    "        coef_df = pd.DataFrame(pipeline.named_steps['classifier'].coef_, \n",
    "                           index = pipeline.named_steps['classifier'].classes_, \n",
    "                           columns=feature_list).transpose()\n",
    "    return np.e**(coef_df) # To get the odds ratios rather than the log odds\n",
    "        \n",
    "def top_coefs(pipeline, n_coefs):\n",
    "    coef_df = pipeline_coef_df(pipeline)\n",
    "    for candidate in coef_df.columns:\n",
    "        print candidate,\":\"\n",
    "        print coef_df.sort_values(by=candidate, ascending=False).ix[0:n_coefs,candidate]\n",
    "        print"
   ]
  },
  {
   "cell_type": "code",
   "execution_count": 12,
   "metadata": {
    "collapsed": false
   },
   "outputs": [],
   "source": [
    "class best_vectorizer(TransformerMixin, BaseEstimator):\n",
    "    # Transformer that takes a vectorizer and sklearn selector (like SelectKBest or SelectPercentile)\n",
    "    # to find the n best features\n",
    "    \n",
    "    def __init__(self, vectorizer, selector, name):\n",
    "        self.vectorizer=vectorizer\n",
    "        self.selector=selector\n",
    "        self.name = name\n",
    "    \n",
    "    def fit(self, X, y, **fit_params):\n",
    "        vectors = self.vectorizer.fit_transform(X)\n",
    "        self.selector.fit(vectors, y)\n",
    "#         self.vectorizer.vocbulary = self.get_feature_names()\n",
    "        return self\n",
    "\n",
    "    def transform(self, X, **transform_params):\n",
    "        return self.selector.transform(self.vectorizer.transform(X))\n",
    "    \n",
    "    def get_feature_names(self):\n",
    "        return [self.name+feature for feature, used in zip(self.vectorizer.get_feature_names(), self.selector.get_support()) if used==True]\n",
    "    \n",
    "    "
   ]
  },
  {
   "cell_type": "code",
   "execution_count": 14,
   "metadata": {
    "collapsed": true
   },
   "outputs": [],
   "source": [
    "class used_multiple(TransformerMixin, BaseEstimator):\n",
    "    def __init__ (self, vectorizer):\n",
    "        self.vectorizer = vectorizer\n",
    "\n",
    "    def fit(self, X, y=None, **fit_params):\n",
    "        self.vectorizer.fit(X)\n",
    "        return self\n",
    "\n",
    "    def transform(self, X, **transform_params):\n",
    "        vectors = pd.DataFrame(self.vectorizer.transform(X).todense(), columns=self.vectorizer.get_feature_names())\n",
    "        vectors = vectors[vectors>1]\n",
    "        vectors.fillna(0, inplace=True)\n",
    "        return vectors\n",
    "\n",
    "    def get_feature_names(self):\n",
    "        return ['multiple_'+feat for feat in self.vectorizer.get_feature_names()]"
   ]
  },
  {
   "cell_type": "code",
   "execution_count": 15,
   "metadata": {
    "collapsed": true
   },
   "outputs": [],
   "source": [
    "class repeats(TransformerMixin, BaseEstimator):\n",
    "    def __init__ (self):\n",
    "        self.vectorizer = CountVectorizer()\n",
    "    \n",
    "    def fit(self, X, y=None, **fit_params):\n",
    "        self.vectorizer.fit(X)\n",
    "        return self\n",
    "    \n",
    "    def transform(self, X):\n",
    "        repeats = []\n",
    "        for sentence in X:            \n",
    "            sent_repeats = []\n",
    "            tokenized = self.vectorizer.build_tokenizer()(sentence)\n",
    "            for i in range(len(tokenized)-1):\n",
    "                if tokenized[i]==tokenized[i+1]:\n",
    "                    sent_repeats.append(tokenized[i])\n",
    "            repeats.append(' '.join(sent_repeats))\n",
    "        return pd.DataFrame(self.vectorizer.transform(repeats).todense(), columns=self.get_feature_names())\n",
    "    \n",
    "    def get_feature_names(self):\n",
    "        return ['repeated_'+feat for feat in self.vectorizer.get_feature_names()]"
   ]
  },
  {
   "cell_type": "code",
   "execution_count": 17,
   "metadata": {
    "collapsed": true
   },
   "outputs": [],
   "source": [
    "class quick_stats(TransformerMixin, BaseEstimator):\n",
    "    # Incredibly rough/crude stats on each sentence in order to be fast - no parsing\n",
    "    \n",
    "    def __init__(self):\n",
    "        pass\n",
    "    \n",
    "    def fit(self, X, y=None, **fit_params):\n",
    "        return self\n",
    "    \n",
    "    def transform(self, X, **transform_params):\n",
    "        stats = []\n",
    "        for sentence in X:\n",
    "            stats.append({\n",
    "                    'length': len(sentence),\n",
    "                    'spaces': sentence.count(' '),\n",
    "                    'avg_word_ish': len(sentence)/float(sentence.count(' ')+1),\n",
    "                    'clause_breaks': sentence.count(',') + sentence.count('-'),\n",
    "                })\n",
    "        return pd.DataFrame(stats)\n",
    "    \n",
    "    def get_feature_names(self):\n",
    "        return ['length', 'spaces', 'avg_word_ish', 'clause_breaks']"
   ]
  },
  {
   "cell_type": "code",
   "execution_count": 18,
   "metadata": {
    "collapsed": true
   },
   "outputs": [],
   "source": [
    "class sentiments(TransformerMixin, BaseEstimator):\n",
    "    def __init__(self, vectorizer):\n",
    "        self.vectorizer = vectorizer\n",
    "    \n",
    "    def fit(self, X, y=None):\n",
    "        self.vectorizer.fit(X)\n",
    "        return self\n",
    "    \n",
    "    def transform(self, X):\n",
    "        sent_vectors = pd.DataFrame(self.vectorizer.transform(X).todense())\n",
    "        polarities = []\n",
    "        subjectivities = []\n",
    "        for sentence in X:\n",
    "            polarity, subjectivity = TextBlob(sentence).sentiment\n",
    "            polarities.append(polarity)\n",
    "            subjectivities.append(subjectivity)\n",
    "        polarity_vectors = sent_vectors.copy().multiply(polarities, axis=0)\n",
    "        subjectivity_vectors = sent_vectors.copy().multiply(subjectivities, axis=0)\n",
    "        return polarity_vectors.join(subjectivity_vectors,lsuffix='polarity', rsuffix='subjectivity')\n",
    "    \n",
    "    def get_feature_names(self):\n",
    "        return ['polarity_'+i for i in self.vectorizer.get_feature_names()]+['subjectivity_'+i for i in self.vectorizer.get_feature_names()]\n"
   ]
  },
  {
   "cell_type": "markdown",
   "metadata": {},
   "source": [
    "# Start reading data"
   ]
  },
  {
   "cell_type": "code",
   "execution_count": 19,
   "metadata": {
    "collapsed": false
   },
   "outputs": [],
   "source": [
    "republicans = ['Trump']#,'Cruz','Kasich','Rubio','Bush']\n",
    "democrats = ['Clinton']#,'Sanders']\n",
    "\n",
    "long_df = pd.DataFrame()\n",
    "for candidate in republicans+democrats:\n",
    "    long_df = long_df.append(pd.read_csv(candidate+\"_transcript_df.csv\",index_col=0),ignore_index=True)"
   ]
  },
  {
   "cell_type": "code",
   "execution_count": 20,
   "metadata": {
    "collapsed": false
   },
   "outputs": [
    {
     "data": {
      "text/plain": [
       "(186, 6)"
      ]
     },
     "execution_count": 20,
     "metadata": {},
     "output_type": "execute_result"
    }
   ],
   "source": [
    "long_df.shape"
   ]
  },
  {
   "cell_type": "code",
   "execution_count": 21,
   "metadata": {
    "collapsed": false
   },
   "outputs": [
    {
     "data": {
      "text/plain": [
       "Trump      97\n",
       "Clinton    89\n",
       "Name: speaker, dtype: int64"
      ]
     },
     "execution_count": 21,
     "metadata": {},
     "output_type": "execute_result"
    }
   ],
   "source": [
    "long_df.speaker.value_counts()"
   ]
  },
  {
   "cell_type": "code",
   "execution_count": 25,
   "metadata": {
    "collapsed": false
   },
   "outputs": [
    {
     "name": "stdout",
     "output_type": "stream",
     "text": [
      "CPU times: user 9.15 s, sys: 730 ms, total: 9.88 s\n",
      "Wall time: 10.2 s\n"
     ]
    }
   ],
   "source": [
    "%%time\n",
    "sentence_list = []\n",
    "for idx, speech in long_df.iterrows():\n",
    "    raw = unicode(speech.text,errors='ignore').lower().replace('  ',' ').replace('>','').replace('w3','').replace(' v ','')\n",
    "    #Fixing a few known glitches in the C-SPAN transcribing service\n",
    "    sentences = sent_tokenize(raw)\n",
    "    for sentence in sentences:\n",
    "        sent_info = {}\n",
    "        sent_info['sentence'] = sentence\n",
    "        sent_info['speaker'] = speech.speaker\n",
    "        sent_info['date'] = speech.date\n",
    "        sent_info['title'] = speech.title\n",
    "        sent_info['speech_idx'] = idx\n",
    "        sent_info['tokens'] = len(re.findall('\\\\b\\\\w+\\\\b', sentence))\n",
    "        sentence_list.append(sent_info)\n",
    "raw_df = pd.DataFrame(sentence_list)"
   ]
  },
  {
   "cell_type": "code",
   "execution_count": 26,
   "metadata": {
    "collapsed": false
   },
   "outputs": [
    {
     "data": {
      "text/plain": [
       "Trump      41131\n",
       "Clinton    17649\n",
       "Name: speaker, dtype: int64"
      ]
     },
     "execution_count": 26,
     "metadata": {},
     "output_type": "execute_result"
    }
   ],
   "source": [
    "raw_df.speaker.value_counts()"
   ]
  },
  {
   "cell_type": "code",
   "execution_count": 27,
   "metadata": {
    "collapsed": false
   },
   "outputs": [
    {
     "data": {
      "text/plain": [
       "(0, 100)"
      ]
     },
     "execution_count": 27,
     "metadata": {},
     "output_type": "execute_result"
    },
    {
     "data": {
      "image/png": "[encoded data removed]",
      "text/plain": [
       "<matplotlib.figure.Figure at 0x11abd5150>"
      ]
     },
     "metadata": {},
     "output_type": "display_data"
    }
   ],
   "source": [
    "raw_df[raw_df.tokens <=200].tokens.hist(bins=50)\n",
    "plt.xlim([0,100])"
   ]
  },
  {
   "cell_type": "code",
   "execution_count": 28,
   "metadata": {
    "collapsed": true
   },
   "outputs": [],
   "source": [
    "declarations = {}\n",
    "declarations['Trump'] = '2015-06-16'\n",
    "declarations['Clinton'] = '2015-04-11'\n"
   ]
  },
  {
   "cell_type": "code",
   "execution_count": 56,
   "metadata": {
    "collapsed": false
   },
   "outputs": [
    {
     "name": "stdout",
     "output_type": "stream",
     "text": [
      "0 1.0\n",
      "1 0.999574685267\n",
      "2 0.982647158898\n",
      "3 0.949880911875\n",
      "4 0.897669275264\n",
      "5 0.821725076557\n",
      "6 0.737002381763\n",
      "7 0.655512078938\n",
      "8 0.580163320857\n",
      "9 0.515226267438\n",
      "10 0.45945899966\n",
      "11 0.409544062606\n",
      "12 0.366400136101\n",
      "13 0.328291936033\n",
      "14 0.295661789724\n",
      "15 0.265209254849\n",
      "16 0.237682885335\n",
      "17 0.21318475672\n",
      "18 0.191187478734\n",
      "19 0.171554950663\n"
     ]
    }
   ],
   "source": [
    "for i in range(20):\n",
    "    print i, len(raw_df[raw_df.tokens>=i])/float(len(raw_df))"
   ]
  },
  {
   "cell_type": "code",
   "execution_count": 57,
   "metadata": {
    "collapsed": false
   },
   "outputs": [],
   "source": [
    "min_length = 10\n",
    "max_length = 150\n",
    "df = raw_df[raw_df.tokens >= min_length]\n",
    "df = df[df.tokens <= max_length]\n",
    "# post_dec = [date > dec for date,dec in zip(df.date, [declarations[candidate] for candidate in df.speaker])]\n",
    "# df = df[post_dec]"
   ]
  },
  {
   "cell_type": "code",
   "execution_count": 58,
   "metadata": {
    "collapsed": false
   },
   "outputs": [
    {
     "data": {
      "text/plain": [
       "Trump      15699\n",
       "Clinton    11305\n",
       "Name: speaker, dtype: int64"
      ]
     },
     "execution_count": 58,
     "metadata": {},
     "output_type": "execute_result"
    }
   ],
   "source": [
    "df.speaker.value_counts()"
   ]
  },
  {
   "cell_type": "code",
   "execution_count": 59,
   "metadata": {
    "collapsed": false
   },
   "outputs": [
    {
     "data": {
      "text/plain": [
       "0.58135831728632792"
      ]
     },
     "execution_count": 59,
     "metadata": {},
     "output_type": "execute_result"
    }
   ],
   "source": [
    "max(df.speaker.value_counts())/float(len(df))"
   ]
  },
  {
   "cell_type": "markdown",
   "metadata": {},
   "source": [
    "# Data In, configure Pipeline"
   ]
  },
  {
   "cell_type": "code",
   "execution_count": 60,
   "metadata": {
    "collapsed": false
   },
   "outputs": [],
   "source": [
    "vectorizer = CountVectorizer(\n",
    "#                          max_features = 7000,\n",
    "                         ngram_range=(1,3), \n",
    "#                          stop_words='english',\n",
    "                         decode_error='ignore',\n",
    "                         min_df = 5,\n",
    "                         binary=True,\n",
    "                        token_pattern = '(?u)\\\\b\\\\w+\\\\b',\n",
    "                            )\n",
    "\n",
    "all_features = [\n",
    "      ('top_words', best_vectorizer(vectorizer, selector=SelectKBest(chi2, 2000), name='')),\n",
    "#       ('sentiment_terms', sentiments(CountVectorizer(max_features=2000))),\n",
    "#     ('quickstats', quick_stats()),\n",
    "#     ('consec', best_vectorizer(repeats(), selector=SelectKBest(chi2, 20), name='')),\n",
    "#     ('multiple', used_multiple(CountVectorizer())),\n",
    "    ]\n",
    "    \n",
    "    "
   ]
  },
  {
   "cell_type": "code",
   "execution_count": 81,
   "metadata": {
    "collapsed": false
   },
   "outputs": [],
   "source": [
    "pipeline = Pipeline([\n",
    "  ('features', FeatureUnion(all_features)), # Currently the best_vectorizer\n",
    "    ('classifier', LogisticRegression())]\n",
    ")"
   ]
  },
  {
   "cell_type": "markdown",
   "metadata": {},
   "source": [
    "# Cross Validate"
   ]
  },
  {
   "cell_type": "code",
   "execution_count": 62,
   "metadata": {
    "collapsed": true
   },
   "outputs": [],
   "source": [
    "which_candidates = ['Clinton','Trump']"
   ]
  },
  {
   "cell_type": "code",
   "execution_count": 63,
   "metadata": {
    "collapsed": true
   },
   "outputs": [],
   "source": [
    "from sklearn.cross_validation import cross_val_score\n",
    "import time"
   ]
  },
  {
   "cell_type": "code",
   "execution_count": 83,
   "metadata": {
    "collapsed": false,
    "scrolled": true
   },
   "outputs": [
    {
     "name": "stdout",
     "output_type": "stream",
     "text": [
      "Fitting 5 folds for each of 16 candidates, totalling 80 fits\n",
      "[CV] features__top_words__vectorizer__binary=True, classifier__C=0.1, features__top_words__selector__score_func=<function chi2 at 0x11494ae60> \n",
      "[CV]  features__top_words__vectorizer__binary=True, classifier__C=0.1, features__top_words__selector__score_func=<function chi2 at 0x11494ae60> -   8.0s\n",
      "[CV] features__top_words__vectorizer__binary=True, classifier__C=0.1, features__top_words__selector__score_func=<function chi2 at 0x11494ae60> \n",
      "[CV]  features__top_words__vectorizer__binary=True, classifier__C=0.1, features__top_words__selector__score_func=<function chi2 at 0x11494ae60> -   7.7s\n",
      "[CV] features__top_words__vectorizer__binary=True, classifier__C=0.1, features__top_words__selector__score_func=<function chi2 at 0x11494ae60> \n",
      "[CV]  features__top_words__vectorizer__binary=True, classifier__C=0.1, features__top_words__selector__score_func=<function chi2 at 0x11494ae60> -  10.4s\n",
      "[CV] features__top_words__vectorizer__binary=True, classifier__C=0.1, features__top_words__selector__score_func=<function chi2 at 0x11494ae60> \n",
      "[CV]  features__top_words__vectorizer__binary=True, classifier__C=0.1, features__top_words__selector__score_func=<function chi2 at 0x11494ae60> -  14.7s\n",
      "[CV] features__top_words__vectorizer__binary=True, classifier__C=0.1, features__top_words__selector__score_func=<function chi2 at 0x11494ae60> \n",
      "[CV]  features__top_words__vectorizer__binary=True, classifier__C=0.1, features__top_words__selector__score_func=<function chi2 at 0x11494ae60> -   9.6s\n",
      "[CV] features__top_words__vectorizer__binary=False, classifier__C=0.1, features__top_words__selector__score_func=<function chi2 at 0x11494ae60> \n",
      "[CV]  features__top_words__vectorizer__binary=False, classifier__C=0.1, features__top_words__selector__score_func=<function chi2 at 0x11494ae60> -   9.2s\n",
      "[CV] features__top_words__vectorizer__binary=False, classifier__C=0.1, features__top_words__selector__score_func=<function chi2 at 0x11494ae60> \n",
      "[CV]  features__top_words__vectorizer__binary=False, classifier__C=0.1, features__top_words__selector__score_func=<function chi2 at 0x11494ae60> -  11.1s\n",
      "[CV] features__top_words__vectorizer__binary=False, classifier__C=0.1, features__top_words__selector__score_func=<function chi2 at 0x11494ae60> \n",
      "[CV]  features__top_words__vectorizer__binary=False, classifier__C=0.1, features__top_words__selector__score_func=<function chi2 at 0x11494ae60> -  10.5s\n",
      "[CV] features__top_words__vectorizer__binary=False, classifier__C=0.1, features__top_words__selector__score_func=<function chi2 at 0x11494ae60> \n",
      "[CV]  features__top_words__vectorizer__binary=False, classifier__C=0.1, features__top_words__selector__score_func=<function chi2 at 0x11494ae60> -   9.6s\n",
      "[CV] features__top_words__vectorizer__binary=False, classifier__C=0.1, features__top_words__selector__score_func=<function chi2 at 0x11494ae60> \n",
      "[CV]  features__top_words__vectorizer__binary=False, classifier__C=0.1, features__top_words__selector__score_func=<function chi2 at 0x11494ae60> -   9.3s\n",
      "[CV] features__top_words__vectorizer__binary=True, classifier__C=0.1, features__top_words__selector__score_func=<function f_classif at 0x11494ad70> \n",
      "[CV]  features__top_words__vectorizer__binary=True, classifier__C=0.1, features__top_words__selector__score_func=<function f_classif at 0x11494ad70> -  10.3s\n",
      "[CV] features__top_words__vectorizer__binary=True, classifier__C=0.1, features__top_words__selector__score_func=<function f_classif at 0x11494ad70> \n",
      "[CV]  features__top_words__vectorizer__binary=True, classifier__C=0.1, features__top_words__selector__score_func=<function f_classif at 0x11494ad70> -   8.5s\n",
      "[CV] features__top_words__vectorizer__binary=True, classifier__C=0.1, features__top_words__selector__score_func=<function f_classif at 0x11494ad70> \n",
      "[CV]  features__top_words__vectorizer__binary=True, classifier__C=0.1, features__top_words__selector__score_func=<function f_classif at 0x11494ad70> -   8.1s\n",
      "[CV] features__top_words__vectorizer__binary=True, classifier__C=0.1, features__top_words__selector__score_func=<function f_classif at 0x11494ad70> \n",
      "[CV]  features__top_words__vectorizer__binary=True, classifier__C=0.1, features__top_words__selector__score_func=<function f_classif at 0x11494ad70> -   9.5s\n",
      "[CV] features__top_words__vectorizer__binary=True, classifier__C=0.1, features__top_words__selector__score_func=<function f_classif at 0x11494ad70> \n",
      "[CV]  features__top_words__vectorizer__binary=True, classifier__C=0.1, features__top_words__selector__score_func=<function f_classif at 0x11494ad70> -   9.2s\n",
      "[CV] features__top_words__vectorizer__binary=False, classifier__C=0.1, features__top_words__selector__score_func=<function f_classif at 0x11494ad70> \n",
      "[CV]  features__top_words__vectorizer__binary=False, classifier__C=0.1, features__top_words__selector__score_func=<function f_classif at 0x11494ad70> -   8.4s\n",
      "[CV] features__top_words__vectorizer__binary=False, classifier__C=0.1, features__top_words__selector__score_func=<function f_classif at 0x11494ad70> \n",
      "[CV]  features__top_words__vectorizer__binary=False, classifier__C=0.1, features__top_words__selector__score_func=<function f_classif at 0x11494ad70> -   7.8s\n",
      "[CV] features__top_words__vectorizer__binary=False, classifier__C=0.1, features__top_words__selector__score_func=<function f_classif at 0x11494ad70> \n",
      "[CV]  features__top_words__vectorizer__binary=False, classifier__C=0.1, features__top_words__selector__score_func=<function f_classif at 0x11494ad70> -   7.9s\n",
      "[CV] features__top_words__vectorizer__binary=False, classifier__C=0.1, features__top_words__selector__score_func=<function f_classif at 0x11494ad70> \n",
      "[CV]  features__top_words__vectorizer__binary=False, classifier__C=0.1, features__top_words__selector__score_func=<function f_classif at 0x11494ad70> -   7.8s\n",
      "[CV] features__top_words__vectorizer__binary=False, classifier__C=0.1, features__top_words__selector__score_func=<function f_classif at 0x11494ad70> \n",
      "[CV]  features__top_words__vectorizer__binary=False, classifier__C=0.1, features__top_words__selector__score_func=<function f_classif at 0x11494ad70> -   7.9s\n",
      "[CV] features__top_words__vectorizer__binary=True, classifier__C=0.3, features__top_words__selector__score_func=<function chi2 at 0x11494ae60> \n",
      "[CV]  features__top_words__vectorizer__binary=True, classifier__C=0.3, features__top_words__selector__score_func=<function chi2 at 0x11494ae60> -   7.9s\n",
      "[CV] features__top_words__vectorizer__binary=True, classifier__C=0.3, features__top_words__selector__score_func=<function chi2 at 0x11494ae60> \n",
      "[CV]  features__top_words__vectorizer__binary=True, classifier__C=0.3, features__top_words__selector__score_func=<function chi2 at 0x11494ae60> -   7.9s\n",
      "[CV] features__top_words__vectorizer__binary=True, classifier__C=0.3, features__top_words__selector__score_func=<function chi2 at 0x11494ae60> \n",
      "[CV]  features__top_words__vectorizer__binary=True, classifier__C=0.3, features__top_words__selector__score_func=<function chi2 at 0x11494ae60> -   9.2s\n",
      "[CV] features__top_words__vectorizer__binary=True, classifier__C=0.3, features__top_words__selector__score_func=<function chi2 at 0x11494ae60> \n",
      "[CV]  features__top_words__vectorizer__binary=True, classifier__C=0.3, features__top_words__selector__score_func=<function chi2 at 0x11494ae60> -   9.3s\n",
      "[CV] features__top_words__vectorizer__binary=True, classifier__C=0.3, features__top_words__selector__score_func=<function chi2 at 0x11494ae60> \n",
      "[CV]  features__top_words__vectorizer__binary=True, classifier__C=0.3, features__top_words__selector__score_func=<function chi2 at 0x11494ae60> -   8.3s\n",
      "[CV] features__top_words__vectorizer__binary=False, classifier__C=0.3, features__top_words__selector__score_func=<function chi2 at 0x11494ae60> \n",
      "[CV]  features__top_words__vectorizer__binary=False, classifier__C=0.3, features__top_words__selector__score_func=<function chi2 at 0x11494ae60> -   7.9s\n",
      "[CV] features__top_words__vectorizer__binary=False, classifier__C=0.3, features__top_words__selector__score_func=<function chi2 at 0x11494ae60> \n",
      "[CV]  features__top_words__vectorizer__binary=False, classifier__C=0.3, features__top_words__selector__score_func=<function chi2 at 0x11494ae60> -   8.0s\n",
      "[CV] features__top_words__vectorizer__binary=False, classifier__C=0.3, features__top_words__selector__score_func=<function chi2 at 0x11494ae60> \n",
      "[CV]  features__top_words__vectorizer__binary=False, classifier__C=0.3, features__top_words__selector__score_func=<function chi2 at 0x11494ae60> -   8.1s\n",
      "[CV] features__top_words__vectorizer__binary=False, classifier__C=0.3, features__top_words__selector__score_func=<function chi2 at 0x11494ae60> \n",
      "[CV]  features__top_words__vectorizer__binary=False, classifier__C=0.3, features__top_words__selector__score_func=<function chi2 at 0x11494ae60> -   8.1s\n",
      "[CV] features__top_words__vectorizer__binary=False, classifier__C=0.3, features__top_words__selector__score_func=<function chi2 at 0x11494ae60> \n",
      "[CV]  features__top_words__vectorizer__binary=False, classifier__C=0.3, features__top_words__selector__score_func=<function chi2 at 0x11494ae60> -   7.8s\n",
      "[CV] features__top_words__vectorizer__binary=True, classifier__C=0.3, features__top_words__selector__score_func=<function f_classif at 0x11494ad70> \n",
      "[CV]  features__top_words__vectorizer__binary=True, classifier__C=0.3, features__top_words__selector__score_func=<function f_classif at 0x11494ad70> -   7.6s\n",
      "[CV] features__top_words__vectorizer__binary=True, classifier__C=0.3, features__top_words__selector__score_func=<function f_classif at 0x11494ad70> \n",
      "[CV]  features__top_words__vectorizer__binary=True, classifier__C=0.3, features__top_words__selector__score_func=<function f_classif at 0x11494ad70> -   7.8s\n",
      "[CV] features__top_words__vectorizer__binary=True, classifier__C=0.3, features__top_words__selector__score_func=<function f_classif at 0x11494ad70> \n",
      "[CV]  features__top_words__vectorizer__binary=True, classifier__C=0.3, features__top_words__selector__score_func=<function f_classif at 0x11494ad70> -   9.0s\n",
      "[CV] features__top_words__vectorizer__binary=True, classifier__C=0.3, features__top_words__selector__score_func=<function f_classif at 0x11494ad70> \n",
      "[CV]  features__top_words__vectorizer__binary=True, classifier__C=0.3, features__top_words__selector__score_func=<function f_classif at 0x11494ad70> -  10.4s\n",
      "[CV] features__top_words__vectorizer__binary=True, classifier__C=0.3, features__top_words__selector__score_func=<function f_classif at 0x11494ad70> \n",
      "[CV]  features__top_words__vectorizer__binary=True, classifier__C=0.3, features__top_words__selector__score_func=<function f_classif at 0x11494ad70> -  11.6s\n",
      "[CV] features__top_words__vectorizer__binary=False, classifier__C=0.3, features__top_words__selector__score_func=<function f_classif at 0x11494ad70> \n",
      "[CV]  features__top_words__vectorizer__binary=False, classifier__C=0.3, features__top_words__selector__score_func=<function f_classif at 0x11494ad70> -   9.8s\n",
      "[CV] features__top_words__vectorizer__binary=False, classifier__C=0.3, features__top_words__selector__score_func=<function f_classif at 0x11494ad70> \n",
      "[CV]  features__top_words__vectorizer__binary=False, classifier__C=0.3, features__top_words__selector__score_func=<function f_classif at 0x11494ad70> -  10.0s\n",
      "[CV] features__top_words__vectorizer__binary=False, classifier__C=0.3, features__top_words__selector__score_func=<function f_classif at 0x11494ad70> \n",
      "[CV]  features__top_words__vectorizer__binary=False, classifier__C=0.3, features__top_words__selector__score_func=<function f_classif at 0x11494ad70> -  10.0s\n",
      "[CV] features__top_words__vectorizer__binary=False, classifier__C=0.3, features__top_words__selector__score_func=<function f_classif at 0x11494ad70> \n",
      "[CV]  features__top_words__vectorizer__binary=False, classifier__C=0.3, features__top_words__selector__score_func=<function f_classif at 0x11494ad70> -   9.7s\n",
      "[CV] features__top_words__vectorizer__binary=False, classifier__C=0.3, features__top_words__selector__score_func=<function f_classif at 0x11494ad70> \n",
      "[CV]  features__top_words__vectorizer__binary=False, classifier__C=0.3, features__top_words__selector__score_func=<function f_classif at 0x11494ad70> -   9.1s\n",
      "[CV] features__top_words__vectorizer__binary=True, classifier__C=1, features__top_words__selector__score_func=<function chi2 at 0x11494ae60> \n"
     ]
    },
    {
     "name": "stderr",
     "output_type": "stream",
     "text": [
      "[Parallel(n_jobs=1)]: Done  40 tasks       | elapsed:  6.1min\n"
     ]
    },
    {
     "name": "stdout",
     "output_type": "stream",
     "text": [
      "[CV]  features__top_words__vectorizer__binary=True, classifier__C=1, features__top_words__selector__score_func=<function chi2 at 0x11494ae60> -   8.7s\n",
      "[CV] features__top_words__vectorizer__binary=True, classifier__C=1, features__top_words__selector__score_func=<function chi2 at 0x11494ae60> \n",
      "[CV]  features__top_words__vectorizer__binary=True, classifier__C=1, features__top_words__selector__score_func=<function chi2 at 0x11494ae60> -  10.3s\n",
      "[CV] features__top_words__vectorizer__binary=True, classifier__C=1, features__top_words__selector__score_func=<function chi2 at 0x11494ae60> \n",
      "[CV]  features__top_words__vectorizer__binary=True, classifier__C=1, features__top_words__selector__score_func=<function chi2 at 0x11494ae60> -   9.4s\n",
      "[CV] features__top_words__vectorizer__binary=True, classifier__C=1, features__top_words__selector__score_func=<function chi2 at 0x11494ae60> \n",
      "[CV]  features__top_words__vectorizer__binary=True, classifier__C=1, features__top_words__selector__score_func=<function chi2 at 0x11494ae60> -   9.0s\n",
      "[CV] features__top_words__vectorizer__binary=True, classifier__C=1, features__top_words__selector__score_func=<function chi2 at 0x11494ae60> \n",
      "[CV]  features__top_words__vectorizer__binary=True, classifier__C=1, features__top_words__selector__score_func=<function chi2 at 0x11494ae60> -   8.6s\n",
      "[CV] features__top_words__vectorizer__binary=False, classifier__C=1, features__top_words__selector__score_func=<function chi2 at 0x11494ae60> \n",
      "[CV]  features__top_words__vectorizer__binary=False, classifier__C=1, features__top_words__selector__score_func=<function chi2 at 0x11494ae60> -   8.8s\n",
      "[CV] features__top_words__vectorizer__binary=False, classifier__C=1, features__top_words__selector__score_func=<function chi2 at 0x11494ae60> \n",
      "[CV]  features__top_words__vectorizer__binary=False, classifier__C=1, features__top_words__selector__score_func=<function chi2 at 0x11494ae60> -   8.4s\n",
      "[CV] features__top_words__vectorizer__binary=False, classifier__C=1, features__top_words__selector__score_func=<function chi2 at 0x11494ae60> \n",
      "[CV]  features__top_words__vectorizer__binary=False, classifier__C=1, features__top_words__selector__score_func=<function chi2 at 0x11494ae60> -   8.4s\n",
      "[CV] features__top_words__vectorizer__binary=False, classifier__C=1, features__top_words__selector__score_func=<function chi2 at 0x11494ae60> \n",
      "[CV]  features__top_words__vectorizer__binary=False, classifier__C=1, features__top_words__selector__score_func=<function chi2 at 0x11494ae60> -   8.8s\n",
      "[CV] features__top_words__vectorizer__binary=False, classifier__C=1, features__top_words__selector__score_func=<function chi2 at 0x11494ae60> \n",
      "[CV]  features__top_words__vectorizer__binary=False, classifier__C=1, features__top_words__selector__score_func=<function chi2 at 0x11494ae60> -   8.5s\n",
      "[CV] features__top_words__vectorizer__binary=True, classifier__C=1, features__top_words__selector__score_func=<function f_classif at 0x11494ad70> \n",
      "[CV]  features__top_words__vectorizer__binary=True, classifier__C=1, features__top_words__selector__score_func=<function f_classif at 0x11494ad70> -   9.3s\n",
      "[CV] features__top_words__vectorizer__binary=True, classifier__C=1, features__top_words__selector__score_func=<function f_classif at 0x11494ad70> \n",
      "[CV]  features__top_words__vectorizer__binary=True, classifier__C=1, features__top_words__selector__score_func=<function f_classif at 0x11494ad70> -   9.5s\n",
      "[CV] features__top_words__vectorizer__binary=True, classifier__C=1, features__top_words__selector__score_func=<function f_classif at 0x11494ad70> \n",
      "[CV]  features__top_words__vectorizer__binary=True, classifier__C=1, features__top_words__selector__score_func=<function f_classif at 0x11494ad70> -   9.4s\n",
      "[CV] features__top_words__vectorizer__binary=True, classifier__C=1, features__top_words__selector__score_func=<function f_classif at 0x11494ad70> \n",
      "[CV]  features__top_words__vectorizer__binary=True, classifier__C=1, features__top_words__selector__score_func=<function f_classif at 0x11494ad70> -  11.9s\n",
      "[CV] features__top_words__vectorizer__binary=True, classifier__C=1, features__top_words__selector__score_func=<function f_classif at 0x11494ad70> \n",
      "[CV]  features__top_words__vectorizer__binary=True, classifier__C=1, features__top_words__selector__score_func=<function f_classif at 0x11494ad70> -  12.0s\n",
      "[CV] features__top_words__vectorizer__binary=False, classifier__C=1, features__top_words__selector__score_func=<function f_classif at 0x11494ad70> \n",
      "[CV]  features__top_words__vectorizer__binary=False, classifier__C=1, features__top_words__selector__score_func=<function f_classif at 0x11494ad70> -  10.2s\n",
      "[CV] features__top_words__vectorizer__binary=False, classifier__C=1, features__top_words__selector__score_func=<function f_classif at 0x11494ad70> \n",
      "[CV]  features__top_words__vectorizer__binary=False, classifier__C=1, features__top_words__selector__score_func=<function f_classif at 0x11494ad70> -   9.9s\n",
      "[CV] features__top_words__vectorizer__binary=False, classifier__C=1, features__top_words__selector__score_func=<function f_classif at 0x11494ad70> \n",
      "[CV]  features__top_words__vectorizer__binary=False, classifier__C=1, features__top_words__selector__score_func=<function f_classif at 0x11494ad70> -   8.9s\n",
      "[CV] features__top_words__vectorizer__binary=False, classifier__C=1, features__top_words__selector__score_func=<function f_classif at 0x11494ad70> \n",
      "[CV]  features__top_words__vectorizer__binary=False, classifier__C=1, features__top_words__selector__score_func=<function f_classif at 0x11494ad70> -   9.5s\n",
      "[CV] features__top_words__vectorizer__binary=False, classifier__C=1, features__top_words__selector__score_func=<function f_classif at 0x11494ad70> \n",
      "[CV]  features__top_words__vectorizer__binary=False, classifier__C=1, features__top_words__selector__score_func=<function f_classif at 0x11494ad70> -   9.9s\n",
      "[CV] features__top_words__vectorizer__binary=True, classifier__C=3, features__top_words__selector__score_func=<function chi2 at 0x11494ae60> \n",
      "[CV]  features__top_words__vectorizer__binary=True, classifier__C=3, features__top_words__selector__score_func=<function chi2 at 0x11494ae60> -  10.9s\n",
      "[CV] features__top_words__vectorizer__binary=True, classifier__C=3, features__top_words__selector__score_func=<function chi2 at 0x11494ae60> \n",
      "[CV]  features__top_words__vectorizer__binary=True, classifier__C=3, features__top_words__selector__score_func=<function chi2 at 0x11494ae60> -  12.4s\n",
      "[CV] features__top_words__vectorizer__binary=True, classifier__C=3, features__top_words__selector__score_func=<function chi2 at 0x11494ae60> \n",
      "[CV]  features__top_words__vectorizer__binary=True, classifier__C=3, features__top_words__selector__score_func=<function chi2 at 0x11494ae60> -   8.7s\n",
      "[CV] features__top_words__vectorizer__binary=True, classifier__C=3, features__top_words__selector__score_func=<function chi2 at 0x11494ae60> \n",
      "[CV]  features__top_words__vectorizer__binary=True, classifier__C=3, features__top_words__selector__score_func=<function chi2 at 0x11494ae60> -   8.9s\n",
      "[CV] features__top_words__vectorizer__binary=True, classifier__C=3, features__top_words__selector__score_func=<function chi2 at 0x11494ae60> \n",
      "[CV]  features__top_words__vectorizer__binary=True, classifier__C=3, features__top_words__selector__score_func=<function chi2 at 0x11494ae60> -   8.4s\n",
      "[CV] features__top_words__vectorizer__binary=False, classifier__C=3, features__top_words__selector__score_func=<function chi2 at 0x11494ae60> \n",
      "[CV]  features__top_words__vectorizer__binary=False, classifier__C=3, features__top_words__selector__score_func=<function chi2 at 0x11494ae60> -   8.7s\n",
      "[CV] features__top_words__vectorizer__binary=False, classifier__C=3, features__top_words__selector__score_func=<function chi2 at 0x11494ae60> \n",
      "[CV]  features__top_words__vectorizer__binary=False, classifier__C=3, features__top_words__selector__score_func=<function chi2 at 0x11494ae60> -   8.7s\n",
      "[CV] features__top_words__vectorizer__binary=False, classifier__C=3, features__top_words__selector__score_func=<function chi2 at 0x11494ae60> \n",
      "[CV]  features__top_words__vectorizer__binary=False, classifier__C=3, features__top_words__selector__score_func=<function chi2 at 0x11494ae60> -   8.6s\n",
      "[CV] features__top_words__vectorizer__binary=False, classifier__C=3, features__top_words__selector__score_func=<function chi2 at 0x11494ae60> \n",
      "[CV]  features__top_words__vectorizer__binary=False, classifier__C=3, features__top_words__selector__score_func=<function chi2 at 0x11494ae60> -  10.3s\n",
      "[CV] features__top_words__vectorizer__binary=False, classifier__C=3, features__top_words__selector__score_func=<function chi2 at 0x11494ae60> \n",
      "[CV]  features__top_words__vectorizer__binary=False, classifier__C=3, features__top_words__selector__score_func=<function chi2 at 0x11494ae60> -   9.9s\n",
      "[CV] features__top_words__vectorizer__binary=True, classifier__C=3, features__top_words__selector__score_func=<function f_classif at 0x11494ad70> \n",
      "[CV]  features__top_words__vectorizer__binary=True, classifier__C=3, features__top_words__selector__score_func=<function f_classif at 0x11494ad70> -   9.6s\n",
      "[CV] features__top_words__vectorizer__binary=True, classifier__C=3, features__top_words__selector__score_func=<function f_classif at 0x11494ad70> \n",
      "[CV]  features__top_words__vectorizer__binary=True, classifier__C=3, features__top_words__selector__score_func=<function f_classif at 0x11494ad70> -  11.0s\n",
      "[CV] features__top_words__vectorizer__binary=True, classifier__C=3, features__top_words__selector__score_func=<function f_classif at 0x11494ad70> \n",
      "[CV]  features__top_words__vectorizer__binary=True, classifier__C=3, features__top_words__selector__score_func=<function f_classif at 0x11494ad70> -  10.5s\n",
      "[CV] features__top_words__vectorizer__binary=True, classifier__C=3, features__top_words__selector__score_func=<function f_classif at 0x11494ad70> \n",
      "[CV]  features__top_words__vectorizer__binary=True, classifier__C=3, features__top_words__selector__score_func=<function f_classif at 0x11494ad70> -  10.2s\n",
      "[CV] features__top_words__vectorizer__binary=True, classifier__C=3, features__top_words__selector__score_func=<function f_classif at 0x11494ad70> \n",
      "[CV]  features__top_words__vectorizer__binary=True, classifier__C=3, features__top_words__selector__score_func=<function f_classif at 0x11494ad70> -   8.6s\n",
      "[CV] features__top_words__vectorizer__binary=False, classifier__C=3, features__top_words__selector__score_func=<function f_classif at 0x11494ad70> \n",
      "[CV]  features__top_words__vectorizer__binary=False, classifier__C=3, features__top_words__selector__score_func=<function f_classif at 0x11494ad70> -   8.7s\n",
      "[CV] features__top_words__vectorizer__binary=False, classifier__C=3, features__top_words__selector__score_func=<function f_classif at 0x11494ad70> \n",
      "[CV]  features__top_words__vectorizer__binary=False, classifier__C=3, features__top_words__selector__score_func=<function f_classif at 0x11494ad70> -   8.8s\n",
      "[CV] features__top_words__vectorizer__binary=False, classifier__C=3, features__top_words__selector__score_func=<function f_classif at 0x11494ad70> \n",
      "[CV]  features__top_words__vectorizer__binary=False, classifier__C=3, features__top_words__selector__score_func=<function f_classif at 0x11494ad70> -   8.7s\n",
      "[CV] features__top_words__vectorizer__binary=False, classifier__C=3, features__top_words__selector__score_func=<function f_classif at 0x11494ad70> \n",
      "[CV]  features__top_words__vectorizer__binary=False, classifier__C=3, features__top_words__selector__score_func=<function f_classif at 0x11494ad70> -   9.4s\n",
      "[CV] features__top_words__vectorizer__binary=False, classifier__C=3, features__top_words__selector__score_func=<function f_classif at 0x11494ad70> \n",
      "[CV]  features__top_words__vectorizer__binary=False, classifier__C=3, features__top_words__selector__score_func=<function f_classif at 0x11494ad70> -   9.9s\n"
     ]
    },
    {
     "name": "stderr",
     "output_type": "stream",
     "text": [
      "[Parallel(n_jobs=1)]: Done  80 out of  80 | elapsed: 12.5min finished\n"
     ]
    },
    {
     "name": "stdout",
     "output_type": "stream",
     "text": [
      "763.271741152\n"
     ]
    }
   ],
   "source": [
    "t0=time.time()\n",
    "\n",
    "condition = [speaker in which_candidates for speaker in df.speaker]\n",
    "cand_df = df[condition]\n",
    "kf = StratifiedKFold(y=cand_df.speaker, n_folds=5,random_state=42)\n",
    "params = {'classifier__C': [.1,.3,1,3],\n",
    "#           'features__top_words__selector__k': [1000,2000,4000,'all'],\n",
    "          'features__top_words__vectorizer__binary': [True, False],\n",
    "          'features__top_words__selector__score_func': [chi2, f_classif],              \n",
    "         }\n",
    "\n",
    "grid = GridSearchCV(estimator=pipeline, param_grid = params, scoring = 'roc_auc',cv=kf, verbose=2)\n",
    "\n",
    "grid.fit(cand_df.sentence,[1 if speaker == 'Trump' else 0 for speaker in cand_df.speaker])\n",
    "print time.time()-t0"
   ]
  },
  {
   "cell_type": "code",
   "execution_count": 85,
   "metadata": {
    "collapsed": false
   },
   "outputs": [
    {
     "data": {
      "text/plain": [
       "{'classifier__C': 1,\n",
       " 'features__top_words__selector__score_func': <function sklearn.feature_selection.univariate_selection.f_classif>,\n",
       " 'features__top_words__vectorizer__binary': True}"
      ]
     },
     "execution_count": 85,
     "metadata": {},
     "output_type": "execute_result"
    }
   ],
   "source": [
    "scores = grid.grid_scores_\n",
    "grid.best_params_"
   ]
  },
  {
   "cell_type": "code",
   "execution_count": 86,
   "metadata": {
    "collapsed": false
   },
   "outputs": [
    {
     "data": {
      "text/html": [
       "<div>\n",
       "<table border=\"1\" class=\"dataframe\">\n",
       "  <thead>\n",
       "    <tr style=\"text-align: right;\">\n",
       "      <th></th>\n",
       "      <th>classifier__C</th>\n",
       "      <th>features__top_words__selector__score_func</th>\n",
       "      <th>features__top_words__vectorizer__binary</th>\n",
       "      <th>mean</th>\n",
       "    </tr>\n",
       "  </thead>\n",
       "  <tbody>\n",
       "    <tr>\n",
       "      <th>10</th>\n",
       "      <td>1.0</td>\n",
       "      <td>&lt;function f_classif at 0x11494ad70&gt;</td>\n",
       "      <td>True</td>\n",
       "      <td>0.896683</td>\n",
       "    </tr>\n",
       "    <tr>\n",
       "      <th>8</th>\n",
       "      <td>1.0</td>\n",
       "      <td>&lt;function chi2 at 0x11494ae60&gt;</td>\n",
       "      <td>True</td>\n",
       "      <td>0.896293</td>\n",
       "    </tr>\n",
       "    <tr>\n",
       "      <th>6</th>\n",
       "      <td>0.3</td>\n",
       "      <td>&lt;function f_classif at 0x11494ad70&gt;</td>\n",
       "      <td>True</td>\n",
       "      <td>0.895739</td>\n",
       "    </tr>\n",
       "    <tr>\n",
       "      <th>4</th>\n",
       "      <td>0.3</td>\n",
       "      <td>&lt;function chi2 at 0x11494ae60&gt;</td>\n",
       "      <td>True</td>\n",
       "      <td>0.895283</td>\n",
       "    </tr>\n",
       "    <tr>\n",
       "      <th>9</th>\n",
       "      <td>1.0</td>\n",
       "      <td>&lt;function chi2 at 0x11494ae60&gt;</td>\n",
       "      <td>False</td>\n",
       "      <td>0.894916</td>\n",
       "    </tr>\n",
       "    <tr>\n",
       "      <th>14</th>\n",
       "      <td>3.0</td>\n",
       "      <td>&lt;function f_classif at 0x11494ad70&gt;</td>\n",
       "      <td>True</td>\n",
       "      <td>0.894643</td>\n",
       "    </tr>\n",
       "    <tr>\n",
       "      <th>12</th>\n",
       "      <td>3.0</td>\n",
       "      <td>&lt;function chi2 at 0x11494ae60&gt;</td>\n",
       "      <td>True</td>\n",
       "      <td>0.894319</td>\n",
       "    </tr>\n",
       "    <tr>\n",
       "      <th>5</th>\n",
       "      <td>0.3</td>\n",
       "      <td>&lt;function chi2 at 0x11494ae60&gt;</td>\n",
       "      <td>False</td>\n",
       "      <td>0.894266</td>\n",
       "    </tr>\n",
       "    <tr>\n",
       "      <th>11</th>\n",
       "      <td>1.0</td>\n",
       "      <td>&lt;function f_classif at 0x11494ad70&gt;</td>\n",
       "      <td>False</td>\n",
       "      <td>0.893717</td>\n",
       "    </tr>\n",
       "    <tr>\n",
       "      <th>7</th>\n",
       "      <td>0.3</td>\n",
       "      <td>&lt;function f_classif at 0x11494ad70&gt;</td>\n",
       "      <td>False</td>\n",
       "      <td>0.893063</td>\n",
       "    </tr>\n",
       "    <tr>\n",
       "      <th>13</th>\n",
       "      <td>3.0</td>\n",
       "      <td>&lt;function chi2 at 0x11494ae60&gt;</td>\n",
       "      <td>False</td>\n",
       "      <td>0.893021</td>\n",
       "    </tr>\n",
       "    <tr>\n",
       "      <th>15</th>\n",
       "      <td>3.0</td>\n",
       "      <td>&lt;function f_classif at 0x11494ad70&gt;</td>\n",
       "      <td>False</td>\n",
       "      <td>0.891736</td>\n",
       "    </tr>\n",
       "    <tr>\n",
       "      <th>2</th>\n",
       "      <td>0.1</td>\n",
       "      <td>&lt;function f_classif at 0x11494ad70&gt;</td>\n",
       "      <td>True</td>\n",
       "      <td>0.890121</td>\n",
       "    </tr>\n",
       "    <tr>\n",
       "      <th>0</th>\n",
       "      <td>0.1</td>\n",
       "      <td>&lt;function chi2 at 0x11494ae60&gt;</td>\n",
       "      <td>True</td>\n",
       "      <td>0.889670</td>\n",
       "    </tr>\n",
       "    <tr>\n",
       "      <th>1</th>\n",
       "      <td>0.1</td>\n",
       "      <td>&lt;function chi2 at 0x11494ae60&gt;</td>\n",
       "      <td>False</td>\n",
       "      <td>0.889108</td>\n",
       "    </tr>\n",
       "    <tr>\n",
       "      <th>3</th>\n",
       "      <td>0.1</td>\n",
       "      <td>&lt;function f_classif at 0x11494ad70&gt;</td>\n",
       "      <td>False</td>\n",
       "      <td>0.887930</td>\n",
       "    </tr>\n",
       "  </tbody>\n",
       "</table>\n",
       "</div>"
      ],
      "text/plain": [
       "    classifier__C features__top_words__selector__score_func  \\\n",
       "10            1.0       <function f_classif at 0x11494ad70>   \n",
       "8             1.0            <function chi2 at 0x11494ae60>   \n",
       "6             0.3       <function f_classif at 0x11494ad70>   \n",
       "4             0.3            <function chi2 at 0x11494ae60>   \n",
       "9             1.0            <function chi2 at 0x11494ae60>   \n",
       "14            3.0       <function f_classif at 0x11494ad70>   \n",
       "12            3.0            <function chi2 at 0x11494ae60>   \n",
       "5             0.3            <function chi2 at 0x11494ae60>   \n",
       "11            1.0       <function f_classif at 0x11494ad70>   \n",
       "7             0.3       <function f_classif at 0x11494ad70>   \n",
       "13            3.0            <function chi2 at 0x11494ae60>   \n",
       "15            3.0       <function f_classif at 0x11494ad70>   \n",
       "2             0.1       <function f_classif at 0x11494ad70>   \n",
       "0             0.1            <function chi2 at 0x11494ae60>   \n",
       "1             0.1            <function chi2 at 0x11494ae60>   \n",
       "3             0.1       <function f_classif at 0x11494ad70>   \n",
       "\n",
       "   features__top_words__vectorizer__binary      mean  \n",
       "10                                    True  0.896683  \n",
       "8                                     True  0.896293  \n",
       "6                                     True  0.895739  \n",
       "4                                     True  0.895283  \n",
       "9                                    False  0.894916  \n",
       "14                                    True  0.894643  \n",
       "12                                    True  0.894319  \n",
       "5                                    False  0.894266  \n",
       "11                                   False  0.893717  \n",
       "7                                    False  0.893063  \n",
       "13                                   False  0.893021  \n",
       "15                                   False  0.891736  \n",
       "2                                     True  0.890121  \n",
       "0                                     True  0.889670  \n",
       "1                                    False  0.889108  \n",
       "3                                    False  0.887930  "
      ]
     },
     "execution_count": 86,
     "metadata": {},
     "output_type": "execute_result"
    }
   ],
   "source": [
    "cv = []\n",
    "scores = grid.grid_scores_\n",
    "for combo in scores:\n",
    "    pars = combo[0]\n",
    "    pars['mean'] = combo[1]\n",
    "    cv.append(pars)\n",
    "pd.DataFrame(cv).sort_values(by='mean',ascending=False)"
   ]
  },
  {
   "cell_type": "markdown",
   "metadata": {},
   "source": [
    "## Build a cross-val-predict-proba"
   ]
  },
  {
   "cell_type": "code",
   "execution_count": 87,
   "metadata": {
    "collapsed": false
   },
   "outputs": [],
   "source": [
    "pipeline=grid.best_estimator_"
   ]
  },
  {
   "cell_type": "code",
   "execution_count": 88,
   "metadata": {
    "collapsed": false,
    "scrolled": true
   },
   "outputs": [
    {
     "name": "stdout",
     "output_type": "stream",
     "text": [
      "done predicting 0 time: 10.7160580158\n",
      "done predicting 1 time: 10.0116939545\n",
      "done predicting 2 time: 9.68340682983\n",
      "done predicting 3 time: 9.71701693535\n",
      "done predicting 4 time: 9.27776694298\n",
      "done predicting 5 time: 9.24721813202\n",
      "done predicting 6 time: 9.06327700615\n",
      "done predicting 7 time: 9.5485560894\n",
      "done predicting 8 time: 11.5674800873\n",
      "done predicting 9 time: 12.1361260414\n",
      "done predicting 10 time: 10.6690409184\n",
      "done predicting 11 time: 9.67498111725\n",
      "done predicting 12 time: 9.58068394661\n",
      "done predicting 13 time: 9.30793404579\n",
      "done predicting 14 time: 9.48682713509\n",
      "done predicting 15 time: 9.74657797813\n",
      "done predicting 16 time: 9.42199397087\n",
      "done predicting 17 time: 10.7131040096\n",
      "done predicting 18 time: 11.7162930965\n",
      "done predicting 19 time: 10.4881601334\n",
      "done predicting 20 time: 10.1552858353\n",
      "done predicting 21 time: 9.58569097519\n",
      "done predicting 22 time: 9.98932480812\n",
      "done predicting 23 time: 9.42660617828\n",
      "done predicting 24 time: 9.49927401543\n",
      "done predicting 25 time: 9.56235003471\n",
      "done predicting 26 time: 11.2013561726\n",
      "done predicting 27 time: 11.5788910389\n",
      "done predicting 28 time: 10.2439119816\n",
      "done predicting 29 time: 10.0161020756\n",
      "done predicting 30 time: 9.75783109665\n",
      "done predicting 31 time: 9.75705599785\n",
      "done predicting 32 time: 9.60270380974\n",
      "done predicting 33 time: 10.0878829956\n",
      "done predicting 34 time: 11.8007330894\n",
      "done predicting 35 time: 12.8377549648\n",
      "done predicting 36 time: 10.5859541893\n",
      "done predicting 37 time: 9.89177298546\n",
      "done predicting 38 time: 11.3463389874\n",
      "done predicting 39 time: 11.9044919014\n",
      "done predicting 40 time: 9.68992400169\n",
      "done predicting 41 time: 9.6018409729\n",
      "done predicting 42 time: 13.0399909019\n",
      "done predicting 43 time: 9.5226829052\n",
      "done predicting 44 time: 9.43182706833\n",
      "done predicting 45 time: 9.28375387192\n",
      "done predicting 46 time: 13.155354023\n",
      "done predicting 47 time: 9.30326604843\n",
      "done predicting 48 time: 9.45145201683\n",
      "done predicting 49 time: 9.50204896927\n"
     ]
    }
   ],
   "source": [
    "import time\n",
    "\n",
    "cand_df = df[[speaker in which_candidates for speaker in df.speaker]]\n",
    "\n",
    "n_folds = 50\n",
    "\n",
    "segment_results = pd.DataFrame()\n",
    "all_results = pd.DataFrame()\n",
    "segment_coefs = [pd.DataFrame()]*n_folds\n",
    "\n",
    "kf = StratifiedKFold(y=cand_df.speaker, n_folds =n_folds,random_state=42)\n",
    "\n",
    "for i, (train_index, test_index) in enumerate(kf):\n",
    "    t0 = time.time()\n",
    "    pipeline.fit(cand_df.iloc[train_index].sentence, cand_df.iloc[train_index].speaker)\n",
    "#     print 'done fitting',i,\"time:\",time.time()-t0\n",
    "    segment_coefs[i] = pipeline_coef_df(pipeline)\n",
    "    segment_results = pd.DataFrame(\n",
    "                                    pipeline.predict_proba(cand_df.iloc[test_index].sentence),\n",
    "                                    index=list(cand_df.iloc[test_index].index),\n",
    "                                    columns=pipeline.named_steps['classifier'].classes_)\n",
    "    print 'done predicting',i,\"time:\",time.time()-t0\n",
    "\n",
    "    all_results=all_results.append(segment_results)\n",
    "        \n",
    "    "
   ]
  },
  {
   "cell_type": "code",
   "execution_count": 89,
   "metadata": {
    "collapsed": true
   },
   "outputs": [],
   "source": [
    "cv_result = cand_df.copy().join(all_results)"
   ]
  },
  {
   "cell_type": "code",
   "execution_count": 90,
   "metadata": {
    "collapsed": false,
    "scrolled": true
   },
   "outputs": [
    {
     "data": {
      "text/html": [
       "<div>\n",
       "<table border=\"1\" class=\"dataframe\">\n",
       "  <thead>\n",
       "    <tr style=\"text-align: right;\">\n",
       "      <th></th>\n",
       "      <th>speech_idx</th>\n",
       "      <th>tokens</th>\n",
       "      <th>Clinton</th>\n",
       "      <th>Trump</th>\n",
       "    </tr>\n",
       "    <tr>\n",
       "      <th>speaker</th>\n",
       "      <th></th>\n",
       "      <th></th>\n",
       "      <th></th>\n",
       "      <th></th>\n",
       "    </tr>\n",
       "  </thead>\n",
       "  <tbody>\n",
       "    <tr>\n",
       "      <th>Clinton</th>\n",
       "      <td>141.634498</td>\n",
       "      <td>20.579655</td>\n",
       "      <td>0.721570</td>\n",
       "      <td>0.278430</td>\n",
       "    </tr>\n",
       "    <tr>\n",
       "      <th>Trump</th>\n",
       "      <td>48.424231</td>\n",
       "      <td>17.535257</td>\n",
       "      <td>0.198291</td>\n",
       "      <td>0.801709</td>\n",
       "    </tr>\n",
       "  </tbody>\n",
       "</table>\n",
       "</div>"
      ],
      "text/plain": [
       "         speech_idx     tokens   Clinton     Trump\n",
       "speaker                                           \n",
       "Clinton  141.634498  20.579655  0.721570  0.278430\n",
       "Trump     48.424231  17.535257  0.198291  0.801709"
      ]
     },
     "execution_count": 90,
     "metadata": {},
     "output_type": "execute_result"
    }
   ],
   "source": [
    "cv_result.groupby('speaker').mean()"
   ]
  },
  {
   "cell_type": "code",
   "execution_count": 91,
   "metadata": {
    "collapsed": false
   },
   "outputs": [],
   "source": [
    "cv_result['predict'] = cv_result.apply(lambda x: x[which_candidates].argmax(), axis = 1)"
   ]
  },
  {
   "cell_type": "code",
   "execution_count": 92,
   "metadata": {
    "collapsed": true
   },
   "outputs": [],
   "source": [
    "cv_result['correct'] = cv_result.predict == cv_result.speaker"
   ]
  },
  {
   "cell_type": "code",
   "execution_count": 93,
   "metadata": {
    "collapsed": false
   },
   "outputs": [
    {
     "data": {
      "text/plain": [
       "True     22488\n",
       "False     4516\n",
       "Name: correct, dtype: int64"
      ]
     },
     "execution_count": 93,
     "metadata": {},
     "output_type": "execute_result"
    }
   ],
   "source": [
    "cv_result.correct.value_counts()"
   ]
  },
  {
   "cell_type": "code",
   "execution_count": 94,
   "metadata": {
    "collapsed": false
   },
   "outputs": [
    {
     "data": {
      "text/plain": [
       "0.83276551621981931"
      ]
     },
     "execution_count": 94,
     "metadata": {},
     "output_type": "execute_result"
    }
   ],
   "source": [
    "cv_result.correct.value_counts()[1]/float(len(cv_result.correct))"
   ]
  },
  {
   "cell_type": "code",
   "execution_count": 95,
   "metadata": {
    "collapsed": false
   },
   "outputs": [
    {
     "name": "stdout",
     "output_type": "stream",
     "text": [
      "0.910948823594\n"
     ]
    },
    {
     "data": {
      "text/plain": [
       "[<matplotlib.lines.Line2D at 0x13020db50>]"
      ]
     },
     "execution_count": 95,
     "metadata": {},
     "output_type": "execute_result"
    },
    {
     "data": {
      "image/png": "[encoded data removed]",
      "text/plain": [
       "<matplotlib.figure.Figure at 0x12b745990>"
      ]
     },
     "metadata": {},
     "output_type": "display_data"
    }
   ],
   "source": [
    "#  sklearn.metrics.roc_curve(y_true, y_score, pos_label=None, sample_weight=None, drop_intermediate\n",
    "correct= [1 if speaker == 'Trump' else 0 for speaker in cv_result.speaker]\n",
    "roc = roc_curve(correct, y_score=list(cv_result.Trump))\n",
    "print roc_auc_score(correct, cv_result.Trump)\n",
    "plt.plot(roc[0], roc[1])"
   ]
  },
  {
   "cell_type": "code",
   "execution_count": 686,
   "metadata": {
    "collapsed": false
   },
   "outputs": [],
   "source": [
    "sns.set_palette('deep')"
   ]
  },
  {
   "cell_type": "code",
   "execution_count": 96,
   "metadata": {
    "collapsed": false
   },
   "outputs": [
    {
     "data": {
      "text/plain": [
       "[<matplotlib.lines.Line2D at 0x127fed350>]"
      ]
     },
     "execution_count": 96,
     "metadata": {},
     "output_type": "execute_result"
    },
    {
     "data": {
      "image/png": "[encoded data removed]",
      "text/plain": [
       "<matplotlib.figure.Figure at 0x11b58c810>"
      ]
     },
     "metadata": {},
     "output_type": "display_data"
    }
   ],
   "source": [
    "plt.plot(cv_result[(cv_result.tokens <=60)&(cv_result.tokens >=2)].groupby('tokens').mean()['correct'])"
   ]
  },
  {
   "cell_type": "code",
   "execution_count": 97,
   "metadata": {
    "collapsed": false
   },
   "outputs": [
    {
     "data": {
      "text/html": [
       "<div>\n",
       "<table border=\"1\" class=\"dataframe\">\n",
       "  <thead>\n",
       "    <tr style=\"text-align: right;\">\n",
       "      <th></th>\n",
       "      <th>date</th>\n",
       "      <th>sentence</th>\n",
       "      <th>speaker</th>\n",
       "      <th>speech_idx</th>\n",
       "      <th>title</th>\n",
       "      <th>tokens</th>\n",
       "      <th>Clinton</th>\n",
       "      <th>Trump</th>\n",
       "      <th>predict</th>\n",
       "      <th>correct</th>\n",
       "    </tr>\n",
       "  </thead>\n",
       "  <tbody>\n",
       "    <tr>\n",
       "      <th>10</th>\n",
       "      <td>2016-09-03</td>\n",
       "      <td>i just wrote this the other day knowing that i...</td>\n",
       "      <td>Trump</td>\n",
       "      <td>1</td>\n",
       "      <td>Presidential Candidate Donald Trump Remarks in...</td>\n",
       "      <td>42</td>\n",
       "      <td>0.552823</td>\n",
       "      <td>0.447177</td>\n",
       "      <td>Clinton</td>\n",
       "      <td>False</td>\n",
       "    </tr>\n",
       "    <tr>\n",
       "      <th>11</th>\n",
       "      <td>2016-09-03</td>\n",
       "      <td>for centuries, the african american church has...</td>\n",
       "      <td>Trump</td>\n",
       "      <td>1</td>\n",
       "      <td>Presidential Candidate Donald Trump Remarks in...</td>\n",
       "      <td>15</td>\n",
       "      <td>0.320470</td>\n",
       "      <td>0.679530</td>\n",
       "      <td>Trump</td>\n",
       "      <td>True</td>\n",
       "    </tr>\n",
       "    <tr>\n",
       "      <th>12</th>\n",
       "      <td>2016-09-03</td>\n",
       "      <td>it is from the pews and pulpits and christian ...</td>\n",
       "      <td>Trump</td>\n",
       "      <td>1</td>\n",
       "      <td>Presidential Candidate Donald Trump Remarks in...</td>\n",
       "      <td>58</td>\n",
       "      <td>0.998191</td>\n",
       "      <td>0.001809</td>\n",
       "      <td>Clinton</td>\n",
       "      <td>False</td>\n",
       "    </tr>\n",
       "    <tr>\n",
       "      <th>13</th>\n",
       "      <td>2016-09-03</td>\n",
       "      <td>and we are bound together and i see that today.</td>\n",
       "      <td>Trump</td>\n",
       "      <td>1</td>\n",
       "      <td>Presidential Candidate Donald Trump Remarks in...</td>\n",
       "      <td>10</td>\n",
       "      <td>0.543741</td>\n",
       "      <td>0.456259</td>\n",
       "      <td>Clinton</td>\n",
       "      <td>False</td>\n",
       "    </tr>\n",
       "    <tr>\n",
       "      <th>15</th>\n",
       "      <td>2016-09-03</td>\n",
       "      <td>the african-american fate immunity has been on...</td>\n",
       "      <td>Trump</td>\n",
       "      <td>1</td>\n",
       "      <td>Presidential Candidate Donald Trump Remarks in...</td>\n",
       "      <td>19</td>\n",
       "      <td>0.225275</td>\n",
       "      <td>0.774725</td>\n",
       "      <td>Trump</td>\n",
       "      <td>True</td>\n",
       "    </tr>\n",
       "  </tbody>\n",
       "</table>\n",
       "</div>"
      ],
      "text/plain": [
       "          date                                           sentence speaker  \\\n",
       "10  2016-09-03  i just wrote this the other day knowing that i...   Trump   \n",
       "11  2016-09-03  for centuries, the african american church has...   Trump   \n",
       "12  2016-09-03  it is from the pews and pulpits and christian ...   Trump   \n",
       "13  2016-09-03    and we are bound together and i see that today.   Trump   \n",
       "15  2016-09-03  the african-american fate immunity has been on...   Trump   \n",
       "\n",
       "    speech_idx                                              title  tokens  \\\n",
       "10           1  Presidential Candidate Donald Trump Remarks in...      42   \n",
       "11           1  Presidential Candidate Donald Trump Remarks in...      15   \n",
       "12           1  Presidential Candidate Donald Trump Remarks in...      58   \n",
       "13           1  Presidential Candidate Donald Trump Remarks in...      10   \n",
       "15           1  Presidential Candidate Donald Trump Remarks in...      19   \n",
       "\n",
       "     Clinton     Trump  predict correct  \n",
       "10  0.552823  0.447177  Clinton   False  \n",
       "11  0.320470  0.679530    Trump    True  \n",
       "12  0.998191  0.001809  Clinton   False  \n",
       "13  0.543741  0.456259  Clinton   False  \n",
       "15  0.225275  0.774725    Trump    True  "
      ]
     },
     "execution_count": 97,
     "metadata": {},
     "output_type": "execute_result"
    }
   ],
   "source": [
    "cv_result.head()"
   ]
  },
  {
   "cell_type": "code",
   "execution_count": 154,
   "metadata": {
    "collapsed": true
   },
   "outputs": [],
   "source": []
  },
  {
   "cell_type": "code",
   "execution_count": null,
   "metadata": {
    "collapsed": true
   },
   "outputs": [],
   "source": []
  },
  {
   "cell_type": "code",
   "execution_count": 98,
   "metadata": {
    "collapsed": false,
    "scrolled": true
   },
   "outputs": [
    {
     "name": "stdout",
     "output_type": "stream",
     "text": [
      "Most Clinton :\n",
      "\tI hope you will join me and that you will be part of this effort to build on the progress we have made under president obama to go further and to make it absolutely clear that we are fighting to break down barriers wherever they may be because we know america deserves nothing less and americans deserve to have the future that we will create together.\n",
      "-- 138 Presidential Candidate Hillary Clinton Rally in Orangeburg, South Carolina\n",
      "http://www.c-span.org/video/?405395-1/hillary-clinton-campaign-rally-orangeburg-south-carolina\n",
      "Predicted Clinton:  0.999999999971\n",
      "Predicted Trump:  2.85589102774e-11\n",
      "\n",
      "\tThink of what we are losing because we are not doing everything we can to reach out to those families and we know again from so much research year in the united states and around the world that mentoring and intervention will help those often stressed out young moms understand more about what they can do and to avoid the difficulties that stand in the way of their being able to get their child off to the best possible start.\n",
      "-- 181 Presidential Candidate Hillary Clinton Economic Policy Address\n",
      "http://www.c-span.org/video/?327052-1/hillary-clinton-economic-policy-address\n",
      "Predicted Clinton:  0.999999999678\n",
      "Predicted Trump:  3.21794102032e-10\n",
      "\n",
      "\tWhen we fight to make college more affordable than stupid deathless punishing work to hold corporations accountable when they tell just one try to prices or falluja or environment or exploit workers, that's fighting for women and men in america and when we fight to create a pathway to citizenship for millions of immigrants, we will make social security even stronger or to protect and improve the affordable care act because everyone deserves access to quality affordable care.\n",
      "-- 162 Hillary Clinton at Democratic Women's Leadership Forum\n",
      "http://www.c-span.org/video/?328919-3/hillary-clinton-democratic-womens-leadership-forum\n",
      "Predicted Clinton:  0.999999999327\n",
      "Predicted Trump:  6.72677153562e-10\n",
      "\n",
      "\tIn the senate, i worked with republicans to increase the benefit paid to gold star family's, to expand access to military health insurance, to make sure all members of the guard and reserve and their families have access to health benefits whether they are deployed or training at home.\n",
      "-- 97 Presidential Candidate Hillary Clinton American Legion Speech\n",
      "http://www.c-span.org/video/?414555-1/hillary-clinton-addresses-american-legion-national-convention\n",
      "Predicted Clinton:  0.999999998119\n",
      "Predicted Trump:  1.88085417292e-09\n",
      "\n",
      "\tI also have to say that i have heard a lot about another challenge that gets too little attention in our long-term looking forward into the future about what kind of country we are going to be and how we can help people live up to their potential.\n",
      "-- 167 2015 New Hampshire Democratic Party State Convention\n",
      "http://www.c-span.org/video/?328108-1/2015-new-hampshire-democratic-party-state-convention\n",
      "Predicted Clinton:  0.999999997611\n",
      "Predicted Trump:  2.38884448208e-09\n",
      "\n",
      "\tYou see, i have a broader view about what we need to do to make sure that people not only pay their fair share, but they don't wreck the economy like we saw them in 2008. the governor, senator, and i agree that we have got to prevent wall street, the financial markets, and others from doing what they did.\n",
      "-- 150 Hillary Clinton Campaign Rally in Cedar Rapids, Iowa\n",
      "http://www.c-span.org/video/?403935-1/hillary-clinton-campaign-rally-cedar-rapids-iowa\n",
      "Predicted Clinton:  0.999999995711\n",
      "Predicted Trump:  4.28903725558e-09\n",
      "\n",
      "\tWe know what that leads to come increasing inequality, exploitation of workers, potion of our environment, denial of climate change, refusal to move into the 21st century with clean renewable energy, a failure to provide early childhood education and universal pre- case of every kid has a chance.\n",
      "-- 162 Hillary Clinton at Democratic Women's Leadership Forum\n",
      "http://www.c-span.org/video/?328919-3/hillary-clinton-democratic-womens-leadership-forum\n",
      "Predicted Clinton:  0.99999999247\n",
      "Predicted Trump:  7.53022090193e-09\n",
      "\n",
      "\tNo family and no student should have to borrow to pay tuition at a public college or university and everyone who has student debt should be able to refinance it at lower rates, costs not a barrier, and that will not hold you back under my plan.\n",
      "-- 176 Presidential Candidate Hillary Clinton Press Availability\n",
      "http://www.c-span.org/video/?327572-2/presidential-candidate-hillary-clinton-press-availability\n",
      "Predicted Clinton:  0.999999980992\n",
      "Predicted Trump:  1.9007911494e-08\n",
      "\n",
      "\tImagine that tomorrows -- the tomorrows where we will have more good quality jobs with rising income, where people will be working to fix and build the infrastructure we need for a competitive economy, where advanced manufacturing will once again be given the incentive to come back to new hampshire and america, where we will combat climate change by becoming a clean energy superpower.\n",
      "-- 145 Presidential Candidate Hillary Clinton Rally in Portsmouth, New Hampshire\n",
      "http://www.c-span.org/video/?404272-1/hillary-clinton-campaign-rally-portsmouth-new-hampshire\n",
      "Predicted Clinton:  0.999999977568\n",
      "Predicted Trump:  2.24320556414e-08\n",
      "\n",
      "\tI do not think president obama gets the credit he deserves for saving our economy from what could have been an even worse crisis, saving the auto industry, cracking down on wall street abuses which the bush administration had been ignoring, and passing the affordable care act which now provides health insurance to 18 million americans!\n",
      "-- 164 Presidential Candidate Hillary Clinton Campaign Rally in Las Vegas\n",
      "http://www.c-span.org/video/?328637-1/hillary-clinton-campaign-rally-las-vegas\n",
      "Predicted Clinton:  0.999999973233\n",
      "Predicted Trump:  2.67665109459e-08\n",
      "\n",
      "\n",
      "\n",
      "Most Trump :\n",
      "\tOk. ok. i'm glad you asked the question, because i have to tell you, i have raised a tremendous amount of money for the vets, almost $6 million, and more money is going to come in, i believe, over the next little while too.\n",
      "-- 26 Presidential Candidate Donald Trump News Conference\n",
      "http://www.c-span.org/video/?410401-1/donald-trump-holds-news-conference-donations-veterans-groups\n",
      "Predicted Clinton:  7.36807812318e-07\n",
      "Predicted Trump:  0.999999263192\n",
      "\n",
      "\tEvery single air conditioning unit that you make, every single one, as it crosses the border, and we are going to have a real border, because we are going to have a wall, we are going to have a real border, we are going to have a date, beautiful wall that nobody is crossing, just in case you had any questions, don't worry about the tunnels and stuff, nobody is going over it and nobody is going over it and we are going to have a big, beautiful door, but people are going to be coming into our country legally, legally, legally, so i tell the head of carrier, everything will unit that you make in mexico and that you sell in the united states, we are going to put a 35% tax on that unit, and i hope it works out well for you.\"\n",
      "-- 45 Presidential Candidate Donald Trump Rally in Arizona\n",
      "http://www.c-span.org/video/?406905-1/donald-trump-campaign-rally-phoenix-arizona\n",
      "Predicted Clinton:  1.02618659936e-06\n",
      "Predicted Trump:  0.999998973813\n",
      "\n",
      "\tBelieve me, we are going to use our great business people to negotiate unbelievable trade deals so we bring our jobs back and we don't let our companies go to mexico and all of these other countries anymore.\n",
      "-- 36 Presidential Candidate Donald Trump New York Primary Night Speech\n",
      "http://www.c-span.org/video/?408385-1/donald-trump-primary-night-speech\n",
      "Predicted Clinton:  1.49315368336e-06\n",
      "Predicted Trump:  0.999998506846\n",
      "\n",
      "\tAnd i said, let me stop you there, if i don't win, if i don't beat crooked hillary clinton, she is as crooked as a three dollar bill, if i don't be crooked hillary clinton, i will consider this a tremendous waste of time, energy and money.\n",
      "-- 10 Donald Trump Campaign Rally in Denver, Colorado\n",
      "http://www.c-span.org/video/?413365-1/donald-trump-campaigns-denver-colorado\n",
      "Predicted Clinton:  2.88906500845e-06\n",
      "Predicted Trump:  0.999997110935\n",
      "\n",
      "\tI would go to a company like carrier air-conditioning which decided to leave indianapolis and i would say, here's the story coming you think it's wonderful that you are negotiating with mexico come i'm sure you will have a wonderful plant -- if you bill that plant and you fire all these people who were so great to me -- indiana come i won that in a landslide -- the timing was good.\n",
      "-- 7 Donald Trump Campaign Rally in Erie, Pennsylvania\n",
      "http://www.c-span.org/video/?413909-1/donald-trump-campaigns-erie-pennsylvania\n",
      "Predicted Clinton:  3.16558609492e-06\n",
      "Predicted Trump:  0.999996834414\n",
      "\n",
      "\tThey are great people and i said i'm going to win and a lot of hispanics here illegally don't want people coming in illegally.\n",
      "-- 88 Presidential Candidate Donald Trump Speech in Nashville, Tennessee\n",
      "http://www.c-span.org/video/?327853-1/donald-trump-remarks-nashville-tennessee\n",
      "Predicted Clinton:  3.70852039588e-06\n",
      "Predicted Trump:  0.99999629148\n",
      "\n",
      "\tSo when i came down the escalator with my wife on june 16, not long ago and i brought up all of these things and i thought at the time it was going to be trade and illegal immigration.\n",
      "-- 32 Presidential Candidate Donald Trump Rally in South Bend, Indiana\n",
      "http://www.c-span.org/video/?408859-1/donald-trump-addresses-supporters-south-bend-indiana\n",
      "Predicted Clinton:  5.17109188902e-06\n",
      "Predicted Trump:  0.999994828908\n",
      "\n",
      "\tNow, you have south china and you have china building a massive fortress with massive, massive run rays for the biggest mail terri planes in the world and they have those escal sraeutka sraeuted and they're ripping the hell out of the ocean and building an island in the south of china and that he going to be a military fortress and they're not supposed to be doing that but they have no respect for our president and country so they're doing it.\n",
      "-- 60 Donald Trump Campaign Rally in Charleston, South Carolina\n",
      "http://www.c-span.org/video/?404947-1/donald-trump-campaign-rally-charleston-south-carolina\n",
      "Predicted Clinton:  5.79914046894e-06\n",
      "Predicted Trump:  0.99999420086\n",
      "\n",
      "\tAs you know, we have done very  well with the evangelicals and  with religion generally speaking, if you look at what's  happened with all of the races, whether it's in south carolina,  i went there and it was supposed to be strong evangelical, and i  was not supposed to win and i won in a landslide, and so many other places where you had the evangelicals and you had the  heavy christian groups and it was just -- it's been an amazing journey to have -- i think we won 37 different states.\n",
      "-- 22 Faith and Freedom Coalition Conference\n",
      "http://www.c-span.org/video/?410912-1/faith-freedom-coalition-holds-annual-conference\n",
      "Predicted Clinton:  6.24764621737e-06\n",
      "Predicted Trump:  0.999993752354\n",
      "\n",
      "\tAnd i want to tell you, you know, so much about illegal immigration and so much has been mentioned about it and talked about it and these politicians are all talk, no action, they are never going to do anything, and they are only going to pick this up because when i went and i announced that i was running for president, i said, you know, his country is a big, big problem with illegal immigration, and all of a sudden, we started talking about it, and then we had bad things happening, and there was crime and you had so many killings and so much crime.\n",
      "-- 45 Presidential Candidate Donald Trump Rally in Arizona\n",
      "http://www.c-span.org/video/?406905-1/donald-trump-campaign-rally-phoenix-arizona\n",
      "Predicted Clinton:  7.37298914522e-06\n",
      "Predicted Trump:  0.999992627011\n",
      "\n",
      "\n",
      "\n"
     ]
    }
   ],
   "source": [
    "\n",
    "for candidate in which_candidates:\n",
    "    print \"Most\",candidate,\":\"\n",
    "    for idx, row in cv_result[cv_result.speaker == cv_result.predict].sort_values(by=candidate,ascending=False).iloc[0:10].iterrows():\n",
    "        sent = row.sentence\n",
    "        print \"\\t\",sent[0].upper()+sent[1:]\n",
    "        print \"--\",row.speech_idx, row.title\n",
    "        print long_df.loc[row.speech_idx].link\n",
    "        print \"Predicted Clinton: \",row.Clinton\n",
    "        print \"Predicted Trump: \",row.Trump\n",
    "        print\n",
    "    print\n",
    "    print\n",
    "    "
   ]
  },
  {
   "cell_type": "code",
   "execution_count": 99,
   "metadata": {
    "collapsed": false
   },
   "outputs": [],
   "source": [
    "cv_result.to_csv('cv_result_sept_8.csv')"
   ]
  },
  {
   "cell_type": "code",
   "execution_count": 107,
   "metadata": {
    "collapsed": false,
    "scrolled": true
   },
   "outputs": [
    {
     "name": "stdout",
     "output_type": "stream",
     "text": [
      "Most Clinton-like, but not:\n",
      "\tThis is why we have already  passed legislation to support  wounded warriors, veterans who  struggle with mental health challenges and earlier this week to support female veterans in  particular who need our help.\n",
      "-- 22 Faith and Freedom Coalition Conference\n",
      "http://www.c-span.org/video/?410912-1/faith-freedom-coalition-holds-annual-conference\n",
      "Predicted Clinton:  0.999911271241\n",
      "Predicted Trump:  8.87287592748e-05\n",
      "\n",
      "\tI say it is my high honor and distinct privilege for the sake of our troops who deserve a commander-in-chief who will have their back, for the sake of hard-working americans and businesses who deserve a president who will get washington, d.c. off their back, for the sake of a supreme court that will never turn its back on our god-given liberty or constitution, i give you the man who must be the next president of the united states of america, donald trump.\n",
      "-- 9 Donald Trump Campaign Rally in Green Bay, Wisconsin\n",
      "http://www.c-span.org/video/?413593-1/donald-trump-endorses-speaker-ryan-ahead-primary\n",
      "Predicted Clinton:  0.999595327908\n",
      "Predicted Trump:  0.000404672092406\n",
      "\n",
      "\tDavid is spotting for georgians  and all of us every day in the u.s. senate, and is committed to solving our national debt and global security crisis.\n",
      "-- 22 Faith and Freedom Coalition Conference\n",
      "http://www.c-span.org/video/?410912-1/faith-freedom-coalition-holds-annual-conference\n",
      "Predicted Clinton:  0.998965702186\n",
      "Predicted Trump:  0.00103429781445\n",
      "\n",
      "\tWhat we can do today is help prepare the next commander in  chief to face these challenges.\n",
      "-- 22 Faith and Freedom Coalition Conference\n",
      "http://www.c-span.org/video/?410912-1/faith-freedom-coalition-holds-annual-conference\n",
      "Predicted Clinton:  0.998945139218\n",
      "Predicted Trump:  0.00105486078151\n",
      "\n",
      "\tThis will ensure that our own workers, right here in america, get the jobs and higher pay that will grow our tax revenues, increase our economic might as a nation, make us strong financially again.\n",
      "-- 33 Presidential Candidate Donald Trump Remarks on Foreign Policy\n",
      "http://www.c-span.org/video/?408693-1/donald-trump-speech-foreign-policy\n",
      "Predicted Clinton:  0.998521182504\n",
      "Predicted Trump:  0.00147881749567\n",
      "\n",
      "\tIt is from the pews and pulpits and christian teachings of black churches all across this land that the civil rights movement lifted its sole -- soul it is from these pews that our nation has been inspired toward a better moral character, deeper concern for mankind, and a spirit of charity and unity that binds us all together.\n",
      "-- 1 Presidential Candidate Donald Trump Remarks in Detroit\n",
      "http://www.c-span.org/video/?414743-1/donald-trump-speaks-africanamerican-church-detroit\n",
      "Predicted Clinton:  0.998191357969\n",
      "Predicted Trump:  0.0018086420311\n",
      "\n",
      "\tFor some of you who may not know, my background is actually in ministry.\n",
      "-- 22 Faith and Freedom Coalition Conference\n",
      "http://www.c-span.org/video/?410912-1/faith-freedom-coalition-holds-annual-conference\n",
      "Predicted Clinton:  0.997599097062\n",
      "Predicted Trump:  0.00240090293779\n",
      "\n",
      "\tTwo years ago actually passed the first balanced budget plan passed by congress since 2001. laid out a path, david perdue, he, i and several others working on plan to reform the budget process.\n",
      "-- 22 Faith and Freedom Coalition Conference\n",
      "http://www.c-span.org/video/?410912-1/faith-freedom-coalition-holds-annual-conference\n",
      "Predicted Clinton:  0.997193703125\n",
      "Predicted Trump:  0.00280629687466\n",
      "\n",
      "\tWe need to know and we need to make sure every single last person involved in this plan, including anyone who knew something but didn't tell us is brought to justice.\n",
      "-- 23 Donald Trump Remarks in Manchester, New Hampshire\n",
      "http://www.c-span.org/video/?410976-1/donald-trump-delivers-remarks-national-security-threats\n",
      "Predicted Clinton:  0.997192419342\n",
      "Predicted Trump:  0.00280758065848\n",
      "\n",
      "\tI don't have to tell anyone in  here that the rise of persecution and harassment is massively on the increase in the united states of america and we have got to defend our rights to keep the doors of the gospel  open and to keep the rights of  conscience for every believer and every christian and every  citizen into this country, to  live according to their beliefs and to do so without fear of intimidation or harassment or  punishment from our government.\n",
      "-- 22 Faith and Freedom Coalition Conference\n",
      "http://www.c-span.org/video/?410912-1/faith-freedom-coalition-holds-annual-conference\n",
      "Predicted Clinton:  0.996907462997\n",
      "Predicted Trump:  0.00309253700288\n",
      "\n",
      "\n",
      "\n",
      "Most Trump-like, but not:\n",
      "\tThe obsession in some corders with clash of civilization or repeating the specific records, radical islamic terrorism isn't just a distraction, it gives these criminals, more murdererrers more standing than they deserve.\n",
      "-- 159 Presidential Candidate Hillary Clinton National Security Address\n",
      "http://www.c-span.org/video/?400960-1/hillary-clinton-national-security-address\n",
      "Predicted Clinton:  0.00338430379023\n",
      "Predicted Trump:  0.99661569621\n",
      "\n",
      "\tWhen you call on people in town halls, you have no idea what they're going to say or what they are going to ask.\n",
      "-- 155 Presidential Candidate Hillary Clinton in Portsmouth, New Hampshire\n",
      "http://www.c-span.org/video/?402565-1/hillary-clinton-town-hall-meeting-portsmouth-new-hampshire\n",
      "Predicted Clinton:  0.00342164857072\n",
      "Predicted Trump:  0.996578351429\n",
      "\n",
      "\tAnd, you know, it's a 3 to 1  federal match so you got to wonder what's going on in terms  of the arithmetic here.\n",
      "-- 132 Presidential Candidate Hillary Clinton Rally in Phoenix, Arizona\n",
      "http://www.c-span.org/video/?407051-1/hillary-clinton-campaign-rally-phoenix-arizona\n",
      "Predicted Clinton:  0.00368000747233\n",
      "Predicted Trump:  0.996319992528\n",
      "\n",
      "\tThe deals -- the merits of the deal happen will discussed, so i will not go through them here.\n",
      "-- 168 Presidential Candidate Hillary Clinton on Iran Nuclear Agreement\n",
      "http://www.c-span.org/video/?328006-1/hillary-clinton-address-iran-nuclear-agreement\n",
      "Predicted Clinton:  0.00384116502291\n",
      "Predicted Trump:  0.996158834977\n",
      "\n",
      "\tThey never tell you what they'll replace it with because they know we won't like it.\n",
      "-- 122 Hillary Clinton Campaign Event in Scranton, Pennsylvania\n",
      "http://www.c-span.org/video/?408560-1/hillary-clinton-campaign-event-scranton-pennsylvania\n",
      "Predicted Clinton:  0.00560092250796\n",
      "Predicted Trump:  0.994399077492\n",
      "\n",
      "\tBut what marco rubio said has as much of an impact in terms of where the republican party is today as anybody else on that stage.\n",
      "-- 176 Presidential Candidate Hillary Clinton Press Availability\n",
      "http://www.c-span.org/video/?327572-2/presidential-candidate-hillary-clinton-press-availability\n",
      "Predicted Clinton:  0.00647252080456\n",
      "Predicted Trump:  0.993527479195\n",
      "\n",
      "\tAnd, commissioner bill bradley summed it up by saying, ted cruz does not know what the hell he is talking about.\n",
      "-- 124 Hillary Clinton Campaign Rally in Manhattan\n",
      "http://www.c-span.org/video/?408350-1/hillary-clinton-getoutthevote-rally\n",
      "Predicted Clinton:  0.00829911301892\n",
      "Predicted Trump:  0.991700886981\n",
      "\n",
      "\tAnd when you hear mr. trump saying he wants to make america great again, respond america is great, we just have to make it work for all of the people in our country again.\n",
      "-- 167 2015 New Hampshire Democratic Party State Convention\n",
      "http://www.c-span.org/video/?328108-1/2015-new-hampshire-democratic-party-state-convention\n",
      "Predicted Clinton:  0.00924105376905\n",
      "Predicted Trump:  0.990758946231\n",
      "\n",
      "\tThis is an honor because she and i used to run a little potluck together and we would have people over and we would have a little potluck.\n",
      "-- 172 Presidential Candidate Hillary Clinton Meet-and-Greet at the Iowa State Fair, Part 1\n",
      "http://www.c-span.org/video/?327525-8/presidential-candidate-hillary-clinton-meetandgreet-iowa-state-fair-part-1\n",
      "Predicted Clinton:  0.0093203808039\n",
      "Predicted Trump:  0.990679619196\n",
      "\n",
      "\tActually when i'm not running for something, they say nice things about me.\n",
      "-- 151 Presidential Candidate Hillary Clinton Rally in Marshalltown, Iowa\n",
      "http://www.c-span.org/video/?403686-1/hillary-clinton-get-caucus-rally-marshalltown-iowa\n",
      "Predicted Clinton:  0.0100433354357\n",
      "Predicted Trump:  0.989956664564\n",
      "\n",
      "\n",
      "\n"
     ]
    }
   ],
   "source": [
    "\n",
    "for candidate in which_candidates:\n",
    "    print \"Most\",candidate+\"-like, but not:\"\n",
    "    for idx, row in cv_result[cv_result.speaker != cv_result.predict].sort_values(by=candidate,ascending=False).iloc[0:10].iterrows():\n",
    "        sent = row.sentence\n",
    "        print \"\\t\",sent[0].upper()+sent[1:]\n",
    "        print \"--\",row.speech_idx, row.title\n",
    "        print long_df.loc[row.speech_idx].link\n",
    "        print \"Predicted Clinton: \",row.Clinton\n",
    "        print \"Predicted Trump: \",row.Trump\n",
    "        print\n",
    "    print\n",
    "    print"
   ]
  },
  {
   "cell_type": "code",
   "execution_count": 100,
   "metadata": {
    "collapsed": false
   },
   "outputs": [],
   "source": [
    "sums = {}\n",
    "for candidate in which_candidates:\n",
    "    sums[candidate] = pd.DataFrame(index=segment_coefs[0].index)\n",
    "t0 = time.time()\n",
    "for i, segment in enumerate(segment_coefs):\n",
    "    segment.drop_duplicates(inplace=True)\n",
    "    for candidate in which_candidates:\n",
    "        sums[candidate] = sums[candidate].join(segment[candidate], rsuffix=str(i))\n",
    "        sums[candidate].drop_duplicates(inplace=True)\n"
   ]
  },
  {
   "cell_type": "code",
   "execution_count": 101,
   "metadata": {
    "collapsed": false
   },
   "outputs": [],
   "source": [
    "average_coef = pd.DataFrame()\n",
    "\n",
    "for candidate in which_candidates:\n",
    "    sums[candidate].fillna(1.0, inplace=True) # odds ratio\n",
    "    #     average_coef[candidate] = sums[candidate].apply(lambda x: len(x) / sum([1./i for i in x]), axis=1)\n",
    "    logged = np.log(sums[candidate])\n",
    "    average_coef[candidate] = np.e**(logged.sum(axis=1) /  logged.shape[1])"
   ]
  },
  {
   "cell_type": "code",
   "execution_count": 102,
   "metadata": {
    "collapsed": false
   },
   "outputs": [
    {
     "name": "stdout",
     "output_type": "stream",
     "text": [
      "tremendous       12.441219\n",
      "islamic           9.954648\n",
      "guy               9.253996\n",
      "hispanics         7.962123\n",
      "allowed           7.297891\n",
      "conservative      7.191843\n",
      "my wife           6.983890\n",
      "poll              6.884786\n",
      "frankly           6.683002\n",
      "golf              6.527227\n",
      "establishment     6.364172\n",
      "badly             6.328923\n",
      "politician        6.262710\n",
      "highly            6.178180\n",
      "japan             6.130588\n",
      "incredible        6.078478\n",
      "believe me        6.008609\n",
      "ivanka            5.955501\n",
      "deals             5.784829\n",
      "almost            5.747028\n",
      "guys              5.714904\n",
      "an example        5.673463\n",
      "indiana           5.633315\n",
      "politicians       5.605007\n",
      "stupid            5.573354\n",
      "hillary           5.571508\n",
      "rigged            5.533602\n",
      "nice              5.440839\n",
      "be very           5.336224\n",
      "delegates         5.267174\n",
      "common core       5.171817\n",
      "by the way        5.154134\n",
      "media             5.093614\n",
      "television        4.919530\n",
      "come in           4.894308\n",
      "fox               4.856668\n",
      "correct           4.851285\n",
      "illegal           4.811011\n",
      "totally           4.705541\n",
      "50                4.686820\n",
      "magazine          4.640134\n",
      "last night        4.636463\n",
      "massive           4.635033\n",
      "ever before       4.563663\n",
      "pouring           4.548691\n",
      "people that       4.535752\n",
      "they said         4.500026\n",
      "evangelicals      4.496844\n",
      "coming in         4.492488\n",
      "make america      4.486377\n",
      "Name: Trump, dtype: float64\n",
      "\n",
      "my husband               14.152146\n",
      "investment               10.763331\n",
      "arkansas                  9.684031\n",
      "attention                 8.957064\n",
      "opportunities             8.789318\n",
      "grandmother               7.948805\n",
      "citizens united           7.820286\n",
      "learning                  7.623046\n",
      "climate                   7.125172\n",
      "recession                 6.900187\n",
      "grateful                  6.854528\n",
      "com                       6.791088\n",
      "granddaughter             6.782371\n",
      "particularly              6.736279\n",
      "is not only               6.727065\n",
      "avoid                     6.425228\n",
      "i remember                6.314994\n",
      "recovery                  6.313972\n",
      "mother                    6.228694\n",
      "progressive               6.179295\n",
      "flint                     6.068341\n",
      "advanced                  5.907814\n",
      "can to                    5.896849\n",
      "past                      5.882527\n",
      "faces                     5.854893\n",
      "auto                      5.839728\n",
      "progress                  5.666565\n",
      "democracy                 5.666281\n",
      "our future                5.658442\n",
      "homes                     5.637821\n",
      "grandparents              5.589037\n",
      "a raise                   5.465059\n",
      "democratic                5.443114\n",
      "approach                  5.397836\n",
      "climate change            5.384514\n",
      "playing the               5.346433\n",
      "wage                      5.316922\n",
      "loophole                  5.277640\n",
      "republican candidates     5.249422\n",
      "as president i            5.174253\n",
      "privatize                 5.023756\n",
      "deserves                  4.995710\n",
      "about what                4.976654\n",
      "barbara                   4.956499\n",
      "bargain                   4.938685\n",
      "affordable                4.938005\n",
      "clean energy              4.860149\n",
      "senator sanders           4.858442\n",
      "wall street               4.838574\n",
      "answers                   4.801347\n",
      "Name: Clinton, dtype: float64\n"
     ]
    }
   ],
   "source": [
    "print average_coef.sort_values(by='Trump', ascending=False).head(50)['Trump']\n",
    "print\n",
    "print average_coef.sort_values(by='Clinton', ascending=False).head(50)['Clinton']"
   ]
  },
  {
   "cell_type": "code",
   "execution_count": 103,
   "metadata": {
    "collapsed": true
   },
   "outputs": [],
   "source": [
    "average_coef.to_csv('average_coef_sept_8.csv')"
   ]
  },
  {
   "cell_type": "code",
   "execution_count": 108,
   "metadata": {
    "collapsed": true
   },
   "outputs": [],
   "source": [
    "\n",
    "def color_map(percent, top, bottom):\n",
    "    if percent >1:\n",
    "        percent = 1\n",
    "    diff = [t-b for t,b in zip(top, bottom)]\n",
    "    \n",
    "    return [(d*percent)+b for d,b in zip(diff, bottom)]\n",
    "    "
   ]
  },
  {
   "cell_type": "code",
   "execution_count": 104,
   "metadata": {
    "collapsed": false
   },
   "outputs": [],
   "source": [
    "pronoun_coefs = average_coef.loc[[col for col in average_coef.index if col in pronouns]].sort_values('Trump', ascending=False)\n",
    "# toplot = pronoun_coefs[((pronoun_coefs.Trump >= 1) | (pronoun_coefs.Clinton >=1))].copy()\n",
    "toplot = pronoun_coefs.iloc[0:10].append(pronoun_coefs.iloc[-10:])\n"
   ]
  },
  {
   "cell_type": "code",
   "execution_count": 105,
   "metadata": {
    "collapsed": true
   },
   "outputs": [],
   "source": []
  },
  {
   "cell_type": "code",
   "execution_count": 106,
   "metadata": {
    "collapsed": false
   },
   "outputs": [
    {
     "data": {
      "image/png": "[encoded data removed]",
      "text/plain": [
       "<matplotlib.figure.Figure at 0x1243397d0>"
      ]
     },
     "metadata": {},
     "output_type": "display_data"
    }
   ],
   "source": [
    "\n",
    "f, (ax1) = plt.subplots(1,1, figsize=(12,9))\n",
    "label_size = 12\n",
    "value_size = 9\n",
    "\n",
    "vals = [np.log(x) for x in toplot.sort_values('Trump', ascending=False).Trump]\n",
    "\n",
    "#minimum=abs(min(vals))\n",
    "maximum=max(vals)\n",
    "minimum=maximum\n",
    "blue=[0,.1,.8]\n",
    "red = [.8,.1,0]\n",
    "white = [1,1,1]\n",
    "colors = [color_map(-value/minimum, blue, white) if value < 0 else color_map(value/maximum, red, white) for value in vals]\n",
    "\n",
    "\n",
    "sns.barplot(x=vals,\n",
    "            y=toplot.sort_values('Trump', ascending=False).index, ax=ax1,\n",
    "            palette=colors, \n",
    "#             color=colors,\n",
    "            edgecolor='black')\n",
    "\n",
    "ax1.set_title(\"How Pronouns Multiply the Predicted Odds that\\nClinton or Trump Was the Speaker\\n\", fontsize=28, color=[.25,.25,.25])\n",
    "\n",
    "# ax1.set_yticklabels([x[0].upper()+x[1:] for x in toplot.sort_values('Trump', ascending=False).index.values], fontsize=16)\n",
    "\n",
    "\n",
    "labels = [x[0].upper()+x[1:] for x in toplot.sort_values('Trump', ascending=False).index.values]\n",
    "for i, patch in enumerate(ax1.patches):\n",
    "    width = patch.get_width()\n",
    "    \n",
    "    if patch.get_x() < 0:\n",
    "        # Bars extending on the left\n",
    "        label_x = .05\n",
    "        label_halign = 'left'\n",
    "        if patch.get_width() >= np.log(1.15):     \n",
    "            value_x = patch.get_x()+.04\n",
    "            value_halign = 'left'\n",
    "        else:\n",
    "            value_x = patch.get_x()-.04\n",
    "            value_halign='right'\n",
    "    else:\n",
    "        # Bars extending on the right\n",
    "        label_x = -.05\n",
    "        label_halign = 'right'\n",
    "        if patch.get_width() >= np.log(1.15):\n",
    "            value_x = patch.get_width()-.04\n",
    "            value_halign = 'right'\n",
    "        else:\n",
    "            value_x = patch.get_width() + .04\n",
    "            value_halign = 'left'\n",
    "\n",
    "    value_color = [.1,.1,.1]\n",
    "    if patch.get_width()> np.log(2): value_color = 'white'\n",
    "    ax1.text(label_x, patch.get_y()+.61, '%s'%(labels[i]), color=[.1,.1,.1], ha=label_halign, fontsize=label_size)   \n",
    "    ax1.text(value_x, patch.get_y()+.61, '%1.2f'%(np.e**abs(vals[i])), color=value_color, ha=value_halign, fontsize=label_size)    \n",
    "\n",
    "            \n",
    "ax1.text(-np.log(2.95), 14, 'Clinton', color='b', fontsize=24)\n",
    "ax1.text(np.log(2.95), 5, 'Trump', color='r', fontsize=24, ha='right')\n",
    "\n",
    "ax1.set_yticklabels([])\n",
    "ax1.set_xlabel('')\n",
    "ax1.set_xlim([-np.log(5),np.log(5)])\n",
    "\n",
    "ax1.set_xticks([-np.log(4),-np.log(3),-np.log(2),0,np.log(2),np.log(3), np.log(4)], minor=False)\n",
    "ax1.set_xticklabels([4,3,2,1,2,3,4], minor=False)\n",
    "\n",
    "f.text(.95, .07, 'by\\nJesse Galef', color=[.2,.2,.2], fontsize=12, alpha=.8, ha='right', weight='bold', variant='small-caps')\n",
    "\n",
    "\n",
    "plt.plot()\n",
    "f.tight_layout(rect=[0,0,.95,.95])"
   ]
  },
  {
   "cell_type": "code",
   "execution_count": 771,
   "metadata": {
    "collapsed": false
   },
   "outputs": [
    {
     "name": "stdout",
     "output_type": "stream",
     "text": [
      "each          2.478755\n",
      "either        2.423942\n",
      "each other    2.290494\n",
      "both          2.244548\n",
      "themselves    2.025851\n",
      "someone       2.019864\n",
      "others        1.672497\n",
      "who           1.578782\n",
      "his           1.547923\n",
      "everyone      1.535259\n",
      "we            0.791244\n",
      "you           0.770145\n",
      "our           0.702353\n",
      "they          0.654019\n",
      "him           0.625112\n",
      "Name: Clinton, dtype: float64\n",
      "myself      3.117861\n",
      "nobody      2.721061\n",
      "these       1.910636\n",
      "somebody    1.877970\n",
      "she         1.855257\n",
      "him         1.599714\n",
      "they        1.529007\n",
      "our         1.423785\n",
      "you         1.298457\n",
      "we          1.263833\n",
      "everyone    0.651356\n",
      "his         0.646027\n",
      "who         0.633400\n",
      "others      0.597908\n",
      "someone     0.495083\n",
      "Name: Trump, dtype: float64\n"
     ]
    }
   ],
   "source": [
    "print toplot.sort_values('Trump')['Clinton'][:15]\n",
    "print toplot.sort_values('Clinton')['Trump'][:15]\n"
   ]
  },
  {
   "cell_type": "code",
   "execution_count": 110,
   "metadata": {
    "collapsed": false
   },
   "outputs": [
    {
     "data": {
      "image/png": "[encoded data removed]",
      "text/plain": [
       "<matplotlib.figure.Figure at 0x124df9e10>"
      ]
     },
     "metadata": {},
     "output_type": "display_data"
    }
   ],
   "source": [
    "#  seaborn.barplot(x=None, y=None, hue=None, data=None, order=None, hue_order=None, \n",
    "#  estimator=<function mean>, ci=95, n_boot=1000, units=None, orient=None, color=None,\n",
    "#  palette=None, saturation=0.75, errcolor='.26', errwidth=None, capsize=None, ax=None, **kwargs)¶\n",
    "f, ax1 = plt.subplots(1,1, figsize=(15,9))\n",
    "\n",
    "ax1.set_yticks([-1*np.log(x) for x in range(10,1,-1)]+[0]+[np.log(y) for y in range(2,11)])\n",
    "    \n",
    "ax1.set_yticklabels(range(10,1,-1)+['1']+range(2,11))\n",
    "\n",
    "\n",
    "ax1.set_ylabel('')\n",
    "\n",
    "label_font_size = 14\n",
    "value_font_size=11\n",
    "rotate =60\n",
    "n_words = 20\n",
    "\n",
    "color_adjustment = np.log(3)\n",
    "val_series = average_coef.sort_values('Trump', ascending=False)['Trump']\n",
    "vals = val_series[:n_words].append(val_series[-n_words:])\n",
    "vals = np.log(vals)\n",
    "\n",
    "# minimum=abs(min(vals))\n",
    "maximum=max(vals)\n",
    "minimum=maximum\n",
    "blue=[0,.1,.8]\n",
    "red = [.8,.1,0]\n",
    "white = [1,1,1]\n",
    "\n",
    "colors = [color_map(-(value+color_adjustment)/(minimum-color_adjustment), blue, white) if value < 0 else color_map((value-color_adjustment)/(maximum-color_adjustment), red, white) for value in vals]\n",
    "\n",
    "sns.barplot(y=vals,\n",
    "            x=vals.index, ax=ax1,\n",
    "            palette=colors, \n",
    "#             color=colors,\n",
    "            edgecolor='black')\n",
    "\n",
    "ax1.set_xticks([])\n",
    "ax1.set_xlabel('')\n",
    "ax1.set_title(\"Top \"+str(n_words)+\" Words/Phrases that Multiply the Predicted Odds\\nClinton or Trump was the Speaker\\n\", fontsize=28, color=[.25,.25,.25])\n",
    "\n",
    "\n",
    "labels = [x[0].upper()+x[1:] for x in vals.sort_values(ascending=False).index.values]\n",
    "\n",
    "for i, patch in enumerate(ax1.patches):\n",
    "    height = patch.get_height()\n",
    "    if patch.get_y() < 0:\n",
    "#         y = patch.get_y() -.5\n",
    "        if height > np.log(6): \n",
    "            color = 'white'\n",
    "        else:\n",
    "            color = 'black'\n",
    "\n",
    "        ax1.text(patch.get_x()+.1, .1, '%s'%(labels[i]), color=[.1,.1,.1], va='bottom', ha='left', rotation=rotate, fontsize=label_font_size)\n",
    "        ax1.text(patch.get_x()+.15, patch.get_y()+.15, '%1.2f'%(np.e**abs(vals[i])), color=color, rotation=90, va='bottom', fontsize=value_font_size)\n",
    "    else:\n",
    "        if height > np.log(7): \n",
    "            color = 'white'\n",
    "        else:\n",
    "            color = 'black'\n",
    "        ax1.text(patch.get_x()+.7, -.05, '%s'%(labels[i]), color=[.1,.1,.1], ha='right', va='top', rotation=rotate, fontsize=label_font_size)\n",
    "        ax1.text(patch.get_x()+.15, patch.get_y()+height-.3, '%1.2f'%(np.e**abs(vals[i])), color=color, rotation = 90, va='bottom', fontsize=value_font_size)\n",
    "\n",
    "            \n",
    "f.text(.95, .95, 'Jesse Galef', color=[.2,.2,.2], fontsize=16, alpha=.8, ha='right', weight='bold', variant='small-caps')\n",
    "\n",
    "ax1.set_ylim([-np.log(14), np.log(14)])\n",
    "\n",
    "# ax1.yaxis.tick_right()\n",
    "# ax1.yaxis.set_ticks_position('both')\n",
    "\n",
    "for i, ygrid in enumerate(ax1.get_ygridlines()):\n",
    "#     print ygrid.get_ydata(orig=False)[0], np.log(2)\n",
    "#     if abs(ygrid.get_ydata(orig=True)[0]) == np.log(2):\n",
    "    if i==8 or i==10:\n",
    "        ygrid.set_xdata([0,0])\n",
    "\n",
    "plt.grid(which='major', color=[.7,.7,.7], alpha=.7)\n",
    "plt.margins(.3)\n",
    "plt.plot()\n",
    "f.tight_layout(rect=[0,0,.95,.95])\n",
    "\n"
   ]
  },
  {
   "cell_type": "code",
   "execution_count": null,
   "metadata": {
    "collapsed": true
   },
   "outputs": [],
   "source": []
  },
  {
   "cell_type": "code",
   "execution_count": 111,
   "metadata": {
    "collapsed": false
   },
   "outputs": [],
   "source": [
    "average_coef.to_csv('average_coef.csv', encoding='utf-8')"
   ]
  },
  {
   "cell_type": "code",
   "execution_count": null,
   "metadata": {
    "collapsed": true
   },
   "outputs": [],
   "source": []
  }
 ],
 "metadata": {
  "celltoolbar": "Raw Cell Format",
  "kernelspec": {
   "display_name": "Python 2",
   "language": "python",
   "name": "python2"
  },
  "language_info": {
   "codemirror_mode": {
    "name": "ipython",
    "version": 2
   },
   "file_extension": ".py",
   "mimetype": "text/x-python",
   "name": "python",
   "nbconvert_exporter": "python",
   "pygments_lexer": "ipython2",
   "version": "2.7.11"
  }
 },
 "nbformat": 4,
 "nbformat_minor": 0
}
