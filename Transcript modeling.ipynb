{
 "cells": [
  {
   "cell_type": "code",
   "execution_count": 2,
   "metadata": {
    "collapsed": true
   },
   "outputs": [],
   "source": [
    "# Jesse Galef\n",
    "# Using data scraped from C-SPAN's uncorrected closed caption transcripts\n"
   ]
  },
  {
   "cell_type": "code",
   "execution_count": 3,
   "metadata": {
    "collapsed": true
   },
   "outputs": [],
   "source": [
    "import pandas as pd\n",
    "import numpy as np"
   ]
  },
  {
   "cell_type": "code",
   "execution_count": 4,
   "metadata": {
    "collapsed": true
   },
   "outputs": [],
   "source": [
    "import re"
   ]
  },
  {
   "cell_type": "code",
   "execution_count": 5,
   "metadata": {
    "collapsed": true
   },
   "outputs": [],
   "source": [
    "from bs4 import BeautifulSoup\n",
    "import urllib"
   ]
  },
  {
   "cell_type": "code",
   "execution_count": 6,
   "metadata": {
    "collapsed": true
   },
   "outputs": [],
   "source": [
    "from scipy.sparse import csr_matrix, hstack, diags\n",
    "from scipy.stats import skew, kurtosis"
   ]
  },
  {
   "cell_type": "code",
   "execution_count": 7,
   "metadata": {
    "collapsed": false
   },
   "outputs": [],
   "source": [
    "from sklearn.feature_extraction.text import CountVectorizer\n",
    "from sklearn.linear_model import LogisticRegression\n",
    "from sklearn.metrics import roc_curve, roc_auc_score\n",
    "from sklearn.grid_search import GridSearchCV \n",
    "from sklearn.cross_validation import StratifiedKFold\n",
    "from sklearn.naive_bayes import MultinomialNB\n",
    "\n",
    "from sklearn.pipeline import Pipeline, FeatureUnion\n",
    "from sklearn.base import TransformerMixin, BaseEstimator\n",
    "from sklearn.feature_selection import SelectPercentile, SelectFromModel, SelectKBest, chi2, f_classif\n"
   ]
  },
  {
   "cell_type": "code",
   "execution_count": 8,
   "metadata": {
    "collapsed": false
   },
   "outputs": [],
   "source": [
    "import matplotlib.pyplot as plt\n",
    "import seaborn as sns\n",
    "%matplotlib inline\n",
    "plt.style.use('fivethirtyeight')"
   ]
  },
  {
   "cell_type": "code",
   "execution_count": 9,
   "metadata": {
    "collapsed": false
   },
   "outputs": [],
   "source": [
    "# from spacy.en import English\n",
    "# from spacy import attrs\n",
    "# nlp_toolkit = English()"
   ]
  },
  {
   "cell_type": "code",
   "execution_count": 10,
   "metadata": {
    "collapsed": true
   },
   "outputs": [],
   "source": [
    "from nltk.tokenize import sent_tokenize, word_tokenize\n",
    "# NLTK's sent_tokenize looks more accurate than Spacy's, and I only need to run it once\n",
    "from nltk.corpus import stopwords\n",
    "stops = list(stopwords.words('english'))"
   ]
  },
  {
   "cell_type": "code",
   "execution_count": 11,
   "metadata": {
    "collapsed": false
   },
   "outputs": [],
   "source": [
    "from textblob import TextBlob\n",
    "# "
   ]
  },
  {
   "cell_type": "markdown",
   "metadata": {},
   "source": [
    "# Common Words Lists"
   ]
  },
  {
   "cell_type": "code",
   "execution_count": 12,
   "metadata": {
    "collapsed": false
   },
   "outputs": [],
   "source": [
    "conjunctions = [u'and',u'that',u'but',u'or',u'as',u'if',u'when',u'than',u'because',\n",
    "                u'while',u'where',u'after',u'so',u'though',u'since',u'until',u'whether',\n",
    "                u'before',u'although',u'nor',u'like',u'once',u'unless',u'now',u'except']"
   ]
  },
  {
   "cell_type": "code",
   "execution_count": 13,
   "metadata": {
    "collapsed": true
   },
   "outputs": [],
   "source": [
    "pronouns = [u\"all\", u\"another\", u\"any\", u\"anybody\", u\"anyone\", u\"anything\", u\"both\", u\"each\", u\"each other\",\n",
    "            u\"either\", u\"everybody\", u\"everyone\", u\"everything\", u\"few\", u\"he\", u\"her\", u\"hers\",\n",
    "            u\"herself\", u\"him\", u\"himself\", u\"his\", u\"i\", u\"it\", u\"its\", u\"itself\", u\"little\",\n",
    "            u\"many\", u\"me\", u\"mine\", u\"more\", u\"most\", u\"much\", u\"my\", u\"myself\", u\"neither\", \n",
    "            u\"no one\", u\"nobody\", u\"none\", u\"nothing\", u\"one\", u\"one another\", u\"other\", u\"others\",\n",
    "            u\"our\", u\"ours\", u\"ourselves\", u\"several\", u\"she\", u\"some\", u\"somebody\", u\"someone\",\n",
    "            u\"something\", u\"that\", u\"their\", u\"theirs\", u\"them\", u\"themselves\", u\"these\", u\"they\",\n",
    "            u\"this\", u\"those\", u\"us\", u\"we\", u\"what\", u\"whatever\", u\"which\", u\"whichever\", u\"who\",\n",
    "            u\"whoever\", u\"whom\", u\"whomever\", u\"whose\", u\"you\", u\"your\", u\"yours\", u\"yourself\", u\"yourselves\"]"
   ]
  },
  {
   "cell_type": "markdown",
   "metadata": {},
   "source": [
    "# Transformer classes and Functions"
   ]
  },
  {
   "cell_type": "code",
   "execution_count": 14,
   "metadata": {
    "collapsed": true
   },
   "outputs": [],
   "source": [
    "\n",
    "def pipeline_features(step):\n",
    "    # Passed a pipeline or pipeline step, recursively checks each named \n",
    "    # step and builds a list of features.\n",
    "    # This returns the list in the same order that the estimator uses\n",
    "    # In retrospect, this is only useful when the pipeline is feature union, and \n",
    "    # took extra work to handle any true pipelines with one component feeding into another\n",
    "    \n",
    "    features = []\n",
    "    if type(step)==Pipeline:\n",
    "        for named_step in step.named_steps:\n",
    "            features = features + pipeline_features(step.named_steps[named_step])\n",
    "    elif type(step) == FeatureUnion:\n",
    "        for transformer in step.transformer_list:\n",
    "            features = features + pipeline_features(transformer[1])\n",
    "    elif (type(step) == LogisticRegression or (type(step) == MultinomialNB)):\n",
    "        features = []\n",
    "    else:\n",
    "        features = step.get_feature_names()\n",
    "    return features\n"
   ]
  },
  {
   "cell_type": "code",
   "execution_count": 15,
   "metadata": {
    "collapsed": true
   },
   "outputs": [],
   "source": [
    "def pipeline_coef_df(pipeline):\n",
    "    # Passed a pipeline with estimator, creates a DataFrame of the coeficients for each class\n",
    "    \n",
    "    feature_list = pipeline_features(pipeline)\n",
    "    if len(pipeline.named_steps['classifier'].classes_) == 2:\n",
    "        coef_df = pd.DataFrame(pipeline.named_steps['classifier'].coef_, \n",
    "                           index = [pipeline.named_steps['classifier'].classes_[1]],\n",
    "                           columns=feature_list).transpose()\n",
    "        coef_df[pipeline.named_steps['classifier'].classes_[0]] = -coef_df[pipeline.named_steps['classifier'].classes_[1]]\n",
    "    else:\n",
    "        coef_df = pd.DataFrame(pipeline.named_steps['classifier'].coef_, \n",
    "                           index = pipeline.named_steps['classifier'].classes_, \n",
    "                           columns=feature_list).transpose()\n",
    "    return np.e**(coef_df) # To get the odds ratios rather than the log odds\n"
   ]
  },
  {
   "cell_type": "code",
   "execution_count": 16,
   "metadata": {
    "collapsed": true
   },
   "outputs": [],
   "source": [
    "class word_length(TransformerMixin, BaseEstimator):\n",
    "    # very quick calculation of the number ad distribution of words of different lengths\n",
    "    \n",
    "    def __init__(self):\n",
    "        pass\n",
    "\n",
    "    def fit(self, X, y=None, **fit_params):\n",
    "        return self\n",
    "    \n",
    "    def transform(self, X, **transform_params):\n",
    "        info = []\n",
    "        for sentence in X:\n",
    "            row = {}\n",
    "            tokens = [len(t) for t in re.findall(regex_token_pattern, sentence)]\n",
    "            row['avg_word_length'] = sum(tokens)/float(len(tokens))\n",
    "            row['num_words'] = len(tokens)\n",
    "            row['num_words_sqrt'] = len(tokens)**.5\n",
    "            info.append(row)\n",
    "        return pd.DataFrame(info)\n",
    "    \n",
    "    def get_feature_names(self):\n",
    "        return ['avg_word_length', 'num_words', 'num_words_sqrt']\n",
    "    "
   ]
  },
  {
   "cell_type": "code",
   "execution_count": 17,
   "metadata": {
    "collapsed": false
   },
   "outputs": [],
   "source": [
    "class best_vectorizer(TransformerMixin, BaseEstimator):\n",
    "    # Transformer that takes a vectorizer and sklearn selector (like SelectKBest or SelectPercentile)\n",
    "    # to find the n best features\n",
    "    \n",
    "    def __init__(self, vectorizer, selector, name):\n",
    "        self.vectorizer=vectorizer\n",
    "        self.selector=selector\n",
    "        self.name = name\n",
    "    \n",
    "    def fit(self, X, y, **fit_params):\n",
    "        vectors = self.vectorizer.fit_transform(X)\n",
    "        self.selector.fit(vectors, y)\n",
    "        return self\n",
    "\n",
    "    def transform(self, X, **transform_params):\n",
    "        return self.selector.transform(self.vectorizer.transform(X))\n",
    "    \n",
    "    def get_feature_names(self):\n",
    "        return [self.name+feature for feature, used in zip(self.vectorizer.get_feature_names(), self.selector.get_support()) if used==True]\n",
    "    \n",
    "    "
   ]
  },
  {
   "cell_type": "code",
   "execution_count": 18,
   "metadata": {
    "collapsed": true
   },
   "outputs": [],
   "source": [
    "\n",
    "\n",
    "class sentiments(TransformerMixin, BaseEstimator):\n",
    "    # Uses the Textblob library to evaluate the sentiment polarity & subjectivity of each sentence,\n",
    "    # and returns the result of the passed vectorizer fit/transform multipied by polarity and subjectivity\n",
    "    # For example, if a sentence is -.8 polarity and uses the term 'Obama', it will return \n",
    "    # -.8 as the value of polarity_obama\n",
    "    \n",
    "    # Returns csr sparse matrix\n",
    "    \n",
    "    def __init__(self, vectorizer):\n",
    "        self.vectorizer = vectorizer\n",
    "    \n",
    "    def fit(self, X, y=None):\n",
    "        self.vectorizer.fit(X)\n",
    "        return self\n",
    "    \n",
    "    def transform(self, X):\n",
    "        sent_vectors = self.vectorizer.transform(X)\n",
    "        polarities = []\n",
    "        subjectivities = []\n",
    "        for sentence in X:\n",
    "            polarity, subjectivity = TextBlob(sentence).sentiment\n",
    "            polarities.append(polarity)\n",
    "            subjectivities.append(subjectivity)\n",
    "            \n",
    "        p_diag = diags(polarities,0)\n",
    "        s_diag = diags(subjectivities,0)\n",
    "        polarity_vectors = p_diag.dot(sent_vectors)\n",
    "        subjectivity_vectors = s_diag.dot(sent_vectors)\n",
    "        return hstack([polarity_vectors,subjectivity_vectors])\n",
    "    \n",
    "    def get_feature_names(self):\n",
    "        return ['polarity_'+i for i in self.vectorizer.get_feature_names()]+['subjectivity_'+i for i in self.vectorizer.get_feature_names()]\n"
   ]
  },
  {
   "cell_type": "markdown",
   "metadata": {},
   "source": [
    "# Start reading data"
   ]
  },
  {
   "cell_type": "code",
   "execution_count": 19,
   "metadata": {
    "collapsed": false
   },
   "outputs": [],
   "source": [
    "republicans = ['Trump']#,'Cruz','Kasich','Rubio','Bush']\n",
    "democrats = ['Clinton']#,'Sanders']\n",
    "# Most of the infrastructure is here to include more than two candidates\n",
    "\n",
    "long_df = pd.DataFrame()\n",
    "for candidate in republicans+democrats:\n",
    "    long_df = long_df.append(pd.read_csv(candidate+\"_transcript_df.csv\",index_col=0),ignore_index=True)"
   ]
  },
  {
   "cell_type": "code",
   "execution_count": 20,
   "metadata": {
    "collapsed": false
   },
   "outputs": [
    {
     "data": {
      "text/plain": [
       "(186, 6)"
      ]
     },
     "execution_count": 20,
     "metadata": {},
     "output_type": "execute_result"
    }
   ],
   "source": [
    "long_df.shape"
   ]
  },
  {
   "cell_type": "code",
   "execution_count": 21,
   "metadata": {
    "collapsed": false
   },
   "outputs": [
    {
     "data": {
      "text/plain": [
       "Trump      97\n",
       "Clinton    89\n",
       "Name: speaker, dtype: int64"
      ]
     },
     "execution_count": 21,
     "metadata": {},
     "output_type": "execute_result"
    }
   ],
   "source": [
    "long_df.speaker.value_counts()"
   ]
  },
  {
   "cell_type": "code",
   "execution_count": 22,
   "metadata": {
    "collapsed": true
   },
   "outputs": [],
   "source": [
    "regex_token_pattern = \"\\\\b[\\\\w\\']+\\\\b\""
   ]
  },
  {
   "cell_type": "code",
   "execution_count": 170,
   "metadata": {
    "collapsed": false
   },
   "outputs": [
    {
     "name": "stdout",
     "output_type": "stream",
     "text": [
      "CPU times: user 9.57 s, sys: 483 ms, total: 10.1 s\n",
      "Wall time: 10.5 s\n"
     ]
    }
   ],
   "source": [
    "%%time\n",
    "sentence_list = []\n",
    "for idx, speech in long_df.iterrows():\n",
    "    raw = unicode(speech.text,errors='ignore').lower().replace('\\r','').replace('  ',' ').replace('>','').replace('w3','').replace(' v ','')\n",
    "    #Fixing a few known glitches in the C-SPAN transcribing service\n",
    "    sentences = sent_tokenize(raw)\n",
    "    for sentence in sentences:\n",
    "        sent_info = {}\n",
    "        sent_info['sentence'] = sentence\n",
    "        sent_info['speaker'] = speech.speaker\n",
    "        sent_info['date'] = speech.date\n",
    "        sent_info['title'] = speech.title\n",
    "        sent_info['speech_idx'] = idx\n",
    "        sent_info['tokens'] = len(re.findall(regex_token_pattern, sentence))\n",
    "        sentence_list.append(sent_info)\n",
    "raw_df = pd.DataFrame(sentence_list)"
   ]
  },
  {
   "cell_type": "code",
   "execution_count": 172,
   "metadata": {
    "collapsed": false
   },
   "outputs": [
    {
     "data": {
      "text/plain": [
       "Trump      41130\n",
       "Clinton    17649\n",
       "Name: speaker, dtype: int64"
      ]
     },
     "execution_count": 172,
     "metadata": {},
     "output_type": "execute_result"
    }
   ],
   "source": [
    "raw_df.speaker.value_counts()"
   ]
  },
  {
   "cell_type": "code",
   "execution_count": 173,
   "metadata": {
    "collapsed": false
   },
   "outputs": [
    {
     "data": {
      "text/plain": [
       "<matplotlib.axes._subplots.AxesSubplot at 0x135c1cad0>"
      ]
     },
     "execution_count": 173,
     "metadata": {},
     "output_type": "execute_result"
    },
    {
     "data": {
      "image/png": "[encoded data removed]",
      "text/plain": [
       "<matplotlib.figure.Figure at 0x135c1c550>"
      ]
     },
     "metadata": {},
     "output_type": "display_data"
    }
   ],
   "source": [
    "raw_df[raw_df.tokens <=50].tokens.hist(bins=50)\n",
    "# plt.xlim([0,50])"
   ]
  },
  {
   "cell_type": "code",
   "execution_count": 174,
   "metadata": {
    "collapsed": true
   },
   "outputs": [],
   "source": [
    "declarations = {}\n",
    "declarations['Trump'] = '2015-06-16'\n",
    "declarations['Clinton'] = '2015-04-11'\n",
    "# Although C-SPAN has the campaign tag, I want to make sure only to include\n",
    "# events from after the candidates officially declared they were running for President"
   ]
  },
  {
   "cell_type": "code",
   "execution_count": 175,
   "metadata": {
    "collapsed": false
   },
   "outputs": [
    {
     "name": "stdout",
     "output_type": "stream",
     "text": [
      "0 1.0\n",
      "1 0.999574678031\n",
      "2 0.982561799282\n",
      "3 0.94640943194\n",
      "4 0.890062777523\n",
      "5 0.808877320131\n",
      "6 0.722809166539\n",
      "7 0.642202147025\n",
      "8 0.567906905527\n",
      "9 0.502934721584\n",
      "10 0.448969870192\n",
      "11 0.399394341517\n",
      "12 0.357389543885\n",
      "13 0.320131339424\n",
      "14 0.288096088739\n",
      "15 0.257285765324\n",
      "16 0.230949829021\n",
      "17 0.2064682965\n",
      "18 0.185287262458\n",
      "19 0.166471018561\n"
     ]
    }
   ],
   "source": [
    "\n",
    "for i in range(20):\n",
    "    print i, len(raw_df[raw_df.tokens>=i])/float(len(raw_df))"
   ]
  },
  {
   "cell_type": "markdown",
   "metadata": {},
   "source": [
    "In order to avoid sentences like \"Thank you.\" which are indistinguishable, I'm only using\n",
    "sentences with a certain number of tokens. \n",
    "Sometimes the uncorrected transcripts include long run-on sentences and song lyrics, so I'm also ignoring any sentences with more than 150 words."
   ]
  },
  {
   "cell_type": "code",
   "execution_count": 176,
   "metadata": {
    "collapsed": false
   },
   "outputs": [],
   "source": [
    "min_length = 9\n",
    "max_length = 150\n",
    "df = raw_df[raw_df.tokens >= min_length]\n",
    "df = df[df.tokens <= max_length]\n",
    "post_dec = [date > dec for date,dec in zip(df.date, [declarations[candidate] for candidate in df.speaker])]\n",
    "df = df[post_dec]"
   ]
  },
  {
   "cell_type": "code",
   "execution_count": 177,
   "metadata": {
    "collapsed": false
   },
   "outputs": [
    {
     "data": {
      "text/plain": [
       "Trump      17294\n",
       "Clinton    11977\n",
       "Name: speaker, dtype: int64"
      ]
     },
     "execution_count": 177,
     "metadata": {},
     "output_type": "execute_result"
    }
   ],
   "source": [
    "df.speaker.value_counts()"
   ]
  },
  {
   "cell_type": "code",
   "execution_count": 178,
   "metadata": {
    "collapsed": false
   },
   "outputs": [
    {
     "data": {
      "text/plain": [
       "0.59082368214273517"
      ]
     },
     "execution_count": 178,
     "metadata": {},
     "output_type": "execute_result"
    }
   ],
   "source": [
    "max(df.speaker.value_counts())/float(len(df))"
   ]
  },
  {
   "cell_type": "markdown",
   "metadata": {},
   "source": [
    "# Data In, configure Pipeline"
   ]
  },
  {
   "cell_type": "code",
   "execution_count": 179,
   "metadata": {
    "collapsed": false
   },
   "outputs": [],
   "source": [
    "\n",
    "vectorizer = CountVectorizer(\n",
    "                         ngram_range=(1,3), \n",
    "                         decode_error='ignore',\n",
    "                         binary=True,\n",
    "                        token_pattern = regex_token_pattern,\n",
    "                            )\n",
    "\n",
    "    "
   ]
  },
  {
   "cell_type": "code",
   "execution_count": 219,
   "metadata": {
    "collapsed": false
   },
   "outputs": [],
   "source": [
    "pipeline = Pipeline([\n",
    "  ('features', FeatureUnion([\n",
    "#                     ('word_lengths', word_length()),\n",
    "                    ('top_words', best_vectorizer(vectorizer, selector=SelectFromModel(estimator=LogisticRegression(penalty='l1', C=25, class_weight='balanced')), name='')),\n",
    "                ])),\n",
    "    ('classifier', LogisticRegression(C=1,class_weight = 'balanced', fit_intercept=False))]\n",
    ")\n",
    "# Because I ended up using only one transformer/feature, a lot of the infrastructure seems unnecessary\n",
    "# but if/when I want to add more complexity, it's there to be used."
   ]
  },
  {
   "cell_type": "markdown",
   "metadata": {},
   "source": [
    "# Cross Validate to set hyperparameters"
   ]
  },
  {
   "cell_type": "code",
   "execution_count": 220,
   "metadata": {
    "collapsed": true
   },
   "outputs": [],
   "source": [
    "which_candidates = ['Clinton','Trump']"
   ]
  },
  {
   "cell_type": "code",
   "execution_count": 221,
   "metadata": {
    "collapsed": true
   },
   "outputs": [],
   "source": [
    "from sklearn.cross_validation import cross_val_score\n",
    "import time"
   ]
  },
  {
   "cell_type": "code",
   "execution_count": 222,
   "metadata": {
    "collapsed": true
   },
   "outputs": [],
   "source": [
    "#  class sklearn.linear_model.LogisticRegression(penalty='l2', dual=False, \n",
    "# tol=0.0001, C=1.0, fit_intercept=True, intercept_scaling=1, class_weight=None, \n",
    "# random_state=None, solver='liblinear', max_iter=100, multi_class='ovr', verbose=0, \n",
    "# warm_start=False, n_jobs=1)[source]"
   ]
  },
  {
   "cell_type": "code",
   "execution_count": 223,
   "metadata": {
    "collapsed": false,
    "scrolled": true
   },
   "outputs": [
    {
     "name": "stdout",
     "output_type": "stream",
     "text": [
      "Fitting 3 folds for each of 12 candidates, totalling 36 fits\n",
      "[CV] classifier__C=0.3, features__top_words__selector=SelectFromModel(estimator=LogisticRegression(C=3, class_weight=None, dual=False, fit_intercept=True,\n",
      "          intercept_scaling=1, max_iter=100, multi_class='ovr', n_jobs=1,\n",
      "          penalty='l1', random_state=None, solver='liblinear', tol=0.0001,\n",
      "          verbose=0, warm_start=False),\n",
      "        prefit=False, threshold=None) \n",
      "[CV]  classifier__C=0.3, features__top_words__selector=SelectFromModel(estimator=LogisticRegression(C=3, class_weight=None, dual=False, fit_intercept=True,\n",
      "          intercept_scaling=1, max_iter=100, multi_class='ovr', n_jobs=1,\n",
      "          penalty='l1', random_state=None, solver='liblinear', tol=0.0001,\n",
      "          verbose=0, warm_start=False),\n",
      "        prefit=False, threshold=None) -   9.3s\n",
      "[CV] classifier__C=0.3, features__top_words__selector=SelectFromModel(estimator=LogisticRegression(C=3, class_weight=None, dual=False, fit_intercept=True,\n",
      "          intercept_scaling=1, max_iter=100, multi_class='ovr', n_jobs=1,\n",
      "          penalty='l1', random_state=None, solver='liblinear', tol=0.0001,\n",
      "          verbose=0, warm_start=False),\n",
      "        prefit=False, threshold=None) \n",
      "[CV]  classifier__C=0.3, features__top_words__selector=SelectFromModel(estimator=LogisticRegression(C=3, class_weight=None, dual=False, fit_intercept=True,\n",
      "          intercept_scaling=1, max_iter=100, multi_class='ovr', n_jobs=1,\n",
      "          penalty='l1', random_state=None, solver='liblinear', tol=0.0001,\n",
      "          verbose=0, warm_start=False),\n",
      "        prefit=False, threshold=None) -  10.1s\n",
      "[CV] classifier__C=0.3, features__top_words__selector=SelectFromModel(estimator=LogisticRegression(C=3, class_weight=None, dual=False, fit_intercept=True,\n",
      "          intercept_scaling=1, max_iter=100, multi_class='ovr', n_jobs=1,\n",
      "          penalty='l1', random_state=None, solver='liblinear', tol=0.0001,\n",
      "          verbose=0, warm_start=False),\n",
      "        prefit=False, threshold=None) \n",
      "[CV]  classifier__C=0.3, features__top_words__selector=SelectFromModel(estimator=LogisticRegression(C=3, class_weight=None, dual=False, fit_intercept=True,\n",
      "          intercept_scaling=1, max_iter=100, multi_class='ovr', n_jobs=1,\n",
      "          penalty='l1', random_state=None, solver='liblinear', tol=0.0001,\n",
      "          verbose=0, warm_start=False),\n",
      "        prefit=False, threshold=None) -  10.0s\n",
      "[CV] classifier__C=0.3, features__top_words__selector=SelectFromModel(estimator=LogisticRegression(C=10, class_weight=None, dual=False, fit_intercept=True,\n",
      "          intercept_scaling=1, max_iter=100, multi_class='ovr', n_jobs=1,\n",
      "          penalty='l1', random_state=None, solver='liblinear', tol=0.0001,\n",
      "          verbose=0, warm_start=False),\n",
      "        prefit=False, threshold=None) \n",
      "[CV]  classifier__C=0.3, features__top_words__selector=SelectFromModel(estimator=LogisticRegression(C=10, class_weight=None, dual=False, fit_intercept=True,\n",
      "          intercept_scaling=1, max_iter=100, multi_class='ovr', n_jobs=1,\n",
      "          penalty='l1', random_state=None, solver='liblinear', tol=0.0001,\n",
      "          verbose=0, warm_start=False),\n",
      "        prefit=False, threshold=None) -  10.6s\n",
      "[CV] classifier__C=0.3, features__top_words__selector=SelectFromModel(estimator=LogisticRegression(C=10, class_weight=None, dual=False, fit_intercept=True,\n",
      "          intercept_scaling=1, max_iter=100, multi_class='ovr', n_jobs=1,\n",
      "          penalty='l1', random_state=None, solver='liblinear', tol=0.0001,\n",
      "          verbose=0, warm_start=False),\n",
      "        prefit=False, threshold=None) \n",
      "[CV]  classifier__C=0.3, features__top_words__selector=SelectFromModel(estimator=LogisticRegression(C=10, class_weight=None, dual=False, fit_intercept=True,\n",
      "          intercept_scaling=1, max_iter=100, multi_class='ovr', n_jobs=1,\n",
      "          penalty='l1', random_state=None, solver='liblinear', tol=0.0001,\n",
      "          verbose=0, warm_start=False),\n",
      "        prefit=False, threshold=None) -  11.7s\n",
      "[CV] classifier__C=0.3, features__top_words__selector=SelectFromModel(estimator=LogisticRegression(C=10, class_weight=None, dual=False, fit_intercept=True,\n",
      "          intercept_scaling=1, max_iter=100, multi_class='ovr', n_jobs=1,\n",
      "          penalty='l1', random_state=None, solver='liblinear', tol=0.0001,\n",
      "          verbose=0, warm_start=False),\n",
      "        prefit=False, threshold=None) \n",
      "[CV]  classifier__C=0.3, features__top_words__selector=SelectFromModel(estimator=LogisticRegression(C=10, class_weight=None, dual=False, fit_intercept=True,\n",
      "          intercept_scaling=1, max_iter=100, multi_class='ovr', n_jobs=1,\n",
      "          penalty='l1', random_state=None, solver='liblinear', tol=0.0001,\n",
      "          verbose=0, warm_start=False),\n",
      "        prefit=False, threshold=None) -  11.2s\n",
      "[CV] classifier__C=0.3, features__top_words__selector=SelectFromModel(estimator=LogisticRegression(C=30, class_weight=None, dual=False, fit_intercept=True,\n",
      "          intercept_scaling=1, max_iter=100, multi_class='ovr', n_jobs=1,\n",
      "          penalty='l1', random_state=None, solver='liblinear', tol=0.0001,\n",
      "          verbose=0, warm_start=False),\n",
      "        prefit=False, threshold=None) \n",
      "[CV]  classifier__C=0.3, features__top_words__selector=SelectFromModel(estimator=LogisticRegression(C=30, class_weight=None, dual=False, fit_intercept=True,\n",
      "          intercept_scaling=1, max_iter=100, multi_class='ovr', n_jobs=1,\n",
      "          penalty='l1', random_state=None, solver='liblinear', tol=0.0001,\n",
      "          verbose=0, warm_start=False),\n",
      "        prefit=False, threshold=None) -  11.2s\n",
      "[CV] classifier__C=0.3, features__top_words__selector=SelectFromModel(estimator=LogisticRegression(C=30, class_weight=None, dual=False, fit_intercept=True,\n",
      "          intercept_scaling=1, max_iter=100, multi_class='ovr', n_jobs=1,\n",
      "          penalty='l1', random_state=None, solver='liblinear', tol=0.0001,\n",
      "          verbose=0, warm_start=False),\n",
      "        prefit=False, threshold=None) \n",
      "[CV]  classifier__C=0.3, features__top_words__selector=SelectFromModel(estimator=LogisticRegression(C=30, class_weight=None, dual=False, fit_intercept=True,\n",
      "          intercept_scaling=1, max_iter=100, multi_class='ovr', n_jobs=1,\n",
      "          penalty='l1', random_state=None, solver='liblinear', tol=0.0001,\n",
      "          verbose=0, warm_start=False),\n",
      "        prefit=False, threshold=None) -  11.6s\n",
      "[CV] classifier__C=0.3, features__top_words__selector=SelectFromModel(estimator=LogisticRegression(C=30, class_weight=None, dual=False, fit_intercept=True,\n",
      "          intercept_scaling=1, max_iter=100, multi_class='ovr', n_jobs=1,\n",
      "          penalty='l1', random_state=None, solver='liblinear', tol=0.0001,\n",
      "          verbose=0, warm_start=False),\n",
      "        prefit=False, threshold=None) \n",
      "[CV]  classifier__C=0.3, features__top_words__selector=SelectFromModel(estimator=LogisticRegression(C=30, class_weight=None, dual=False, fit_intercept=True,\n",
      "          intercept_scaling=1, max_iter=100, multi_class='ovr', n_jobs=1,\n",
      "          penalty='l1', random_state=None, solver='liblinear', tol=0.0001,\n",
      "          verbose=0, warm_start=False),\n",
      "        prefit=False, threshold=None) -  11.7s\n",
      "[CV] classifier__C=1, features__top_words__selector=SelectFromModel(estimator=LogisticRegression(C=3, class_weight=None, dual=False, fit_intercept=True,\n",
      "          intercept_scaling=1, max_iter=100, multi_class='ovr', n_jobs=1,\n",
      "          penalty='l1', random_state=None, solver='liblinear', tol=0.0001,\n",
      "          verbose=0, warm_start=False),\n",
      "        prefit=False, threshold=None) \n",
      "[CV]  classifier__C=1, features__top_words__selector=SelectFromModel(estimator=LogisticRegression(C=3, class_weight=None, dual=False, fit_intercept=True,\n",
      "          intercept_scaling=1, max_iter=100, multi_class='ovr', n_jobs=1,\n",
      "          penalty='l1', random_state=None, solver='liblinear', tol=0.0001,\n",
      "          verbose=0, warm_start=False),\n",
      "        prefit=False, threshold=None) -  11.0s\n",
      "[CV] classifier__C=1, features__top_words__selector=SelectFromModel(estimator=LogisticRegression(C=3, class_weight=None, dual=False, fit_intercept=True,\n",
      "          intercept_scaling=1, max_iter=100, multi_class='ovr', n_jobs=1,\n",
      "          penalty='l1', random_state=None, solver='liblinear', tol=0.0001,\n",
      "          verbose=0, warm_start=False),\n",
      "        prefit=False, threshold=None) \n",
      "[CV]  classifier__C=1, features__top_words__selector=SelectFromModel(estimator=LogisticRegression(C=3, class_weight=None, dual=False, fit_intercept=True,\n",
      "          intercept_scaling=1, max_iter=100, multi_class='ovr', n_jobs=1,\n",
      "          penalty='l1', random_state=None, solver='liblinear', tol=0.0001,\n",
      "          verbose=0, warm_start=False),\n",
      "        prefit=False, threshold=None) -  10.7s\n",
      "[CV] classifier__C=1, features__top_words__selector=SelectFromModel(estimator=LogisticRegression(C=3, class_weight=None, dual=False, fit_intercept=True,\n",
      "          intercept_scaling=1, max_iter=100, multi_class='ovr', n_jobs=1,\n",
      "          penalty='l1', random_state=None, solver='liblinear', tol=0.0001,\n",
      "          verbose=0, warm_start=False),\n",
      "        prefit=False, threshold=None) \n",
      "[CV]  classifier__C=1, features__top_words__selector=SelectFromModel(estimator=LogisticRegression(C=3, class_weight=None, dual=False, fit_intercept=True,\n",
      "          intercept_scaling=1, max_iter=100, multi_class='ovr', n_jobs=1,\n",
      "          penalty='l1', random_state=None, solver='liblinear', tol=0.0001,\n",
      "          verbose=0, warm_start=False),\n",
      "        prefit=False, threshold=None) -  10.5s\n",
      "[CV] classifier__C=1, features__top_words__selector=SelectFromModel(estimator=LogisticRegression(C=10, class_weight=None, dual=False, fit_intercept=True,\n",
      "          intercept_scaling=1, max_iter=100, multi_class='ovr', n_jobs=1,\n",
      "          penalty='l1', random_state=None, solver='liblinear', tol=0.0001,\n",
      "          verbose=0, warm_start=False),\n",
      "        prefit=False, threshold=None) \n",
      "[CV]  classifier__C=1, features__top_words__selector=SelectFromModel(estimator=LogisticRegression(C=10, class_weight=None, dual=False, fit_intercept=True,\n",
      "          intercept_scaling=1, max_iter=100, multi_class='ovr', n_jobs=1,\n",
      "          penalty='l1', random_state=None, solver='liblinear', tol=0.0001,\n",
      "          verbose=0, warm_start=False),\n",
      "        prefit=False, threshold=None) -  11.9s\n",
      "[CV] classifier__C=1, features__top_words__selector=SelectFromModel(estimator=LogisticRegression(C=10, class_weight=None, dual=False, fit_intercept=True,\n",
      "          intercept_scaling=1, max_iter=100, multi_class='ovr', n_jobs=1,\n",
      "          penalty='l1', random_state=None, solver='liblinear', tol=0.0001,\n",
      "          verbose=0, warm_start=False),\n",
      "        prefit=False, threshold=None) \n",
      "[CV]  classifier__C=1, features__top_words__selector=SelectFromModel(estimator=LogisticRegression(C=10, class_weight=None, dual=False, fit_intercept=True,\n",
      "          intercept_scaling=1, max_iter=100, multi_class='ovr', n_jobs=1,\n",
      "          penalty='l1', random_state=None, solver='liblinear', tol=0.0001,\n",
      "          verbose=0, warm_start=False),\n",
      "        prefit=False, threshold=None) -  11.7s\n",
      "[CV] classifier__C=1, features__top_words__selector=SelectFromModel(estimator=LogisticRegression(C=10, class_weight=None, dual=False, fit_intercept=True,\n",
      "          intercept_scaling=1, max_iter=100, multi_class='ovr', n_jobs=1,\n",
      "          penalty='l1', random_state=None, solver='liblinear', tol=0.0001,\n",
      "          verbose=0, warm_start=False),\n",
      "        prefit=False, threshold=None) \n",
      "[CV]  classifier__C=1, features__top_words__selector=SelectFromModel(estimator=LogisticRegression(C=10, class_weight=None, dual=False, fit_intercept=True,\n",
      "          intercept_scaling=1, max_iter=100, multi_class='ovr', n_jobs=1,\n",
      "          penalty='l1', random_state=None, solver='liblinear', tol=0.0001,\n",
      "          verbose=0, warm_start=False),\n",
      "        prefit=False, threshold=None) -  10.0s\n",
      "[CV] classifier__C=1, features__top_words__selector=SelectFromModel(estimator=LogisticRegression(C=30, class_weight=None, dual=False, fit_intercept=True,\n",
      "          intercept_scaling=1, max_iter=100, multi_class='ovr', n_jobs=1,\n",
      "          penalty='l1', random_state=None, solver='liblinear', tol=0.0001,\n",
      "          verbose=0, warm_start=False),\n",
      "        prefit=False, threshold=None) \n",
      "[CV]  classifier__C=1, features__top_words__selector=SelectFromModel(estimator=LogisticRegression(C=30, class_weight=None, dual=False, fit_intercept=True,\n",
      "          intercept_scaling=1, max_iter=100, multi_class='ovr', n_jobs=1,\n",
      "          penalty='l1', random_state=None, solver='liblinear', tol=0.0001,\n",
      "          verbose=0, warm_start=False),\n",
      "        prefit=False, threshold=None) -   9.8s\n",
      "[CV] classifier__C=1, features__top_words__selector=SelectFromModel(estimator=LogisticRegression(C=30, class_weight=None, dual=False, fit_intercept=True,\n",
      "          intercept_scaling=1, max_iter=100, multi_class='ovr', n_jobs=1,\n",
      "          penalty='l1', random_state=None, solver='liblinear', tol=0.0001,\n",
      "          verbose=0, warm_start=False),\n",
      "        prefit=False, threshold=None) \n",
      "[CV]  classifier__C=1, features__top_words__selector=SelectFromModel(estimator=LogisticRegression(C=30, class_weight=None, dual=False, fit_intercept=True,\n",
      "          intercept_scaling=1, max_iter=100, multi_class='ovr', n_jobs=1,\n",
      "          penalty='l1', random_state=None, solver='liblinear', tol=0.0001,\n",
      "          verbose=0, warm_start=False),\n",
      "        prefit=False, threshold=None) -  10.5s\n",
      "[CV] classifier__C=1, features__top_words__selector=SelectFromModel(estimator=LogisticRegression(C=30, class_weight=None, dual=False, fit_intercept=True,\n",
      "          intercept_scaling=1, max_iter=100, multi_class='ovr', n_jobs=1,\n",
      "          penalty='l1', random_state=None, solver='liblinear', tol=0.0001,\n",
      "          verbose=0, warm_start=False),\n",
      "        prefit=False, threshold=None) \n",
      "[CV]  classifier__C=1, features__top_words__selector=SelectFromModel(estimator=LogisticRegression(C=30, class_weight=None, dual=False, fit_intercept=True,\n",
      "          intercept_scaling=1, max_iter=100, multi_class='ovr', n_jobs=1,\n",
      "          penalty='l1', random_state=None, solver='liblinear', tol=0.0001,\n",
      "          verbose=0, warm_start=False),\n",
      "        prefit=False, threshold=None) -  11.0s\n",
      "[CV] classifier__C=3, features__top_words__selector=SelectFromModel(estimator=LogisticRegression(C=3, class_weight=None, dual=False, fit_intercept=True,\n",
      "          intercept_scaling=1, max_iter=100, multi_class='ovr', n_jobs=1,\n",
      "          penalty='l1', random_state=None, solver='liblinear', tol=0.0001,\n",
      "          verbose=0, warm_start=False),\n",
      "        prefit=False, threshold=None) \n",
      "[CV]  classifier__C=3, features__top_words__selector=SelectFromModel(estimator=LogisticRegression(C=3, class_weight=None, dual=False, fit_intercept=True,\n",
      "          intercept_scaling=1, max_iter=100, multi_class='ovr', n_jobs=1,\n",
      "          penalty='l1', random_state=None, solver='liblinear', tol=0.0001,\n",
      "          verbose=0, warm_start=False),\n",
      "        prefit=False, threshold=None) -  10.2s\n",
      "[CV] classifier__C=3, features__top_words__selector=SelectFromModel(estimator=LogisticRegression(C=3, class_weight=None, dual=False, fit_intercept=True,\n",
      "          intercept_scaling=1, max_iter=100, multi_class='ovr', n_jobs=1,\n",
      "          penalty='l1', random_state=None, solver='liblinear', tol=0.0001,\n",
      "          verbose=0, warm_start=False),\n",
      "        prefit=False, threshold=None) \n",
      "[CV]  classifier__C=3, features__top_words__selector=SelectFromModel(estimator=LogisticRegression(C=3, class_weight=None, dual=False, fit_intercept=True,\n",
      "          intercept_scaling=1, max_iter=100, multi_class='ovr', n_jobs=1,\n",
      "          penalty='l1', random_state=None, solver='liblinear', tol=0.0001,\n",
      "          verbose=0, warm_start=False),\n",
      "        prefit=False, threshold=None) -  10.7s\n",
      "[CV] classifier__C=3, features__top_words__selector=SelectFromModel(estimator=LogisticRegression(C=3, class_weight=None, dual=False, fit_intercept=True,\n",
      "          intercept_scaling=1, max_iter=100, multi_class='ovr', n_jobs=1,\n",
      "          penalty='l1', random_state=None, solver='liblinear', tol=0.0001,\n",
      "          verbose=0, warm_start=False),\n",
      "        prefit=False, threshold=None) \n",
      "[CV]  classifier__C=3, features__top_words__selector=SelectFromModel(estimator=LogisticRegression(C=3, class_weight=None, dual=False, fit_intercept=True,\n",
      "          intercept_scaling=1, max_iter=100, multi_class='ovr', n_jobs=1,\n",
      "          penalty='l1', random_state=None, solver='liblinear', tol=0.0001,\n",
      "          verbose=0, warm_start=False),\n",
      "        prefit=False, threshold=None) -  10.2s\n",
      "[CV] classifier__C=3, features__top_words__selector=SelectFromModel(estimator=LogisticRegression(C=10, class_weight=None, dual=False, fit_intercept=True,\n",
      "          intercept_scaling=1, max_iter=100, multi_class='ovr', n_jobs=1,\n",
      "          penalty='l1', random_state=None, solver='liblinear', tol=0.0001,\n",
      "          verbose=0, warm_start=False),\n",
      "        prefit=False, threshold=None) \n",
      "[CV]  classifier__C=3, features__top_words__selector=SelectFromModel(estimator=LogisticRegression(C=10, class_weight=None, dual=False, fit_intercept=True,\n",
      "          intercept_scaling=1, max_iter=100, multi_class='ovr', n_jobs=1,\n",
      "          penalty='l1', random_state=None, solver='liblinear', tol=0.0001,\n",
      "          verbose=0, warm_start=False),\n",
      "        prefit=False, threshold=None) -  10.3s\n",
      "[CV] classifier__C=3, features__top_words__selector=SelectFromModel(estimator=LogisticRegression(C=10, class_weight=None, dual=False, fit_intercept=True,\n",
      "          intercept_scaling=1, max_iter=100, multi_class='ovr', n_jobs=1,\n",
      "          penalty='l1', random_state=None, solver='liblinear', tol=0.0001,\n",
      "          verbose=0, warm_start=False),\n",
      "        prefit=False, threshold=None) \n",
      "[CV]  classifier__C=3, features__top_words__selector=SelectFromModel(estimator=LogisticRegression(C=10, class_weight=None, dual=False, fit_intercept=True,\n",
      "          intercept_scaling=1, max_iter=100, multi_class='ovr', n_jobs=1,\n",
      "          penalty='l1', random_state=None, solver='liblinear', tol=0.0001,\n",
      "          verbose=0, warm_start=False),\n",
      "        prefit=False, threshold=None) -  11.7s\n",
      "[CV] classifier__C=3, features__top_words__selector=SelectFromModel(estimator=LogisticRegression(C=10, class_weight=None, dual=False, fit_intercept=True,\n",
      "          intercept_scaling=1, max_iter=100, multi_class='ovr', n_jobs=1,\n",
      "          penalty='l1', random_state=None, solver='liblinear', tol=0.0001,\n",
      "          verbose=0, warm_start=False),\n",
      "        prefit=False, threshold=None) \n",
      "[CV]  classifier__C=3, features__top_words__selector=SelectFromModel(estimator=LogisticRegression(C=10, class_weight=None, dual=False, fit_intercept=True,\n",
      "          intercept_scaling=1, max_iter=100, multi_class='ovr', n_jobs=1,\n",
      "          penalty='l1', random_state=None, solver='liblinear', tol=0.0001,\n",
      "          verbose=0, warm_start=False),\n",
      "        prefit=False, threshold=None) -  11.6s\n",
      "[CV] classifier__C=3, features__top_words__selector=SelectFromModel(estimator=LogisticRegression(C=30, class_weight=None, dual=False, fit_intercept=True,\n",
      "          intercept_scaling=1, max_iter=100, multi_class='ovr', n_jobs=1,\n",
      "          penalty='l1', random_state=None, solver='liblinear', tol=0.0001,\n",
      "          verbose=0, warm_start=False),\n",
      "        prefit=False, threshold=None) \n",
      "[CV]  classifier__C=3, features__top_words__selector=SelectFromModel(estimator=LogisticRegression(C=30, class_weight=None, dual=False, fit_intercept=True,\n",
      "          intercept_scaling=1, max_iter=100, multi_class='ovr', n_jobs=1,\n",
      "          penalty='l1', random_state=None, solver='liblinear', tol=0.0001,\n",
      "          verbose=0, warm_start=False),\n",
      "        prefit=False, threshold=None) -  10.8s\n",
      "[CV] classifier__C=3, features__top_words__selector=SelectFromModel(estimator=LogisticRegression(C=30, class_weight=None, dual=False, fit_intercept=True,\n",
      "          intercept_scaling=1, max_iter=100, multi_class='ovr', n_jobs=1,\n",
      "          penalty='l1', random_state=None, solver='liblinear', tol=0.0001,\n",
      "          verbose=0, warm_start=False),\n",
      "        prefit=False, threshold=None) \n",
      "[CV]  classifier__C=3, features__top_words__selector=SelectFromModel(estimator=LogisticRegression(C=30, class_weight=None, dual=False, fit_intercept=True,\n",
      "          intercept_scaling=1, max_iter=100, multi_class='ovr', n_jobs=1,\n",
      "          penalty='l1', random_state=None, solver='liblinear', tol=0.0001,\n",
      "          verbose=0, warm_start=False),\n",
      "        prefit=False, threshold=None) -  11.4s\n",
      "[CV] classifier__C=3, features__top_words__selector=SelectFromModel(estimator=LogisticRegression(C=30, class_weight=None, dual=False, fit_intercept=True,\n",
      "          intercept_scaling=1, max_iter=100, multi_class='ovr', n_jobs=1,\n",
      "          penalty='l1', random_state=None, solver='liblinear', tol=0.0001,\n",
      "          verbose=0, warm_start=False),\n",
      "        prefit=False, threshold=None) \n",
      "[CV]  classifier__C=3, features__top_words__selector=SelectFromModel(estimator=LogisticRegression(C=30, class_weight=None, dual=False, fit_intercept=True,\n",
      "          intercept_scaling=1, max_iter=100, multi_class='ovr', n_jobs=1,\n",
      "          penalty='l1', random_state=None, solver='liblinear', tol=0.0001,\n",
      "          verbose=0, warm_start=False),\n",
      "        prefit=False, threshold=None) -  10.0s\n",
      "[CV] classifier__C=6, features__top_words__selector=SelectFromModel(estimator=LogisticRegression(C=3, class_weight=None, dual=False, fit_intercept=True,\n",
      "          intercept_scaling=1, max_iter=100, multi_class='ovr', n_jobs=1,\n",
      "          penalty='l1', random_state=None, solver='liblinear', tol=0.0001,\n",
      "          verbose=0, warm_start=False),\n",
      "        prefit=False, threshold=None) \n",
      "[CV]  classifier__C=6, features__top_words__selector=SelectFromModel(estimator=LogisticRegression(C=3, class_weight=None, dual=False, fit_intercept=True,\n",
      "          intercept_scaling=1, max_iter=100, multi_class='ovr', n_jobs=1,\n",
      "          penalty='l1', random_state=None, solver='liblinear', tol=0.0001,\n",
      "          verbose=0, warm_start=False),\n",
      "        prefit=False, threshold=None) -   9.6s\n",
      "[CV] classifier__C=6, features__top_words__selector=SelectFromModel(estimator=LogisticRegression(C=3, class_weight=None, dual=False, fit_intercept=True,\n",
      "          intercept_scaling=1, max_iter=100, multi_class='ovr', n_jobs=1,\n",
      "          penalty='l1', random_state=None, solver='liblinear', tol=0.0001,\n",
      "          verbose=0, warm_start=False),\n",
      "        prefit=False, threshold=None) \n",
      "[CV]  classifier__C=6, features__top_words__selector=SelectFromModel(estimator=LogisticRegression(C=3, class_weight=None, dual=False, fit_intercept=True,\n",
      "          intercept_scaling=1, max_iter=100, multi_class='ovr', n_jobs=1,\n",
      "          penalty='l1', random_state=None, solver='liblinear', tol=0.0001,\n",
      "          verbose=0, warm_start=False),\n",
      "        prefit=False, threshold=None) -  10.6s\n",
      "[CV] classifier__C=6, features__top_words__selector=SelectFromModel(estimator=LogisticRegression(C=3, class_weight=None, dual=False, fit_intercept=True,\n",
      "          intercept_scaling=1, max_iter=100, multi_class='ovr', n_jobs=1,\n",
      "          penalty='l1', random_state=None, solver='liblinear', tol=0.0001,\n",
      "          verbose=0, warm_start=False),\n",
      "        prefit=False, threshold=None) \n",
      "[CV]  classifier__C=6, features__top_words__selector=SelectFromModel(estimator=LogisticRegression(C=3, class_weight=None, dual=False, fit_intercept=True,\n",
      "          intercept_scaling=1, max_iter=100, multi_class='ovr', n_jobs=1,\n",
      "          penalty='l1', random_state=None, solver='liblinear', tol=0.0001,\n",
      "          verbose=0, warm_start=False),\n",
      "        prefit=False, threshold=None) -   9.9s\n",
      "[CV] classifier__C=6, features__top_words__selector=SelectFromModel(estimator=LogisticRegression(C=10, class_weight=None, dual=False, fit_intercept=True,\n",
      "          intercept_scaling=1, max_iter=100, multi_class='ovr', n_jobs=1,\n",
      "          penalty='l1', random_state=None, solver='liblinear', tol=0.0001,\n",
      "          verbose=0, warm_start=False),\n",
      "        prefit=False, threshold=None) \n",
      "[CV]  classifier__C=6, features__top_words__selector=SelectFromModel(estimator=LogisticRegression(C=10, class_weight=None, dual=False, fit_intercept=True,\n",
      "          intercept_scaling=1, max_iter=100, multi_class='ovr', n_jobs=1,\n",
      "          penalty='l1', random_state=None, solver='liblinear', tol=0.0001,\n",
      "          verbose=0, warm_start=False),\n",
      "        prefit=False, threshold=None) -   9.4s\n",
      "[CV] classifier__C=6, features__top_words__selector=SelectFromModel(estimator=LogisticRegression(C=10, class_weight=None, dual=False, fit_intercept=True,\n",
      "          intercept_scaling=1, max_iter=100, multi_class='ovr', n_jobs=1,\n",
      "          penalty='l1', random_state=None, solver='liblinear', tol=0.0001,\n",
      "          verbose=0, warm_start=False),\n",
      "        prefit=False, threshold=None) \n",
      "[CV]  classifier__C=6, features__top_words__selector=SelectFromModel(estimator=LogisticRegression(C=10, class_weight=None, dual=False, fit_intercept=True,\n",
      "          intercept_scaling=1, max_iter=100, multi_class='ovr', n_jobs=1,\n",
      "          penalty='l1', random_state=None, solver='liblinear', tol=0.0001,\n",
      "          verbose=0, warm_start=False),\n",
      "        prefit=False, threshold=None) -  10.1s\n",
      "[CV] classifier__C=6, features__top_words__selector=SelectFromModel(estimator=LogisticRegression(C=10, class_weight=None, dual=False, fit_intercept=True,\n",
      "          intercept_scaling=1, max_iter=100, multi_class='ovr', n_jobs=1,\n",
      "          penalty='l1', random_state=None, solver='liblinear', tol=0.0001,\n",
      "          verbose=0, warm_start=False),\n",
      "        prefit=False, threshold=None) \n",
      "[CV]  classifier__C=6, features__top_words__selector=SelectFromModel(estimator=LogisticRegression(C=10, class_weight=None, dual=False, fit_intercept=True,\n",
      "          intercept_scaling=1, max_iter=100, multi_class='ovr', n_jobs=1,\n",
      "          penalty='l1', random_state=None, solver='liblinear', tol=0.0001,\n",
      "          verbose=0, warm_start=False),\n",
      "        prefit=False, threshold=None) -   9.5s\n",
      "[CV] classifier__C=6, features__top_words__selector=SelectFromModel(estimator=LogisticRegression(C=30, class_weight=None, dual=False, fit_intercept=True,\n",
      "          intercept_scaling=1, max_iter=100, multi_class='ovr', n_jobs=1,\n",
      "          penalty='l1', random_state=None, solver='liblinear', tol=0.0001,\n",
      "          verbose=0, warm_start=False),\n",
      "        prefit=False, threshold=None) \n",
      "[CV]  classifier__C=6, features__top_words__selector=SelectFromModel(estimator=LogisticRegression(C=30, class_weight=None, dual=False, fit_intercept=True,\n",
      "          intercept_scaling=1, max_iter=100, multi_class='ovr', n_jobs=1,\n",
      "          penalty='l1', random_state=None, solver='liblinear', tol=0.0001,\n",
      "          verbose=0, warm_start=False),\n",
      "        prefit=False, threshold=None) -   9.4s\n",
      "[CV] classifier__C=6, features__top_words__selector=SelectFromModel(estimator=LogisticRegression(C=30, class_weight=None, dual=False, fit_intercept=True,\n",
      "          intercept_scaling=1, max_iter=100, multi_class='ovr', n_jobs=1,\n",
      "          penalty='l1', random_state=None, solver='liblinear', tol=0.0001,\n",
      "          verbose=0, warm_start=False),\n",
      "        prefit=False, threshold=None) \n",
      "[CV]  classifier__C=6, features__top_words__selector=SelectFromModel(estimator=LogisticRegression(C=30, class_weight=None, dual=False, fit_intercept=True,\n",
      "          intercept_scaling=1, max_iter=100, multi_class='ovr', n_jobs=1,\n",
      "          penalty='l1', random_state=None, solver='liblinear', tol=0.0001,\n",
      "          verbose=0, warm_start=False),\n",
      "        prefit=False, threshold=None) -  10.1s\n",
      "[CV] classifier__C=6, features__top_words__selector=SelectFromModel(estimator=LogisticRegression(C=30, class_weight=None, dual=False, fit_intercept=True,\n",
      "          intercept_scaling=1, max_iter=100, multi_class='ovr', n_jobs=1,\n",
      "          penalty='l1', random_state=None, solver='liblinear', tol=0.0001,\n",
      "          verbose=0, warm_start=False),\n",
      "        prefit=False, threshold=None) \n",
      "[CV]  classifier__C=6, features__top_words__selector=SelectFromModel(estimator=LogisticRegression(C=30, class_weight=None, dual=False, fit_intercept=True,\n",
      "          intercept_scaling=1, max_iter=100, multi_class='ovr', n_jobs=1,\n",
      "          penalty='l1', random_state=None, solver='liblinear', tol=0.0001,\n",
      "          verbose=0, warm_start=False),\n",
      "        prefit=False, threshold=None) -  10.3s\n"
     ]
    },
    {
     "name": "stderr",
     "output_type": "stream",
     "text": [
      "[Parallel(n_jobs=1)]: Done  36 out of  36 | elapsed:  6.4min finished\n"
     ]
    },
    {
     "name": "stdout",
     "output_type": "stream",
     "text": [
      "396.909064054\n"
     ]
    }
   ],
   "source": [
    "t0=time.time()\n",
    "\n",
    "condition = [speaker in which_candidates for speaker in df.speaker]\n",
    "cand_df = df[condition]\n",
    "kf = StratifiedKFold(y=cand_df.speaker, n_folds=3,random_state=42)\n",
    "params = {'classifier__C': [.3,1,3,6],\n",
    "#           'classifier__solver': ['newton-cg', 'lbfgs', 'liblinear', 'sag'],\n",
    "#           'features__top_words__vectorizer__min_df': [1,5],\n",
    "#           'features__top_words__vectorizer__max_df': [.5,.25],\n",
    "#           'features__top_words__selector__estimator__penalty': ['l1','l2],\n",
    "#           'features__top_words__vectorizer__binary': [True, False],\n",
    "          'features__top_words__selector': [\n",
    "        SelectFromModel(LogisticRegression(penalty='l1', C=3)),\n",
    "        SelectFromModel(LogisticRegression(penalty='l1', C=10)),\n",
    "        SelectFromModel(LogisticRegression(penalty='l1', C=30)),\n",
    "#         SelectKBest(score_func=chi2, k=10000),\n",
    "#         SelectKBest(score_func=chi2, k=20000),\n",
    "#         SelectPercentile(score_func=chi2, percentile=10),\n",
    "#         SelectPercentile(score_func=chi2, percentile=25),\n",
    "    ]\n",
    "         }\n",
    "\n",
    "grid = GridSearchCV(estimator=pipeline, param_grid = params, scoring = 'roc_auc',cv=kf, verbose=2)\n",
    "\n",
    "grid.fit(cand_df.sentence,[1 if speaker == 'Trump' else 0 for speaker in cand_df.speaker])\n",
    "print time.time()-t0"
   ]
  },
  {
   "cell_type": "code",
   "execution_count": 224,
   "metadata": {
    "collapsed": false
   },
   "outputs": [
    {
     "data": {
      "text/plain": [
       "{'classifier__C': 1,\n",
       " 'features__top_words__selector': SelectFromModel(estimator=LogisticRegression(C=30, class_weight=None, dual=False, fit_intercept=True,\n",
       "           intercept_scaling=1, max_iter=100, multi_class='ovr', n_jobs=1,\n",
       "           penalty='l1', random_state=None, solver='liblinear', tol=0.0001,\n",
       "           verbose=0, warm_start=False),\n",
       "         prefit=False, threshold=None)}"
      ]
     },
     "execution_count": 224,
     "metadata": {},
     "output_type": "execute_result"
    }
   ],
   "source": [
    "scores = grid.grid_scores_\n",
    "grid.best_params_"
   ]
  },
  {
   "cell_type": "code",
   "execution_count": 226,
   "metadata": {
    "collapsed": false,
    "scrolled": false
   },
   "outputs": [
    {
     "data": {
      "text/html": [
       "<div>\n",
       "<table border=\"1\" class=\"dataframe\">\n",
       "  <thead>\n",
       "    <tr style=\"text-align: right;\">\n",
       "      <th></th>\n",
       "      <th>classifier__C</th>\n",
       "      <th>features__top_words__selector</th>\n",
       "      <th>mean</th>\n",
       "    </tr>\n",
       "  </thead>\n",
       "  <tbody>\n",
       "    <tr>\n",
       "      <th>5</th>\n",
       "      <td>1.0</td>\n",
       "      <td>SelectFromModel(estimator=LogisticRegression(C...</td>\n",
       "      <td>0.893552</td>\n",
       "    </tr>\n",
       "    <tr>\n",
       "      <th>4</th>\n",
       "      <td>1.0</td>\n",
       "      <td>SelectFromModel(estimator=LogisticRegression(C...</td>\n",
       "      <td>0.893041</td>\n",
       "    </tr>\n",
       "    <tr>\n",
       "      <th>2</th>\n",
       "      <td>0.3</td>\n",
       "      <td>SelectFromModel(estimator=LogisticRegression(C...</td>\n",
       "      <td>0.892900</td>\n",
       "    </tr>\n",
       "    <tr>\n",
       "      <th>1</th>\n",
       "      <td>0.3</td>\n",
       "      <td>SelectFromModel(estimator=LogisticRegression(C...</td>\n",
       "      <td>0.892587</td>\n",
       "    </tr>\n",
       "    <tr>\n",
       "      <th>3</th>\n",
       "      <td>1.0</td>\n",
       "      <td>SelectFromModel(estimator=LogisticRegression(C...</td>\n",
       "      <td>0.892571</td>\n",
       "    </tr>\n",
       "    <tr>\n",
       "      <th>0</th>\n",
       "      <td>0.3</td>\n",
       "      <td>SelectFromModel(estimator=LogisticRegression(C...</td>\n",
       "      <td>0.892220</td>\n",
       "    </tr>\n",
       "    <tr>\n",
       "      <th>8</th>\n",
       "      <td>3.0</td>\n",
       "      <td>SelectFromModel(estimator=LogisticRegression(C...</td>\n",
       "      <td>0.892110</td>\n",
       "    </tr>\n",
       "    <tr>\n",
       "      <th>7</th>\n",
       "      <td>3.0</td>\n",
       "      <td>SelectFromModel(estimator=LogisticRegression(C...</td>\n",
       "      <td>0.891128</td>\n",
       "    </tr>\n",
       "    <tr>\n",
       "      <th>11</th>\n",
       "      <td>6.0</td>\n",
       "      <td>SelectFromModel(estimator=LogisticRegression(C...</td>\n",
       "      <td>0.890752</td>\n",
       "    </tr>\n",
       "    <tr>\n",
       "      <th>6</th>\n",
       "      <td>3.0</td>\n",
       "      <td>SelectFromModel(estimator=LogisticRegression(C...</td>\n",
       "      <td>0.890292</td>\n",
       "    </tr>\n",
       "    <tr>\n",
       "      <th>10</th>\n",
       "      <td>6.0</td>\n",
       "      <td>SelectFromModel(estimator=LogisticRegression(C...</td>\n",
       "      <td>0.889975</td>\n",
       "    </tr>\n",
       "    <tr>\n",
       "      <th>9</th>\n",
       "      <td>6.0</td>\n",
       "      <td>SelectFromModel(estimator=LogisticRegression(C...</td>\n",
       "      <td>0.888687</td>\n",
       "    </tr>\n",
       "  </tbody>\n",
       "</table>\n",
       "</div>"
      ],
      "text/plain": [
       "    classifier__C                      features__top_words__selector      mean\n",
       "5             1.0  SelectFromModel(estimator=LogisticRegression(C...  0.893552\n",
       "4             1.0  SelectFromModel(estimator=LogisticRegression(C...  0.893041\n",
       "2             0.3  SelectFromModel(estimator=LogisticRegression(C...  0.892900\n",
       "1             0.3  SelectFromModel(estimator=LogisticRegression(C...  0.892587\n",
       "3             1.0  SelectFromModel(estimator=LogisticRegression(C...  0.892571\n",
       "0             0.3  SelectFromModel(estimator=LogisticRegression(C...  0.892220\n",
       "8             3.0  SelectFromModel(estimator=LogisticRegression(C...  0.892110\n",
       "7             3.0  SelectFromModel(estimator=LogisticRegression(C...  0.891128\n",
       "11            6.0  SelectFromModel(estimator=LogisticRegression(C...  0.890752\n",
       "6             3.0  SelectFromModel(estimator=LogisticRegression(C...  0.890292\n",
       "10            6.0  SelectFromModel(estimator=LogisticRegression(C...  0.889975\n",
       "9             6.0  SelectFromModel(estimator=LogisticRegression(C...  0.888687"
      ]
     },
     "execution_count": 226,
     "metadata": {},
     "output_type": "execute_result"
    }
   ],
   "source": [
    "cv = []\n",
    "scores = grid.grid_scores_\n",
    "for combo in scores:\n",
    "    pars = combo[0]\n",
    "    pars['mean'] = combo[1]\n",
    "    cv.append(pars)\n",
    "pd.DataFrame(cv).sort_values(by='mean',ascending=False)"
   ]
  },
  {
   "cell_type": "markdown",
   "metadata": {},
   "source": [
    "## Build a cross-val-predict-proba"
   ]
  },
  {
   "cell_type": "code",
   "execution_count": 227,
   "metadata": {
    "collapsed": false
   },
   "outputs": [],
   "source": [
    "pipeline=grid.best_estimator_"
   ]
  },
  {
   "cell_type": "code",
   "execution_count": 228,
   "metadata": {
    "collapsed": false,
    "scrolled": true
   },
   "outputs": [
    {
     "name": "stdout",
     "output_type": "stream",
     "text": [
      "done predicting 0 time: 15.5279428959\n",
      "done predicting 1 time: 15.2331490517\n",
      "done predicting 2 time: 14.5559279919\n",
      "done predicting 3 time: 16.0722060204\n",
      "done predicting 4 time: 15.2000820637\n",
      "done predicting 5 time: 14.7605969906\n",
      "done predicting 6 time: 15.4552760124\n",
      "done predicting 7 time: 16.5742380619\n",
      "done predicting 8 time: 15.8252718449\n",
      "done predicting 9 time: 16.2470359802\n",
      "done predicting 10 time: 15.761343956\n",
      "done predicting 11 time: 15.1284599304\n",
      "done predicting 12 time: 14.7606041431\n",
      "done predicting 13 time: 16.2647140026\n",
      "done predicting 14 time: 15.6574010849\n",
      "done predicting 15 time: 15.4497199059\n",
      "done predicting 16 time: 16.161894083\n",
      "done predicting 17 time: 15.9475669861\n",
      "done predicting 18 time: 15.5826609135\n",
      "done predicting 19 time: 15.0239470005\n"
     ]
    }
   ],
   "source": [
    "import time\n",
    "\n",
    "cand_df = df[[speaker in which_candidates for speaker in df.speaker]]\n",
    "\n",
    "n_folds = 20\n",
    "\n",
    "segment_results = pd.DataFrame()\n",
    "all_results = pd.DataFrame()\n",
    "segment_coefs = [pd.DataFrame()]*n_folds\n",
    "\n",
    "kf = StratifiedKFold(y=cand_df.speaker, n_folds =n_folds,random_state=42)\n",
    "\n",
    "for i, (train_index, test_index) in enumerate(kf):\n",
    "    t0 = time.time()\n",
    "    pipeline.fit(cand_df.iloc[train_index].sentence, cand_df.iloc[train_index].speaker)\n",
    "#     print 'done fitting',i,\"time:\",time.time()-t0\n",
    "    segment_coefs[i] = pipeline_coef_df(pipeline)\n",
    "    segment_results = pd.DataFrame(\n",
    "                                    pipeline.predict_proba(cand_df.iloc[test_index].sentence),\n",
    "                                    index=list(cand_df.iloc[test_index].index),\n",
    "                                    columns=pipeline.named_steps['classifier'].classes_)\n",
    "    print 'done predicting',i,\"time:\",time.time()-t0\n",
    "\n",
    "    all_results=all_results.append(segment_results)\n",
    "        \n",
    "    "
   ]
  },
  {
   "cell_type": "code",
   "execution_count": 229,
   "metadata": {
    "collapsed": true
   },
   "outputs": [],
   "source": [
    "cv_result = cand_df.copy().join(all_results)"
   ]
  },
  {
   "cell_type": "code",
   "execution_count": 230,
   "metadata": {
    "collapsed": false,
    "scrolled": true
   },
   "outputs": [
    {
     "data": {
      "text/html": [
       "<div>\n",
       "<table border=\"1\" class=\"dataframe\">\n",
       "  <thead>\n",
       "    <tr style=\"text-align: right;\">\n",
       "      <th></th>\n",
       "      <th>speech_idx</th>\n",
       "      <th>tokens</th>\n",
       "      <th>Clinton</th>\n",
       "      <th>Trump</th>\n",
       "    </tr>\n",
       "    <tr>\n",
       "      <th>speaker</th>\n",
       "      <th></th>\n",
       "      <th></th>\n",
       "      <th></th>\n",
       "      <th></th>\n",
       "    </tr>\n",
       "  </thead>\n",
       "  <tbody>\n",
       "    <tr>\n",
       "      <th>Clinton</th>\n",
       "      <td>141.302329</td>\n",
       "      <td>19.623027</td>\n",
       "      <td>0.784241</td>\n",
       "      <td>0.215759</td>\n",
       "    </tr>\n",
       "    <tr>\n",
       "      <th>Trump</th>\n",
       "      <td>47.992541</td>\n",
       "      <td>16.335029</td>\n",
       "      <td>0.189033</td>\n",
       "      <td>0.810967</td>\n",
       "    </tr>\n",
       "  </tbody>\n",
       "</table>\n",
       "</div>"
      ],
      "text/plain": [
       "         speech_idx     tokens   Clinton     Trump\n",
       "speaker                                           \n",
       "Clinton  141.302329  19.623027  0.784241  0.215759\n",
       "Trump     47.992541  16.335029  0.189033  0.810967"
      ]
     },
     "execution_count": 230,
     "metadata": {},
     "output_type": "execute_result"
    }
   ],
   "source": [
    "cv_result.groupby('speaker').mean()"
   ]
  },
  {
   "cell_type": "code",
   "execution_count": 231,
   "metadata": {
    "collapsed": false
   },
   "outputs": [],
   "source": [
    "cv_result['predict'] = cv_result.apply(lambda x: x[which_candidates].argmax(), axis = 1)"
   ]
  },
  {
   "cell_type": "code",
   "execution_count": 232,
   "metadata": {
    "collapsed": true
   },
   "outputs": [],
   "source": [
    "cv_result['correct'] = cv_result.predict == cv_result.speaker"
   ]
  },
  {
   "cell_type": "code",
   "execution_count": 233,
   "metadata": {
    "collapsed": false
   },
   "outputs": [
    {
     "data": {
      "text/plain": [
       "True     24851\n",
       "False     4420\n",
       "Name: correct, dtype: int64"
      ]
     },
     "execution_count": 233,
     "metadata": {},
     "output_type": "execute_result"
    }
   ],
   "source": [
    "cv_result.correct.value_counts()"
   ]
  },
  {
   "cell_type": "code",
   "execution_count": 234,
   "metadata": {
    "collapsed": false
   },
   "outputs": [
    {
     "data": {
      "text/plain": [
       "0.8489973010829831"
      ]
     },
     "execution_count": 234,
     "metadata": {},
     "output_type": "execute_result"
    }
   ],
   "source": [
    "cv_result.correct.mean()"
   ]
  },
  {
   "cell_type": "code",
   "execution_count": 235,
   "metadata": {
    "collapsed": false
   },
   "outputs": [
    {
     "name": "stdout",
     "output_type": "stream",
     "text": [
      "0.924537664559\n"
     ]
    },
    {
     "data": {
      "text/plain": [
       "[<matplotlib.lines.Line2D at 0x13843fc90>]"
      ]
     },
     "execution_count": 235,
     "metadata": {},
     "output_type": "execute_result"
    },
    {
     "data": {
      "image/png": "[encoded data removed]",
      "text/plain": [
       "<matplotlib.figure.Figure at 0x14632d690>"
      ]
     },
     "metadata": {},
     "output_type": "display_data"
    }
   ],
   "source": [
    "#  sklearn.metrics.roc_curve(y_true, y_score, pos_label=None, sample_weight=None, drop_intermediate\n",
    "correct= [1 if speaker == 'Trump' else 0 for speaker in cv_result.speaker]\n",
    "roc = roc_curve(correct, y_score=list(cv_result.Trump))\n",
    "print roc_auc_score(correct, cv_result.Trump)\n",
    "plt.plot(roc[0], roc[1])"
   ]
  },
  {
   "cell_type": "code",
   "execution_count": 236,
   "metadata": {
    "collapsed": false
   },
   "outputs": [],
   "source": [
    "sns.set_palette('deep')"
   ]
  },
  {
   "cell_type": "code",
   "execution_count": 238,
   "metadata": {
    "collapsed": false
   },
   "outputs": [
    {
     "data": {
      "text/plain": [
       "[<matplotlib.lines.Line2D at 0x140244650>]"
      ]
     },
     "execution_count": 238,
     "metadata": {},
     "output_type": "execute_result"
    },
    {
     "data": {
      "image/png": "[encoded data removed]",
      "text/plain": [
       "<matplotlib.figure.Figure at 0x1305ba750>"
      ]
     },
     "metadata": {},
     "output_type": "display_data"
    }
   ],
   "source": [
    "plt.plot(cv_result[(cv_result.tokens <=60)&(cv_result.tokens >=2)].groupby('tokens').mean()['correct'])"
   ]
  },
  {
   "cell_type": "code",
   "execution_count": 239,
   "metadata": {
    "collapsed": false
   },
   "outputs": [
    {
     "data": {
      "text/html": [
       "<div>\n",
       "<table border=\"1\" class=\"dataframe\">\n",
       "  <thead>\n",
       "    <tr style=\"text-align: right;\">\n",
       "      <th></th>\n",
       "      <th>date</th>\n",
       "      <th>sentence</th>\n",
       "      <th>speaker</th>\n",
       "      <th>speech_idx</th>\n",
       "      <th>title</th>\n",
       "      <th>tokens</th>\n",
       "      <th>Clinton</th>\n",
       "      <th>Trump</th>\n",
       "      <th>predict</th>\n",
       "      <th>correct</th>\n",
       "    </tr>\n",
       "  </thead>\n",
       "  <tbody>\n",
       "    <tr>\n",
       "      <th>10</th>\n",
       "      <td>2016-09-03</td>\n",
       "      <td>i just wrote this the other day knowing that i...</td>\n",
       "      <td>Trump</td>\n",
       "      <td>1</td>\n",
       "      <td>Presidential Candidate Donald Trump Remarks in...</td>\n",
       "      <td>42</td>\n",
       "      <td>0.009160</td>\n",
       "      <td>0.990840</td>\n",
       "      <td>Trump</td>\n",
       "      <td>True</td>\n",
       "    </tr>\n",
       "    <tr>\n",
       "      <th>11</th>\n",
       "      <td>2016-09-03</td>\n",
       "      <td>for centuries, the african american church has...</td>\n",
       "      <td>Trump</td>\n",
       "      <td>1</td>\n",
       "      <td>Presidential Candidate Donald Trump Remarks in...</td>\n",
       "      <td>15</td>\n",
       "      <td>0.113366</td>\n",
       "      <td>0.886634</td>\n",
       "      <td>Trump</td>\n",
       "      <td>True</td>\n",
       "    </tr>\n",
       "    <tr>\n",
       "      <th>12</th>\n",
       "      <td>2016-09-03</td>\n",
       "      <td>it is from the pews and pulpits and christian ...</td>\n",
       "      <td>Trump</td>\n",
       "      <td>1</td>\n",
       "      <td>Presidential Candidate Donald Trump Remarks in...</td>\n",
       "      <td>58</td>\n",
       "      <td>0.219890</td>\n",
       "      <td>0.780110</td>\n",
       "      <td>Trump</td>\n",
       "      <td>True</td>\n",
       "    </tr>\n",
       "    <tr>\n",
       "      <th>13</th>\n",
       "      <td>2016-09-03</td>\n",
       "      <td>and we are bound together and i see that today.</td>\n",
       "      <td>Trump</td>\n",
       "      <td>1</td>\n",
       "      <td>Presidential Candidate Donald Trump Remarks in...</td>\n",
       "      <td>10</td>\n",
       "      <td>0.407052</td>\n",
       "      <td>0.592948</td>\n",
       "      <td>Trump</td>\n",
       "      <td>True</td>\n",
       "    </tr>\n",
       "    <tr>\n",
       "      <th>15</th>\n",
       "      <td>2016-09-03</td>\n",
       "      <td>the african-american fate immunity has been on...</td>\n",
       "      <td>Trump</td>\n",
       "      <td>1</td>\n",
       "      <td>Presidential Candidate Donald Trump Remarks in...</td>\n",
       "      <td>18</td>\n",
       "      <td>0.466923</td>\n",
       "      <td>0.533077</td>\n",
       "      <td>Trump</td>\n",
       "      <td>True</td>\n",
       "    </tr>\n",
       "  </tbody>\n",
       "</table>\n",
       "</div>"
      ],
      "text/plain": [
       "          date                                           sentence speaker  \\\n",
       "10  2016-09-03  i just wrote this the other day knowing that i...   Trump   \n",
       "11  2016-09-03  for centuries, the african american church has...   Trump   \n",
       "12  2016-09-03  it is from the pews and pulpits and christian ...   Trump   \n",
       "13  2016-09-03    and we are bound together and i see that today.   Trump   \n",
       "15  2016-09-03  the african-american fate immunity has been on...   Trump   \n",
       "\n",
       "    speech_idx                                              title  tokens  \\\n",
       "10           1  Presidential Candidate Donald Trump Remarks in...      42   \n",
       "11           1  Presidential Candidate Donald Trump Remarks in...      15   \n",
       "12           1  Presidential Candidate Donald Trump Remarks in...      58   \n",
       "13           1  Presidential Candidate Donald Trump Remarks in...      10   \n",
       "15           1  Presidential Candidate Donald Trump Remarks in...      18   \n",
       "\n",
       "     Clinton     Trump predict correct  \n",
       "10  0.009160  0.990840   Trump    True  \n",
       "11  0.113366  0.886634   Trump    True  \n",
       "12  0.219890  0.780110   Trump    True  \n",
       "13  0.407052  0.592948   Trump    True  \n",
       "15  0.466923  0.533077   Trump    True  "
      ]
     },
     "execution_count": 239,
     "metadata": {},
     "output_type": "execute_result"
    }
   ],
   "source": [
    "cv_result.head()"
   ]
  },
  {
   "cell_type": "code",
   "execution_count": 261,
   "metadata": {
    "collapsed": false
   },
   "outputs": [],
   "source": [
    "long_df.link.to_csv('speech_links.csv', header=True, index_label='idx')"
   ]
  },
  {
   "cell_type": "code",
   "execution_count": 240,
   "metadata": {
    "collapsed": false
   },
   "outputs": [
    {
     "data": {
      "text/plain": [
       "(29271, 10)"
      ]
     },
     "execution_count": 240,
     "metadata": {},
     "output_type": "execute_result"
    }
   ],
   "source": [
    "cv_result.shape"
   ]
  },
  {
   "cell_type": "code",
   "execution_count": 241,
   "metadata": {
    "collapsed": false,
    "scrolled": true
   },
   "outputs": [
    {
     "name": "stdout",
     "output_type": "stream",
     "text": [
      "Most Clinton :\n",
      "\tI hope you will join me and that you will be part of this effort to build on the progress we have made under president obama to go further and to make it absolutely clear that we are fighting to break down barriers wherever they may be because we know america deserves nothing less and americans deserve to have the future that we will create together.\n",
      "-- 138 Presidential Candidate Hillary Clinton Rally in Orangeburg, South Carolina\n",
      "http://www.c-span.org/video/?405395-1/hillary-clinton-campaign-rally-orangeburg-south-carolina\n",
      "Predicted Clinton:  0.999999999994\n",
      "Predicted Trump:  5.51863282117e-12\n",
      "\n",
      "\tThink of what we are losing because we are not doing everything we can to reach out to those families and we know again from so much research year in the united states and around the world that mentoring and intervention will help those often stressed out young moms understand more about what they can do and to avoid the difficulties that stand in the way of their being able to get their child off to the best possible start.\n",
      "-- 181 Presidential Candidate Hillary Clinton Economic Policy Address\n",
      "http://www.c-span.org/video/?327052-1/hillary-clinton-economic-policy-address\n",
      "Predicted Clinton:  0.9999999993\n",
      "Predicted Trump:  7.00020713913e-10\n",
      "\n",
      "\tWe need more elected leaders, from houston to austin to washington, who will follow in  the footsteps of barbara jordan and who will fight every day for the rights and opportunities of everyday americans, not just those at the top of the ladder, and we need to remember that  progress is built on common ground, not scorched earth.\n",
      "-- 182 Hillary Clinton on Voting Rights\n",
      "http://www.c-span.org/video/?326400-1/hillary-clinton-remarks-voting-rights\n",
      "Predicted Clinton:  0.999999999044\n",
      "Predicted Trump:  9.56457514707e-10\n",
      "\n",
      "\tI do not think president obama gets the credit he deserves for saving our economy from what could have been an even worse crisis, saving the auto industry, cracking down on wall street abuses which the bush administration had been ignoring, and passing the affordable care act which now provides health insurance to 18 million americans!\n",
      "-- 164 Presidential Candidate Hillary Clinton Campaign Rally in Las Vegas\n",
      "http://www.c-span.org/video/?328637-1/hillary-clinton-campaign-rally-las-vegas\n",
      "Predicted Clinton:  0.999999999037\n",
      "Predicted Trump:  9.6316999776e-10\n",
      "\n",
      "\tWhen i think about you're hired, that is what i want us all to be focused on -- creating more jobs, raising income for people, beginning to reduce inequality in income by making sure our economy works for everybody, not just those at the top.\n",
      "-- 106 Presidential Candidate Hillary Clinton Rally in Annandale, Virginia\n",
      "http://www.c-span.org/video/?412723-1/senator-tim-kaine-campaigns-hillary-clinton\n",
      "Predicted Clinton:  0.999999998537\n",
      "Predicted Trump:  1.46296316166e-09\n",
      "\n",
      "\tI also have to say that i have heard a lot about another challenge that gets too little attention in our long-term looking forward into the future about what kind of country we are going to be and how we can help people live up to their potential.\n",
      "-- 167 2015 New Hampshire Democratic Party State Convention\n",
      "http://www.c-span.org/video/?328108-1/2015-new-hampshire-democratic-party-state-convention\n",
      "Predicted Clinton:  0.999999998513\n",
      "Predicted Trump:  1.48674306073e-09\n",
      "\n",
      "\tNo family and no student should have to borrow to pay tuition at a public college or university and everyone who has student debt should be able to refinance it at lower rates, costs not a barrier, and that will not hold you back under my plan.\n",
      "-- 176 Presidential Candidate Hillary Clinton Press Availability\n",
      "http://www.c-span.org/video/?327572-2/presidential-candidate-hillary-clinton-press-availability\n",
      "Predicted Clinton:  0.999999998468\n",
      "Predicted Trump:  1.53194072209e-09\n",
      "\n",
      "\tWhen we fight to make college more affordable than stupid deathless punishing work to hold corporations accountable when they tell just one try to prices or falluja or environment or exploit workers, that's fighting for women and men in america and when we fight to create a pathway to citizenship for millions of immigrants, we will make social security even stronger or to protect and improve the affordable care act because everyone deserves access to quality affordable care.\n",
      "-- 162 Hillary Clinton at Democratic Women's Leadership Forum\n",
      "http://www.c-span.org/video/?328919-3/hillary-clinton-democratic-womens-leadership-forum\n",
      "Predicted Clinton:  0.999999997921\n",
      "Predicted Trump:  2.07862404384e-09\n",
      "\n",
      "\tYou see, i have a broader view about what we need to do to make sure that people not only pay their fair share, but they don't wreck the economy like we saw them in 2008. the governor, senator, and i agree that we have got to prevent wall street, the financial markets, and others from doing what they did.\n",
      "-- 150 Hillary Clinton Campaign Rally in Cedar Rapids, Iowa\n",
      "http://www.c-span.org/video/?403935-1/hillary-clinton-campaign-rally-cedar-rapids-iowa\n",
      "Predicted Clinton:  0.999999997515\n",
      "Predicted Trump:  2.48545515351e-09\n",
      "\n",
      "\tIf you're going to hear people in this campaign talk about improving the economy, helping incomes rise, ask of the what they are going to do to make college affordable and begin to deal with the debt burden that is holding too many americans back.\n",
      "-- 177 Presidential Candidate Hillary Clinton Remarks on College Affordability\n",
      "http://www.c-span.org/video/?327572-1/hillary-clinton-remarks-college-affordability\n",
      "Predicted Clinton:  0.999999996685\n",
      "Predicted Trump:  3.31521423936e-09\n",
      "\n",
      "\n",
      "\n",
      "Most Trump :\n",
      "\tAnd i want to tell you, you know, so much about illegal immigration and so much has been mentioned about it and talked about it and these politicians are all talk, no action, they are never going to do anything, and they are only going to pick this up because when i went and i announced that i was running for president, i said, you know, his country is a big, big problem with illegal immigration, and all of a sudden, we started talking about it, and then we had bad things happening, and there was crime and you had so many killings and so much crime.\n",
      "-- 45 Presidential Candidate Donald Trump Rally in Arizona\n",
      "http://www.c-span.org/video/?406905-1/donald-trump-campaign-rally-phoenix-arizona\n",
      "Predicted Clinton:  1.5437628953e-10\n",
      "Predicted Trump:  0.999999999846\n",
      "\n",
      "\tAs you know, we have done very  well with the evangelicals and  with religion generally speaking, if you look at what's  happened with all of the races, whether it's in south carolina,  i went there and it was supposed to be strong evangelical, and i  was not supposed to win and i won in a landslide, and so many other places where you had the evangelicals and you had the  heavy christian groups and it was just -- it's been an amazing journey to have -- i think we won 37 different states.\n",
      "-- 22 Faith and Freedom Coalition Conference\n",
      "http://www.c-span.org/video/?410912-1/faith-freedom-coalition-holds-annual-conference\n",
      "Predicted Clinton:  2.23937979271e-10\n",
      "Predicted Trump:  0.999999999776\n",
      "\n",
      "\tBelieve me, we are going to use our great business people to negotiate unbelievable trade deals so we bring our jobs back and we don't let our companies go to mexico and all of these other countries anymore.\n",
      "-- 36 Presidential Candidate Donald Trump New York Primary Night Speech\n",
      "http://www.c-span.org/video/?408385-1/donald-trump-primary-night-speech\n",
      "Predicted Clinton:  2.85087597973e-09\n",
      "Predicted Trump:  0.999999997149\n",
      "\n",
      "\tAnd just to finish on the nuclear thing, i was talking about negotiating with japan and negotiate with germany and i have such negotiators in the world, carl icahn, other negotiators, a lot of people want to come in and help us, some of the greatest business minds, and they all want to help us, so i say to myself, \"look at this, look at these people, and look at this negotiation.\n",
      "-- 41 Donald Trump Town Hall Meeting in Rothschild, Wisconsin\n",
      "http://www.c-span.org/video/?407558-1/donald-trump-town-hall-meeting-rothschild-wisconsin\n",
      "Predicted Clinton:  8.95876051121e-09\n",
      "Predicted Trump:  0.999999991041\n",
      "\n",
      "\tEvery single air conditioning unit that you make, every single one, as it crosses the border, and we are going to have a real border, because we are going to have a wall, we are going to have a real border, we are going to have a date, beautiful wall that nobody is crossing, just in case you had any questions, don't worry about the tunnels and stuff, nobody is going over it and nobody is going over it and we are going to have a big, beautiful door, but people are going to be coming into our country legally, legally, legally, so i tell the head of carrier, everything will unit that you make in mexico and that you sell in the united states, we are going to put a 35% tax on that unit, and i hope it works out well for you.\"\n",
      "-- 45 Presidential Candidate Donald Trump Rally in Arizona\n",
      "http://www.c-span.org/video/?406905-1/donald-trump-campaign-rally-phoenix-arizona\n",
      "Predicted Clinton:  1.30889175054e-08\n",
      "Predicted Trump:  0.999999986911\n",
      "\n",
      "\tYou see what free trade has gotten, you see what globalization would we go all over the world because our politicians are corrupt and crooked and they are totally taken care of i -- by campaign contributions and by the way who would know better than me?\n",
      "-- 32 Presidential Candidate Donald Trump Rally in South Bend, Indiana\n",
      "http://www.c-span.org/video/?408859-1/donald-trump-addresses-supporters-south-bend-indiana\n",
      "Predicted Clinton:  1.73875384091e-08\n",
      "Predicted Trump:  0.999999982612\n",
      "\n",
      "\tI would go to a company like carrier air-conditioning which decided to leave indianapolis and i would say, here's the story coming you think it's wonderful that you are negotiating with mexico come i'm sure you will have a wonderful plant -- if you bill that plant and you fire all these people who were so great to me -- indiana come i won that in a landslide -- the timing was good.\n",
      "-- 7 Donald Trump Campaign Rally in Erie, Pennsylvania\n",
      "http://www.c-span.org/video/?413909-1/donald-trump-campaigns-erie-pennsylvania\n",
      "Predicted Clinton:  2.74531645195e-08\n",
      "Predicted Trump:  0.999999972547\n",
      "\n",
      "\tWhat happens a couple of months later announced i'm running and i come down and we are talking about trade and talking up the border and all these things that -- these things would have never even been brought up if i didn't talk about them.\n",
      "-- 32 Presidential Candidate Donald Trump Rally in South Bend, Indiana\n",
      "http://www.c-span.org/video/?408859-1/donald-trump-addresses-supporters-south-bend-indiana\n",
      "Predicted Clinton:  7.2197418155e-08\n",
      "Predicted Trump:  0.999999927803\n",
      "\n",
      "\tNow, you have south china and you have china building a massive fortress with massive, massive run rays for the biggest mail terri planes in the world and they have those escal sraeutka sraeuted and they're ripping the hell out of the ocean and building an island in the south of china and that he going to be a military fortress and they're not supposed to be doing that but they have no respect for our president and country so they're doing it.\n",
      "-- 60 Donald Trump Campaign Rally in Charleston, South Carolina\n",
      "http://www.c-span.org/video/?404947-1/donald-trump-campaign-rally-charleston-south-carolina\n",
      "Predicted Clinton:  8.62185532968e-08\n",
      "Predicted Trump:  0.999999913781\n",
      "\n",
      "\tWhen a company wants to leave our country to go to another country and think they are going to make their product and because our politicians are weak, stupid, taken care of by lobbyists, special interests, they are taken care of by lobbyists, they are taken care of by donors and special interests -- a friend of mine said i can't believe we're talking about a deal that took place a month ago.\n",
      "-- 7 Donald Trump Campaign Rally in Erie, Pennsylvania\n",
      "http://www.c-span.org/video/?413909-1/donald-trump-campaigns-erie-pennsylvania\n",
      "Predicted Clinton:  1.25155286246e-07\n",
      "Predicted Trump:  0.999999874845\n",
      "\n",
      "\n",
      "\n"
     ]
    }
   ],
   "source": [
    "\n",
    "for candidate in which_candidates:\n",
    "    print \"Most\",candidate,\":\"\n",
    "    for idx, row in cv_result[cv_result.speaker == cv_result.predict].sort_values(by=candidate,ascending=False).iloc[0:10].iterrows():\n",
    "        sent = row.sentence\n",
    "        print \"\\t\",sent[0].upper()+sent[1:]\n",
    "        print \"--\",row.speech_idx, row.title\n",
    "        print long_df.loc[row.speech_idx].link\n",
    "        print \"Predicted Clinton: \",row.Clinton\n",
    "        print \"Predicted Trump: \",row.Trump\n",
    "        print\n",
    "    print\n",
    "    print\n",
    "    "
   ]
  },
  {
   "cell_type": "code",
   "execution_count": 242,
   "metadata": {
    "collapsed": true
   },
   "outputs": [],
   "source": [
    "cv_result.sort_values('Trump', inplace=True)"
   ]
  },
  {
   "cell_type": "code",
   "execution_count": 243,
   "metadata": {
    "collapsed": false
   },
   "outputs": [],
   "source": [
    "cv_result.to_csv('cv_result_sept_26.csv')\n",
    "cv_result.to_csv('cv_result.csv')"
   ]
  },
  {
   "cell_type": "code",
   "execution_count": null,
   "metadata": {
    "collapsed": true
   },
   "outputs": [],
   "source": []
  },
  {
   "cell_type": "code",
   "execution_count": 203,
   "metadata": {
    "collapsed": false,
    "scrolled": true
   },
   "outputs": [
    {
     "name": "stdout",
     "output_type": "stream",
     "text": [
      "Most Clinton-like, but not:\n",
      "\tThis is why we have already  passed legislation to support  wounded warriors, veterans who  struggle with mental health challenges and earlier this week to support female veterans in  particular who need our help.\n",
      "-- 22 Faith and Freedom Coalition Conference\n",
      "http://www.c-span.org/video/?410912-1/faith-freedom-coalition-holds-annual-conference\n",
      "Predicted Clinton:  0.999995599465\n",
      "Predicted Trump:  4.40053507352e-06\n",
      "\n",
      "\tThat's why we passed --  -- that's why we also pass add  bill that helps victims of child pornography get restitution from those who frost from their pain  and took steps to crack down on so-called pass the trash practice of schools.\n",
      "-- 22 Faith and Freedom Coalition Conference\n",
      "http://www.c-span.org/video/?410912-1/faith-freedom-coalition-holds-annual-conference\n",
      "Predicted Clinton:  0.999959525562\n",
      "Predicted Trump:  4.04744380991e-05\n",
      "\n",
      "\tAnd i want to tell you it is a  prime example of one of our major responsibilities in the  congress that is often overlooked.\n",
      "-- 22 Faith and Freedom Coalition Conference\n",
      "http://www.c-span.org/video/?410912-1/faith-freedom-coalition-holds-annual-conference\n",
      "Predicted Clinton:  0.999885125055\n",
      "Predicted Trump:  0.000114874944641\n",
      "\n",
      "\tIf we get serious and put our differences aside we can create an environment where we can fix these things, save social kurt y security, arrest the rising  nature of our health care costs and put this country in a direction for our children and grandchildren to where we  swroent to look at them and  apologize.\n",
      "-- 22 Faith and Freedom Coalition Conference\n",
      "http://www.c-span.org/video/?410912-1/faith-freedom-coalition-holds-annual-conference\n",
      "Predicted Clinton:  0.999819035016\n",
      "Predicted Trump:  0.00018096498434\n",
      "\n",
      "\tThat's why i also look and have to look for talented experts with approaches and practical ideas, rather than surrounding myself with those who have perfect resumes but very little to brag about except responsibility for a long history of failed policies and continued losses at war.\n",
      "-- 33 Presidential Candidate Donald Trump Remarks on Foreign Policy\n",
      "http://www.c-span.org/video/?408693-1/donald-trump-speech-foreign-policy\n",
      "Predicted Clinton:  0.999809126713\n",
      "Predicted Trump:  0.000190873287003\n",
      "\n",
      "\tWe are going to work with all of our students who are drowning in debt to take the pressure off these young people just starting out in their adult lives.\n",
      "-- 11 Donald Trump 2016 Acceptance Speech\n",
      "http://www.c-span.org/video/?412402-8/donald-trump-2016-acceptance-speech\n",
      "Predicted Clinton:  0.999778949731\n",
      "Predicted Trump:  0.000221050268533\n",
      "\n",
      "\tNew york values were on display for all to see in the aftermath of 9/11 that struck at the heart of our city and our nation.\n",
      "-- 38 Donald Trump Remarks at New York State Republican Gala\n",
      "http://www.c-span.org/video/?408067-1/2016-new-york-state-republican-gala\n",
      "Predicted Clinton:  0.99977727104\n",
      "Predicted Trump:  0.000222728960283\n",
      "\n",
      "\tEvery action i take, i will ask myself: does this make life better for young americans in baltimore, chicago, detroit, and ferguson who have really come in every way, have the same right to live out their dreams as any other child in america?\n",
      "-- 11 Donald Trump 2016 Acceptance Speech\n",
      "http://www.c-span.org/video/?412402-8/donald-trump-2016-acceptance-speech\n",
      "Predicted Clinton:  0.999769145235\n",
      "Predicted Trump:  0.000230854765363\n",
      "\n",
      "\tSo let me say this once more and let me say it clearly -- barack obama will not get a  supreme court justice in the 11th hour of his presidency on the way out the door.\n",
      "-- 22 Faith and Freedom Coalition Conference\n",
      "http://www.c-span.org/video/?410912-1/faith-freedom-coalition-holds-annual-conference\n",
      "Predicted Clinton:  0.999723033458\n",
      "Predicted Trump:  0.000276966541628\n",
      "\n",
      "\tInstead of trying to spread universal values that not everybody shares or wants, we should understand that strengthening and promoting western civilization and its accomplishments will do more to inspire positive reforms around the world than military interventions.\n",
      "-- 33 Presidential Candidate Donald Trump Remarks on Foreign Policy\n",
      "http://www.c-span.org/video/?408693-1/donald-trump-speech-foreign-policy\n",
      "Predicted Clinton:  0.999502194922\n",
      "Predicted Trump:  0.000497805078229\n",
      "\n",
      "\n",
      "\n",
      "Most Trump-like, but not:\n",
      "\tThe deals -- the merits of the deal happen will discussed, so i will not go through them here.\n",
      "-- 168 Presidential Candidate Hillary Clinton on Iran Nuclear Agreement\n",
      "http://www.c-span.org/video/?328006-1/hillary-clinton-address-iran-nuclear-agreement\n",
      "Predicted Clinton:  0.00145472668598\n",
      "Predicted Trump:  0.998545273314\n",
      "\n",
      "\tOn that very same day that those people were killed in oregon, a five-month-old baby strapped into her car seat in the back of a car was killed by a stray bullet in cleveland.\n",
      "-- 165 Presidential Candidate Hillary Clinton Remarks on Gun Violence\n",
      "http://www.c-span.org/video/?328577-1/hillary-clinton-remarks-gun-violence\n",
      "Predicted Clinton:  0.00172169026985\n",
      "Predicted Trump:  0.99827830973\n",
      "\n",
      "\tI would not support this agreement for one second if i thought it put israel in greater danger.\n",
      "-- 168 Presidential Candidate Hillary Clinton on Iran Nuclear Agreement\n",
      "http://www.c-span.org/video/?328006-1/hillary-clinton-address-iran-nuclear-agreement\n",
      "Predicted Clinton:  0.00249851295766\n",
      "Predicted Trump:  0.997501487042\n",
      "\n",
      "\tOne that embeds our mission within isis within radical jehadism that's bigger than any one group.\n",
      "-- 159 Presidential Candidate Hillary Clinton National Security Address\n",
      "http://www.c-span.org/video/?400960-1/hillary-clinton-national-security-address\n",
      "Predicted Clinton:  0.00340893637607\n",
      "Predicted Trump:  0.996591063624\n",
      "\n",
      "\tWhen you call on people in town halls, you have no idea what they're going to say or what they are going to ask.\n",
      "-- 155 Presidential Candidate Hillary Clinton in Portsmouth, New Hampshire\n",
      "http://www.c-span.org/video/?402565-1/hillary-clinton-town-hall-meeting-portsmouth-new-hampshire\n",
      "Predicted Clinton:  0.00364557838496\n",
      "Predicted Trump:  0.996354421615\n",
      "\n",
      "\tIn louisiana they would not do it so hundreds of thousands of people were left out.\n",
      "-- 160 Hillary Clinton Town Hall Meeting in Orangeburg, South Carolina\n",
      "http://www.c-span.org/video/?400357-1/hillary-clinton-town-hall-meeting-orangeburg-south-carolina\n",
      "Predicted Clinton:  0.00384139145166\n",
      "Predicted Trump:  0.996158608548\n",
      "\n",
      "\tThis is an honor because she and i used to run a little potluck together and we would have people over and we would have a little potluck.\n",
      "-- 172 Presidential Candidate Hillary Clinton Meet-and-Greet at the Iowa State Fair, Part 1\n",
      "http://www.c-span.org/video/?327525-8/presidential-candidate-hillary-clinton-meetandgreet-iowa-state-fair-part-1\n",
      "Predicted Clinton:  0.00420606691092\n",
      "Predicted Trump:  0.995793933089\n",
      "\n",
      "\tAnd then i was supposed to go speak to the parliament.\n",
      "-- 155 Presidential Candidate Hillary Clinton in Portsmouth, New Hampshire\n",
      "http://www.c-span.org/video/?402565-1/hillary-clinton-town-hall-meeting-portsmouth-new-hampshire\n",
      "Predicted Clinton:  0.00429544953724\n",
      "Predicted Trump:  0.995704550463\n",
      "\n",
      "\tTrump actually says he would do a much better job for women than i would that is a general election debate that is going to be a lots of fun.\n",
      "-- 170 Democratic National Committee Summer Meeting, Morning Session\n",
      "http://www.c-span.org/video/?327791-1/lincoln-chafee-hillary-clinton-dnc-summer-meeting\n",
      "Predicted Clinton:  0.00444400561747\n",
      "Predicted Trump:  0.995555994383\n",
      "\n",
      "\tAnd he has reached out and he has invited people, and they just get further and further away, and their attitude basically has become -- they don't even like the run speaker of the house.\n",
      "-- 164 Presidential Candidate Hillary Clinton Campaign Rally in Las Vegas\n",
      "http://www.c-span.org/video/?328637-1/hillary-clinton-campaign-rally-las-vegas\n",
      "Predicted Clinton:  0.00631634976052\n",
      "Predicted Trump:  0.993683650239\n",
      "\n",
      "\n",
      "\n"
     ]
    }
   ],
   "source": [
    "\n",
    "for candidate in which_candidates:\n",
    "    print \"Most\",candidate+\"-like, but not:\"\n",
    "    for idx, row in cv_result[cv_result.speaker != cv_result.predict].sort_values(by=candidate,ascending=False).iloc[0:10].iterrows():\n",
    "        sent = row.sentence\n",
    "        print \"\\t\",sent[0].upper()+sent[1:]\n",
    "        print \"--\",row.speech_idx, row.title\n",
    "        print long_df.loc[row.speech_idx].link\n",
    "        print \"Predicted Clinton: \",row.Clinton\n",
    "        print \"Predicted Trump: \",row.Trump\n",
    "        print\n",
    "    print\n",
    "    print"
   ]
  },
  {
   "cell_type": "code",
   "execution_count": 244,
   "metadata": {
    "collapsed": false
   },
   "outputs": [],
   "source": [
    "sums = {}\n",
    "for candidate in which_candidates:\n",
    "    sums[candidate] = pd.DataFrame(index=segment_coefs[0].index)\n",
    "t0 = time.time()\n",
    "for i, segment in enumerate(segment_coefs):\n",
    "    segment.drop_duplicates(inplace=True)\n",
    "    for candidate in which_candidates:\n",
    "        sums[candidate] = sums[candidate].join(segment[candidate], rsuffix=str(i))\n",
    "        sums[candidate].drop_duplicates(inplace=True)\n"
   ]
  },
  {
   "cell_type": "code",
   "execution_count": 245,
   "metadata": {
    "collapsed": false
   },
   "outputs": [],
   "source": [
    "average_coef = pd.DataFrame()\n",
    "\n",
    "for candidate in which_candidates:\n",
    "    sums[candidate].fillna(1.0, inplace=True) # odds ratio\n",
    "    #     average_coef[candidate] = sums[candidate].apply(lambda x: len(x) / sum([1./i for i in x]), axis=1)\n",
    "    logged = np.log(sums[candidate])\n",
    "    average_coef[candidate] = np.e**(logged.sum(axis=1) /  logged.shape[1])"
   ]
  },
  {
   "cell_type": "code",
   "execution_count": 246,
   "metadata": {
    "collapsed": false
   },
   "outputs": [
    {
     "name": "stdout",
     "output_type": "stream",
     "text": [
      "tremendous         12.906809\n",
      "guy                11.235257\n",
      "frankly             7.988089\n",
      "hillary             7.597671\n",
      "almost              7.576238\n",
      "japan               7.433462\n",
      "illegal             7.416259\n",
      "allowed             7.372803\n",
      "deals               6.964876\n",
      "nice                6.769398\n",
      "politicians         6.751860\n",
      "incredible          6.500995\n",
      "hell                6.319643\n",
      "guys                6.295349\n",
      "media               6.200690\n",
      "mexico              5.995684\n",
      "ivanka              5.862366\n",
      "conservative        5.686525\n",
      "does it             5.648765\n",
      "television          5.539992\n",
      "obama               5.441873\n",
      "islamic             5.431882\n",
      "poll                5.416108\n",
      "50                  5.233622\n",
      "win                 5.224504\n",
      "establishment       5.194890\n",
      "jeb                 5.157307\n",
      "indiana             5.135184\n",
      "politician          5.093787\n",
      "five                5.076329\n",
      "by the way          5.061289\n",
      "golf                5.060450\n",
      "numbers             5.020300\n",
      "christian           4.950798\n",
      "our police          4.937448\n",
      "hispanics           4.910837\n",
      "border              4.828472\n",
      "terms               4.824106\n",
      "new york values     4.812736\n",
      "polls               4.698045\n",
      "general             4.694127\n",
      "radical islam       4.646991\n",
      "an example          4.603968\n",
      "winning             4.601608\n",
      "we passed           4.574305\n",
      "largest             4.566678\n",
      "care of             4.531441\n",
      "foundation          4.522860\n",
      "things we can       4.504449\n",
      "history of          4.488605\n",
      "Name: Trump, dtype: float64\n",
      "\n",
      "my husband         11.322642\n",
      "wall street        10.150987\n",
      "attention           9.384565\n",
      "opportunities       7.990501\n",
      "or us               7.890791\n",
      "mother              7.401230\n",
      "often               7.254861\n",
      "democratic          7.120196\n",
      "recession           6.923911\n",
      "hillary care        6.784396\n",
      "progress            6.710655\n",
      "republicans         6.693420\n",
      "citizens united     6.487222\n",
      "i remember          6.388782\n",
      "investment          6.380335\n",
      "experiences         6.281506\n",
      "learning            6.227153\n",
      "grateful            6.155135\n",
      "gun                 6.005346\n",
      "forward             5.997399\n",
      "about what          5.815357\n",
      "kids                5.808934\n",
      "drug                5.765135\n",
      "well we             5.414507\n",
      "arkansas            5.382889\n",
      "my friends          5.304444\n",
      "auto                5.296490\n",
      "affordable          5.203818\n",
      "strategy            5.191090\n",
      "a raise             5.171251\n",
      "hope you will       5.095857\n",
      "senator             5.023788\n",
      "not just            5.018922\n",
      "barbara             5.015506\n",
      "proposal            4.975865\n",
      "progressive         4.940342\n",
      "solar               4.921046\n",
      "insurance           4.905063\n",
      "climate             4.848180\n",
      "college             4.780242\n",
      "clean energy        4.695753\n",
      "particularly        4.658302\n",
      "wage                4.585647\n",
      "can to              4.562630\n",
      "young people        4.514736\n",
      "why i               4.510812\n",
      "says he             4.462701\n",
      "one man             4.461873\n",
      "approach            4.428091\n",
      "he really           4.409369\n",
      "Name: Clinton, dtype: float64\n"
     ]
    }
   ],
   "source": [
    "print average_coef.sort_values(by='Trump', ascending=False).head(50)['Trump']\n",
    "print\n",
    "print average_coef.sort_values(by='Clinton', ascending=False).head(50)['Clinton']"
   ]
  },
  {
   "cell_type": "code",
   "execution_count": 247,
   "metadata": {
    "collapsed": true
   },
   "outputs": [],
   "source": [
    "average_coef.sort_values('Trump', inplace=True)\n",
    "average_coef.to_csv('average_coef_sept_26.csv')\n",
    "average_coef.to_csv('average_coef.csv')"
   ]
  },
  {
   "cell_type": "code",
   "execution_count": 248,
   "metadata": {
    "collapsed": true
   },
   "outputs": [],
   "source": [
    "\n",
    "def color_map(percent, top, bottom):\n",
    "    if percent >1:\n",
    "        percent = 1\n",
    "    diff = [t-b for t,b in zip(top, bottom)]\n",
    "    \n",
    "    return [(d*percent)+b for d,b in zip(diff, bottom)]\n",
    "    "
   ]
  },
  {
   "cell_type": "code",
   "execution_count": 249,
   "metadata": {
    "collapsed": false
   },
   "outputs": [],
   "source": [
    "pronoun_coefs = average_coef.loc[[col for col in average_coef.index if col in pronouns]].sort_values('Trump', ascending=False)\n",
    "# toplot = pronoun_coefs[((pronoun_coefs.Trump >= 1.5) | (pronoun_coefs.Clinton >=1.5))].copy()\n",
    "toplot = pronoun_coefs.iloc[0:15].append(pronoun_coefs.iloc[-15:])\n"
   ]
  },
  {
   "cell_type": "code",
   "execution_count": 251,
   "metadata": {
    "collapsed": false
   },
   "outputs": [
    {
     "data": {
      "image/png": "[encoded data removed]",
      "text/plain": [
       "<matplotlib.figure.Figure at 0x1408eb050>"
      ]
     },
     "metadata": {},
     "output_type": "display_data"
    }
   ],
   "source": [
    "pronoun_coefs = average_coef.loc[[col for col in average_coef.index if col in pronouns]].sort_values('Trump', ascending=False)\n",
    "# toplot = pronoun_coefs[((pronoun_coefs.Trump >= 1.5) | (pronoun_coefs.Clinton >=1.5))].copy()\n",
    "toplot = pronoun_coefs.iloc[0:10].append(pronoun_coefs.iloc[-10:])\n",
    "\n",
    "f, (ax1) = plt.subplots(1,1, figsize=(12,9))\n",
    "label_size = 12\n",
    "value_size = 9\n",
    "\n",
    "vals = [np.log(x) for x in toplot.sort_values('Trump', ascending=False).Trump]\n",
    "\n",
    "#minimum=abs(min(vals))\n",
    "maximum=max(vals)\n",
    "minimum=maximum\n",
    "blue=[0,.1,.8]\n",
    "red = [.8,.1,0]\n",
    "white = [1,1,1]\n",
    "colors = [color_map(-value/minimum, blue, white) if value < 0 else color_map(value/maximum, red, white) for value in vals]\n",
    "\n",
    "\n",
    "sns.barplot(x=vals,\n",
    "            y=toplot.sort_values('Trump', ascending=False).index, ax=ax1,\n",
    "            palette=colors, \n",
    "#             color=colors,\n",
    "            edgecolor='black')\n",
    "\n",
    "ax1.set_title(\"How Pronouns Multiply the Predicted Odds that\\nClinton or Trump Was the Speaker\\n\", fontsize=28, color=[.25,.25,.25])\n",
    "\n",
    "# ax1.set_yticklabels([x[0].upper()+x[1:] for x in toplot.sort_values('Trump', ascending=False).index.values], fontsize=16)\n",
    "\n",
    "\n",
    "labels = [x[0].upper()+x[1:] for x in toplot.sort_values('Trump', ascending=False).index.values]\n",
    "for i, patch in enumerate(ax1.patches):\n",
    "    width = patch.get_width()\n",
    "    \n",
    "    if patch.get_x() < 0:\n",
    "        # Bars extending on the left\n",
    "        label_x = .05\n",
    "        label_halign = 'left'\n",
    "        if patch.get_width() >= np.log(1.15):     \n",
    "            value_x = patch.get_x()+.04\n",
    "            value_halign = 'left'\n",
    "        else:\n",
    "            value_x = patch.get_x()-.04\n",
    "            value_halign='right'\n",
    "    else:\n",
    "        # Bars extending on the right\n",
    "        label_x = -.05\n",
    "        label_halign = 'right'\n",
    "        if patch.get_width() >= np.log(1.15):\n",
    "            value_x = patch.get_width()-.04\n",
    "            value_halign = 'right'\n",
    "        else:\n",
    "            value_x = patch.get_width() + .04\n",
    "            value_halign = 'left'\n",
    "\n",
    "    value_color = [.1,.1,.1]\n",
    "    if patch.get_width()> np.log(2): value_color = 'white'\n",
    "    ax1.text(label_x, patch.get_y()+.61, '%s'%(labels[i]), color=[.1,.1,.1], ha=label_halign, fontsize=label_size)   \n",
    "    ax1.text(value_x, patch.get_y()+.61, '%1.2f'%(np.e**abs(vals[i])), color=value_color, ha=value_halign, fontsize=label_size)    \n",
    "\n",
    "ax1.text(-np.log(2.95), 14, 'Clinton', color='b', fontsize=24)\n",
    "ax1.text(np.log(2.95), 6.6, 'Trump', color='r', fontsize=24, ha='right')\n",
    "\n",
    "ax1.set_yticklabels([])\n",
    "ax1.set_xlabel('')\n",
    "ax1.set_xlim([-np.log(5),np.log(5)])\n",
    "\n",
    "ax1.set_xticks([-np.log(4),-np.log(3),-np.log(2),0,np.log(2),np.log(3), np.log(4)], minor=False)\n",
    "ax1.set_xticklabels([4,3,2,1,2,3,4], minor=False)\n",
    "\n",
    "f.text(.95, .07, 'by\\nJesse Galef', color=[.2,.2,.2], fontsize=12, alpha=.8, ha='right', weight='bold', variant='small-caps')\n",
    "\n",
    "\n",
    "plt.plot()\n",
    "f.tight_layout(rect=[0,0,.95,.95])"
   ]
  },
  {
   "cell_type": "code",
   "execution_count": 211,
   "metadata": {
    "collapsed": false
   },
   "outputs": [
    {
     "data": {
      "image/png": "[encoded data removed]",
      "text/plain": [
       "<matplotlib.figure.Figure at 0x1301c3f90>"
      ]
     },
     "metadata": {},
     "output_type": "display_data"
    }
   ],
   "source": [
    "conj_coefs = average_coef.loc[[col for col in average_coef.index if col in conjunctions]].sort_values('Trump', ascending=False)\n",
    "# toplot = pronoun_coefs[((pronoun_coefs.Truzmp >= 1.5) | (pronoun_coefs.Clinton >=1.5))].copy()\n",
    "# toplot = conj_coefs.iloc[0:10].append(conj_coefs.iloc[-10:])\n",
    "toplot = conj_coefs\n",
    "\n",
    "f, (ax1) = plt.subplots(1,1, figsize=(12,9))\n",
    "label_size = 12\n",
    "value_size = 9\n",
    "\n",
    "vals = [np.log(x) for x in toplot.sort_values('Trump', ascending=False).Trump]\n",
    "\n",
    "#minimum=abs(min(vals))\n",
    "maximum=max(vals)\n",
    "minimum=maximum\n",
    "blue=[0,.1,.8]\n",
    "red = [.8,.1,0]\n",
    "white = [1,1,1]\n",
    "colors = [color_map(-value/minimum, blue, white) if value < 0 else color_map(value/maximum, red, white) for value in vals]\n",
    "\n",
    "\n",
    "sns.barplot(x=vals,\n",
    "            y=toplot.sort_values('Trump', ascending=False).index, ax=ax1,\n",
    "            palette=colors, \n",
    "#             color=colors,\n",
    "            edgecolor='black')\n",
    "\n",
    "ax1.set_title(\"How Conjunctions Multiply the Predicted Odds that\\nClinton or Trump Was the Speaker\\n\", fontsize=28, color=[.25,.25,.25])\n",
    "\n",
    "# ax1.set_yticklabels([x[0].upper()+x[1:] for x in toplot.sort_values('Trump', ascending=False).index.values], fontsize=16)\n",
    "\n",
    "\n",
    "labels = [x[0].upper()+x[1:] for x in toplot.sort_values('Trump', ascending=False).index.values]\n",
    "for i, patch in enumerate(ax1.patches):\n",
    "    width = patch.get_width()\n",
    "    \n",
    "    if patch.get_x() < 0:\n",
    "        # Bars extending on the left\n",
    "        label_x = .05\n",
    "        label_halign = 'left'\n",
    "        if patch.get_width() >= np.log(1.15):     \n",
    "            value_x = patch.get_x()+.04\n",
    "            value_halign = 'left'\n",
    "        else:\n",
    "            value_x = patch.get_x()-.04\n",
    "            value_halign='right'\n",
    "    else:\n",
    "        # Bars extending on the right\n",
    "        label_x = -.05\n",
    "        label_halign = 'right'\n",
    "        if patch.get_width() >= np.log(1.15):\n",
    "            value_x = patch.get_width()-.04\n",
    "            value_halign = 'right'\n",
    "        else:\n",
    "            value_x = patch.get_width() + .04\n",
    "            value_halign = 'left'\n",
    "\n",
    "    value_color = [.1,.1,.1]\n",
    "    if patch.get_width()> np.log(2): value_color = 'white'\n",
    "    ax1.text(label_x, patch.get_y()+.61, '%s'%(labels[i]), color=[.1,.1,.1], ha=label_halign, fontsize=label_size)   \n",
    "    ax1.text(value_x, patch.get_y()+.61, '%1.2f'%(np.e**abs(vals[i])), color=value_color, ha=value_halign, fontsize=label_size)    \n",
    "\n",
    "ax1.text(-np.log(2.95), 14, 'Clinton', color='b', fontsize=24)\n",
    "ax1.text(np.log(2.95), 5, 'Trump', color='r', fontsize=24, ha='right')\n",
    "\n",
    "ax1.set_yticklabels([])\n",
    "ax1.set_xlabel('')\n",
    "ax1.set_xlim([-np.log(5),np.log(5)])\n",
    "\n",
    "ax1.set_xticks([-np.log(4),-np.log(3),-np.log(2),0,np.log(2),np.log(3), np.log(4)], minor=False)\n",
    "ax1.set_xticklabels([4,3,2,1,2,3,4], minor=False)\n",
    "\n",
    "f.text(.95, .07, 'by\\nJesse Galef', color=[.2,.2,.2], fontsize=12, alpha=.8, ha='right', weight='bold', variant='small-caps')\n",
    "\n",
    "\n",
    "plt.plot()\n",
    "f.tight_layout(rect=[0,0,.95,.95])"
   ]
  },
  {
   "cell_type": "code",
   "execution_count": 505,
   "metadata": {
    "collapsed": false
   },
   "outputs": [
    {
     "data": {
      "image/png": "[encoded data removed]",
      "text/plain": [
       "<matplotlib.figure.Figure at 0x12ebccf50>"
      ]
     },
     "metadata": {},
     "output_type": "display_data"
    }
   ],
   "source": [
    "#  seaborn.barplot(x=None, y=None, hue=None, data=None, order=None, hue_order=None, \n",
    "#  estimator=<function mean>, ci=95, n_boot=1000, units=None, orient=None, color=None,\n",
    "#  palette=None, saturation=0.75, errcolor='.26', errwidth=None, capsize=None, ax=None, **kwargs)¶\n",
    "f, ax1 = plt.subplots(1,1, figsize=(15,9))\n",
    "\n",
    "ax1.set_yticks([-1*np.log(x) for x in range(10,1,-1)]+[0]+[np.log(y) for y in range(2,11)])\n",
    "    \n",
    "ax1.set_yticklabels(range(10,1,-1)+['1']+range(2,11))\n",
    "\n",
    "\n",
    "ax1.set_ylabel('')\n",
    "\n",
    "label_font_size = 14\n",
    "value_font_size=11\n",
    "rotate =60\n",
    "n_words = 20\n",
    "\n",
    "color_adjustment = np.log(3)\n",
    "val_series = average_coef.sort_values('Trump', ascending=False)['Trump']\n",
    "vals = val_series[:n_words].append(val_series[-n_words:])\n",
    "vals = np.log(vals)\n",
    "\n",
    "# minimum=abs(min(vals))\n",
    "maximum=max(vals)\n",
    "minimum=maximum\n",
    "blue=[0,.1,.8]\n",
    "red = [.8,.1,0]\n",
    "white = [1,1,1]\n",
    "\n",
    "colors = [color_map(-(value+color_adjustment)/(minimum-color_adjustment), blue, white) if value < 0 else color_map((value-color_adjustment)/(maximum-color_adjustment), red, white) for value in vals]\n",
    "\n",
    "sns.barplot(y=vals,\n",
    "            x=vals.index, ax=ax1,\n",
    "            palette=colors, \n",
    "#             color=colors,\n",
    "            edgecolor='black')\n",
    "\n",
    "ax1.set_xticks([])\n",
    "ax1.set_xlabel('')\n",
    "ax1.set_title(\"Top \"+str(n_words)+\" Words/Phrases that Multiply the Predicted Odds\\nClinton or Trump was the Speaker\\n\", fontsize=28, color=[.25,.25,.25])\n",
    "\n",
    "\n",
    "labels = [x[0].upper()+x[1:] for x in vals.sort_values(ascending=False).index.values]\n",
    "\n",
    "for i, patch in enumerate(ax1.patches):\n",
    "    height = patch.get_height()\n",
    "    if patch.get_y() < 0:\n",
    "#         y = patch.get_y() -.5\n",
    "        if height > np.log(6): \n",
    "            color = 'white'\n",
    "        else:\n",
    "            color = 'black'\n",
    "\n",
    "        ax1.text(patch.get_x()+.1, .1, '%s'%(labels[i]), color=[.1,.1,.1], va='bottom', ha='left', rotation=rotate, fontsize=label_font_size)\n",
    "        ax1.text(patch.get_x()+.15, patch.get_y()+.15, '%1.2f'%(np.e**abs(vals[i])), color=color, rotation=90, va='bottom', fontsize=value_font_size)\n",
    "    else:\n",
    "        if height > np.log(7): \n",
    "            color = 'white'\n",
    "        else:\n",
    "            color = 'black'\n",
    "        ax1.text(patch.get_x()+.7, -.05, '%s'%(labels[i]), color=[.1,.1,.1], ha='right', va='top', rotation=rotate, fontsize=label_font_size)\n",
    "        ax1.text(patch.get_x()+.15, patch.get_y()+height-.3, '%1.2f'%(np.e**abs(vals[i])), color=color, rotation = 90, va='bottom', fontsize=value_font_size)\n",
    "\n",
    "            \n",
    "f.text(.95, .95, 'Jesse Galef', color=[.2,.2,.2], fontsize=16, alpha=.8, ha='right', weight='bold', variant='small-caps')\n",
    "\n",
    "ax1.set_ylim([-np.log(14), np.log(14)])\n",
    "\n",
    "# ax1.yaxis.tick_right()\n",
    "# ax1.yaxis.set_ticks_position('both')\n",
    "\n",
    "for i, ygrid in enumerate(ax1.get_ygridlines()):\n",
    "#     print ygrid.get_ydata(orig=False)[0], np.log(2)\n",
    "#     if abs(ygrid.get_ydata(orig=True)[0]) == np.log(2):\n",
    "    if i==8 or i==10:\n",
    "        ygrid.set_xdata([0,0])\n",
    "\n",
    "plt.grid(which='major', color=[.7,.7,.7], alpha=.7)\n",
    "plt.margins(.3)\n",
    "plt.plot()\n",
    "f.tight_layout(rect=[0,0,.95,.95])\n",
    "\n"
   ]
  },
  {
   "cell_type": "code",
   "execution_count": 262,
   "metadata": {
    "collapsed": false
   },
   "outputs": [
    {
     "name": "stdout",
     "output_type": "stream",
     "text": [
      "Clinton    1.258961\n",
      "Trump      0.794306\n",
      "Name: believe, dtype: float64\n",
      "Clinton    0.261278\n",
      "Trump      3.827339\n",
      "Name: believe me, dtype: float64\n",
      "Clinton    0.183760\n",
      "Trump      5.441873\n",
      "Name: obama, dtype: float64\n",
      "Clinton    4.067574\n",
      "Trump      0.245847\n",
      "Name: president obama, dtype: float64\n",
      "Clinton    0.264498\n",
      "Trump      3.780746\n",
      "Name: bernie, dtype: float64\n",
      "Clinton    3.136176\n",
      "Trump      0.318860\n",
      "Name: senator sanders, dtype: float64\n",
      "Clinton    4.090422\n",
      "Trump      0.244474\n",
      "Name: muslims, dtype: float64\n",
      "Clinton    0.512385\n",
      "Trump      1.951659\n",
      "Name: the muslims, dtype: float64\n"
     ]
    }
   ],
   "source": [
    "print average_coef.loc['believe']\n",
    "print average_coef.loc['believe me']\n",
    "print average_coef.loc['obama']\n",
    "print average_coef.loc['president obama']\n",
    "print average_coef.loc['bernie']\n",
    "print average_coef.loc['senator sanders']\n",
    "print average_coef.loc['muslims']\n",
    "print average_coef.loc['the muslims']\n"
   ]
  },
  {
   "cell_type": "code",
   "execution_count": 136,
   "metadata": {
    "collapsed": false
   },
   "outputs": [
    {
     "name": "stdout",
     "output_type": "stream",
     "text": [
      "Clinton    1.425482\n",
      "Trump      0.701517\n",
      "Name: avg_word_length, dtype: float64\n",
      "Clinton    0.974756\n",
      "Trump      1.025898\n",
      "Name: num_words, dtype: float64\n",
      "Clinton    1.245030\n",
      "Trump      0.803193\n",
      "Name: num_words_sqrt, dtype: float64\n"
     ]
    }
   ],
   "source": [
    "print average_coef.loc['avg_word_length']\n",
    "print average_coef.loc['num_words']\n",
    "print average_coef.loc['num_words_sqrt']\n"
   ]
  },
  {
   "cell_type": "code",
   "execution_count": 263,
   "metadata": {
    "collapsed": false
   },
   "outputs": [
    {
     "data": {
      "text/html": [
       "<div>\n",
       "<table border=\"1\" class=\"dataframe\">\n",
       "  <thead>\n",
       "    <tr style=\"text-align: right;\">\n",
       "      <th></th>\n",
       "      <th>Clinton</th>\n",
       "      <th>Trump</th>\n",
       "    </tr>\n",
       "  </thead>\n",
       "  <tbody>\n",
       "    <tr>\n",
       "      <th>immigrants</th>\n",
       "      <td>3.792525</td>\n",
       "      <td>0.263677</td>\n",
       "    </tr>\n",
       "    <tr>\n",
       "      <th>immigration reform</th>\n",
       "      <td>3.723644</td>\n",
       "      <td>0.268554</td>\n",
       "    </tr>\n",
       "    <tr>\n",
       "      <th>the immigration</th>\n",
       "      <td>3.517669</td>\n",
       "      <td>0.284279</td>\n",
       "    </tr>\n",
       "    <tr>\n",
       "      <th>immigration system</th>\n",
       "      <td>1.797945</td>\n",
       "      <td>0.556191</td>\n",
       "    </tr>\n",
       "    <tr>\n",
       "      <th>immigrant</th>\n",
       "      <td>1.442088</td>\n",
       "      <td>0.693439</td>\n",
       "    </tr>\n",
       "    <tr>\n",
       "      <th>the immigration system</th>\n",
       "      <td>1.123321</td>\n",
       "      <td>0.890218</td>\n",
       "    </tr>\n",
       "    <tr>\n",
       "      <th>illegal immigrant</th>\n",
       "      <td>0.513255</td>\n",
       "      <td>1.948351</td>\n",
       "    </tr>\n",
       "    <tr>\n",
       "      <th>immigration policies</th>\n",
       "      <td>0.424657</td>\n",
       "      <td>2.354841</td>\n",
       "    </tr>\n",
       "    <tr>\n",
       "      <th>immigration</th>\n",
       "      <td>0.294547</td>\n",
       "      <td>3.395039</td>\n",
       "    </tr>\n",
       "    <tr>\n",
       "      <th>illegal immigrants</th>\n",
       "      <td>0.226129</td>\n",
       "      <td>4.422264</td>\n",
       "    </tr>\n",
       "  </tbody>\n",
       "</table>\n",
       "</div>"
      ],
      "text/plain": [
       "                         Clinton     Trump\n",
       "immigrants              3.792525  0.263677\n",
       "immigration reform      3.723644  0.268554\n",
       "the immigration         3.517669  0.284279\n",
       "immigration system      1.797945  0.556191\n",
       "immigrant               1.442088  0.693439\n",
       "the immigration system  1.123321  0.890218\n",
       "illegal immigrant       0.513255  1.948351\n",
       "immigration policies    0.424657  2.354841\n",
       "immigration             0.294547  3.395039\n",
       "illegal immigrants      0.226129  4.422264"
      ]
     },
     "execution_count": 263,
     "metadata": {},
     "output_type": "execute_result"
    }
   ],
   "source": [
    "word = 'immig'\n",
    "# word_in_term = [word in re.findall(regex_token_pattern,term) for term in average_coef.index]\n",
    "word_in_term = [word in term for term in average_coef.index]\n",
    "\n",
    "average_coef[word_in_term]"
   ]
  },
  {
   "cell_type": "code",
   "execution_count": null,
   "metadata": {
    "collapsed": true
   },
   "outputs": [],
   "source": []
  }
 ],
 "metadata": {
  "celltoolbar": "Raw Cell Format",
  "kernelspec": {
   "display_name": "Python 2",
   "language": "python",
   "name": "python2"
  },
  "language_info": {
   "codemirror_mode": {
    "name": "ipython",
    "version": 2
   },
   "file_extension": ".py",
   "mimetype": "text/x-python",
   "name": "python",
   "nbconvert_exporter": "python",
   "pygments_lexer": "ipython2",
   "version": "2.7.11"
  }
 },
 "nbformat": 4,
 "nbformat_minor": 0
}
