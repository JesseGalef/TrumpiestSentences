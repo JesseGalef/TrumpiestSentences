{
 "cells": [
  {
   "cell_type": "code",
   "execution_count": 2,
   "metadata": {
    "collapsed": true
   },
   "outputs": [],
   "source": [
    "# Jesse Galef\n",
    "# Using data scraped from C-SPAN's uncorrected closed caption transcripts\n"
   ]
  },
  {
   "cell_type": "code",
   "execution_count": 15,
   "metadata": {
    "collapsed": true
   },
   "outputs": [],
   "source": [
    "import pandas as pd\n",
    "import numpy as np"
   ]
  },
  {
   "cell_type": "code",
   "execution_count": 16,
   "metadata": {
    "collapsed": true
   },
   "outputs": [],
   "source": [
    "import re"
   ]
  },
  {
   "cell_type": "code",
   "execution_count": 17,
   "metadata": {
    "collapsed": true
   },
   "outputs": [],
   "source": [
    "from bs4 import BeautifulSoup\n",
    "import urllib"
   ]
  },
  {
   "cell_type": "code",
   "execution_count": 18,
   "metadata": {
    "collapsed": true
   },
   "outputs": [],
   "source": [
    "from scipy.sparse import csr_matrix, hstack, diags\n",
    "from scipy.stats import skew, kurtosis"
   ]
  },
  {
   "cell_type": "code",
   "execution_count": 2,
   "metadata": {
    "collapsed": false
   },
   "outputs": [],
   "source": [
    "from sklearn.feature_extraction.text import CountVectorizer\n",
    "from sklearn.linear_model import LogisticRegression\n",
    "from sklearn.metrics import roc_curve, roc_auc_score\n",
    "from sklearn.grid_search import GridSearchCV \n",
    "from sklearn.cross_validation import StratifiedKFold\n",
    "from sklearn.naive_bayes import MultinomialNB\n",
    "\n",
    "from sklearn.pipeline import Pipeline, FeatureUnion\n",
    "from sklearn.base import TransformerMixin, BaseEstimator\n",
    "from sklearn.feature_selection import SelectPercentile, SelectFromModel, SelectKBest, chi2, f_classif\n"
   ]
  },
  {
   "cell_type": "code",
   "execution_count": 3,
   "metadata": {
    "collapsed": false
   },
   "outputs": [],
   "source": [
    "import matplotlib.pyplot as plt\n",
    "import seaborn as sns\n",
    "%matplotlib inline\n",
    "plt.style.use('fivethirtyeight')"
   ]
  },
  {
   "cell_type": "code",
   "execution_count": 4,
   "metadata": {
    "collapsed": false
   },
   "outputs": [],
   "source": [
    "# from spacy.en import English\n",
    "# from spacy import attrs\n",
    "# nlp_toolkit = English()"
   ]
  },
  {
   "cell_type": "code",
   "execution_count": 5,
   "metadata": {
    "collapsed": true
   },
   "outputs": [],
   "source": [
    "from nltk.tokenize import sent_tokenize, word_tokenize\n",
    "# NLTK's sent_tokenize looks more accurate than Spacy's, and I only need to run it once\n",
    "from nltk.corpus import stopwords\n",
    "stops = list(stopwords.words('english'))"
   ]
  },
  {
   "cell_type": "code",
   "execution_count": 6,
   "metadata": {
    "collapsed": false
   },
   "outputs": [],
   "source": [
    "from textblob import TextBlob\n",
    "# "
   ]
  },
  {
   "cell_type": "markdown",
   "metadata": {},
   "source": [
    "# Common Words Lists"
   ]
  },
  {
   "cell_type": "code",
   "execution_count": 7,
   "metadata": {
    "collapsed": false
   },
   "outputs": [],
   "source": [
    "conjunctions = [u'and',u'that',u'but',u'or',u'as',u'if',u'when',u'than',u'because',\n",
    "                u'while',u'where',u'after',u'so',u'though',u'since',u'until',u'whether',\n",
    "                u'before',u'although',u'nor',u'like',u'once',u'unless',u'now',u'except']"
   ]
  },
  {
   "cell_type": "code",
   "execution_count": 8,
   "metadata": {
    "collapsed": true
   },
   "outputs": [],
   "source": [
    "pronouns = [u\"all\", u\"another\", u\"any\", u\"anybody\", u\"anyone\", u\"anything\", u\"both\", u\"each\", u\"each other\",\n",
    "            u\"either\", u\"everybody\", u\"everyone\", u\"everything\", u\"few\", u\"he\", u\"her\", u\"hers\",\n",
    "            u\"herself\", u\"him\", u\"himself\", u\"his\", u\"i\", u\"it\", u\"its\", u\"itself\", u\"little\",\n",
    "            u\"many\", u\"me\", u\"mine\", u\"more\", u\"most\", u\"much\", u\"my\", u\"myself\", u\"neither\", \n",
    "            u\"no one\", u\"nobody\", u\"none\", u\"nothing\", u\"one\", u\"one another\", u\"other\", u\"others\",\n",
    "            u\"our\", u\"ours\", u\"ourselves\", u\"several\", u\"she\", u\"some\", u\"somebody\", u\"someone\",\n",
    "            u\"something\", u\"that\", u\"their\", u\"theirs\", u\"them\", u\"themselves\", u\"these\", u\"they\",\n",
    "            u\"this\", u\"those\", u\"us\", u\"we\", u\"what\", u\"whatever\", u\"which\", u\"whichever\", u\"who\",\n",
    "            u\"whoever\", u\"whom\", u\"whomever\", u\"whose\", u\"you\", u\"your\", u\"yours\", u\"yourself\", u\"yourselves\"]"
   ]
  },
  {
   "cell_type": "markdown",
   "metadata": {},
   "source": [
    "# Transformer classes and Functions"
   ]
  },
  {
   "cell_type": "code",
   "execution_count": 9,
   "metadata": {
    "collapsed": true
   },
   "outputs": [],
   "source": [
    "\n",
    "def pipeline_features(step):\n",
    "    # Passed a pipeline or pipeline step, recursively checks each named \n",
    "    # step and builds a list of features.\n",
    "    # This returns the list in the same order that the estimator uses\n",
    "    # In retrospect, this is only useful when the pipeline is feature union, and \n",
    "    # took extra work to handle any true pipelines with one component feeding into another\n",
    "    \n",
    "    features = []\n",
    "    if type(step)==Pipeline:\n",
    "        for named_step in step.named_steps:\n",
    "            features = features + pipeline_features(step.named_steps[named_step])\n",
    "    elif type(step) == FeatureUnion:\n",
    "        for transformer in step.transformer_list:\n",
    "            features = features + pipeline_features(transformer[1])\n",
    "    elif (type(step) == LogisticRegression or (type(step) == MultinomialNB)):\n",
    "        features = []\n",
    "    else:\n",
    "        features = step.get_feature_names()\n",
    "    return features\n"
   ]
  },
  {
   "cell_type": "code",
   "execution_count": 10,
   "metadata": {
    "collapsed": true
   },
   "outputs": [],
   "source": [
    "def pipeline_coef_df(pipeline):\n",
    "    # Passed a pipeline with estimator, creates a DataFrame of the coeficients for each class\n",
    "    \n",
    "    feature_list = pipeline_features(pipeline)\n",
    "    if len(pipeline.named_steps['classifier'].classes_) == 2:\n",
    "        coef_df = pd.DataFrame(pipeline.named_steps['classifier'].coef_, \n",
    "                           index = [pipeline.named_steps['classifier'].classes_[1]],\n",
    "                           columns=feature_list).transpose()\n",
    "        coef_df[pipeline.named_steps['classifier'].classes_[0]] = -coef_df[pipeline.named_steps['classifier'].classes_[1]]\n",
    "    else:\n",
    "        coef_df = pd.DataFrame(pipeline.named_steps['classifier'].coef_, \n",
    "                           index = pipeline.named_steps['classifier'].classes_, \n",
    "                           columns=feature_list).transpose()\n",
    "    return np.e**(coef_df) # To get the odds ratios rather than the log odds\n"
   ]
  },
  {
   "cell_type": "code",
   "execution_count": 11,
   "metadata": {
    "collapsed": true
   },
   "outputs": [],
   "source": [
    "class word_length(TransformerMixin, BaseEstimator):\n",
    "    # very quick calculation of the number ad distribution of words of different lengths\n",
    "    \n",
    "    def __init__(self):\n",
    "        pass\n",
    "\n",
    "    def fit(self, X, y=None, **fit_params):\n",
    "        return self\n",
    "    \n",
    "    def transform(self, X, **transform_params):\n",
    "        info = []\n",
    "        for sentence in X:\n",
    "            row = {}\n",
    "            tokens = [len(t) for t in re.findall(regex_token_pattern, sentence)]\n",
    "            row['avg_word_length'] = sum(tokens)/float(len(tokens))\n",
    "            row['num_words'] = len(tokens)\n",
    "            row['num_words_sqrt'] = len(tokens)**.5\n",
    "            info.append(row)\n",
    "        return pd.DataFrame(info)\n",
    "    \n",
    "    def get_feature_names(self):\n",
    "        return ['avg_word_length', 'num_words', 'num_words_sqrt']\n",
    "    "
   ]
  },
  {
   "cell_type": "code",
   "execution_count": 12,
   "metadata": {
    "collapsed": false
   },
   "outputs": [],
   "source": [
    "class best_vectorizer(TransformerMixin, BaseEstimator):\n",
    "    # Transformer that takes a vectorizer and sklearn selector (like SelectKBest or SelectPercentile)\n",
    "    # to find the n best features\n",
    "    \n",
    "    def __init__(self, vectorizer, selector, name):\n",
    "        self.vectorizer=vectorizer\n",
    "        self.selector=selector\n",
    "        self.name = name\n",
    "    \n",
    "    def fit(self, X, y, **fit_params):\n",
    "        vectors = self.vectorizer.fit_transform(X)\n",
    "        self.selector.fit(vectors, y)\n",
    "        return self\n",
    "\n",
    "    def transform(self, X, **transform_params):\n",
    "        return self.selector.transform(self.vectorizer.transform(X))\n",
    "    \n",
    "    def get_feature_names(self):\n",
    "        return [self.name+feature for feature, used in zip(self.vectorizer.get_feature_names(), self.selector.get_support()) if used==True]\n",
    "    \n",
    "    "
   ]
  },
  {
   "cell_type": "code",
   "execution_count": 13,
   "metadata": {
    "collapsed": true
   },
   "outputs": [],
   "source": [
    "\n",
    "\n",
    "class sentiments(TransformerMixin, BaseEstimator):\n",
    "    # Uses the Textblob library to evaluate the sentiment polarity & subjectivity of each sentence,\n",
    "    # and returns the result of the passed vectorizer fit/transform multipied by polarity and subjectivity\n",
    "    # For example, if a sentence is -.8 polarity and uses the term 'Obama', it will return \n",
    "    # -.8 as the value of polarity_obama\n",
    "    \n",
    "    # Returns csr sparse matrix\n",
    "    \n",
    "    def __init__(self, vectorizer):\n",
    "        self.vectorizer = vectorizer\n",
    "    \n",
    "    def fit(self, X, y=None):\n",
    "        self.vectorizer.fit(X)\n",
    "        return self\n",
    "    \n",
    "    def transform(self, X):\n",
    "        sent_vectors = self.vectorizer.transform(X)\n",
    "        polarities = []\n",
    "        subjectivities = []\n",
    "        for sentence in X:\n",
    "            polarity, subjectivity = TextBlob(sentence).sentiment\n",
    "            polarities.append(polarity)\n",
    "            subjectivities.append(subjectivity)\n",
    "            \n",
    "        p_diag = diags(polarities,0)\n",
    "        s_diag = diags(subjectivities,0)\n",
    "        polarity_vectors = p_diag.dot(sent_vectors)\n",
    "        subjectivity_vectors = s_diag.dot(sent_vectors)\n",
    "        return hstack([polarity_vectors,subjectivity_vectors])\n",
    "    \n",
    "    def get_feature_names(self):\n",
    "        return ['polarity_'+i for i in self.vectorizer.get_feature_names()]+['subjectivity_'+i for i in self.vectorizer.get_feature_names()]\n"
   ]
  },
  {
   "cell_type": "markdown",
   "metadata": {},
   "source": [
    "# Start reading data"
   ]
  },
  {
   "cell_type": "code",
   "execution_count": 19,
   "metadata": {
    "collapsed": false
   },
   "outputs": [],
   "source": [
    "republicans = ['Trump']#,'Cruz','Kasich','Rubio','Bush']\n",
    "democrats = ['Clinton']#,'Sanders']\n",
    "# Most of the infrastructure is here to include more than two candidates\n",
    "\n",
    "long_df = pd.DataFrame()\n",
    "for candidate in republicans+democrats:\n",
    "    long_df = long_df.append(pd.read_csv(candidate+\"_transcript_df.csv\",index_col=0),ignore_index=True)"
   ]
  },
  {
   "cell_type": "code",
   "execution_count": 20,
   "metadata": {
    "collapsed": false
   },
   "outputs": [
    {
     "data": {
      "text/plain": [
       "(215, 6)"
      ]
     },
     "execution_count": 20,
     "metadata": {},
     "output_type": "execute_result"
    }
   ],
   "source": [
    "long_df.shape"
   ]
  },
  {
   "cell_type": "code",
   "execution_count": 21,
   "metadata": {
    "collapsed": false
   },
   "outputs": [
    {
     "data": {
      "text/plain": [
       "Trump      112\n",
       "Clinton    103\n",
       "Name: speaker, dtype: int64"
      ]
     },
     "execution_count": 21,
     "metadata": {},
     "output_type": "execute_result"
    }
   ],
   "source": [
    "long_df.speaker.value_counts()"
   ]
  },
  {
   "cell_type": "code",
   "execution_count": 22,
   "metadata": {
    "collapsed": true
   },
   "outputs": [],
   "source": [
    "regex_token_pattern = \"\\\\b[\\\\w\\']+\\\\b\""
   ]
  },
  {
   "cell_type": "code",
   "execution_count": 23,
   "metadata": {
    "collapsed": false
   },
   "outputs": [
    {
     "name": "stdout",
     "output_type": "stream",
     "text": [
      "CPU times: user 10 s, sys: 218 ms, total: 10.2 s\n",
      "Wall time: 10.2 s\n"
     ]
    }
   ],
   "source": [
    "%%time\n",
    "sentence_list = []\n",
    "for idx, speech in long_df.iterrows():\n",
    "    raw = unicode(speech.text,errors='ignore').lower().replace('\\r','').replace('  ',' ').replace('>','').replace('w3','').replace(' v ','')\n",
    "    #Fixing a few known glitches in the C-SPAN transcribing service\n",
    "    sentences = sent_tokenize(raw)\n",
    "    for sentence in sentences:\n",
    "        sent_info = {}\n",
    "        sent_info['sentence'] = sentence\n",
    "        sent_info['speaker'] = speech.speaker\n",
    "        sent_info['date'] = speech.date\n",
    "        sent_info['title'] = speech.title\n",
    "        sent_info['speech_idx'] = idx\n",
    "        sent_info['tokens'] = len(re.findall(regex_token_pattern, sentence))\n",
    "        sentence_list.append(sent_info)\n",
    "raw_df = pd.DataFrame(sentence_list)"
   ]
  },
  {
   "cell_type": "code",
   "execution_count": 24,
   "metadata": {
    "collapsed": false
   },
   "outputs": [
    {
     "data": {
      "text/plain": [
       "Trump      47110\n",
       "Clinton    20041\n",
       "Name: speaker, dtype: int64"
      ]
     },
     "execution_count": 24,
     "metadata": {},
     "output_type": "execute_result"
    }
   ],
   "source": [
    "raw_df.speaker.value_counts()"
   ]
  },
  {
   "cell_type": "code",
   "execution_count": 25,
   "metadata": {
    "collapsed": false
   },
   "outputs": [
    {
     "data": {
      "text/plain": [
       "<matplotlib.axes._subplots.AxesSubplot at 0x10d698350>"
      ]
     },
     "execution_count": 25,
     "metadata": {},
     "output_type": "execute_result"
    },
    {
     "data": {
      "image/png": "[encoded data removed]",
      "text/plain": [
       "<matplotlib.figure.Figure at 0x11a0b8590>"
      ]
     },
     "metadata": {},
     "output_type": "display_data"
    }
   ],
   "source": [
    "raw_df[raw_df.tokens <=50].tokens.hist(bins=50)\n",
    "# plt.xlim([0,50])"
   ]
  },
  {
   "cell_type": "code",
   "execution_count": 26,
   "metadata": {
    "collapsed": true
   },
   "outputs": [],
   "source": [
    "declarations = {}\n",
    "declarations['Trump'] = '2015-06-16'\n",
    "declarations['Clinton'] = '2015-04-11'\n",
    "# Although C-SPAN has the campaign tag, I want to make sure only to include\n",
    "# events from after the candidates officially declared they were running for President"
   ]
  },
  {
   "cell_type": "code",
   "execution_count": 27,
   "metadata": {
    "collapsed": false
   },
   "outputs": [
    {
     "name": "stdout",
     "output_type": "stream",
     "text": [
      "0 1.0\n",
      "1 0.999508570237\n",
      "2 0.982993551846\n",
      "3 0.947282989084\n",
      "4 0.892600259118\n",
      "5 0.813867254397\n",
      "6 0.729371118822\n",
      "7 0.650295602448\n",
      "8 0.577176810472\n",
      "9 0.512278298164\n",
      "10 0.458474185046\n",
      "11 0.408616401841\n",
      "12 0.366710845706\n",
      "13 0.328915429405\n",
      "14 0.29645128144\n",
      "15 0.26540185552\n",
      "16 0.238507244866\n",
      "17 0.213876189483\n",
      "18 0.192029902756\n",
      "19 0.172715223898\n"
     ]
    }
   ],
   "source": [
    "\n",
    "for i in range(20):\n",
    "    print i, len(raw_df[raw_df.tokens>=i])/float(len(raw_df))"
   ]
  },
  {
   "cell_type": "markdown",
   "metadata": {},
   "source": [
    "In order to avoid sentences like \"Thank you.\" which are indistinguishable, I'm only using\n",
    "sentences with a certain number of tokens. \n",
    "Sometimes the uncorrected transcripts include long run-on sentences and song lyrics, so I'm also ignoring any sentences with more than 150 words."
   ]
  },
  {
   "cell_type": "code",
   "execution_count": 28,
   "metadata": {
    "collapsed": false
   },
   "outputs": [],
   "source": [
    "min_length = 9\n",
    "max_length = 150\n",
    "df = raw_df[raw_df.tokens >= min_length]\n",
    "df = df[df.tokens <= max_length]\n",
    "post_dec = [date > dec for date,dec in zip(df.date, [declarations[candidate] for candidate in df.speaker])]\n",
    "df = df[post_dec]"
   ]
  },
  {
   "cell_type": "code",
   "execution_count": 29,
   "metadata": {
    "collapsed": false
   },
   "outputs": [
    {
     "data": {
      "text/plain": [
       "Trump      20446\n",
       "Clinton    13662\n",
       "Name: speaker, dtype: int64"
      ]
     },
     "execution_count": 29,
     "metadata": {},
     "output_type": "execute_result"
    }
   ],
   "source": [
    "df.speaker.value_counts()"
   ]
  },
  {
   "cell_type": "code",
   "execution_count": 30,
   "metadata": {
    "collapsed": false
   },
   "outputs": [
    {
     "data": {
      "text/plain": [
       "0.59944880966342207"
      ]
     },
     "execution_count": 30,
     "metadata": {},
     "output_type": "execute_result"
    }
   ],
   "source": [
    "max(df.speaker.value_counts())/float(len(df))"
   ]
  },
  {
   "cell_type": "markdown",
   "metadata": {},
   "source": [
    "# Data In, configure Pipeline"
   ]
  },
  {
   "cell_type": "code",
   "execution_count": 31,
   "metadata": {
    "collapsed": false
   },
   "outputs": [],
   "source": [
    "\n",
    "vectorizer = CountVectorizer(\n",
    "                         ngram_range=(1,3), \n",
    "                         decode_error='ignore',\n",
    "                         binary=True,\n",
    "                        token_pattern = regex_token_pattern,\n",
    "                            )\n",
    "\n",
    "    "
   ]
  },
  {
   "cell_type": "code",
   "execution_count": 32,
   "metadata": {
    "collapsed": false
   },
   "outputs": [],
   "source": [
    "pipeline = Pipeline([\n",
    "  ('features', FeatureUnion([\n",
    "#                     ('word_lengths', word_length()),\n",
    "                    ('top_words', best_vectorizer(vectorizer, selector=SelectFromModel(estimator=LogisticRegression(penalty='l1', C=25, class_weight='balanced')), name='')),\n",
    "                ])),\n",
    "    ('classifier', LogisticRegression(C=1,class_weight = 'balanced', fit_intercept=False))]\n",
    ")\n",
    "# Because I ended up using only one transformer/feature, a lot of the infrastructure seems unnecessary\n",
    "# but if/when I want to add more complexity, it's there to be used."
   ]
  },
  {
   "cell_type": "markdown",
   "metadata": {},
   "source": [
    "# Cross Validate to set hyperparameters"
   ]
  },
  {
   "cell_type": "code",
   "execution_count": 33,
   "metadata": {
    "collapsed": true
   },
   "outputs": [],
   "source": [
    "which_candidates = ['Clinton','Trump']"
   ]
  },
  {
   "cell_type": "code",
   "execution_count": 34,
   "metadata": {
    "collapsed": true
   },
   "outputs": [],
   "source": [
    "from sklearn.cross_validation import cross_val_score\n",
    "import time"
   ]
  },
  {
   "cell_type": "code",
   "execution_count": 222,
   "metadata": {
    "collapsed": true
   },
   "outputs": [],
   "source": [
    "#  class sklearn.linear_model.LogisticRegression(penalty='l2', dual=False, \n",
    "# tol=0.0001, C=1.0, fit_intercept=True, intercept_scaling=1, class_weight=None, \n",
    "# random_state=None, solver='liblinear', max_iter=100, multi_class='ovr', verbose=0, \n",
    "# warm_start=False, n_jobs=1)[source]"
   ]
  },
  {
   "cell_type": "code",
   "execution_count": 35,
   "metadata": {
    "collapsed": false,
    "scrolled": true
   },
   "outputs": [
    {
     "name": "stdout",
     "output_type": "stream",
     "text": [
      "Fitting 3 folds for each of 12 candidates, totalling 36 fits\n",
      "[CV] classifier__C=0.3, features__top_words__selector=SelectFromModel(estimator=LogisticRegression(C=3, class_weight=None, dual=False, fit_intercept=True,\n",
      "          intercept_scaling=1, max_iter=100, multi_class='ovr', n_jobs=1,\n",
      "          penalty='l1', random_state=None, solver='liblinear', tol=0.0001,\n",
      "          verbose=0, warm_start=False),\n",
      "        prefit=False, threshold=None) \n",
      "[CV]  classifier__C=0.3, features__top_words__selector=SelectFromModel(estimator=LogisticRegression(C=3, class_weight=None, dual=False, fit_intercept=True,\n",
      "          intercept_scaling=1, max_iter=100, multi_class='ovr', n_jobs=1,\n",
      "          penalty='l1', random_state=None, solver='liblinear', tol=0.0001,\n",
      "          verbose=0, warm_start=False),\n",
      "        prefit=False, threshold=None) -  11.1s\n",
      "[CV] classifier__C=0.3, features__top_words__selector=SelectFromModel(estimator=LogisticRegression(C=3, class_weight=None, dual=False, fit_intercept=True,\n",
      "          intercept_scaling=1, max_iter=100, multi_class='ovr', n_jobs=1,\n",
      "          penalty='l1', random_state=None, solver='liblinear', tol=0.0001,\n",
      "          verbose=0, warm_start=False),\n",
      "        prefit=False, threshold=None) \n",
      "[CV]  classifier__C=0.3, features__top_words__selector=SelectFromModel(estimator=LogisticRegression(C=3, class_weight=None, dual=False, fit_intercept=True,\n",
      "          intercept_scaling=1, max_iter=100, multi_class='ovr', n_jobs=1,\n",
      "          penalty='l1', random_state=None, solver='liblinear', tol=0.0001,\n",
      "          verbose=0, warm_start=False),\n",
      "        prefit=False, threshold=None) -  11.0s\n",
      "[CV] classifier__C=0.3, features__top_words__selector=SelectFromModel(estimator=LogisticRegression(C=3, class_weight=None, dual=False, fit_intercept=True,\n",
      "          intercept_scaling=1, max_iter=100, multi_class='ovr', n_jobs=1,\n",
      "          penalty='l1', random_state=None, solver='liblinear', tol=0.0001,\n",
      "          verbose=0, warm_start=False),\n",
      "        prefit=False, threshold=None) \n",
      "[CV]  classifier__C=0.3, features__top_words__selector=SelectFromModel(estimator=LogisticRegression(C=3, class_weight=None, dual=False, fit_intercept=True,\n",
      "          intercept_scaling=1, max_iter=100, multi_class='ovr', n_jobs=1,\n",
      "          penalty='l1', random_state=None, solver='liblinear', tol=0.0001,\n",
      "          verbose=0, warm_start=False),\n",
      "        prefit=False, threshold=None) -  11.5s\n",
      "[CV] classifier__C=0.3, features__top_words__selector=SelectFromModel(estimator=LogisticRegression(C=10, class_weight=None, dual=False, fit_intercept=True,\n",
      "          intercept_scaling=1, max_iter=100, multi_class='ovr', n_jobs=1,\n",
      "          penalty='l1', random_state=None, solver='liblinear', tol=0.0001,\n",
      "          verbose=0, warm_start=False),\n",
      "        prefit=False, threshold=None) \n",
      "[CV]  classifier__C=0.3, features__top_words__selector=SelectFromModel(estimator=LogisticRegression(C=10, class_weight=None, dual=False, fit_intercept=True,\n",
      "          intercept_scaling=1, max_iter=100, multi_class='ovr', n_jobs=1,\n",
      "          penalty='l1', random_state=None, solver='liblinear', tol=0.0001,\n",
      "          verbose=0, warm_start=False),\n",
      "        prefit=False, threshold=None) -  11.5s\n",
      "[CV] classifier__C=0.3, features__top_words__selector=SelectFromModel(estimator=LogisticRegression(C=10, class_weight=None, dual=False, fit_intercept=True,\n",
      "          intercept_scaling=1, max_iter=100, multi_class='ovr', n_jobs=1,\n",
      "          penalty='l1', random_state=None, solver='liblinear', tol=0.0001,\n",
      "          verbose=0, warm_start=False),\n",
      "        prefit=False, threshold=None) \n",
      "[CV]  classifier__C=0.3, features__top_words__selector=SelectFromModel(estimator=LogisticRegression(C=10, class_weight=None, dual=False, fit_intercept=True,\n",
      "          intercept_scaling=1, max_iter=100, multi_class='ovr', n_jobs=1,\n",
      "          penalty='l1', random_state=None, solver='liblinear', tol=0.0001,\n",
      "          verbose=0, warm_start=False),\n",
      "        prefit=False, threshold=None) -  12.1s\n",
      "[CV] classifier__C=0.3, features__top_words__selector=SelectFromModel(estimator=LogisticRegression(C=10, class_weight=None, dual=False, fit_intercept=True,\n",
      "          intercept_scaling=1, max_iter=100, multi_class='ovr', n_jobs=1,\n",
      "          penalty='l1', random_state=None, solver='liblinear', tol=0.0001,\n",
      "          verbose=0, warm_start=False),\n",
      "        prefit=False, threshold=None) \n",
      "[CV]  classifier__C=0.3, features__top_words__selector=SelectFromModel(estimator=LogisticRegression(C=10, class_weight=None, dual=False, fit_intercept=True,\n",
      "          intercept_scaling=1, max_iter=100, multi_class='ovr', n_jobs=1,\n",
      "          penalty='l1', random_state=None, solver='liblinear', tol=0.0001,\n",
      "          verbose=0, warm_start=False),\n",
      "        prefit=False, threshold=None) -  14.0s\n",
      "[CV] classifier__C=0.3, features__top_words__selector=SelectFromModel(estimator=LogisticRegression(C=30, class_weight=None, dual=False, fit_intercept=True,\n",
      "          intercept_scaling=1, max_iter=100, multi_class='ovr', n_jobs=1,\n",
      "          penalty='l1', random_state=None, solver='liblinear', tol=0.0001,\n",
      "          verbose=0, warm_start=False),\n",
      "        prefit=False, threshold=None) \n",
      "[CV]  classifier__C=0.3, features__top_words__selector=SelectFromModel(estimator=LogisticRegression(C=30, class_weight=None, dual=False, fit_intercept=True,\n",
      "          intercept_scaling=1, max_iter=100, multi_class='ovr', n_jobs=1,\n",
      "          penalty='l1', random_state=None, solver='liblinear', tol=0.0001,\n",
      "          verbose=0, warm_start=False),\n",
      "        prefit=False, threshold=None) -  11.3s\n",
      "[CV] classifier__C=0.3, features__top_words__selector=SelectFromModel(estimator=LogisticRegression(C=30, class_weight=None, dual=False, fit_intercept=True,\n",
      "          intercept_scaling=1, max_iter=100, multi_class='ovr', n_jobs=1,\n",
      "          penalty='l1', random_state=None, solver='liblinear', tol=0.0001,\n",
      "          verbose=0, warm_start=False),\n",
      "        prefit=False, threshold=None) \n",
      "[CV]  classifier__C=0.3, features__top_words__selector=SelectFromModel(estimator=LogisticRegression(C=30, class_weight=None, dual=False, fit_intercept=True,\n",
      "          intercept_scaling=1, max_iter=100, multi_class='ovr', n_jobs=1,\n",
      "          penalty='l1', random_state=None, solver='liblinear', tol=0.0001,\n",
      "          verbose=0, warm_start=False),\n",
      "        prefit=False, threshold=None) -  11.2s\n",
      "[CV] classifier__C=0.3, features__top_words__selector=SelectFromModel(estimator=LogisticRegression(C=30, class_weight=None, dual=False, fit_intercept=True,\n",
      "          intercept_scaling=1, max_iter=100, multi_class='ovr', n_jobs=1,\n",
      "          penalty='l1', random_state=None, solver='liblinear', tol=0.0001,\n",
      "          verbose=0, warm_start=False),\n",
      "        prefit=False, threshold=None) \n",
      "[CV]  classifier__C=0.3, features__top_words__selector=SelectFromModel(estimator=LogisticRegression(C=30, class_weight=None, dual=False, fit_intercept=True,\n",
      "          intercept_scaling=1, max_iter=100, multi_class='ovr', n_jobs=1,\n",
      "          penalty='l1', random_state=None, solver='liblinear', tol=0.0001,\n",
      "          verbose=0, warm_start=False),\n",
      "        prefit=False, threshold=None) -  12.1s\n",
      "[CV] classifier__C=1, features__top_words__selector=SelectFromModel(estimator=LogisticRegression(C=3, class_weight=None, dual=False, fit_intercept=True,\n",
      "          intercept_scaling=1, max_iter=100, multi_class='ovr', n_jobs=1,\n",
      "          penalty='l1', random_state=None, solver='liblinear', tol=0.0001,\n",
      "          verbose=0, warm_start=False),\n",
      "        prefit=False, threshold=None) \n",
      "[CV]  classifier__C=1, features__top_words__selector=SelectFromModel(estimator=LogisticRegression(C=3, class_weight=None, dual=False, fit_intercept=True,\n",
      "          intercept_scaling=1, max_iter=100, multi_class='ovr', n_jobs=1,\n",
      "          penalty='l1', random_state=None, solver='liblinear', tol=0.0001,\n",
      "          verbose=0, warm_start=False),\n",
      "        prefit=False, threshold=None) -  13.8s\n",
      "[CV] classifier__C=1, features__top_words__selector=SelectFromModel(estimator=LogisticRegression(C=3, class_weight=None, dual=False, fit_intercept=True,\n",
      "          intercept_scaling=1, max_iter=100, multi_class='ovr', n_jobs=1,\n",
      "          penalty='l1', random_state=None, solver='liblinear', tol=0.0001,\n",
      "          verbose=0, warm_start=False),\n",
      "        prefit=False, threshold=None) \n",
      "[CV]  classifier__C=1, features__top_words__selector=SelectFromModel(estimator=LogisticRegression(C=3, class_weight=None, dual=False, fit_intercept=True,\n",
      "          intercept_scaling=1, max_iter=100, multi_class='ovr', n_jobs=1,\n",
      "          penalty='l1', random_state=None, solver='liblinear', tol=0.0001,\n",
      "          verbose=0, warm_start=False),\n",
      "        prefit=False, threshold=None) -  16.0s\n",
      "[CV] classifier__C=1, features__top_words__selector=SelectFromModel(estimator=LogisticRegression(C=3, class_weight=None, dual=False, fit_intercept=True,\n",
      "          intercept_scaling=1, max_iter=100, multi_class='ovr', n_jobs=1,\n",
      "          penalty='l1', random_state=None, solver='liblinear', tol=0.0001,\n",
      "          verbose=0, warm_start=False),\n",
      "        prefit=False, threshold=None) \n",
      "[CV]  classifier__C=1, features__top_words__selector=SelectFromModel(estimator=LogisticRegression(C=3, class_weight=None, dual=False, fit_intercept=True,\n",
      "          intercept_scaling=1, max_iter=100, multi_class='ovr', n_jobs=1,\n",
      "          penalty='l1', random_state=None, solver='liblinear', tol=0.0001,\n",
      "          verbose=0, warm_start=False),\n",
      "        prefit=False, threshold=None) -  14.0s\n",
      "[CV] classifier__C=1, features__top_words__selector=SelectFromModel(estimator=LogisticRegression(C=10, class_weight=None, dual=False, fit_intercept=True,\n",
      "          intercept_scaling=1, max_iter=100, multi_class='ovr', n_jobs=1,\n",
      "          penalty='l1', random_state=None, solver='liblinear', tol=0.0001,\n",
      "          verbose=0, warm_start=False),\n",
      "        prefit=False, threshold=None) \n",
      "[CV]  classifier__C=1, features__top_words__selector=SelectFromModel(estimator=LogisticRegression(C=10, class_weight=None, dual=False, fit_intercept=True,\n",
      "          intercept_scaling=1, max_iter=100, multi_class='ovr', n_jobs=1,\n",
      "          penalty='l1', random_state=None, solver='liblinear', tol=0.0001,\n",
      "          verbose=0, warm_start=False),\n",
      "        prefit=False, threshold=None) -  12.2s\n",
      "[CV] classifier__C=1, features__top_words__selector=SelectFromModel(estimator=LogisticRegression(C=10, class_weight=None, dual=False, fit_intercept=True,\n",
      "          intercept_scaling=1, max_iter=100, multi_class='ovr', n_jobs=1,\n",
      "          penalty='l1', random_state=None, solver='liblinear', tol=0.0001,\n",
      "          verbose=0, warm_start=False),\n",
      "        prefit=False, threshold=None) \n",
      "[CV]  classifier__C=1, features__top_words__selector=SelectFromModel(estimator=LogisticRegression(C=10, class_weight=None, dual=False, fit_intercept=True,\n",
      "          intercept_scaling=1, max_iter=100, multi_class='ovr', n_jobs=1,\n",
      "          penalty='l1', random_state=None, solver='liblinear', tol=0.0001,\n",
      "          verbose=0, warm_start=False),\n",
      "        prefit=False, threshold=None) -  13.0s\n",
      "[CV] classifier__C=1, features__top_words__selector=SelectFromModel(estimator=LogisticRegression(C=10, class_weight=None, dual=False, fit_intercept=True,\n",
      "          intercept_scaling=1, max_iter=100, multi_class='ovr', n_jobs=1,\n",
      "          penalty='l1', random_state=None, solver='liblinear', tol=0.0001,\n",
      "          verbose=0, warm_start=False),\n",
      "        prefit=False, threshold=None) \n",
      "[CV]  classifier__C=1, features__top_words__selector=SelectFromModel(estimator=LogisticRegression(C=10, class_weight=None, dual=False, fit_intercept=True,\n",
      "          intercept_scaling=1, max_iter=100, multi_class='ovr', n_jobs=1,\n",
      "          penalty='l1', random_state=None, solver='liblinear', tol=0.0001,\n",
      "          verbose=0, warm_start=False),\n",
      "        prefit=False, threshold=None) -  14.8s\n",
      "[CV] classifier__C=1, features__top_words__selector=SelectFromModel(estimator=LogisticRegression(C=30, class_weight=None, dual=False, fit_intercept=True,\n",
      "          intercept_scaling=1, max_iter=100, multi_class='ovr', n_jobs=1,\n",
      "          penalty='l1', random_state=None, solver='liblinear', tol=0.0001,\n",
      "          verbose=0, warm_start=False),\n",
      "        prefit=False, threshold=None) \n",
      "[CV]  classifier__C=1, features__top_words__selector=SelectFromModel(estimator=LogisticRegression(C=30, class_weight=None, dual=False, fit_intercept=True,\n",
      "          intercept_scaling=1, max_iter=100, multi_class='ovr', n_jobs=1,\n",
      "          penalty='l1', random_state=None, solver='liblinear', tol=0.0001,\n",
      "          verbose=0, warm_start=False),\n",
      "        prefit=False, threshold=None) -  13.6s\n",
      "[CV] classifier__C=1, features__top_words__selector=SelectFromModel(estimator=LogisticRegression(C=30, class_weight=None, dual=False, fit_intercept=True,\n",
      "          intercept_scaling=1, max_iter=100, multi_class='ovr', n_jobs=1,\n",
      "          penalty='l1', random_state=None, solver='liblinear', tol=0.0001,\n",
      "          verbose=0, warm_start=False),\n",
      "        prefit=False, threshold=None) \n",
      "[CV]  classifier__C=1, features__top_words__selector=SelectFromModel(estimator=LogisticRegression(C=30, class_weight=None, dual=False, fit_intercept=True,\n",
      "          intercept_scaling=1, max_iter=100, multi_class='ovr', n_jobs=1,\n",
      "          penalty='l1', random_state=None, solver='liblinear', tol=0.0001,\n",
      "          verbose=0, warm_start=False),\n",
      "        prefit=False, threshold=None) -  14.1s\n",
      "[CV] classifier__C=1, features__top_words__selector=SelectFromModel(estimator=LogisticRegression(C=30, class_weight=None, dual=False, fit_intercept=True,\n",
      "          intercept_scaling=1, max_iter=100, multi_class='ovr', n_jobs=1,\n",
      "          penalty='l1', random_state=None, solver='liblinear', tol=0.0001,\n",
      "          verbose=0, warm_start=False),\n",
      "        prefit=False, threshold=None) \n",
      "[CV]  classifier__C=1, features__top_words__selector=SelectFromModel(estimator=LogisticRegression(C=30, class_weight=None, dual=False, fit_intercept=True,\n",
      "          intercept_scaling=1, max_iter=100, multi_class='ovr', n_jobs=1,\n",
      "          penalty='l1', random_state=None, solver='liblinear', tol=0.0001,\n",
      "          verbose=0, warm_start=False),\n",
      "        prefit=False, threshold=None) -  13.4s\n",
      "[CV] classifier__C=3, features__top_words__selector=SelectFromModel(estimator=LogisticRegression(C=3, class_weight=None, dual=False, fit_intercept=True,\n",
      "          intercept_scaling=1, max_iter=100, multi_class='ovr', n_jobs=1,\n",
      "          penalty='l1', random_state=None, solver='liblinear', tol=0.0001,\n",
      "          verbose=0, warm_start=False),\n",
      "        prefit=False, threshold=None) \n",
      "[CV]  classifier__C=3, features__top_words__selector=SelectFromModel(estimator=LogisticRegression(C=3, class_weight=None, dual=False, fit_intercept=True,\n",
      "          intercept_scaling=1, max_iter=100, multi_class='ovr', n_jobs=1,\n",
      "          penalty='l1', random_state=None, solver='liblinear', tol=0.0001,\n",
      "          verbose=0, warm_start=False),\n",
      "        prefit=False, threshold=None) -  12.8s\n",
      "[CV] classifier__C=3, features__top_words__selector=SelectFromModel(estimator=LogisticRegression(C=3, class_weight=None, dual=False, fit_intercept=True,\n",
      "          intercept_scaling=1, max_iter=100, multi_class='ovr', n_jobs=1,\n",
      "          penalty='l1', random_state=None, solver='liblinear', tol=0.0001,\n",
      "          verbose=0, warm_start=False),\n",
      "        prefit=False, threshold=None) \n",
      "[CV]  classifier__C=3, features__top_words__selector=SelectFromModel(estimator=LogisticRegression(C=3, class_weight=None, dual=False, fit_intercept=True,\n",
      "          intercept_scaling=1, max_iter=100, multi_class='ovr', n_jobs=1,\n",
      "          penalty='l1', random_state=None, solver='liblinear', tol=0.0001,\n",
      "          verbose=0, warm_start=False),\n",
      "        prefit=False, threshold=None) -  15.6s\n",
      "[CV] classifier__C=3, features__top_words__selector=SelectFromModel(estimator=LogisticRegression(C=3, class_weight=None, dual=False, fit_intercept=True,\n",
      "          intercept_scaling=1, max_iter=100, multi_class='ovr', n_jobs=1,\n",
      "          penalty='l1', random_state=None, solver='liblinear', tol=0.0001,\n",
      "          verbose=0, warm_start=False),\n",
      "        prefit=False, threshold=None) \n",
      "[CV]  classifier__C=3, features__top_words__selector=SelectFromModel(estimator=LogisticRegression(C=3, class_weight=None, dual=False, fit_intercept=True,\n",
      "          intercept_scaling=1, max_iter=100, multi_class='ovr', n_jobs=1,\n",
      "          penalty='l1', random_state=None, solver='liblinear', tol=0.0001,\n",
      "          verbose=0, warm_start=False),\n",
      "        prefit=False, threshold=None) -  18.2s\n",
      "[CV] classifier__C=3, features__top_words__selector=SelectFromModel(estimator=LogisticRegression(C=10, class_weight=None, dual=False, fit_intercept=True,\n",
      "          intercept_scaling=1, max_iter=100, multi_class='ovr', n_jobs=1,\n",
      "          penalty='l1', random_state=None, solver='liblinear', tol=0.0001,\n",
      "          verbose=0, warm_start=False),\n",
      "        prefit=False, threshold=None) \n",
      "[CV]  classifier__C=3, features__top_words__selector=SelectFromModel(estimator=LogisticRegression(C=10, class_weight=None, dual=False, fit_intercept=True,\n",
      "          intercept_scaling=1, max_iter=100, multi_class='ovr', n_jobs=1,\n",
      "          penalty='l1', random_state=None, solver='liblinear', tol=0.0001,\n",
      "          verbose=0, warm_start=False),\n",
      "        prefit=False, threshold=None) -  16.6s\n",
      "[CV] classifier__C=3, features__top_words__selector=SelectFromModel(estimator=LogisticRegression(C=10, class_weight=None, dual=False, fit_intercept=True,\n",
      "          intercept_scaling=1, max_iter=100, multi_class='ovr', n_jobs=1,\n",
      "          penalty='l1', random_state=None, solver='liblinear', tol=0.0001,\n",
      "          verbose=0, warm_start=False),\n",
      "        prefit=False, threshold=None) \n",
      "[CV]  classifier__C=3, features__top_words__selector=SelectFromModel(estimator=LogisticRegression(C=10, class_weight=None, dual=False, fit_intercept=True,\n",
      "          intercept_scaling=1, max_iter=100, multi_class='ovr', n_jobs=1,\n",
      "          penalty='l1', random_state=None, solver='liblinear', tol=0.0001,\n",
      "          verbose=0, warm_start=False),\n",
      "        prefit=False, threshold=None) -  12.8s\n",
      "[CV] classifier__C=3, features__top_words__selector=SelectFromModel(estimator=LogisticRegression(C=10, class_weight=None, dual=False, fit_intercept=True,\n",
      "          intercept_scaling=1, max_iter=100, multi_class='ovr', n_jobs=1,\n",
      "          penalty='l1', random_state=None, solver='liblinear', tol=0.0001,\n",
      "          verbose=0, warm_start=False),\n",
      "        prefit=False, threshold=None) \n",
      "[CV]  classifier__C=3, features__top_words__selector=SelectFromModel(estimator=LogisticRegression(C=10, class_weight=None, dual=False, fit_intercept=True,\n",
      "          intercept_scaling=1, max_iter=100, multi_class='ovr', n_jobs=1,\n",
      "          penalty='l1', random_state=None, solver='liblinear', tol=0.0001,\n",
      "          verbose=0, warm_start=False),\n",
      "        prefit=False, threshold=None) -  13.3s\n",
      "[CV] classifier__C=3, features__top_words__selector=SelectFromModel(estimator=LogisticRegression(C=30, class_weight=None, dual=False, fit_intercept=True,\n",
      "          intercept_scaling=1, max_iter=100, multi_class='ovr', n_jobs=1,\n",
      "          penalty='l1', random_state=None, solver='liblinear', tol=0.0001,\n",
      "          verbose=0, warm_start=False),\n",
      "        prefit=False, threshold=None) \n",
      "[CV]  classifier__C=3, features__top_words__selector=SelectFromModel(estimator=LogisticRegression(C=30, class_weight=None, dual=False, fit_intercept=True,\n",
      "          intercept_scaling=1, max_iter=100, multi_class='ovr', n_jobs=1,\n",
      "          penalty='l1', random_state=None, solver='liblinear', tol=0.0001,\n",
      "          verbose=0, warm_start=False),\n",
      "        prefit=False, threshold=None) -  12.4s\n",
      "[CV] classifier__C=3, features__top_words__selector=SelectFromModel(estimator=LogisticRegression(C=30, class_weight=None, dual=False, fit_intercept=True,\n",
      "          intercept_scaling=1, max_iter=100, multi_class='ovr', n_jobs=1,\n",
      "          penalty='l1', random_state=None, solver='liblinear', tol=0.0001,\n",
      "          verbose=0, warm_start=False),\n",
      "        prefit=False, threshold=None) \n",
      "[CV]  classifier__C=3, features__top_words__selector=SelectFromModel(estimator=LogisticRegression(C=30, class_weight=None, dual=False, fit_intercept=True,\n",
      "          intercept_scaling=1, max_iter=100, multi_class='ovr', n_jobs=1,\n",
      "          penalty='l1', random_state=None, solver='liblinear', tol=0.0001,\n",
      "          verbose=0, warm_start=False),\n",
      "        prefit=False, threshold=None) -  14.0s\n",
      "[CV] classifier__C=3, features__top_words__selector=SelectFromModel(estimator=LogisticRegression(C=30, class_weight=None, dual=False, fit_intercept=True,\n",
      "          intercept_scaling=1, max_iter=100, multi_class='ovr', n_jobs=1,\n",
      "          penalty='l1', random_state=None, solver='liblinear', tol=0.0001,\n",
      "          verbose=0, warm_start=False),\n",
      "        prefit=False, threshold=None) \n",
      "[CV]  classifier__C=3, features__top_words__selector=SelectFromModel(estimator=LogisticRegression(C=30, class_weight=None, dual=False, fit_intercept=True,\n",
      "          intercept_scaling=1, max_iter=100, multi_class='ovr', n_jobs=1,\n",
      "          penalty='l1', random_state=None, solver='liblinear', tol=0.0001,\n",
      "          verbose=0, warm_start=False),\n",
      "        prefit=False, threshold=None) -  13.7s\n",
      "[CV] classifier__C=6, features__top_words__selector=SelectFromModel(estimator=LogisticRegression(C=3, class_weight=None, dual=False, fit_intercept=True,\n",
      "          intercept_scaling=1, max_iter=100, multi_class='ovr', n_jobs=1,\n",
      "          penalty='l1', random_state=None, solver='liblinear', tol=0.0001,\n",
      "          verbose=0, warm_start=False),\n",
      "        prefit=False, threshold=None) \n",
      "[CV]  classifier__C=6, features__top_words__selector=SelectFromModel(estimator=LogisticRegression(C=3, class_weight=None, dual=False, fit_intercept=True,\n",
      "          intercept_scaling=1, max_iter=100, multi_class='ovr', n_jobs=1,\n",
      "          penalty='l1', random_state=None, solver='liblinear', tol=0.0001,\n",
      "          verbose=0, warm_start=False),\n",
      "        prefit=False, threshold=None) -  11.1s\n",
      "[CV] classifier__C=6, features__top_words__selector=SelectFromModel(estimator=LogisticRegression(C=3, class_weight=None, dual=False, fit_intercept=True,\n",
      "          intercept_scaling=1, max_iter=100, multi_class='ovr', n_jobs=1,\n",
      "          penalty='l1', random_state=None, solver='liblinear', tol=0.0001,\n",
      "          verbose=0, warm_start=False),\n",
      "        prefit=False, threshold=None) \n",
      "[CV]  classifier__C=6, features__top_words__selector=SelectFromModel(estimator=LogisticRegression(C=3, class_weight=None, dual=False, fit_intercept=True,\n",
      "          intercept_scaling=1, max_iter=100, multi_class='ovr', n_jobs=1,\n",
      "          penalty='l1', random_state=None, solver='liblinear', tol=0.0001,\n",
      "          verbose=0, warm_start=False),\n",
      "        prefit=False, threshold=None) -  11.2s\n",
      "[CV] classifier__C=6, features__top_words__selector=SelectFromModel(estimator=LogisticRegression(C=3, class_weight=None, dual=False, fit_intercept=True,\n",
      "          intercept_scaling=1, max_iter=100, multi_class='ovr', n_jobs=1,\n",
      "          penalty='l1', random_state=None, solver='liblinear', tol=0.0001,\n",
      "          verbose=0, warm_start=False),\n",
      "        prefit=False, threshold=None) \n",
      "[CV]  classifier__C=6, features__top_words__selector=SelectFromModel(estimator=LogisticRegression(C=3, class_weight=None, dual=False, fit_intercept=True,\n",
      "          intercept_scaling=1, max_iter=100, multi_class='ovr', n_jobs=1,\n",
      "          penalty='l1', random_state=None, solver='liblinear', tol=0.0001,\n",
      "          verbose=0, warm_start=False),\n",
      "        prefit=False, threshold=None) -  11.1s\n",
      "[CV] classifier__C=6, features__top_words__selector=SelectFromModel(estimator=LogisticRegression(C=10, class_weight=None, dual=False, fit_intercept=True,\n",
      "          intercept_scaling=1, max_iter=100, multi_class='ovr', n_jobs=1,\n",
      "          penalty='l1', random_state=None, solver='liblinear', tol=0.0001,\n",
      "          verbose=0, warm_start=False),\n",
      "        prefit=False, threshold=None) \n",
      "[CV]  classifier__C=6, features__top_words__selector=SelectFromModel(estimator=LogisticRegression(C=10, class_weight=None, dual=False, fit_intercept=True,\n",
      "          intercept_scaling=1, max_iter=100, multi_class='ovr', n_jobs=1,\n",
      "          penalty='l1', random_state=None, solver='liblinear', tol=0.0001,\n",
      "          verbose=0, warm_start=False),\n",
      "        prefit=False, threshold=None) -  10.8s\n",
      "[CV] classifier__C=6, features__top_words__selector=SelectFromModel(estimator=LogisticRegression(C=10, class_weight=None, dual=False, fit_intercept=True,\n",
      "          intercept_scaling=1, max_iter=100, multi_class='ovr', n_jobs=1,\n",
      "          penalty='l1', random_state=None, solver='liblinear', tol=0.0001,\n",
      "          verbose=0, warm_start=False),\n",
      "        prefit=False, threshold=None) \n",
      "[CV]  classifier__C=6, features__top_words__selector=SelectFromModel(estimator=LogisticRegression(C=10, class_weight=None, dual=False, fit_intercept=True,\n",
      "          intercept_scaling=1, max_iter=100, multi_class='ovr', n_jobs=1,\n",
      "          penalty='l1', random_state=None, solver='liblinear', tol=0.0001,\n",
      "          verbose=0, warm_start=False),\n",
      "        prefit=False, threshold=None) -  13.3s\n",
      "[CV] classifier__C=6, features__top_words__selector=SelectFromModel(estimator=LogisticRegression(C=10, class_weight=None, dual=False, fit_intercept=True,\n",
      "          intercept_scaling=1, max_iter=100, multi_class='ovr', n_jobs=1,\n",
      "          penalty='l1', random_state=None, solver='liblinear', tol=0.0001,\n",
      "          verbose=0, warm_start=False),\n",
      "        prefit=False, threshold=None) \n",
      "[CV]  classifier__C=6, features__top_words__selector=SelectFromModel(estimator=LogisticRegression(C=10, class_weight=None, dual=False, fit_intercept=True,\n",
      "          intercept_scaling=1, max_iter=100, multi_class='ovr', n_jobs=1,\n",
      "          penalty='l1', random_state=None, solver='liblinear', tol=0.0001,\n",
      "          verbose=0, warm_start=False),\n",
      "        prefit=False, threshold=None) -  13.7s\n",
      "[CV] classifier__C=6, features__top_words__selector=SelectFromModel(estimator=LogisticRegression(C=30, class_weight=None, dual=False, fit_intercept=True,\n",
      "          intercept_scaling=1, max_iter=100, multi_class='ovr', n_jobs=1,\n",
      "          penalty='l1', random_state=None, solver='liblinear', tol=0.0001,\n",
      "          verbose=0, warm_start=False),\n",
      "        prefit=False, threshold=None) \n",
      "[CV]  classifier__C=6, features__top_words__selector=SelectFromModel(estimator=LogisticRegression(C=30, class_weight=None, dual=False, fit_intercept=True,\n",
      "          intercept_scaling=1, max_iter=100, multi_class='ovr', n_jobs=1,\n",
      "          penalty='l1', random_state=None, solver='liblinear', tol=0.0001,\n",
      "          verbose=0, warm_start=False),\n",
      "        prefit=False, threshold=None) -  12.8s\n",
      "[CV] classifier__C=6, features__top_words__selector=SelectFromModel(estimator=LogisticRegression(C=30, class_weight=None, dual=False, fit_intercept=True,\n",
      "          intercept_scaling=1, max_iter=100, multi_class='ovr', n_jobs=1,\n",
      "          penalty='l1', random_state=None, solver='liblinear', tol=0.0001,\n",
      "          verbose=0, warm_start=False),\n",
      "        prefit=False, threshold=None) \n",
      "[CV]  classifier__C=6, features__top_words__selector=SelectFromModel(estimator=LogisticRegression(C=30, class_weight=None, dual=False, fit_intercept=True,\n",
      "          intercept_scaling=1, max_iter=100, multi_class='ovr', n_jobs=1,\n",
      "          penalty='l1', random_state=None, solver='liblinear', tol=0.0001,\n",
      "          verbose=0, warm_start=False),\n",
      "        prefit=False, threshold=None) -  13.2s\n",
      "[CV] classifier__C=6, features__top_words__selector=SelectFromModel(estimator=LogisticRegression(C=30, class_weight=None, dual=False, fit_intercept=True,\n",
      "          intercept_scaling=1, max_iter=100, multi_class='ovr', n_jobs=1,\n",
      "          penalty='l1', random_state=None, solver='liblinear', tol=0.0001,\n",
      "          verbose=0, warm_start=False),\n",
      "        prefit=False, threshold=None) \n",
      "[CV]  classifier__C=6, features__top_words__selector=SelectFromModel(estimator=LogisticRegression(C=30, class_weight=None, dual=False, fit_intercept=True,\n",
      "          intercept_scaling=1, max_iter=100, multi_class='ovr', n_jobs=1,\n",
      "          penalty='l1', random_state=None, solver='liblinear', tol=0.0001,\n",
      "          verbose=0, warm_start=False),\n",
      "        prefit=False, threshold=None) -  13.1s\n"
     ]
    },
    {
     "name": "stderr",
     "output_type": "stream",
     "text": [
      "[Parallel(n_jobs=1)]: Done  36 out of  36 | elapsed:  7.9min finished\n"
     ]
    },
    {
     "name": "stdout",
     "output_type": "stream",
     "text": [
      "491.460838795\n"
     ]
    }
   ],
   "source": [
    "t0=time.time()\n",
    "\n",
    "condition = [speaker in which_candidates for speaker in df.speaker]\n",
    "cand_df = df[condition]\n",
    "kf = StratifiedKFold(y=cand_df.speaker, n_folds=3,random_state=42)\n",
    "params = {'classifier__C': [.3,1,3,6],\n",
    "#           'classifier__solver': ['newton-cg', 'lbfgs', 'liblinear', 'sag'],\n",
    "#           'features__top_words__vectorizer__min_df': [1,5],\n",
    "#           'features__top_words__vectorizer__max_df': [.5,.25],\n",
    "#           'features__top_words__selector__estimator__penalty': ['l1','l2],\n",
    "#           'features__top_words__vectorizer__binary': [True, False],\n",
    "          'features__top_words__selector': [\n",
    "        SelectFromModel(LogisticRegression(penalty='l1', C=3)),\n",
    "        SelectFromModel(LogisticRegression(penalty='l1', C=10)),\n",
    "        SelectFromModel(LogisticRegression(penalty='l1', C=30)),\n",
    "\n",
    "    ]\n",
    "         }\n",
    "\n",
    "grid = GridSearchCV(estimator=pipeline, param_grid = params, scoring = 'roc_auc',cv=kf, verbose=2)\n",
    "\n",
    "grid.fit(cand_df.sentence,[1 if speaker == 'Trump' else 0 for speaker in cand_df.speaker])\n",
    "print time.time()-t0\n",
    "#"
   ]
  },
  {
   "cell_type": "code",
   "execution_count": 36,
   "metadata": {
    "collapsed": false
   },
   "outputs": [
    {
     "data": {
      "text/plain": [
       "{'classifier__C': 1,\n",
       " 'features__top_words__selector': SelectFromModel(estimator=LogisticRegression(C=30, class_weight=None, dual=False, fit_intercept=True,\n",
       "           intercept_scaling=1, max_iter=100, multi_class='ovr', n_jobs=1,\n",
       "           penalty='l1', random_state=None, solver='liblinear', tol=0.0001,\n",
       "           verbose=0, warm_start=False),\n",
       "         prefit=False, threshold=None)}"
      ]
     },
     "execution_count": 36,
     "metadata": {},
     "output_type": "execute_result"
    }
   ],
   "source": [
    "scores = grid.grid_scores_\n",
    "grid.best_params_"
   ]
  },
  {
   "cell_type": "code",
   "execution_count": 37,
   "metadata": {
    "collapsed": false,
    "scrolled": false
   },
   "outputs": [
    {
     "data": {
      "text/html": [
       "<div>\n",
       "<table border=\"1\" class=\"dataframe\">\n",
       "  <thead>\n",
       "    <tr style=\"text-align: right;\">\n",
       "      <th></th>\n",
       "      <th>classifier__C</th>\n",
       "      <th>features__top_words__selector</th>\n",
       "      <th>mean</th>\n",
       "    </tr>\n",
       "  </thead>\n",
       "  <tbody>\n",
       "    <tr>\n",
       "      <th>5</th>\n",
       "      <td>1.0</td>\n",
       "      <td>SelectFromModel(estimator=LogisticRegression(C...</td>\n",
       "      <td>0.886529</td>\n",
       "    </tr>\n",
       "    <tr>\n",
       "      <th>4</th>\n",
       "      <td>1.0</td>\n",
       "      <td>SelectFromModel(estimator=LogisticRegression(C...</td>\n",
       "      <td>0.886471</td>\n",
       "    </tr>\n",
       "    <tr>\n",
       "      <th>3</th>\n",
       "      <td>1.0</td>\n",
       "      <td>SelectFromModel(estimator=LogisticRegression(C...</td>\n",
       "      <td>0.886347</td>\n",
       "    </tr>\n",
       "    <tr>\n",
       "      <th>1</th>\n",
       "      <td>0.3</td>\n",
       "      <td>SelectFromModel(estimator=LogisticRegression(C...</td>\n",
       "      <td>0.885855</td>\n",
       "    </tr>\n",
       "    <tr>\n",
       "      <th>2</th>\n",
       "      <td>0.3</td>\n",
       "      <td>SelectFromModel(estimator=LogisticRegression(C...</td>\n",
       "      <td>0.885851</td>\n",
       "    </tr>\n",
       "    <tr>\n",
       "      <th>0</th>\n",
       "      <td>0.3</td>\n",
       "      <td>SelectFromModel(estimator=LogisticRegression(C...</td>\n",
       "      <td>0.885836</td>\n",
       "    </tr>\n",
       "    <tr>\n",
       "      <th>8</th>\n",
       "      <td>3.0</td>\n",
       "      <td>SelectFromModel(estimator=LogisticRegression(C...</td>\n",
       "      <td>0.884919</td>\n",
       "    </tr>\n",
       "    <tr>\n",
       "      <th>7</th>\n",
       "      <td>3.0</td>\n",
       "      <td>SelectFromModel(estimator=LogisticRegression(C...</td>\n",
       "      <td>0.884827</td>\n",
       "    </tr>\n",
       "    <tr>\n",
       "      <th>6</th>\n",
       "      <td>3.0</td>\n",
       "      <td>SelectFromModel(estimator=LogisticRegression(C...</td>\n",
       "      <td>0.884100</td>\n",
       "    </tr>\n",
       "    <tr>\n",
       "      <th>11</th>\n",
       "      <td>6.0</td>\n",
       "      <td>SelectFromModel(estimator=LogisticRegression(C...</td>\n",
       "      <td>0.883643</td>\n",
       "    </tr>\n",
       "    <tr>\n",
       "      <th>10</th>\n",
       "      <td>6.0</td>\n",
       "      <td>SelectFromModel(estimator=LogisticRegression(C...</td>\n",
       "      <td>0.883357</td>\n",
       "    </tr>\n",
       "    <tr>\n",
       "      <th>9</th>\n",
       "      <td>6.0</td>\n",
       "      <td>SelectFromModel(estimator=LogisticRegression(C...</td>\n",
       "      <td>0.882571</td>\n",
       "    </tr>\n",
       "  </tbody>\n",
       "</table>\n",
       "</div>"
      ],
      "text/plain": [
       "    classifier__C                      features__top_words__selector      mean\n",
       "5             1.0  SelectFromModel(estimator=LogisticRegression(C...  0.886529\n",
       "4             1.0  SelectFromModel(estimator=LogisticRegression(C...  0.886471\n",
       "3             1.0  SelectFromModel(estimator=LogisticRegression(C...  0.886347\n",
       "1             0.3  SelectFromModel(estimator=LogisticRegression(C...  0.885855\n",
       "2             0.3  SelectFromModel(estimator=LogisticRegression(C...  0.885851\n",
       "0             0.3  SelectFromModel(estimator=LogisticRegression(C...  0.885836\n",
       "8             3.0  SelectFromModel(estimator=LogisticRegression(C...  0.884919\n",
       "7             3.0  SelectFromModel(estimator=LogisticRegression(C...  0.884827\n",
       "6             3.0  SelectFromModel(estimator=LogisticRegression(C...  0.884100\n",
       "11            6.0  SelectFromModel(estimator=LogisticRegression(C...  0.883643\n",
       "10            6.0  SelectFromModel(estimator=LogisticRegression(C...  0.883357\n",
       "9             6.0  SelectFromModel(estimator=LogisticRegression(C...  0.882571"
      ]
     },
     "execution_count": 37,
     "metadata": {},
     "output_type": "execute_result"
    }
   ],
   "source": [
    "cv = []\n",
    "scores = grid.grid_scores_\n",
    "for combo in scores:\n",
    "    pars = combo[0]\n",
    "    pars['mean'] = combo[1]\n",
    "    cv.append(pars)\n",
    "pd.DataFrame(cv).sort_values(by='mean',ascending=False)"
   ]
  },
  {
   "cell_type": "markdown",
   "metadata": {},
   "source": [
    "## Build a cross-val-predict-proba"
   ]
  },
  {
   "cell_type": "code",
   "execution_count": 38,
   "metadata": {
    "collapsed": false
   },
   "outputs": [],
   "source": [
    "pipeline=grid.best_estimator_"
   ]
  },
  {
   "cell_type": "code",
   "execution_count": 39,
   "metadata": {
    "collapsed": false,
    "scrolled": true
   },
   "outputs": [
    {
     "name": "stdout",
     "output_type": "stream",
     "text": [
      "done predicting 0 time: 20.2192239761\n",
      "done predicting 1 time: 19.4864919186\n",
      "done predicting 2 time: 19.8765630722\n",
      "done predicting 3 time: 19.9900529385\n",
      "done predicting 4 time: 19.8697199821\n",
      "done predicting 5 time: 20.6659529209\n",
      "done predicting 6 time: 20.223788023\n",
      "done predicting 7 time: 19.8693478107\n",
      "done predicting 8 time: 19.6816358566\n",
      "done predicting 9 time: 19.9817211628\n",
      "done predicting 10 time: 20.3159661293\n",
      "done predicting 11 time: 20.001376152\n",
      "done predicting 12 time: 19.9472329617\n",
      "done predicting 13 time: 21.0529270172\n",
      "done predicting 14 time: 19.7490339279\n",
      "done predicting 15 time: 19.6028687954\n",
      "done predicting 16 time: 19.8822329044\n",
      "done predicting 17 time: 19.9356639385\n",
      "done predicting 18 time: 19.7197599411\n",
      "done predicting 19 time: 19.9417769909\n"
     ]
    }
   ],
   "source": [
    "import time\n",
    "\n",
    "cand_df = df[[speaker in which_candidates for speaker in df.speaker]]\n",
    "\n",
    "n_folds = 20\n",
    "\n",
    "segment_results = pd.DataFrame()\n",
    "all_results = pd.DataFrame()\n",
    "segment_coefs = [pd.DataFrame()]*n_folds\n",
    "\n",
    "kf = StratifiedKFold(y=cand_df.speaker, n_folds =n_folds,random_state=42)\n",
    "\n",
    "for i, (train_index, test_index) in enumerate(kf):\n",
    "    t0 = time.time()\n",
    "    pipeline.fit(cand_df.iloc[train_index].sentence, cand_df.iloc[train_index].speaker)\n",
    "#     print 'done fitting',i,\"time:\",time.time()-t0\n",
    "    segment_coefs[i] = pipeline_coef_df(pipeline)\n",
    "    segment_results = pd.DataFrame(\n",
    "                                    pipeline.predict_proba(cand_df.iloc[test_index].sentence),\n",
    "                                    index=list(cand_df.iloc[test_index].index),\n",
    "                                    columns=pipeline.named_steps['classifier'].classes_)\n",
    "    print 'done predicting',i,\"time:\",time.time()-t0\n",
    "\n",
    "    all_results=all_results.append(segment_results)\n",
    "        \n",
    "    "
   ]
  },
  {
   "cell_type": "code",
   "execution_count": 40,
   "metadata": {
    "collapsed": true
   },
   "outputs": [],
   "source": [
    "cv_result = cand_df.copy().join(all_results)"
   ]
  },
  {
   "cell_type": "code",
   "execution_count": 41,
   "metadata": {
    "collapsed": false,
    "scrolled": true
   },
   "outputs": [
    {
     "data": {
      "text/html": [
       "<div>\n",
       "<table border=\"1\" class=\"dataframe\">\n",
       "  <thead>\n",
       "    <tr style=\"text-align: right;\">\n",
       "      <th></th>\n",
       "      <th>speech_idx</th>\n",
       "      <th>tokens</th>\n",
       "      <th>Clinton</th>\n",
       "      <th>Trump</th>\n",
       "    </tr>\n",
       "    <tr>\n",
       "      <th>speaker</th>\n",
       "      <th></th>\n",
       "      <th></th>\n",
       "      <th></th>\n",
       "      <th></th>\n",
       "    </tr>\n",
       "  </thead>\n",
       "  <tbody>\n",
       "    <tr>\n",
       "      <th>Clinton</th>\n",
       "      <td>163.725589</td>\n",
       "      <td>19.783560</td>\n",
       "      <td>0.780687</td>\n",
       "      <td>0.219313</td>\n",
       "    </tr>\n",
       "    <tr>\n",
       "      <th>Trump</th>\n",
       "      <td>54.335176</td>\n",
       "      <td>16.538443</td>\n",
       "      <td>0.188163</td>\n",
       "      <td>0.811837</td>\n",
       "    </tr>\n",
       "  </tbody>\n",
       "</table>\n",
       "</div>"
      ],
      "text/plain": [
       "         speech_idx     tokens   Clinton     Trump\n",
       "speaker                                           \n",
       "Clinton  163.725589  19.783560  0.780687  0.219313\n",
       "Trump     54.335176  16.538443  0.188163  0.811837"
      ]
     },
     "execution_count": 41,
     "metadata": {},
     "output_type": "execute_result"
    }
   ],
   "source": [
    "cv_result.groupby('speaker').mean()"
   ]
  },
  {
   "cell_type": "code",
   "execution_count": 42,
   "metadata": {
    "collapsed": false
   },
   "outputs": [],
   "source": [
    "cv_result['predict'] = cv_result.apply(lambda x: x[which_candidates].argmax(), axis = 1)"
   ]
  },
  {
   "cell_type": "code",
   "execution_count": 43,
   "metadata": {
    "collapsed": true
   },
   "outputs": [],
   "source": [
    "cv_result['correct'] = cv_result.predict == cv_result.speaker"
   ]
  },
  {
   "cell_type": "code",
   "execution_count": 44,
   "metadata": {
    "collapsed": false
   },
   "outputs": [
    {
     "data": {
      "text/plain": [
       "True     28923\n",
       "False     5185\n",
       "Name: correct, dtype: int64"
      ]
     },
     "execution_count": 44,
     "metadata": {},
     "output_type": "execute_result"
    }
   ],
   "source": [
    "cv_result.correct.value_counts()"
   ]
  },
  {
   "cell_type": "code",
   "execution_count": 45,
   "metadata": {
    "collapsed": false
   },
   "outputs": [
    {
     "data": {
      "text/plain": [
       "0.84798287791720417"
      ]
     },
     "execution_count": 45,
     "metadata": {},
     "output_type": "execute_result"
    }
   ],
   "source": [
    "cv_result.correct.mean()"
   ]
  },
  {
   "cell_type": "code",
   "execution_count": 46,
   "metadata": {
    "collapsed": false
   },
   "outputs": [
    {
     "name": "stdout",
     "output_type": "stream",
     "text": [
      "0.922870444726\n"
     ]
    },
    {
     "data": {
      "text/plain": [
       "[<matplotlib.lines.Line2D at 0x12f157d90>]"
      ]
     },
     "execution_count": 46,
     "metadata": {},
     "output_type": "execute_result"
    },
    {
     "data": {
      "image/png": "[encoded data removed]",
      "text/plain": [
       "<matplotlib.figure.Figure at 0x1204c9050>"
      ]
     },
     "metadata": {},
     "output_type": "display_data"
    }
   ],
   "source": [
    "#  sklearn.metrics.roc_curve(y_true, y_score, pos_label=None, sample_weight=None, drop_intermediate\n",
    "correct= [1 if speaker == 'Trump' else 0 for speaker in cv_result.speaker]\n",
    "roc = roc_curve(correct, y_score=list(cv_result.Trump))\n",
    "print roc_auc_score(correct, cv_result.Trump)\n",
    "plt.plot(roc[0], roc[1])"
   ]
  },
  {
   "cell_type": "code",
   "execution_count": 267,
   "metadata": {
    "collapsed": false
   },
   "outputs": [
    {
     "data": {
      "text/plain": [
       "([<matplotlib.axis.XTick at 0x13e96ea50>,\n",
       "  <matplotlib.axis.XTick at 0x13ea5b990>,\n",
       "  <matplotlib.axis.XTick at 0x13fb42490>,\n",
       "  <matplotlib.axis.XTick at 0x13fb42ad0>,\n",
       "  <matplotlib.axis.XTick at 0x13fb4c290>,\n",
       "  <matplotlib.axis.XTick at 0x13fb4ca10>],\n",
       " <a list of 6 Text xticklabel objects>)"
      ]
     },
     "execution_count": 267,
     "metadata": {},
     "output_type": "execute_result"
    },
    {
     "data": {
      "image/png": "[encoded data removed]",
      "text/plain": [
       "<matplotlib.figure.Figure at 0x13ea6d090>"
      ]
     },
     "metadata": {},
     "output_type": "display_data"
    }
   ],
   "source": [
    "f = plt.figure(figsize=[7,5])\n",
    "ax = plt.gca()\n",
    "sns.distplot(cv_result[cv_result.speaker == 'Trump'].Clinton, ax=ax, kde=False, bins=50, color='red', hist_kws={'alpha':.5}, label='Trump')\n",
    "sns.distplot(cv_result[cv_result.speaker == 'Clinton'].Clinton, ax=ax, kde=False, bins=50, hist_kws={'alpha':.5}, label='Clinton')\n",
    "plt.xlim([0,1])\n",
    "# plt.yticks([1000,2000,3000,4000,5000,6000])\n",
    "ax.legend(title='Actual Speaker', loc='upper left', bbox_to_anchor=(1,1))\n",
    "plt.xlabel('Predicted Probability Clinton was Speaker')\n",
    "plt.title(\"Distribution of Model's Confidence\\nfor Each Sentence\")\n",
    "plt.xticks(np.arange(0,1.1,.2), ['0%','20%','40%','60%','80%','100%'])\n",
    "# f.tight_layout(h_pad=.5)\n",
    "\n",
    "\n",
    "# g = sns.lmplot(\"x\", \"y\", col=\"c\", data=df)\n",
    "# g.fig.suptitle(\"Title of the plot\", size=16)\n",
    "# t.subplots_adjust(top=1.1)"
   ]
  },
  {
   "cell_type": "code",
   "execution_count": 47,
   "metadata": {
    "collapsed": false
   },
   "outputs": [],
   "source": [
    "sns.set_palette('deep')"
   ]
  },
  {
   "cell_type": "code",
   "execution_count": 48,
   "metadata": {
    "collapsed": false
   },
   "outputs": [
    {
     "data": {
      "text/plain": [
       "[<matplotlib.lines.Line2D at 0x12869c110>]"
      ]
     },
     "execution_count": 48,
     "metadata": {},
     "output_type": "execute_result"
    },
    {
     "data": {
      "image/png": "[encoded data removed]",
      "text/plain": [
       "<matplotlib.figure.Figure at 0x1234ab450>"
      ]
     },
     "metadata": {},
     "output_type": "display_data"
    }
   ],
   "source": [
    "plt.plot(cv_result[(cv_result.tokens <=60)&(cv_result.tokens >=2)].groupby('tokens').mean()['correct'])"
   ]
  },
  {
   "cell_type": "code",
   "execution_count": 49,
   "metadata": {
    "collapsed": false
   },
   "outputs": [
    {
     "data": {
      "text/html": [
       "<div>\n",
       "<table border=\"1\" class=\"dataframe\">\n",
       "  <thead>\n",
       "    <tr style=\"text-align: right;\">\n",
       "      <th></th>\n",
       "      <th>date</th>\n",
       "      <th>sentence</th>\n",
       "      <th>speaker</th>\n",
       "      <th>speech_idx</th>\n",
       "      <th>title</th>\n",
       "      <th>tokens</th>\n",
       "      <th>Clinton</th>\n",
       "      <th>Trump</th>\n",
       "      <th>predict</th>\n",
       "      <th>correct</th>\n",
       "    </tr>\n",
       "  </thead>\n",
       "  <tbody>\n",
       "    <tr>\n",
       "      <th>1</th>\n",
       "      <td>2016-10-17</td>\n",
       "      <td>now we are live at the convention center this ...</td>\n",
       "      <td>Trump</td>\n",
       "      <td>0</td>\n",
       "      <td>Donald Trump Campaign Event in Green Bay, Wisc...</td>\n",
       "      <td>21</td>\n",
       "      <td>0.127171</td>\n",
       "      <td>0.872829</td>\n",
       "      <td>Trump</td>\n",
       "      <td>True</td>\n",
       "    </tr>\n",
       "    <tr>\n",
       "      <th>3</th>\n",
       "      <td>2016-10-17</td>\n",
       "      <td>we want, to start by thanking the fire marshal.</td>\n",
       "      <td>Trump</td>\n",
       "      <td>0</td>\n",
       "      <td>Donald Trump Campaign Event in Green Bay, Wisc...</td>\n",
       "      <td>9</td>\n",
       "      <td>0.631376</td>\n",
       "      <td>0.368624</td>\n",
       "      <td>Clinton</td>\n",
       "      <td>False</td>\n",
       "    </tr>\n",
       "    <tr>\n",
       "      <th>5</th>\n",
       "      <td>2016-10-17</td>\n",
       "      <td>in 22 days we will win the state of wisconsin.</td>\n",
       "      <td>Trump</td>\n",
       "      <td>0</td>\n",
       "      <td>Donald Trump Campaign Event in Green Bay, Wisc...</td>\n",
       "      <td>10</td>\n",
       "      <td>0.009321</td>\n",
       "      <td>0.990679</td>\n",
       "      <td>Trump</td>\n",
       "      <td>True</td>\n",
       "    </tr>\n",
       "    <tr>\n",
       "      <th>8</th>\n",
       "      <td>2016-10-17</td>\n",
       "      <td>we're up in the ohio and we are doing great.</td>\n",
       "      <td>Trump</td>\n",
       "      <td>0</td>\n",
       "      <td>Donald Trump Campaign Event in Green Bay, Wisc...</td>\n",
       "      <td>10</td>\n",
       "      <td>0.029117</td>\n",
       "      <td>0.970883</td>\n",
       "      <td>Trump</td>\n",
       "      <td>True</td>\n",
       "    </tr>\n",
       "    <tr>\n",
       "      <th>10</th>\n",
       "      <td>2016-10-17</td>\n",
       "      <td>together we will deliver real change to put am...</td>\n",
       "      <td>Trump</td>\n",
       "      <td>0</td>\n",
       "      <td>Donald Trump Campaign Event in Green Bay, Wisc...</td>\n",
       "      <td>10</td>\n",
       "      <td>0.471013</td>\n",
       "      <td>0.528987</td>\n",
       "      <td>Trump</td>\n",
       "      <td>True</td>\n",
       "    </tr>\n",
       "  </tbody>\n",
       "</table>\n",
       "</div>"
      ],
      "text/plain": [
       "          date                                           sentence speaker  \\\n",
       "1   2016-10-17  now we are live at the convention center this ...   Trump   \n",
       "3   2016-10-17    we want, to start by thanking the fire marshal.   Trump   \n",
       "5   2016-10-17     in 22 days we will win the state of wisconsin.   Trump   \n",
       "8   2016-10-17       we're up in the ohio and we are doing great.   Trump   \n",
       "10  2016-10-17  together we will deliver real change to put am...   Trump   \n",
       "\n",
       "    speech_idx                                              title  tokens  \\\n",
       "1            0  Donald Trump Campaign Event in Green Bay, Wisc...      21   \n",
       "3            0  Donald Trump Campaign Event in Green Bay, Wisc...       9   \n",
       "5            0  Donald Trump Campaign Event in Green Bay, Wisc...      10   \n",
       "8            0  Donald Trump Campaign Event in Green Bay, Wisc...      10   \n",
       "10           0  Donald Trump Campaign Event in Green Bay, Wisc...      10   \n",
       "\n",
       "     Clinton     Trump  predict correct  \n",
       "1   0.127171  0.872829    Trump    True  \n",
       "3   0.631376  0.368624  Clinton   False  \n",
       "5   0.009321  0.990679    Trump    True  \n",
       "8   0.029117  0.970883    Trump    True  \n",
       "10  0.471013  0.528987    Trump    True  "
      ]
     },
     "execution_count": 49,
     "metadata": {},
     "output_type": "execute_result"
    }
   ],
   "source": [
    "cv_result.head()"
   ]
  },
  {
   "cell_type": "code",
   "execution_count": 268,
   "metadata": {
    "collapsed": false
   },
   "outputs": [],
   "source": [
    "long_df.link.to_csv('speech_links.csv', header=True, index_label='idx')"
   ]
  },
  {
   "cell_type": "code",
   "execution_count": 51,
   "metadata": {
    "collapsed": false
   },
   "outputs": [
    {
     "data": {
      "text/plain": [
       "(34108, 10)"
      ]
     },
     "execution_count": 51,
     "metadata": {},
     "output_type": "execute_result"
    }
   ],
   "source": [
    "cv_result.shape"
   ]
  },
  {
   "cell_type": "code",
   "execution_count": 52,
   "metadata": {
    "collapsed": false,
    "scrolled": true
   },
   "outputs": [
    {
     "name": "stdout",
     "output_type": "stream",
     "text": [
      "Most Clinton :\n",
      "\tThat's why the slogan of my campaign is stronger together  because i think if we work  together and overcome the  divisiveness that sometimes  sets americans against one  another and instead we make  some big goals and i've set  forth some big goals, getting the economy to work for  everyone, not just those at the top, making sure we have the best education system from  preschool through college and making it affordable and somp  else.\n",
      "-- 112 Presidential Candidates Debate\n",
      "http://www.c-span.org/video/?414227-1/presidential-nominees-debate-washington-university\n",
      "Predicted Clinton:  0.99999999999\n",
      "Predicted Trump:  1.04761466567e-11\n",
      "\n",
      "\tI hope you will join me and that you will be part of this effort to build on the progress we have made under president obama to go further and to make it absolutely clear that we are fighting to break down barriers wherever they may be because we know america deserves nothing less and americans deserve to have the future that we will create together.\n",
      "-- 167 Presidential Candidate Hillary Clinton Rally in Orangeburg, South Carolina\n",
      "http://www.c-span.org/video/?405395-1/hillary-clinton-campaign-rally-orangeburg-south-carolina\n",
      "Predicted Clinton:  0.99999999991\n",
      "Predicted Trump:  9.0484418099e-11\n",
      "\n",
      "\tWhen we fight to make college more affordable than stupid deathless punishing work to hold corporations accountable when they tell just one try to prices or falluja or environment or exploit workers, that's fighting for women and men in america and when we fight to create a pathway to citizenship for millions of immigrants, we will make social security even stronger or to protect and improve the affordable care act because everyone deserves access to quality affordable care.\n",
      "-- 191 Hillary Clinton at Democratic Women's Leadership Forum\n",
      "http://www.c-span.org/video/?328919-3/hillary-clinton-democratic-womens-leadership-forum\n",
      "Predicted Clinton:  0.999999999761\n",
      "Predicted Trump:  2.3893761637e-10\n",
      "\n",
      "\tThink of what we are losing because we are not doing everything we can to reach out to those families and we know again from so much research year in the united states and around the world that mentoring and intervention will help those often stressed out young moms understand more about what they can do and to avoid the difficulties that stand in the way of their being able to get their child off to the best possible start.\n",
      "-- 210 Presidential Candidate Hillary Clinton Economic Policy Address\n",
      "http://www.c-span.org/video/?327052-1/hillary-clinton-economic-policy-address\n",
      "Predicted Clinton:  0.999999999588\n",
      "Predicted Trump:  4.11758186537e-10\n",
      "\n",
      "\tI also have to say that i have heard a lot about another challenge that gets too little attention in our long-term looking forward into the future about what kind of country we are going to be and how we can help people live up to their potential.\n",
      "-- 196 2015 New Hampshire Democratic Party State Convention\n",
      "http://www.c-span.org/video/?328108-1/2015-new-hampshire-democratic-party-state-convention\n",
      "Predicted Clinton:  0.999999999427\n",
      "Predicted Trump:  5.7318635619e-10\n",
      "\n",
      "\tInstead, we need to come together to get incomes rising with a higher minimum wage, to invest in neglected communities with efforts like jim clyburn's 102030 plan, to get guns out of the hands of dangers people, and the fight for criminal justice system that delivers justice, and to make sure all kids have good schools and good teachers no matter what zip code they live in.\n",
      "-- 119 Presidential Candidate Hillary Clinton at Congressional Black Caucus Foundation Dinner\n",
      "http://www.c-span.org/video/?415143-102/hillary-clinton-addresses-cbc-foundation-dinner\n",
      "Predicted Clinton:  0.999999999147\n",
      "Predicted Trump:  8.5282801229e-10\n",
      "\n",
      "\tOur highest priority, of course, must always be protecting the american people, so, yes, we do need to be vigilant in screening refugees from syria guided by the best judgment of our security professionals in close coordination with our allies and partners and congress needs to make sure the necessary resources are provided for comprehensive background checks drawing on the best intelligence we can get, and we should be taking a close look at the safe guards and the visa programs as well, but we cannot allow terrorist to intimidate us in abandoning our values and our humanitarian obligations.\n",
      "-- 188 Presidential Candidate Hillary Clinton National Security Address\n",
      "http://www.c-span.org/video/?400960-1/hillary-clinton-national-security-address\n",
      "Predicted Clinton:  0.999999998916\n",
      "Predicted Trump:  1.08356324363e-09\n",
      "\n",
      "\tWe need more elected leaders, from houston to austin to washington, who will follow in  the footsteps of barbara jordan and who will fight every day for the rights and opportunities of everyday americans, not just those at the top of the ladder, and we need to remember that  progress is built on common ground, not scorched earth.\n",
      "-- 211 Hillary Clinton on Voting Rights\n",
      "http://www.c-span.org/video/?326400-1/hillary-clinton-remarks-voting-rights\n",
      "Predicted Clinton:  0.999999998732\n",
      "Predicted Trump:  1.2675253648e-09\n",
      "\n",
      "\tThis award is also for everyone out there helping to break down the barriers holding americans back, two leaders, like all of view, and to a rising generation of young activists, to all those on the front lines dedicated to the proposition that in america every single child deserves the chance to fulfill his or her god-given potential.\n",
      "-- 119 Presidential Candidate Hillary Clinton at Congressional Black Caucus Foundation Dinner\n",
      "http://www.c-span.org/video/?415143-102/hillary-clinton-addresses-cbc-foundation-dinner\n",
      "Predicted Clinton:  0.999999997517\n",
      "Predicted Trump:  2.48285189512e-09\n",
      "\n",
      "\tI am prepared to, ready to actually take on this challenge is, not engage in a lot of, you know, irresponsible, reckless rhetoric, but to do the hard work, as i have done before, to put into place the strategies for local and state law enforcement, for an intelligence surge, for the kind of preventive actions we need to take here at home, and to intensify our efforts to defeat isis.\n",
      "-- 118 Hillary Clinton News Conference\n",
      "http://www.c-span.org/video/?415553-1/hillary-clinton-speaks-reporters-weekend-terrorist-attacks\n",
      "Predicted Clinton:  0.999999995982\n",
      "Predicted Trump:  4.01848194101e-09\n",
      "\n",
      "\n",
      "\n",
      "Most Trump :\n",
      "\tAs you know, we have done very  well with the evangelicals and  with religion generally speaking, if you look at what's  happened with all of the races, whether it's in south carolina,  i went there and it was supposed to be strong evangelical, and i  was not supposed to win and i won in a landslide, and so many other places where you had the evangelicals and you had the  heavy christian groups and it was just -- it's been an amazing journey to have -- i think we won 37 different states.\n",
      "-- 37 Faith and Freedom Coalition Conference\n",
      "http://www.c-span.org/video/?410912-1/faith-freedom-coalition-holds-annual-conference\n",
      "Predicted Clinton:  4.29818403092e-11\n",
      "Predicted Trump:  0.999999999957\n",
      "\n",
      "\tWhen i watch the deals being  made, when i watch what's  happening with some horrible things like obama care where your health insurance and  health care is going up by numbers that are astro nomibical, 68%, 79%, 71%, whether i look at the iran deal  and how bad it is for us is,  it's a one-sided transaction where we're give back $150 billion to a terrorist state,  really the number one terrorist state, we've made them a strong country from a very weak country just three years ago,  when i look at all the things i  see and all the potential our country has, we have such tremendous potential, whether it's in business and trade,  where we're doing so baddy.\n",
      "-- 5 Presidential Candidates Debate\n",
      "http://www.c-span.org/video/?414227-1/presidential-nominees-debate-washington-university\n",
      "Predicted Clinton:  4.51243487021e-11\n",
      "Predicted Trump:  0.999999999955\n",
      "\n",
      "\tAnd i want to tell you, you know, so much about illegal immigration and so much has been mentioned about it and talked about it and these politicians are all talk, no action, they are never going to do anything, and they are only going to pick this up because when i went and i announced that i was running for president, i said, you know, his country is a big, big problem with illegal immigration, and all of a sudden, we started talking about it, and then we had bad things happening, and there was crime and you had so many killings and so much crime.\n",
      "-- 60 Presidential Candidate Donald Trump Rally in Arizona\n",
      "http://www.c-span.org/video/?406905-1/donald-trump-campaign-rally-phoenix-arizona\n",
      "Predicted Clinton:  6.20437035082e-11\n",
      "Predicted Trump:  0.999999999938\n",
      "\n",
      "\tBelieve me, we are going to use our great business people to negotiate unbelievable trade deals so we bring our jobs back and we don't let our companies go to mexico and all of these other countries anymore.\n",
      "-- 51 Presidential Candidate Donald Trump New York Primary Night Speech\n",
      "http://www.c-span.org/video/?408385-1/donald-trump-primary-night-speech\n",
      "Predicted Clinton:  8.21792411898e-10\n",
      "Predicted Trump:  0.999999999178\n",
      "\n",
      "\tEvery single air conditioning unit that you make, every single one, as it crosses the border, and we are going to have a real border, because we are going to have a wall, we are going to have a real border, we are going to have a date, beautiful wall that nobody is crossing, just in case you had any questions, don't worry about the tunnels and stuff, nobody is going over it and nobody is going over it and we are going to have a big, beautiful door, but people are going to be coming into our country legally, legally, legally, so i tell the head of carrier, everything will unit that you make in mexico and that you sell in the united states, we are going to put a 35% tax on that unit, and i hope it works out well for you.\"\n",
      "-- 60 Presidential Candidate Donald Trump Rally in Arizona\n",
      "http://www.c-span.org/video/?406905-1/donald-trump-campaign-rally-phoenix-arizona\n",
      "Predicted Clinton:  2.54986076698e-09\n",
      "Predicted Trump:  0.99999999745\n",
      "\n",
      "\tShe's going to put you out of business because if she ever won , she would sign tpp which will make nafta which was signed by her husband which is the worst, in my opinion, the worst trade deal in the history of this country and it's not even close, signed by bill clinton, and he didn't suffer from it.\n",
      "-- 32 Presidential Candidate Donald Trump Rally in Cincinnati, Ohio\n",
      "http://www.c-span.org/video/?412298-1/newt-gingrich-campaigns-donald-trump\n",
      "Predicted Clinton:  2.71054378942e-09\n",
      "Predicted Trump:  0.999999997289\n",
      "\n",
      "\tAnd just to finish on the nuclear thing, i was talking about negotiating with japan and negotiate with germany and i have such negotiators in the world, carl icahn, other negotiators, a lot of people want to come in and help us, some of the greatest business minds, and they all want to help us, so i say to myself, \"look at this, look at these people, and look at this negotiation.\n",
      "-- 56 Donald Trump Town Hall Meeting in Rothschild, Wisconsin\n",
      "http://www.c-span.org/video/?407558-1/donald-trump-town-hall-meeting-rothschild-wisconsin\n",
      "Predicted Clinton:  2.90184853924e-09\n",
      "Predicted Trump:  0.999999997098\n",
      "\n",
      "\tBut i can tell you i am more conservative than anybody on the military, taking care of our veterans, on the border on the wall, on getting rid of obama care and coming up with something much, much better.\n",
      "-- 69 Presidential Candidate Donald Trump Super Tuesday News Conference\n",
      "http://www.c-span.org/video/?405774-1/donald-trump-super-tuesday-news-conference\n",
      "Predicted Clinton:  9.85830650446e-09\n",
      "Predicted Trump:  0.999999990142\n",
      "\n",
      "\tYet hillary clinton for months and despite so many attacks repeatedly refused to even say the words radical islam until i challenged her yesterday and guess what, she will probably say them, she sort of has said them but let's see what happens, she really has no choice but she doesn't want, however, she's really been forced and she has been forced to say these words, she supports and the reason is she supports so much of what is wrong and what is wrong with this country and what's going wrong with our country and our borders.\n",
      "-- 38 Donald Trump Remarks in Manchester, New Hampshire\n",
      "http://www.c-span.org/video/?410976-1/donald-trump-delivers-remarks-national-security-threats\n",
      "Predicted Clinton:  3.06449485787e-08\n",
      "Predicted Trump:  0.999999969355\n",
      "\n",
      "\tNow, you have south china and you have china building a massive fortress with massive, massive run rays for the biggest mail terri planes in the world and they have those escal sraeutka sraeuted and they're ripping the hell out of the ocean and building an island in the south of china and that he going to be a military fortress and they're not supposed to be doing that but they have no respect for our president and country so they're doing it.\n",
      "-- 75 Donald Trump Campaign Rally in Charleston, South Carolina\n",
      "http://www.c-span.org/video/?404947-1/donald-trump-campaign-rally-charleston-south-carolina\n",
      "Predicted Clinton:  3.97702861754e-08\n",
      "Predicted Trump:  0.99999996023\n",
      "\n",
      "\n",
      "\n"
     ]
    }
   ],
   "source": [
    "\n",
    "for candidate in which_candidates:\n",
    "    print \"Most\",candidate,\":\"\n",
    "    for idx, row in cv_result[cv_result.speaker == cv_result.predict].sort_values(by=candidate,ascending=False).iloc[0:10].iterrows():\n",
    "        sent = row.sentence\n",
    "        print \"\\t\",sent[0].upper()+sent[1:]\n",
    "        print \"--\",row.speech_idx, row.title\n",
    "        print long_df.loc[row.speech_idx].link\n",
    "        print \"Predicted Clinton: \",row.Clinton\n",
    "        print \"Predicted Trump: \",row.Trump\n",
    "        print\n",
    "    print\n",
    "    print\n",
    "    "
   ]
  },
  {
   "cell_type": "code",
   "execution_count": 53,
   "metadata": {
    "collapsed": true
   },
   "outputs": [],
   "source": [
    "cv_result.sort_values('Trump', inplace=True)"
   ]
  },
  {
   "cell_type": "code",
   "execution_count": 54,
   "metadata": {
    "collapsed": false
   },
   "outputs": [],
   "source": [
    "cv_result.to_csv('cv_result_oct18.csv')\n",
    "cv_result.to_csv('cv_result.csv')"
   ]
  },
  {
   "cell_type": "code",
   "execution_count": null,
   "metadata": {
    "collapsed": true
   },
   "outputs": [],
   "source": []
  },
  {
   "cell_type": "code",
   "execution_count": 55,
   "metadata": {
    "collapsed": false,
    "scrolled": true
   },
   "outputs": [
    {
     "name": "stdout",
     "output_type": "stream",
     "text": [
      "Most Clinton-like, but not:\n",
      "\tFor example, one victory we did have late last year, we passed the bill in the house and the senate to repeal obamacare completely.\n",
      "-- 37 Faith and Freedom Coalition Conference\n",
      "http://www.c-span.org/video/?410912-1/faith-freedom-coalition-holds-annual-conference\n",
      "Predicted Clinton:  0.999933944642\n",
      "Predicted Trump:  6.60553575782e-05\n",
      "\n",
      "\tThis is why we have already  passed legislation to support  wounded warriors, veterans who  struggle with mental health challenges and earlier this week to support female veterans in  particular who need our help.\n",
      "-- 37 Faith and Freedom Coalition Conference\n",
      "http://www.c-span.org/video/?410912-1/faith-freedom-coalition-holds-annual-conference\n",
      "Predicted Clinton:  0.999925846791\n",
      "Predicted Trump:  7.41532093799e-05\n",
      "\n",
      "\tOur whole country loses when young people of limitless potential are denied the opportunity to contribute their talents because we failed to provide them the opportunities that they deserve.\n",
      "-- 20 Donald Trump Campaign Rally in Charlotte, North Carolina\n",
      "http://www.c-span.org/video/?414134-1/donald-trump-campaigns-charlotte-north-carolina\n",
      "Predicted Clinton:  0.999889880987\n",
      "Predicted Trump:  0.00011011901274\n",
      "\n",
      "\tAnd, finally, finally, all of us on this stage, all of you in the audience who have served, you took a nose, you pledged --an oath, you plants, sealed with your honor and commitment to your lives, not solely to the country, not to a flat, not to a chain of command, not to a commander in chief, but an oath to a piece of paper, a piece of parchment upon which is written those ideals in which we believe, those values that define us as a nation, is very virtues that those who have served before us defended with their lives.\n",
      "-- 11 Presidential Candidate Donald Trump Event in Washington, D.C.\n",
      "http://www.c-span.org/video/?415375-1/donald-trump-says-president-obama-born-us\n",
      "Predicted Clinton:  0.999845942131\n",
      "Predicted Trump:  0.000154057869288\n",
      "\n",
      "\tSpecific ways our church can  step up and lead in this and we  are at our best when we actually do that.\n",
      "-- 37 Faith and Freedom Coalition Conference\n",
      "http://www.c-span.org/video/?410912-1/faith-freedom-coalition-holds-annual-conference\n",
      "Predicted Clinton:  0.999824934048\n",
      "Predicted Trump:  0.000175065951827\n",
      "\n",
      "\tNew york values were on display for all to see in the aftermath of 9/11 that struck at the heart of our city and our nation.\n",
      "-- 53 Donald Trump Remarks at New York State Republican Gala\n",
      "http://www.c-span.org/video/?408067-1/2016-new-york-state-republican-gala\n",
      "Predicted Clinton:  0.999753695122\n",
      "Predicted Trump:  0.000246304878114\n",
      "\n",
      "\tAnd i want to tell you it is a  prime example of one of our major responsibilities in the  congress that is often overlooked.\n",
      "-- 37 Faith and Freedom Coalition Conference\n",
      "http://www.c-span.org/video/?410912-1/faith-freedom-coalition-holds-annual-conference\n",
      "Predicted Clinton:  0.999674138947\n",
      "Predicted Trump:  0.000325861053417\n",
      "\n",
      "\tThat's why we passed --  -- that's why we also pass add  bill that helps victims of child pornography get restitution from those who frost from their pain  and took steps to crack down on so-called pass the trash practice of schools.\n",
      "-- 37 Faith and Freedom Coalition Conference\n",
      "http://www.c-span.org/video/?410912-1/faith-freedom-coalition-holds-annual-conference\n",
      "Predicted Clinton:  0.999657792092\n",
      "Predicted Trump:  0.000342207908402\n",
      "\n",
      "\tTheir story of prescription drugs, heroin, and missed opportunities in the court system is why we need to plan to end the opioid epidemic.\n",
      "-- 1 Donald Trump Rally in Portsmouth, New Hampshire\n",
      "http://www.c-span.org/video/?417017-1/donald-trump-rally-portsmouth-new-hampshire\n",
      "Predicted Clinton:  0.999640367638\n",
      "Predicted Trump:  0.000359632362167\n",
      "\n",
      "\tBut americans expect us to work on things we can agree on and we've worked to find common ground.\n",
      "-- 37 Faith and Freedom Coalition Conference\n",
      "http://www.c-span.org/video/?410912-1/faith-freedom-coalition-holds-annual-conference\n",
      "Predicted Clinton:  0.999623052976\n",
      "Predicted Trump:  0.000376947023609\n",
      "\n",
      "\n",
      "\n",
      "Most Trump-like, but not:\n",
      "\tOn that very same day that those people were killed in oregon, a five-month-old baby strapped into her car seat in the back of a car was killed by a stray bullet in cleveland.\n",
      "-- 194 Presidential Candidate Hillary Clinton Remarks on Gun Violence\n",
      "http://www.c-span.org/video/?328577-1/hillary-clinton-remarks-gun-violence\n",
      "Predicted Clinton:  0.000423264186921\n",
      "Predicted Trump:  0.999576735813\n",
      "\n",
      "\tTrump actually says he would do a much better job for women than i would that is a general election debate that is going to be a lots of fun.\n",
      "-- 199 Democratic National Committee Summer Meeting, Morning Session\n",
      "http://www.c-span.org/video/?327791-1/lincoln-chafee-hillary-clinton-dnc-summer-meeting\n",
      "Predicted Clinton:  0.00088547639517\n",
      "Predicted Trump:  0.999114523605\n",
      "\n",
      "\tThe deals -- the merits of the deal happen will discussed, so i will not go through them here.\n",
      "-- 197 Presidential Candidate Hillary Clinton on Iran Nuclear Agreement\n",
      "http://www.c-span.org/video/?328006-1/hillary-clinton-address-iran-nuclear-agreement\n",
      "Predicted Clinton:  0.000935661768736\n",
      "Predicted Trump:  0.999064338231\n",
      "\n",
      "\tI would not support this agreement for one second if i thought it put israel in greater danger.\n",
      "-- 197 Presidential Candidate Hillary Clinton on Iran Nuclear Agreement\n",
      "http://www.c-span.org/video/?328006-1/hillary-clinton-address-iran-nuclear-agreement\n",
      "Predicted Clinton:  0.00115768506556\n",
      "Predicted Trump:  0.998842314934\n",
      "\n",
      "\tThe obsession in some corders with clash of civilization or repeating the specific records, radical islamic terrorism isn't just a distraction, it gives these criminals, more murdererrers more standing than they deserve.\n",
      "-- 188 Presidential Candidate Hillary Clinton National Security Address\n",
      "http://www.c-span.org/video/?400960-1/hillary-clinton-national-security-address\n",
      "Predicted Clinton:  0.00144536727955\n",
      "Predicted Trump:  0.99855463272\n",
      "\n",
      "\tAnd he has reached out and he has invited people, and they just get further and further away, and their attitude basically has become -- they don't even like the run speaker of the house.\n",
      "-- 193 Presidential Candidate Hillary Clinton Campaign Rally in Las Vegas\n",
      "http://www.c-span.org/video/?328637-1/hillary-clinton-campaign-rally-las-vegas\n",
      "Predicted Clinton:  0.00148056503607\n",
      "Predicted Trump:  0.998519434964\n",
      "\n",
      "\tI don't know what would have happened to my family if he had done a -- trump says we are not going to pay you, and then after harassing, may be they say ok we will pay you $.30 on the dollar.\n",
      "-- 125 Presidential Candidate Hillary Clinton Campaign Event in Cleveland\n",
      "http://www.c-span.org/video/?414755-1/hillary-clinton-tim-kaine-hold-labor-day-rally\n",
      "Predicted Clinton:  0.00163155189167\n",
      "Predicted Trump:  0.998368448108\n",
      "\n",
      "\tI am telling you, folks, we cannot let any lobby, we cannot let money unelected force for money, guns, drugs, oil, insurance, you name it -- they cannot control our government any longer.\n",
      "-- 173 Presidential Candidate Hillary Clinton Rally in Manchester, New Hampshire\n",
      "http://www.c-span.org/video/?404415-1/hillary-clinton-campaign-rally-manchester-new-hampshire\n",
      "Predicted Clinton:  0.00186448665113\n",
      "Predicted Trump:  0.998135513349\n",
      "\n",
      "\tIn my husband's place, it was from george washington to ronald reagan, civil war, lots of other stuff going on and two temperatures of ronald reagan and one term of george h.w.\n",
      "-- 195 Presidential Candidate Hillary Clinton in Davie, Florida\n",
      "http://www.c-span.org/video/?328503-1/hillary-clinton-grassroots-campaign-event-davie-florida\n",
      "Predicted Clinton:  0.00193281466497\n",
      "Predicted Trump:  0.998067185335\n",
      "\n",
      "\tAnd the final things i would  say, this is the 10th or 12th  time that he's denied being for  the war in iraq.\n",
      "-- 112 Presidential Candidates Debate\n",
      "http://www.c-span.org/video/?414227-1/presidential-nominees-debate-washington-university\n",
      "Predicted Clinton:  0.00213080912367\n",
      "Predicted Trump:  0.997869190876\n",
      "\n",
      "\n",
      "\n"
     ]
    }
   ],
   "source": [
    "\n",
    "for candidate in which_candidates:\n",
    "    print \"Most\",candidate+\"-like, but not:\"\n",
    "    for idx, row in cv_result[cv_result.speaker != cv_result.predict].sort_values(by=candidate,ascending=False).iloc[0:10].iterrows():\n",
    "        sent = row.sentence\n",
    "        print \"\\t\",sent[0].upper()+sent[1:]\n",
    "        print \"--\",row.speech_idx, row.title\n",
    "        print long_df.loc[row.speech_idx].link\n",
    "        print \"Predicted Clinton: \",row.Clinton\n",
    "        print \"Predicted Trump: \",row.Trump\n",
    "        print\n",
    "    print\n",
    "    print"
   ]
  },
  {
   "cell_type": "code",
   "execution_count": 56,
   "metadata": {
    "collapsed": false
   },
   "outputs": [],
   "source": [
    "sums = {}\n",
    "for candidate in which_candidates:\n",
    "    sums[candidate] = pd.DataFrame(index=segment_coefs[0].index)\n",
    "t0 = time.time()\n",
    "for i, segment in enumerate(segment_coefs):\n",
    "    segment.drop_duplicates(inplace=True)\n",
    "    for candidate in which_candidates:\n",
    "        sums[candidate] = sums[candidate].join(segment[candidate], rsuffix=str(i))\n",
    "        sums[candidate].drop_duplicates(inplace=True)\n"
   ]
  },
  {
   "cell_type": "code",
   "execution_count": 57,
   "metadata": {
    "collapsed": false
   },
   "outputs": [],
   "source": [
    "average_coef = pd.DataFrame()\n",
    "\n",
    "for candidate in which_candidates:\n",
    "    sums[candidate].fillna(1.0, inplace=True) # odds ratio\n",
    "    #     average_coef[candidate] = sums[candidate].apply(lambda x: len(x) / sum([1./i for i in x]), axis=1)\n",
    "    logged = np.log(sums[candidate])\n",
    "    average_coef[candidate] = np.e**(logged.sum(axis=1) /  logged.shape[1])"
   ]
  },
  {
   "cell_type": "code",
   "execution_count": 277,
   "metadata": {
    "collapsed": false
   },
   "outputs": [
    {
     "name": "stdout",
     "output_type": "stream",
     "text": [
      "tremendous       14.57\n",
      "guy              10.25\n",
      "media             8.60\n",
      "does it           8.24\n",
      "hillary           8.15\n",
      "politicians       8.00\n",
      "almost            7.83\n",
      "incredible        7.42\n",
      "illegal           7.16\n",
      "general           7.03\n",
      "frankly           6.97\n",
      "border            6.89\n",
      "establishment     6.84\n",
      "jeb               6.76\n",
      "allowed           6.72\n",
      "obama             6.48\n",
      "poll              6.24\n",
      "by the way        6.21\n",
      "bernie            6.20\n",
      "ivanka            6.09\n",
      "japan             5.98\n",
      "politician        5.96\n",
      "nice              5.93\n",
      "conservative      5.90\n",
      "islamic           5.77\n",
      "hispanics         5.76\n",
      "deals             5.47\n",
      "win               5.43\n",
      "guys              5.34\n",
      "believe me        5.32\n",
      "Name: Trump, dtype: float64\n",
      "\n",
      "my husband            12.95\n",
      "recession             10.28\n",
      "attention              9.72\n",
      "wall street            9.44\n",
      "grateful               9.23\n",
      "or us                  8.39\n",
      "citizens united        7.97\n",
      "mother                 7.20\n",
      "something else         7.17\n",
      "strategy               7.05\n",
      "clear                  6.81\n",
      "kids                   6.74\n",
      "gun                    6.69\n",
      "i remember             6.51\n",
      "corporations           6.51\n",
      "learning               6.36\n",
      "democratic             6.28\n",
      "clean energy           6.24\n",
      "well we                6.14\n",
      "insurance              6.14\n",
      "grandmother            6.12\n",
      "experiences            6.00\n",
      "progress               5.94\n",
      "auto                   5.90\n",
      "climate                5.89\n",
      "over again             5.85\n",
      "often                  5.80\n",
      "a raise                5.71\n",
      "about what             5.68\n",
      "immigration reform     5.62\n",
      "Name: Clinton, dtype: float64\n"
     ]
    }
   ],
   "source": [
    "print (average_coef.sort_values(by='Trump', ascending=False).head(30)['Trump']*100).astype(int)/100\n",
    "print\n",
    "print (average_coef.sort_values(by='Trump', ascending=True).head(30)['Clinton']*100).astype(int)/100"
   ]
  },
  {
   "cell_type": "code",
   "execution_count": 59,
   "metadata": {
    "collapsed": true
   },
   "outputs": [],
   "source": [
    "average_coef.sort_values('Trump', inplace=True)\n",
    "average_coef.to_csv('average_coef_oct_18.csv')\n",
    "average_coef.to_csv('average_coef.csv')"
   ]
  },
  {
   "cell_type": "code",
   "execution_count": 60,
   "metadata": {
    "collapsed": true
   },
   "outputs": [],
   "source": [
    "\n",
    "def color_map(percent, top, bottom):\n",
    "    if percent >1:\n",
    "        percent = 1\n",
    "    diff = [t-b for t,b in zip(top, bottom)]\n",
    "    \n",
    "    return [(d*percent)+b for d,b in zip(diff, bottom)]\n",
    "    "
   ]
  },
  {
   "cell_type": "code",
   "execution_count": 61,
   "metadata": {
    "collapsed": false
   },
   "outputs": [],
   "source": [
    "pronoun_coefs = average_coef.loc[[col for col in average_coef.index if col in pronouns]].sort_values('Trump', ascending=False)\n",
    "# toplot = pronoun_coefs[((pronoun_coefs.Trump >= 1.5) | (pronoun_coefs.Clinton >=1.5))].copy()\n",
    "toplot = pronoun_coefs.iloc[0:15].append(pronoun_coefs.iloc[-15:])\n"
   ]
  },
  {
   "cell_type": "code",
   "execution_count": 260,
   "metadata": {
    "collapsed": false
   },
   "outputs": [
    {
     "data": {
      "image/png": "[encoded data removed]",
      "text/plain": [
       "<matplotlib.figure.Figure at 0x13c2cbf50>"
      ]
     },
     "metadata": {},
     "output_type": "display_data"
    }
   ],
   "source": [
    "pronoun_coefs = average_coef.loc[[col for col in average_coef.index if col in pronouns]].sort_values('Trump', ascending=False)\n",
    "# toplot = pronoun_coefs[((pronoun_coefs.Trump >= 1.5) | (pronoun_coefs.Clinton >=1.5))].copy()\n",
    "toplot = pronoun_coefs.iloc[0:10].append(pronoun_coefs.iloc[-10:])\n",
    "\n",
    "f, (ax1) = plt.subplots(1,1, figsize=(8,7))\n",
    "label_size = 12\n",
    "value_size = 9\n",
    "\n",
    "vals = [np.log(x) for x in toplot.sort_values('Trump', ascending=False).Trump]\n",
    "\n",
    "#minimum=abs(min(vals))\n",
    "maximum=max(vals)\n",
    "minimum=maximum\n",
    "blue=[0,.1,.8]\n",
    "red = [.8,.1,0]\n",
    "white = [1,1,1]\n",
    "colors = [color_map(-value/minimum, blue, white) if value < 0 else color_map(value/maximum, red, white) for value in vals]\n",
    "\n",
    "\n",
    "sns.barplot(x=vals,\n",
    "            y=toplot.sort_values('Trump', ascending=False).index, ax=ax1,\n",
    "            palette=colors, \n",
    "#             color=colors,\n",
    "            edgecolor='black')\n",
    "\n",
    "ax1.set_title(\"How Pronouns Multiply the Predicted Odds that\\nClinton or Trump Was the Speaker\\n\", fontsize=28, color=[.25,.25,.25])\n",
    "\n",
    "# ax1.set_yticklabels([x[0].upper()+x[1:] for x in toplot.sort_values('Trump', ascending=False).index.values], fontsize=16)\n",
    "\n",
    "\n",
    "labels = [x[0].upper()+x[1:] for x in toplot.sort_values('Trump', ascending=False).index.values]\n",
    "for i, patch in enumerate(ax1.patches):\n",
    "    width = patch.get_width()\n",
    "    \n",
    "    if patch.get_x() < 0:\n",
    "        # Bars extending on the left\n",
    "        label_x = .05\n",
    "        label_halign = 'left'\n",
    "        if patch.get_width() >= np.log(1.15):     \n",
    "            value_x = patch.get_x()+.04\n",
    "            value_halign = 'left'\n",
    "        else:\n",
    "            value_x = patch.get_x()-.04\n",
    "            value_halign='right'\n",
    "    else:\n",
    "        # Bars extending on the right\n",
    "        label_x = -.05\n",
    "        label_halign = 'right'\n",
    "        if patch.get_width() >= np.log(1.15):\n",
    "            value_x = patch.get_width()-.04\n",
    "            value_halign = 'right'\n",
    "        else:\n",
    "            value_x = patch.get_width() + .04\n",
    "            value_halign = 'left'\n",
    "\n",
    "    value_color = [.1,.1,.1]\n",
    "    if patch.get_width()> np.log(2): value_color = 'white'\n",
    "    ax1.text(label_x, patch.get_y()+.61, '%s'%(labels[i]), color=[.1,.1,.1], ha=label_halign, fontsize=label_size)   \n",
    "    ax1.text(value_x, patch.get_y()+.61, '%1.2f'%(np.e**abs(vals[i])), color=value_color, ha=value_halign, fontsize=label_size)    \n",
    "\n",
    "ax1.text(-np.log(4), 14, 'Clinton', color='b', fontsize=24)\n",
    "ax1.text(np.log(4), 6.6, 'Trump', color='r', fontsize=24, ha='right')\n",
    "\n",
    "ax1.set_yticklabels([])\n",
    "ax1.set_xlabel('')\n",
    "ax1.set_xlim([-np.log(5),np.log(5)])\n",
    "\n",
    "ax1.set_xticks([-np.log(4),-np.log(3),-np.log(2),0,np.log(2),np.log(3), np.log(4)], minor=False)\n",
    "ax1.set_xticklabels([4,3,2,1,2,3,4], minor=False)\n",
    "\n",
    "f.text(.95, .07, 'by Jesse Galef\\nbased on C-SPAN.org\\ntranscripts', color=[.2,.2,.2], fontsize=12, alpha=.8, ha='right', weight='bold', variant='small-caps')\n",
    "\n",
    "\n",
    "plt.plot()\n",
    "f.tight_layout(rect=[0,0,.95,.95])"
   ]
  },
  {
   "cell_type": "code",
   "execution_count": 63,
   "metadata": {
    "collapsed": false
   },
   "outputs": [
    {
     "data": {
      "image/png": "[encoded data removed]",
      "text/plain": [
       "<matplotlib.figure.Figure at 0x126968b10>"
      ]
     },
     "metadata": {},
     "output_type": "display_data"
    }
   ],
   "source": [
    "conj_coefs = average_coef.loc[[col for col in average_coef.index if col in conjunctions]].sort_values('Trump', ascending=False)\n",
    "# toplot = pronoun_coefs[((pronoun_coefs.Truzmp >= 1.5) | (pronoun_coefs.Clinton >=1.5))].copy()\n",
    "# toplot = conj_coefs.iloc[0:10].append(conj_coefs.iloc[-10:])\n",
    "toplot = conj_coefs\n",
    "\n",
    "f, (ax1) = plt.subplots(1,1, figsize=(12,9))\n",
    "label_size = 12\n",
    "value_size = 9\n",
    "\n",
    "vals = [np.log(x) for x in toplot.sort_values('Trump', ascending=False).Trump]\n",
    "\n",
    "#minimum=abs(min(vals))\n",
    "maximum=max(vals)\n",
    "minimum=maximum\n",
    "blue=[0,.1,.8]\n",
    "red = [.8,.1,0]\n",
    "white = [1,1,1]\n",
    "colors = [color_map(-value/minimum, blue, white) if value < 0 else color_map(value/maximum, red, white) for value in vals]\n",
    "\n",
    "\n",
    "sns.barplot(x=vals,\n",
    "            y=toplot.sort_values('Trump', ascending=False).index, ax=ax1,\n",
    "            palette=colors, \n",
    "#             color=colors,\n",
    "            edgecolor='black')\n",
    "\n",
    "ax1.set_title(\"How Conjunctions Multiply the Predicted Odds that\\nClinton or Trump Was the Speaker\\n\", fontsize=28, color=[.25,.25,.25])\n",
    "\n",
    "# ax1.set_yticklabels([x[0].upper()+x[1:] for x in toplot.sort_values('Trump', ascending=False).index.values], fontsize=16)\n",
    "\n",
    "\n",
    "labels = [x[0].upper()+x[1:] for x in toplot.sort_values('Trump', ascending=False).index.values]\n",
    "for i, patch in enumerate(ax1.patches):\n",
    "    width = patch.get_width()\n",
    "    \n",
    "    if patch.get_x() < 0:\n",
    "        # Bars extending on the left\n",
    "        label_x = .05\n",
    "        label_halign = 'left'\n",
    "        if patch.get_width() >= np.log(1.15):     \n",
    "            value_x = patch.get_x()+.04\n",
    "            value_halign = 'left'\n",
    "        else:\n",
    "            value_x = patch.get_x()-.04\n",
    "            value_halign='right'\n",
    "    else:\n",
    "        # Bars extending on the right\n",
    "        label_x = -.05\n",
    "        label_halign = 'right'\n",
    "        if patch.get_width() >= np.log(1.15):\n",
    "            value_x = patch.get_width()-.04\n",
    "            value_halign = 'right'\n",
    "        else:\n",
    "            value_x = patch.get_width() + .04\n",
    "            value_halign = 'left'\n",
    "\n",
    "    value_color = [.1,.1,.1]\n",
    "    if patch.get_width()> np.log(2): value_color = 'white'\n",
    "    ax1.text(label_x, patch.get_y()+.61, '%s'%(labels[i]), color=[.1,.1,.1], ha=label_halign, fontsize=label_size)   \n",
    "    ax1.text(value_x, patch.get_y()+.61, '%1.2f'%(np.e**abs(vals[i])), color=value_color, ha=value_halign, fontsize=label_size)    \n",
    "\n",
    "ax1.text(-np.log(2.95), 14, 'Clinton', color='b', fontsize=24)\n",
    "ax1.text(np.log(2.95), 5, 'Trump', color='r', fontsize=24, ha='right')\n",
    "\n",
    "ax1.set_yticklabels([])\n",
    "ax1.set_xlabel('')\n",
    "ax1.set_xlim([-np.log(5),np.log(5)])\n",
    "\n",
    "ax1.set_xticks([-np.log(4),-np.log(3),-np.log(2),0,np.log(2),np.log(3), np.log(4)], minor=False)\n",
    "ax1.set_xticklabels([4,3,2,1,2,3,4], minor=False)\n",
    "\n",
    "f.text(.95, .07, 'by\\nJesse Galef', color=[.2,.2,.2], fontsize=12, alpha=.8, ha='right', weight='bold', variant='small-caps')\n",
    "\n",
    "\n",
    "plt.plot()\n",
    "f.tight_layout(rect=[0,0,.95,.95])"
   ]
  },
  {
   "cell_type": "code",
   "execution_count": 294,
   "metadata": {
    "collapsed": false
   },
   "outputs": [
    {
     "data": {
      "image/png": "[encoded data removed]",
      "text/plain": [
       "<matplotlib.figure.Figure at 0x1400a6510>"
      ]
     },
     "metadata": {},
     "output_type": "display_data"
    }
   ],
   "source": [
    "#  seaborn.barplot(x=None, y=None, hue=None, data=None, order=None, hue_order=None, \n",
    "#  estimator=<function mean>, ci=95, n_boot=1000, units=None, orient=None, color=None,\n",
    "#  palette=None, saturation=0.75, errcolor='.26', errwidth=None, capsize=None, ax=None, **kwargs)¶\n",
    "f, ax1 = plt.subplots(1,1, figsize=(15,9))\n",
    "\n",
    "ax1.set_yticks([-1*np.log(x) for x in range(10,1,-1)]+[0]+[np.log(y) for y in range(2,11)])\n",
    "    \n",
    "ax1.set_yticklabels(range(10,1,-1)+['1']+range(2,11))\n",
    "\n",
    "\n",
    "ax1.set_ylabel('')\n",
    "\n",
    "label_font_size = 14\n",
    "value_font_size=11\n",
    "rotate =60\n",
    "n_words = 20\n",
    "\n",
    "color_adjustment = np.log(3)\n",
    "val_series = average_coef.sort_values('Trump', ascending=False)['Trump']\n",
    "vals = val_series[:n_words].append(val_series[-n_words:])\n",
    "vals = np.log(vals)\n",
    "\n",
    "# minimum=abs(min(vals))\n",
    "maximum=max(vals)\n",
    "minimum=maximum\n",
    "blue=[0,.1,.8]\n",
    "red = [.8,.1,0]\n",
    "white = [1,1,1]\n",
    "\n",
    "colors = [color_map(-(value+color_adjustment)/(minimum-color_adjustment), blue, white) if value < 0 else color_map((value-color_adjustment)/(maximum-color_adjustment), red, white) for value in vals]\n",
    "\n",
    "sns.barplot(y=vals,\n",
    "            x=vals.index, ax=ax1,\n",
    "            palette=colors, \n",
    "#             color=colors,\n",
    "            edgecolor='black')\n",
    "\n",
    "ax1.set_xticks([])\n",
    "ax1.set_xlabel('')\n",
    "ax1.set_title(\"Top \"+str(n_words)+\" Words/Phrases that Multiply the Predicted Odds\\nClinton or Trump was the Speaker\\n\", fontsize=28, color=[.25,.25,.25])\n",
    "\n",
    "\n",
    "labels = [x[0].upper()+x[1:] for x in vals.sort_values(ascending=False).index.values]\n",
    "\n",
    "for i, patch in enumerate(ax1.patches):\n",
    "    height = patch.get_height()\n",
    "    if patch.get_y() < 0:\n",
    "#         y = patch.get_y() -.5\n",
    "        if height > np.log(6): \n",
    "            color = 'white'\n",
    "        else:\n",
    "            color = 'black'\n",
    "\n",
    "        ax1.text(patch.get_x()+.1, .1, '%s'%(labels[i]), color=[.1,.1,.1], va='bottom', ha='left', rotation=rotate, fontsize=label_font_size)\n",
    "        ax1.text(patch.get_x()+.15, patch.get_y()+.15, '%1.2f'%(np.e**abs(vals[i])), color=color, rotation=90, va='bottom', fontsize=value_font_size)\n",
    "    else:\n",
    "        if height > np.log(7): \n",
    "            color = 'white'\n",
    "        else:\n",
    "            color = 'black'\n",
    "        ax1.text(patch.get_x()+.7, -.05, '%s'%(labels[i]), color=[.1,.1,.1], ha='right', va='top', rotation=rotate, fontsize=label_font_size)\n",
    "        ax1.text(patch.get_x()+.15, patch.get_y()+height-.3, '%1.2f'%(np.e**abs(vals[i])), color=color, rotation = 90, va='bottom', fontsize=value_font_size)\n",
    "\n",
    "            \n",
    "f.text(.95, .95, 'Jesse Galef', color=[.2,.2,.2], fontsize=16, alpha=.8, ha='right', weight='bold', variant='small-caps')\n",
    "\n",
    "ax1.set_ylim([-np.log(14), np.log(14)])\n",
    "\n",
    "# ax1.yaxis.tick_right()\n",
    "# ax1.yaxis.set_ticks_position('both')\n",
    "\n",
    "for i, ygrid in enumerate(ax1.get_ygridlines()):\n",
    "#     print ygrid.get_ydata(orig=False)[0], np.log(2)\n",
    "#     if abs(ygrid.get_ydata(orig=True)[0]) == np.log(2):\n",
    "    if i==8 or i==10:\n",
    "        ygrid.set_xdata([0,0])\n",
    "\n",
    "plt.grid(which='major', color=[.7,.7,.7], alpha=.7)\n",
    "plt.margins(.3)\n",
    "plt.plot()\n",
    "f.tight_layout(rect=[0,0,.95,.95])\n",
    "\n"
   ]
  },
  {
   "cell_type": "code",
   "execution_count": 257,
   "metadata": {
    "collapsed": false
   },
   "outputs": [
    {
     "data": {
      "text/plain": [
       "(34108, 10)"
      ]
     },
     "execution_count": 257,
     "metadata": {},
     "output_type": "execute_result"
    }
   ],
   "source": [
    "cv_result.shape"
   ]
  },
  {
   "cell_type": "code",
   "execution_count": 298,
   "metadata": {
    "collapsed": false,
    "scrolled": false
   },
   "outputs": [
    {
     "data": {
      "text/html": [
       "<div>\n",
       "<table border=\"1\" class=\"dataframe\">\n",
       "  <thead>\n",
       "    <tr style=\"text-align: right;\">\n",
       "      <th></th>\n",
       "      <th>Clinton</th>\n",
       "      <th>Trump</th>\n",
       "    </tr>\n",
       "  </thead>\n",
       "  <tbody>\n",
       "    <tr>\n",
       "      <th>the bush</th>\n",
       "      <td>2.764533</td>\n",
       "      <td>0.361725</td>\n",
       "    </tr>\n",
       "    <tr>\n",
       "      <th>and jeb bush</th>\n",
       "      <td>1.105872</td>\n",
       "      <td>0.904264</td>\n",
       "    </tr>\n",
       "    <tr>\n",
       "      <th>george w bush</th>\n",
       "      <td>1.099748</td>\n",
       "      <td>0.909299</td>\n",
       "    </tr>\n",
       "    <tr>\n",
       "      <th>bush administration</th>\n",
       "      <td>1.026241</td>\n",
       "      <td>0.974430</td>\n",
       "    </tr>\n",
       "    <tr>\n",
       "      <th>than george bush</th>\n",
       "      <td>0.984305</td>\n",
       "      <td>1.015945</td>\n",
       "    </tr>\n",
       "  </tbody>\n",
       "</table>\n",
       "</div>"
      ],
      "text/plain": [
       "                      Clinton     Trump\n",
       "the bush             2.764533  0.361725\n",
       "and jeb bush         1.105872  0.904264\n",
       "george w bush        1.099748  0.909299\n",
       "bush administration  1.026241  0.974430\n",
       "than george bush     0.984305  1.015945"
      ]
     },
     "execution_count": 298,
     "metadata": {},
     "output_type": "execute_result"
    }
   ],
   "source": [
    "word = 'bush'\n",
    "# word_in_term = [word in re.findall(regex_token_pattern,term) for term in average_coef.index]\n",
    "word_in_term = [word in term for term in average_coef.index]\n",
    "\n",
    "average_coef[word_in_term]"
   ]
  },
  {
   "cell_type": "code",
   "execution_count": 284,
   "metadata": {
    "collapsed": false
   },
   "outputs": [
    {
     "name": "stdout",
     "output_type": "stream",
     "text": [
      "CPU times: user 1min 17s, sys: 1.58 s, total: 1min 19s\n",
      "Wall time: 1min 19s\n"
     ]
    }
   ],
   "source": [
    "%%time\n",
    "long_diff = []\n",
    "for first_term in average_coef.index:\n",
    "    for word in first_term.split():\n",
    "        if len(word)>=5:\n",
    "            overlap_list = [term for term in average_coef.index if (word in term and first_term!=term)]\n",
    "            for overlap in overlap_list:\n",
    "                term1_odds = average_coef.loc[first_term].Clinton\n",
    "                overlap_odds = average_coef.loc[overlap].Clinton\n",
    "                if np.log(term1_odds)*np.log(overlap_odds) <0: # If the terms indicate opposite candidates\n",
    "                    long_diff.append([first_term, overlap, term1_odds,overlap_odds, term1_odds/overlap_odds])\n"
   ]
  },
  {
   "cell_type": "code",
   "execution_count": 285,
   "metadata": {
    "collapsed": false
   },
   "outputs": [
    {
     "data": {
      "text/plain": [
       "37031"
      ]
     },
     "execution_count": 285,
     "metadata": {},
     "output_type": "execute_result"
    }
   ],
   "source": [
    "len(over)"
   ]
  },
  {
   "cell_type": "code",
   "execution_count": 286,
   "metadata": {
    "collapsed": false
   },
   "outputs": [],
   "source": [
    "over = pd.DataFrame(long_diff, columns=['Term1', 'Term2','Term1_Clinton','Term2_Clinton', 'Mult'])"
   ]
  },
  {
   "cell_type": "code",
   "execution_count": 287,
   "metadata": {
    "collapsed": false
   },
   "outputs": [
    {
     "data": {
      "text/html": [
       "<div>\n",
       "<table border=\"1\" class=\"dataframe\">\n",
       "  <thead>\n",
       "    <tr style=\"text-align: right;\">\n",
       "      <th></th>\n",
       "      <th>Term1</th>\n",
       "      <th>Term2</th>\n",
       "      <th>Term1_Clinton</th>\n",
       "      <th>Term2_Clinton</th>\n",
       "      <th>Mult</th>\n",
       "    </tr>\n",
       "  </thead>\n",
       "  <tbody>\n",
       "    <tr>\n",
       "      <th>0</th>\n",
       "      <td>citizens united</td>\n",
       "      <td>citizens and</td>\n",
       "      <td>7.979482</td>\n",
       "      <td>0.863269</td>\n",
       "      <td>9.243327</td>\n",
       "    </tr>\n",
       "    <tr>\n",
       "      <th>1</th>\n",
       "      <td>citizens united</td>\n",
       "      <td>citizens</td>\n",
       "      <td>7.979482</td>\n",
       "      <td>0.627167</td>\n",
       "      <td>12.723057</td>\n",
       "    </tr>\n",
       "    <tr>\n",
       "      <th>2</th>\n",
       "      <td>citizens united</td>\n",
       "      <td>citizens of the</td>\n",
       "      <td>7.979482</td>\n",
       "      <td>0.621886</td>\n",
       "      <td>12.831108</td>\n",
       "    </tr>\n",
       "    <tr>\n",
       "      <th>3</th>\n",
       "      <td>citizens united</td>\n",
       "      <td>the united nations</td>\n",
       "      <td>7.979482</td>\n",
       "      <td>0.837879</td>\n",
       "      <td>9.523426</td>\n",
       "    </tr>\n",
       "    <tr>\n",
       "      <th>4</th>\n",
       "      <td>citizens united</td>\n",
       "      <td>with the united</td>\n",
       "      <td>7.979482</td>\n",
       "      <td>0.822779</td>\n",
       "      <td>9.698205</td>\n",
       "    </tr>\n",
       "  </tbody>\n",
       "</table>\n",
       "</div>"
      ],
      "text/plain": [
       "             Term1               Term2  Term1_Clinton  Term2_Clinton  \\\n",
       "0  citizens united        citizens and       7.979482       0.863269   \n",
       "1  citizens united            citizens       7.979482       0.627167   \n",
       "2  citizens united     citizens of the       7.979482       0.621886   \n",
       "3  citizens united  the united nations       7.979482       0.837879   \n",
       "4  citizens united     with the united       7.979482       0.822779   \n",
       "\n",
       "        Mult  \n",
       "0   9.243327  \n",
       "1  12.723057  \n",
       "2  12.831108  \n",
       "3   9.523426  \n",
       "4   9.698205  "
      ]
     },
     "execution_count": 287,
     "metadata": {},
     "output_type": "execute_result"
    }
   ],
   "source": [
    "over.head()"
   ]
  },
  {
   "cell_type": "code",
   "execution_count": 288,
   "metadata": {
    "collapsed": true
   },
   "outputs": [],
   "source": [
    "over.sort_values('Mult').to_csv('overlaps.csv')"
   ]
  },
  {
   "cell_type": "code",
   "execution_count": null,
   "metadata": {
    "collapsed": true
   },
   "outputs": [],
   "source": []
  },
  {
   "cell_type": "code",
   "execution_count": 290,
   "metadata": {
    "collapsed": false
   },
   "outputs": [
    {
     "data": {
      "text/html": [
       "<div>\n",
       "<table border=\"1\" class=\"dataframe\">\n",
       "  <thead>\n",
       "    <tr style=\"text-align: right;\">\n",
       "      <th></th>\n",
       "      <th>Term1</th>\n",
       "      <th>Term2</th>\n",
       "      <th>Term1_Clinton</th>\n",
       "      <th>Term2_Clinton</th>\n",
       "      <th>Mult</th>\n",
       "    </tr>\n",
       "  </thead>\n",
       "  <tbody>\n",
       "    <tr>\n",
       "      <th>70928</th>\n",
       "      <td>american public</td>\n",
       "      <td>republicans</td>\n",
       "      <td>0.392638</td>\n",
       "      <td>5.508586</td>\n",
       "      <td>0.071277</td>\n",
       "    </tr>\n",
       "    <tr>\n",
       "      <th>72600</th>\n",
       "      <td>people that</td>\n",
       "      <td>of people who</td>\n",
       "      <td>0.280710</td>\n",
       "      <td>3.931817</td>\n",
       "      <td>0.071394</td>\n",
       "    </tr>\n",
       "    <tr>\n",
       "      <th>72854</th>\n",
       "      <td>is president</td>\n",
       "      <td>president elect</td>\n",
       "      <td>0.273321</td>\n",
       "      <td>3.775788</td>\n",
       "      <td>0.072388</td>\n",
       "    </tr>\n",
       "    <tr>\n",
       "      <th>73171</th>\n",
       "      <td>those people</td>\n",
       "      <td>33 000 people</td>\n",
       "      <td>0.218814</td>\n",
       "      <td>2.996447</td>\n",
       "      <td>0.073024</td>\n",
       "    </tr>\n",
       "    <tr>\n",
       "      <th>70335</th>\n",
       "      <td>just about the</td>\n",
       "      <td>about what</td>\n",
       "      <td>0.418374</td>\n",
       "      <td>5.687802</td>\n",
       "      <td>0.073556</td>\n",
       "    </tr>\n",
       "    <tr>\n",
       "      <th>73358</th>\n",
       "      <td>hillary</td>\n",
       "      <td>called hillarycare</td>\n",
       "      <td>0.122555</td>\n",
       "      <td>1.661645</td>\n",
       "      <td>0.073755</td>\n",
       "    </tr>\n",
       "    <tr>\n",
       "      <th>73337</th>\n",
       "      <td>obama</td>\n",
       "      <td>obamacare it was</td>\n",
       "      <td>0.154191</td>\n",
       "      <td>2.089551</td>\n",
       "      <td>0.073792</td>\n",
       "    </tr>\n",
       "    <tr>\n",
       "      <th>72724</th>\n",
       "      <td>have a president</td>\n",
       "      <td>president elect</td>\n",
       "      <td>0.278701</td>\n",
       "      <td>3.775788</td>\n",
       "      <td>0.073813</td>\n",
       "    </tr>\n",
       "    <tr>\n",
       "      <th>70237</th>\n",
       "      <td>about it</td>\n",
       "      <td>about what</td>\n",
       "      <td>0.419863</td>\n",
       "      <td>5.687802</td>\n",
       "      <td>0.073818</td>\n",
       "    </tr>\n",
       "    <tr>\n",
       "      <th>73265</th>\n",
       "      <td>talking about</td>\n",
       "      <td>about what's</td>\n",
       "      <td>0.205026</td>\n",
       "      <td>2.750879</td>\n",
       "      <td>0.074531</td>\n",
       "    </tr>\n",
       "    <tr>\n",
       "      <th>69690</th>\n",
       "      <td>strong again</td>\n",
       "      <td>over again</td>\n",
       "      <td>0.439275</td>\n",
       "      <td>5.858995</td>\n",
       "      <td>0.074975</td>\n",
       "    </tr>\n",
       "    <tr>\n",
       "      <th>73338</th>\n",
       "      <td>obama</td>\n",
       "      <td>barack obama</td>\n",
       "      <td>0.154191</td>\n",
       "      <td>2.034224</td>\n",
       "      <td>0.075798</td>\n",
       "    </tr>\n",
       "    <tr>\n",
       "      <th>65388</th>\n",
       "      <td>this thing</td>\n",
       "      <td>something else</td>\n",
       "      <td>0.543596</td>\n",
       "      <td>7.170459</td>\n",
       "      <td>0.075810</td>\n",
       "    </tr>\n",
       "    <tr>\n",
       "      <th>68259</th>\n",
       "      <td>of energy</td>\n",
       "      <td>clean energy</td>\n",
       "      <td>0.475412</td>\n",
       "      <td>6.243282</td>\n",
       "      <td>0.076148</td>\n",
       "    </tr>\n",
       "    <tr>\n",
       "      <th>71838</th>\n",
       "      <td>life better</td>\n",
       "      <td>are better than</td>\n",
       "      <td>0.345890</td>\n",
       "      <td>4.500753</td>\n",
       "      <td>0.076852</td>\n",
       "    </tr>\n",
       "    <tr>\n",
       "      <th>73172</th>\n",
       "      <td>those people</td>\n",
       "      <td>for people who</td>\n",
       "      <td>0.218814</td>\n",
       "      <td>2.823947</td>\n",
       "      <td>0.077485</td>\n",
       "    </tr>\n",
       "    <tr>\n",
       "      <th>73104</th>\n",
       "      <td>all together</td>\n",
       "      <td>it together</td>\n",
       "      <td>0.244166</td>\n",
       "      <td>3.146554</td>\n",
       "      <td>0.077598</td>\n",
       "    </tr>\n",
       "    <tr>\n",
       "      <th>60158</th>\n",
       "      <td>citizens of the</td>\n",
       "      <td>citizens united</td>\n",
       "      <td>0.621886</td>\n",
       "      <td>7.979482</td>\n",
       "      <td>0.077936</td>\n",
       "    </tr>\n",
       "    <tr>\n",
       "      <th>70616</th>\n",
       "      <td>and hillary</td>\n",
       "      <td>hillary care</td>\n",
       "      <td>0.405145</td>\n",
       "      <td>5.196741</td>\n",
       "      <td>0.077961</td>\n",
       "    </tr>\n",
       "    <tr>\n",
       "      <th>73173</th>\n",
       "      <td>those people</td>\n",
       "      <td>people in new</td>\n",
       "      <td>0.218814</td>\n",
       "      <td>2.802749</td>\n",
       "      <td>0.078071</td>\n",
       "    </tr>\n",
       "    <tr>\n",
       "      <th>67840</th>\n",
       "      <td>american energy</td>\n",
       "      <td>clean energy</td>\n",
       "      <td>0.488176</td>\n",
       "      <td>6.243282</td>\n",
       "      <td>0.078192</td>\n",
       "    </tr>\n",
       "    <tr>\n",
       "      <th>73037</th>\n",
       "      <td>thing</td>\n",
       "      <td>everything we</td>\n",
       "      <td>0.246004</td>\n",
       "      <td>3.144285</td>\n",
       "      <td>0.078238</td>\n",
       "    </tr>\n",
       "    <tr>\n",
       "      <th>71234</th>\n",
       "      <td>you people</td>\n",
       "      <td>young people</td>\n",
       "      <td>0.382193</td>\n",
       "      <td>4.877389</td>\n",
       "      <td>0.078360</td>\n",
       "    </tr>\n",
       "    <tr>\n",
       "      <th>59735</th>\n",
       "      <td>citizens</td>\n",
       "      <td>citizens united</td>\n",
       "      <td>0.627167</td>\n",
       "      <td>7.979482</td>\n",
       "      <td>0.078597</td>\n",
       "    </tr>\n",
       "    <tr>\n",
       "      <th>69337</th>\n",
       "      <td>talked about the</td>\n",
       "      <td>about what</td>\n",
       "      <td>0.450523</td>\n",
       "      <td>5.687802</td>\n",
       "      <td>0.079209</td>\n",
       "    </tr>\n",
       "    <tr>\n",
       "      <th>71005</th>\n",
       "      <td>people that are</td>\n",
       "      <td>young people</td>\n",
       "      <td>0.387067</td>\n",
       "      <td>4.877389</td>\n",
       "      <td>0.079359</td>\n",
       "    </tr>\n",
       "    <tr>\n",
       "      <th>67718</th>\n",
       "      <td>and other countries</td>\n",
       "      <td>grandmother</td>\n",
       "      <td>0.490356</td>\n",
       "      <td>6.123896</td>\n",
       "      <td>0.080073</td>\n",
       "    </tr>\n",
       "    <tr>\n",
       "      <th>73352</th>\n",
       "      <td>general</td>\n",
       "      <td>general election</td>\n",
       "      <td>0.142050</td>\n",
       "      <td>1.768879</td>\n",
       "      <td>0.080305</td>\n",
       "    </tr>\n",
       "    <tr>\n",
       "      <th>73315</th>\n",
       "      <td>believe me</td>\n",
       "      <td>believe they</td>\n",
       "      <td>0.187801</td>\n",
       "      <td>2.332372</td>\n",
       "      <td>0.080519</td>\n",
       "    </tr>\n",
       "    <tr>\n",
       "      <th>63067</th>\n",
       "      <td>something going</td>\n",
       "      <td>something else</td>\n",
       "      <td>0.579225</td>\n",
       "      <td>7.170459</td>\n",
       "      <td>0.080779</td>\n",
       "    </tr>\n",
       "    <tr>\n",
       "      <th>70230</th>\n",
       "      <td>hillary clinton's</td>\n",
       "      <td>hillary care</td>\n",
       "      <td>0.421178</td>\n",
       "      <td>5.196741</td>\n",
       "      <td>0.081047</td>\n",
       "    </tr>\n",
       "    <tr>\n",
       "      <th>72338</th>\n",
       "      <td>great people</td>\n",
       "      <td>of people who</td>\n",
       "      <td>0.318921</td>\n",
       "      <td>3.931817</td>\n",
       "      <td>0.081113</td>\n",
       "    </tr>\n",
       "    <tr>\n",
       "      <th>62592</th>\n",
       "      <td>the other way</td>\n",
       "      <td>mother</td>\n",
       "      <td>0.585725</td>\n",
       "      <td>7.204246</td>\n",
       "      <td>0.081303</td>\n",
       "    </tr>\n",
       "    <tr>\n",
       "      <th>67008</th>\n",
       "      <td>energy</td>\n",
       "      <td>clean energy</td>\n",
       "      <td>0.508217</td>\n",
       "      <td>6.243282</td>\n",
       "      <td>0.081402</td>\n",
       "    </tr>\n",
       "    <tr>\n",
       "      <th>68887</th>\n",
       "      <td>how about</td>\n",
       "      <td>about what</td>\n",
       "      <td>0.464017</td>\n",
       "      <td>5.687802</td>\n",
       "      <td>0.081581</td>\n",
       "    </tr>\n",
       "    <tr>\n",
       "      <th>62148</th>\n",
       "      <td>in other words</td>\n",
       "      <td>mother</td>\n",
       "      <td>0.594751</td>\n",
       "      <td>7.204246</td>\n",
       "      <td>0.082556</td>\n",
       "    </tr>\n",
       "    <tr>\n",
       "      <th>72579</th>\n",
       "      <td>great again</td>\n",
       "      <td>against</td>\n",
       "      <td>0.284477</td>\n",
       "      <td>3.439104</td>\n",
       "      <td>0.082718</td>\n",
       "    </tr>\n",
       "    <tr>\n",
       "      <th>73105</th>\n",
       "      <td>all together</td>\n",
       "      <td>together</td>\n",
       "      <td>0.244166</td>\n",
       "      <td>2.949753</td>\n",
       "      <td>0.082775</td>\n",
       "    </tr>\n",
       "    <tr>\n",
       "      <th>70621</th>\n",
       "      <td>my people</td>\n",
       "      <td>young people</td>\n",
       "      <td>0.404648</td>\n",
       "      <td>4.877389</td>\n",
       "      <td>0.082964</td>\n",
       "    </tr>\n",
       "    <tr>\n",
       "      <th>65534</th>\n",
       "      <td>and remember</td>\n",
       "      <td>i remember</td>\n",
       "      <td>0.542043</td>\n",
       "      <td>6.514377</td>\n",
       "      <td>0.083207</td>\n",
       "    </tr>\n",
       "  </tbody>\n",
       "</table>\n",
       "</div>"
      ],
      "text/plain": [
       "                     Term1               Term2  Term1_Clinton  Term2_Clinton  \\\n",
       "70928      american public         republicans       0.392638       5.508586   \n",
       "72600          people that       of people who       0.280710       3.931817   \n",
       "72854         is president     president elect       0.273321       3.775788   \n",
       "73171         those people       33 000 people       0.218814       2.996447   \n",
       "70335       just about the          about what       0.418374       5.687802   \n",
       "73358              hillary  called hillarycare       0.122555       1.661645   \n",
       "73337                obama    obamacare it was       0.154191       2.089551   \n",
       "72724     have a president     president elect       0.278701       3.775788   \n",
       "70237             about it          about what       0.419863       5.687802   \n",
       "73265        talking about        about what's       0.205026       2.750879   \n",
       "69690         strong again          over again       0.439275       5.858995   \n",
       "73338                obama        barack obama       0.154191       2.034224   \n",
       "65388           this thing      something else       0.543596       7.170459   \n",
       "68259            of energy        clean energy       0.475412       6.243282   \n",
       "71838          life better     are better than       0.345890       4.500753   \n",
       "73172         those people      for people who       0.218814       2.823947   \n",
       "73104         all together         it together       0.244166       3.146554   \n",
       "60158      citizens of the     citizens united       0.621886       7.979482   \n",
       "70616          and hillary        hillary care       0.405145       5.196741   \n",
       "73173         those people       people in new       0.218814       2.802749   \n",
       "67840      american energy        clean energy       0.488176       6.243282   \n",
       "73037                thing       everything we       0.246004       3.144285   \n",
       "71234           you people        young people       0.382193       4.877389   \n",
       "59735             citizens     citizens united       0.627167       7.979482   \n",
       "69337     talked about the          about what       0.450523       5.687802   \n",
       "71005      people that are        young people       0.387067       4.877389   \n",
       "67718  and other countries         grandmother       0.490356       6.123896   \n",
       "73352              general    general election       0.142050       1.768879   \n",
       "73315           believe me        believe they       0.187801       2.332372   \n",
       "63067      something going      something else       0.579225       7.170459   \n",
       "70230    hillary clinton's        hillary care       0.421178       5.196741   \n",
       "72338         great people       of people who       0.318921       3.931817   \n",
       "62592        the other way              mother       0.585725       7.204246   \n",
       "67008               energy        clean energy       0.508217       6.243282   \n",
       "68887            how about          about what       0.464017       5.687802   \n",
       "62148       in other words              mother       0.594751       7.204246   \n",
       "72579          great again             against       0.284477       3.439104   \n",
       "73105         all together            together       0.244166       2.949753   \n",
       "70621            my people        young people       0.404648       4.877389   \n",
       "65534         and remember          i remember       0.542043       6.514377   \n",
       "\n",
       "           Mult  \n",
       "70928  0.071277  \n",
       "72600  0.071394  \n",
       "72854  0.072388  \n",
       "73171  0.073024  \n",
       "70335  0.073556  \n",
       "73358  0.073755  \n",
       "73337  0.073792  \n",
       "72724  0.073813  \n",
       "70237  0.073818  \n",
       "73265  0.074531  \n",
       "69690  0.074975  \n",
       "73338  0.075798  \n",
       "65388  0.075810  \n",
       "68259  0.076148  \n",
       "71838  0.076852  \n",
       "73172  0.077485  \n",
       "73104  0.077598  \n",
       "60158  0.077936  \n",
       "70616  0.077961  \n",
       "73173  0.078071  \n",
       "67840  0.078192  \n",
       "73037  0.078238  \n",
       "71234  0.078360  \n",
       "59735  0.078597  \n",
       "69337  0.079209  \n",
       "71005  0.079359  \n",
       "67718  0.080073  \n",
       "73352  0.080305  \n",
       "73315  0.080519  \n",
       "63067  0.080779  \n",
       "70230  0.081047  \n",
       "72338  0.081113  \n",
       "62592  0.081303  \n",
       "67008  0.081402  \n",
       "68887  0.081581  \n",
       "62148  0.082556  \n",
       "72579  0.082718  \n",
       "73105  0.082775  \n",
       "70621  0.082964  \n",
       "65534  0.083207  "
      ]
     },
     "execution_count": 290,
     "metadata": {},
     "output_type": "execute_result"
    }
   ],
   "source": [
    "over.sort_values('Mult').iloc[40:80]"
   ]
  },
  {
   "cell_type": "code",
   "execution_count": null,
   "metadata": {
    "collapsed": true
   },
   "outputs": [],
   "source": []
  },
  {
   "cell_type": "code",
   "execution_count": 70,
   "metadata": {
    "collapsed": false
   },
   "outputs": [
    {
     "data": {
      "text/plain": [
       "array([<matplotlib.axes._subplots.AxesSubplot object at 0x132860750>,\n",
       "       <matplotlib.axes._subplots.AxesSubplot object at 0x12eef8650>], dtype=object)"
      ]
     },
     "execution_count": 70,
     "metadata": {},
     "output_type": "execute_result"
    },
    {
     "data": {
      "image/png": "[encoded data removed]",
      "text/plain": [
       "<matplotlib.figure.Figure at 0x132860810>"
      ]
     },
     "metadata": {},
     "output_type": "display_data"
    }
   ],
   "source": [
    "cv_result.hist(column='Clinton', by='correct', bins=25, sharey=True)"
   ]
  },
  {
   "cell_type": "code",
   "execution_count": 192,
   "metadata": {
    "collapsed": false
   },
   "outputs": [
    {
     "data": {
      "text/plain": [
       "array([<matplotlib.axes._subplots.AxesSubplot object at 0x132df1650>,\n",
       "       <matplotlib.axes._subplots.AxesSubplot object at 0x132829950>], dtype=object)"
      ]
     },
     "execution_count": 192,
     "metadata": {},
     "output_type": "execute_result"
    },
    {
     "data": {
      "image/png": "[encoded data removed]",
      "text/plain": [
       "<matplotlib.figure.Figure at 0x126168a90>"
      ]
     },
     "metadata": {},
     "output_type": "display_data"
    }
   ],
   "source": [
    "cv_result.hist(column='Clinton', by='speaker', bins=25, sharey=True)"
   ]
  },
  {
   "cell_type": "code",
   "execution_count": 69,
   "metadata": {
    "collapsed": false
   },
   "outputs": [
    {
     "data": {
      "text/plain": [
       "array([[<matplotlib.axes._subplots.AxesSubplot object at 0x1234ab3d0>]], dtype=object)"
      ]
     },
     "execution_count": 69,
     "metadata": {},
     "output_type": "execute_result"
    },
    {
     "data": {
      "image/png": "[encoded data removed]",
      "text/plain": [
       "<matplotlib.figure.Figure at 0x13414b650>"
      ]
     },
     "metadata": {},
     "output_type": "display_data"
    }
   ],
   "source": [
    "cv_result.hist('Clinton', bins=50)"
   ]
  },
  {
   "cell_type": "code",
   "execution_count": 73,
   "metadata": {
    "collapsed": true
   },
   "outputs": [],
   "source": [
    "sept26_avg = pd.read_csv('average_coef_sept_26.csv', index_col=0)"
   ]
  },
  {
   "cell_type": "code",
   "execution_count": 74,
   "metadata": {
    "collapsed": false
   },
   "outputs": [
    {
     "data": {
      "text/html": [
       "<div>\n",
       "<table border=\"1\" class=\"dataframe\">\n",
       "  <thead>\n",
       "    <tr style=\"text-align: right;\">\n",
       "      <th></th>\n",
       "      <th>Clinton</th>\n",
       "      <th>Trump</th>\n",
       "    </tr>\n",
       "  </thead>\n",
       "  <tbody>\n",
       "    <tr>\n",
       "      <th>my husband</th>\n",
       "      <td>11.322642</td>\n",
       "      <td>0.088319</td>\n",
       "    </tr>\n",
       "    <tr>\n",
       "      <th>wall street</th>\n",
       "      <td>10.150987</td>\n",
       "      <td>0.098513</td>\n",
       "    </tr>\n",
       "    <tr>\n",
       "      <th>attention</th>\n",
       "      <td>9.384565</td>\n",
       "      <td>0.106558</td>\n",
       "    </tr>\n",
       "    <tr>\n",
       "      <th>opportunities</th>\n",
       "      <td>7.990501</td>\n",
       "      <td>0.125149</td>\n",
       "    </tr>\n",
       "    <tr>\n",
       "      <th>or us</th>\n",
       "      <td>7.890791</td>\n",
       "      <td>0.126730</td>\n",
       "    </tr>\n",
       "  </tbody>\n",
       "</table>\n",
       "</div>"
      ],
      "text/plain": [
       "                 Clinton     Trump\n",
       "my husband     11.322642  0.088319\n",
       "wall street    10.150987  0.098513\n",
       "attention       9.384565  0.106558\n",
       "opportunities   7.990501  0.125149\n",
       "or us           7.890791  0.126730"
      ]
     },
     "execution_count": 74,
     "metadata": {},
     "output_type": "execute_result"
    }
   ],
   "source": [
    "sept26_avg.head()"
   ]
  },
  {
   "cell_type": "code",
   "execution_count": 75,
   "metadata": {
    "collapsed": false
   },
   "outputs": [
    {
     "data": {
      "text/html": [
       "<div>\n",
       "<table border=\"1\" class=\"dataframe\">\n",
       "  <thead>\n",
       "    <tr style=\"text-align: right;\">\n",
       "      <th></th>\n",
       "      <th>Clinton</th>\n",
       "      <th>Trump</th>\n",
       "    </tr>\n",
       "  </thead>\n",
       "  <tbody>\n",
       "    <tr>\n",
       "      <th>my husband</th>\n",
       "      <td>12.955692</td>\n",
       "      <td>0.077186</td>\n",
       "    </tr>\n",
       "    <tr>\n",
       "      <th>recession</th>\n",
       "      <td>10.280219</td>\n",
       "      <td>0.097274</td>\n",
       "    </tr>\n",
       "    <tr>\n",
       "      <th>attention</th>\n",
       "      <td>9.729840</td>\n",
       "      <td>0.102777</td>\n",
       "    </tr>\n",
       "    <tr>\n",
       "      <th>wall street</th>\n",
       "      <td>9.441752</td>\n",
       "      <td>0.105913</td>\n",
       "    </tr>\n",
       "    <tr>\n",
       "      <th>grateful</th>\n",
       "      <td>9.236325</td>\n",
       "      <td>0.108268</td>\n",
       "    </tr>\n",
       "  </tbody>\n",
       "</table>\n",
       "</div>"
      ],
      "text/plain": [
       "               Clinton     Trump\n",
       "my husband   12.955692  0.077186\n",
       "recession    10.280219  0.097274\n",
       "attention     9.729840  0.102777\n",
       "wall street   9.441752  0.105913\n",
       "grateful      9.236325  0.108268"
      ]
     },
     "execution_count": 75,
     "metadata": {},
     "output_type": "execute_result"
    }
   ],
   "source": [
    "average_coef.head()"
   ]
  },
  {
   "cell_type": "code",
   "execution_count": 76,
   "metadata": {
    "collapsed": true
   },
   "outputs": [],
   "source": [
    "?df.join"
   ]
  },
  {
   "cell_type": "code",
   "execution_count": 107,
   "metadata": {
    "collapsed": true
   },
   "outputs": [],
   "source": [
    "diff = sept26_avg.join(average_coef, lsuffix='_sept26', rsuffix='_oct18')"
   ]
  },
  {
   "cell_type": "code",
   "execution_count": 111,
   "metadata": {
    "collapsed": false
   },
   "outputs": [
    {
     "name": "stdout",
     "output_type": "stream",
     "text": [
      "             Clinton_sept26  Trump_sept26\n",
      "last night         0.352648      2.835687\n",
      "head of            0.388590      2.573404\n",
      "lobbyists          0.393809      2.539302\n",
      "we go              0.398462      2.509647\n",
      "you like           0.415840      2.404774\n",
      "bottom             0.446202      2.241137\n",
      "to believe         0.453671      2.204242\n",
      "you saw            0.458654      2.180291\n",
      "south korea        0.470558      2.125137\n",
      "and replace        0.471725      2.119880\n",
      "million and        0.484860      2.062452\n",
      "peace              0.494069      2.024010\n",
      "ladies             0.496136      2.015577\n",
      "in the u           0.508249      1.967538\n",
      "get the job        0.527601      1.895372\n",
      "we pray            0.527893      1.894323\n",
      "know and           0.530257      1.885877\n",
      "alabama            0.531417      1.881762\n",
      "him that           0.532818      1.876814\n",
      "she did            0.534987      1.869204\n",
      "                Clinton_sept26  Trump_sept26\n",
      "important that        2.026376      0.493492\n",
      "risk of               2.027726      0.493163\n",
      "way that              2.055231      0.486563\n",
      "distinguished         2.072037      0.482617\n",
      "the idea              2.079606      0.480860\n",
      "feel it               2.093362      0.477701\n",
      "one we                2.112068      0.473470\n",
      "ms                    2.113337      0.473185\n",
      "results               2.133878      0.468630\n",
      "the financial         2.163584      0.462196\n",
      "closely               2.165683      0.461748\n",
      "v a                   2.197644      0.455033\n",
      "front line            2.215098      0.451447\n",
      "take them             2.293601      0.435996\n",
      "are we going          2.295970      0.435546\n",
      "performed             2.439537      0.409914\n",
      "reform                2.479629      0.403286\n",
      "here are              2.555559      0.391304\n",
      "grandfather           2.719622      0.367698\n",
      "majority of           2.951742      0.338783\n"
     ]
    }
   ],
   "source": [
    "# What are the most previously important terms are no longer top terms?\n",
    "print diff[diff.isnull().any(axis=1)].sort_values('Clinton_sept26').head(20)[[0,1]]\n",
    "print diff[diff.isnull().any(axis=1)].sort_values('Clinton_sept26').tail(20)[[0,1]]"
   ]
  },
  {
   "cell_type": "code",
   "execution_count": 112,
   "metadata": {
    "collapsed": true
   },
   "outputs": [],
   "source": [
    "diff.dropna(inplace=True)"
   ]
  },
  {
   "cell_type": "code",
   "execution_count": 113,
   "metadata": {
    "collapsed": false
   },
   "outputs": [
    {
     "data": {
      "text/html": [
       "<div>\n",
       "<table border=\"1\" class=\"dataframe\">\n",
       "  <thead>\n",
       "    <tr style=\"text-align: right;\">\n",
       "      <th></th>\n",
       "      <th>Clinton_sept26</th>\n",
       "      <th>Trump_sept26</th>\n",
       "      <th>Clinton_oct18</th>\n",
       "      <th>Trump_oct18</th>\n",
       "    </tr>\n",
       "  </thead>\n",
       "  <tbody>\n",
       "    <tr>\n",
       "      <th>my husband</th>\n",
       "      <td>11.322642</td>\n",
       "      <td>0.088319</td>\n",
       "      <td>12.955692</td>\n",
       "      <td>0.077186</td>\n",
       "    </tr>\n",
       "    <tr>\n",
       "      <th>wall street</th>\n",
       "      <td>10.150987</td>\n",
       "      <td>0.098513</td>\n",
       "      <td>9.441752</td>\n",
       "      <td>0.105913</td>\n",
       "    </tr>\n",
       "    <tr>\n",
       "      <th>attention</th>\n",
       "      <td>9.384565</td>\n",
       "      <td>0.106558</td>\n",
       "      <td>9.729840</td>\n",
       "      <td>0.102777</td>\n",
       "    </tr>\n",
       "    <tr>\n",
       "      <th>opportunities</th>\n",
       "      <td>7.990501</td>\n",
       "      <td>0.125149</td>\n",
       "      <td>4.929094</td>\n",
       "      <td>0.202877</td>\n",
       "    </tr>\n",
       "    <tr>\n",
       "      <th>or us</th>\n",
       "      <td>7.890791</td>\n",
       "      <td>0.126730</td>\n",
       "      <td>8.396391</td>\n",
       "      <td>0.119099</td>\n",
       "    </tr>\n",
       "  </tbody>\n",
       "</table>\n",
       "</div>"
      ],
      "text/plain": [
       "               Clinton_sept26  Trump_sept26  Clinton_oct18  Trump_oct18\n",
       "my husband          11.322642      0.088319      12.955692     0.077186\n",
       "wall street         10.150987      0.098513       9.441752     0.105913\n",
       "attention            9.384565      0.106558       9.729840     0.102777\n",
       "opportunities        7.990501      0.125149       4.929094     0.202877\n",
       "or us                7.890791      0.126730       8.396391     0.119099"
      ]
     },
     "execution_count": 113,
     "metadata": {},
     "output_type": "execute_result"
    }
   ],
   "source": [
    "diff.head()"
   ]
  },
  {
   "cell_type": "code",
   "execution_count": 114,
   "metadata": {
    "collapsed": true
   },
   "outputs": [],
   "source": [
    "diff['Clinton_diff'] = diff.Clinton_oct18 / diff.Clinton_sept26\n",
    "diff['Trump_diff'] = diff.Trump_oct18 /  diff.Trump_sept26"
   ]
  },
  {
   "cell_type": "code",
   "execution_count": 115,
   "metadata": {
    "collapsed": false
   },
   "outputs": [
    {
     "name": "stdout",
     "output_type": "stream",
     "text": [
      "               Clinton_diff  Trump_diff\n",
      "provide            0.365927    2.732787\n",
      "gentlemen          0.393274    2.542757\n",
      "voter              0.396965    2.519114\n",
      "dollar             0.410148    2.438143\n",
      "when a             0.448135    2.231468\n",
      "regulation         0.452155    2.211633\n",
      "i know it          0.455088    2.197375\n",
      "me say             0.458911    2.179072\n",
      "oath               0.462049    2.164272\n",
      "are better         0.466512    2.143567\n",
      "accept the         0.468242    2.135648\n",
      "rates              0.471824    2.119433\n",
      "part of our        0.476362    2.099243\n",
      "small              0.479104    2.087229\n",
      "2008               0.493643    2.025757\n",
      "prosperity         0.495797    2.016957\n",
      "getting a          0.496364    2.014649\n",
      "clinton            0.497901    2.008431\n",
      "we are better      0.498598    2.005624\n",
      "policies           0.500848    1.996612\n",
      "                  Clinton_diff  Trump_diff\n",
      "you and i             1.978899    0.505331\n",
      "the bush              1.983704    0.504107\n",
      "soul                  1.990109    0.502485\n",
      "allies in             1.991163    0.502219\n",
      "obama care            2.001867    0.499534\n",
      "is some               2.003710    0.499074\n",
      "we'll have            2.052996    0.487093\n",
      "on the dollar         2.134915    0.468403\n",
      "help in               2.135296    0.468319\n",
      "rhetoric              2.169054    0.461030\n",
      "and freedom           2.214068    0.451657\n",
      "vets                  2.258822    0.442709\n",
      "reality               2.326430    0.429843\n",
      "defeat isis           2.333690    0.428506\n",
      "she will              2.418529    0.413475\n",
      "into our country      2.435200    0.410644\n",
      "retired               2.469844    0.404884\n",
      "something else        2.601816    0.384347\n",
      "they've been          2.671241    0.374358\n",
      "be back               3.191103    0.313371\n"
     ]
    }
   ],
   "source": [
    "print diff.sort_values('Clinton_diff').head(20)[[4,5]]\n",
    "print diff.sort_values('Clinton_diff').tail(20)[[4,5]]"
   ]
  },
  {
   "cell_type": "code",
   "execution_count": 280,
   "metadata": {
    "collapsed": true
   },
   "outputs": [],
   "source": [
    "import pandas as pd\n",
    "avg = pd.read_csv('average_coef.csv', index_col=0)"
   ]
  },
  {
   "cell_type": "code",
   "execution_count": 281,
   "metadata": {
    "collapsed": false
   },
   "outputs": [
    {
     "data": {
      "text/html": [
       "<div>\n",
       "<table border=\"1\" class=\"dataframe\">\n",
       "  <thead>\n",
       "    <tr style=\"text-align: right;\">\n",
       "      <th></th>\n",
       "      <th>Clinton</th>\n",
       "      <th>Trump</th>\n",
       "    </tr>\n",
       "  </thead>\n",
       "  <tbody>\n",
       "    <tr>\n",
       "      <th>my husband</th>\n",
       "      <td>12.955692</td>\n",
       "      <td>0.077186</td>\n",
       "    </tr>\n",
       "    <tr>\n",
       "      <th>recession</th>\n",
       "      <td>10.280219</td>\n",
       "      <td>0.097274</td>\n",
       "    </tr>\n",
       "    <tr>\n",
       "      <th>attention</th>\n",
       "      <td>9.729840</td>\n",
       "      <td>0.102777</td>\n",
       "    </tr>\n",
       "    <tr>\n",
       "      <th>wall street</th>\n",
       "      <td>9.441752</td>\n",
       "      <td>0.105913</td>\n",
       "    </tr>\n",
       "    <tr>\n",
       "      <th>grateful</th>\n",
       "      <td>9.236325</td>\n",
       "      <td>0.108268</td>\n",
       "    </tr>\n",
       "  </tbody>\n",
       "</table>\n",
       "</div>"
      ],
      "text/plain": [
       "               Clinton     Trump\n",
       "my husband   12.955692  0.077186\n",
       "recession    10.280219  0.097274\n",
       "attention     9.729840  0.102777\n",
       "wall street   9.441752  0.105913\n",
       "grateful      9.236325  0.108268"
      ]
     },
     "execution_count": 281,
     "metadata": {},
     "output_type": "execute_result"
    }
   ],
   "source": [
    "avg.head()"
   ]
  },
  {
   "cell_type": "code",
   "execution_count": 291,
   "metadata": {
    "collapsed": false
   },
   "outputs": [
    {
     "data": {
      "text/plain": [
       "Clinton    0.161176\n",
       "Trump      6.204385\n",
       "Name: bernie, dtype: float64"
      ]
     },
     "execution_count": 291,
     "metadata": {},
     "output_type": "execute_result"
    }
   ],
   "source": [
    "avg.loc['bernie']"
   ]
  },
  {
   "cell_type": "code",
   "execution_count": 293,
   "metadata": {
    "collapsed": false
   },
   "outputs": [
    {
     "data": {
      "text/plain": [
       "Clinton    3.175575\n",
       "Trump      0.314904\n",
       "Name: senator sanders, dtype: float64"
      ]
     },
     "execution_count": 293,
     "metadata": {},
     "output_type": "execute_result"
    }
   ],
   "source": [
    "avg.loc['senator sanders']"
   ]
  },
  {
   "cell_type": "code",
   "execution_count": null,
   "metadata": {
    "collapsed": true
   },
   "outputs": [],
   "source": []
  }
 ],
 "metadata": {
  "celltoolbar": "Raw Cell Format",
  "kernelspec": {
   "display_name": "Python 2",
   "language": "python",
   "name": "python2"
  },
  "language_info": {
   "codemirror_mode": {
    "name": "ipython",
    "version": 2
   },
   "file_extension": ".py",
   "mimetype": "text/x-python",
   "name": "python",
   "nbconvert_exporter": "python",
   "pygments_lexer": "ipython2",
   "version": "2.7.11"
  }
 },
 "nbformat": 4,
 "nbformat_minor": 0
}
